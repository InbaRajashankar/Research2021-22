{
 "cells": [
  {
   "cell_type": "code",
   "execution_count": 1,
   "id": "4ed17606",
   "metadata": {},
   "outputs": [
    {
     "data": {
      "text/plain": [
       "131072"
      ]
     },
     "execution_count": 1,
     "metadata": {},
     "output_type": "execute_result"
    }
   ],
   "source": [
    "import numpy as np\n",
    "import pandas as pd\n",
    "import numpy as np\n",
    "import pandas as pd\n",
    "import sys\n",
    "import csv\n",
    "\n",
    "csv.field_size_limit(1000000000000000000)"
   ]
  },
  {
   "cell_type": "code",
   "execution_count": 2,
   "id": "ccec3474",
   "metadata": {},
   "outputs": [],
   "source": [
    "df = pd.read_pickle(\"./allData.pkl\")"
   ]
  },
  {
   "cell_type": "code",
   "execution_count": 4,
   "id": "d108d0b2",
   "metadata": {},
   "outputs": [],
   "source": [
    "l = [df[df['DEVICE_REPORT_PRODUCT_CODE']=='LWS'],\n",
    "     df[df['DEVICE_REPORT_PRODUCT_CODE']=='MRM'],\n",
    "     df[df['DEVICE_REPORT_PRODUCT_CODE']=='NIK'],\n",
    "     df[df['DEVICE_REPORT_PRODUCT_CODE']=='NVY']]\n",
    "\n",
    "df_cohort_one = pd.concat(l)"
   ]
  },
  {
   "cell_type": "code",
   "execution_count": 6,
   "id": "8453abdd",
   "metadata": {},
   "outputs": [
    {
     "data": {
      "text/html": [
       "<div>\n",
       "<style scoped>\n",
       "    .dataframe tbody tr th:only-of-type {\n",
       "        vertical-align: middle;\n",
       "    }\n",
       "\n",
       "    .dataframe tbody tr th {\n",
       "        vertical-align: top;\n",
       "    }\n",
       "\n",
       "    .dataframe thead th {\n",
       "        text-align: right;\n",
       "    }\n",
       "</style>\n",
       "<table border=\"1\" class=\"dataframe\">\n",
       "  <thead>\n",
       "    <tr style=\"text-align: right;\">\n",
       "      <th></th>\n",
       "      <th>MDR_REPORT_KEY</th>\n",
       "      <th>EVENT_KEY</th>\n",
       "      <th>REPORT_NUMBER</th>\n",
       "      <th>REPORT_SOURCE_CODE</th>\n",
       "      <th>MANUFACTURER_LINK_FLAG_</th>\n",
       "      <th>NUMBER_DEVICES_IN_EVENT</th>\n",
       "      <th>NUMBER_PATIENTS_IN_EVENT</th>\n",
       "      <th>DATE_RECEIVED_x</th>\n",
       "      <th>ADVERSE_EVENT_FLAG</th>\n",
       "      <th>PRODUCT_PROBLEM_FLAG</th>\n",
       "      <th>...</th>\n",
       "      <th>DATE_RETURNED_TO_MANUFACTURER</th>\n",
       "      <th>DEVICE_REPORT_PRODUCT_CODE</th>\n",
       "      <th>DEVICE_AGE_TEXT</th>\n",
       "      <th>DEVICE_EVALUATED_BY_MANUFACTUR</th>\n",
       "      <th>COMBINATION_PRODUCT_FLAG</th>\n",
       "      <th>MDR_TEXT_KEY</th>\n",
       "      <th>TEXT_TYPE_CODE</th>\n",
       "      <th>PATIENT_SEQUENCE_NUMBER</th>\n",
       "      <th>DATE_REPORT_y</th>\n",
       "      <th>FOI_TEXT</th>\n",
       "    </tr>\n",
       "  </thead>\n",
       "  <tbody>\n",
       "    <tr>\n",
       "      <th>73</th>\n",
       "      <td>257484</td>\n",
       "      <td>NaN</td>\n",
       "      <td>2938836-2000-00003</td>\n",
       "      <td>M</td>\n",
       "      <td>Y</td>\n",
       "      <td>NaN</td>\n",
       "      <td>NaN</td>\n",
       "      <td>01/06/2000</td>\n",
       "      <td>Y</td>\n",
       "      <td>N</td>\n",
       "      <td>...</td>\n",
       "      <td>NaN</td>\n",
       "      <td>LWS</td>\n",
       "      <td>3 YR</td>\n",
       "      <td>Y</td>\n",
       "      <td>NaN</td>\n",
       "      <td>147733</td>\n",
       "      <td>D</td>\n",
       "      <td>1</td>\n",
       "      <td>NaN</td>\n",
       "      <td>THE PT PRESENTED AT THE CLINIC COMPLAINING OF ...</td>\n",
       "    </tr>\n",
       "    <tr>\n",
       "      <th>221</th>\n",
       "      <td>257721</td>\n",
       "      <td>NaN</td>\n",
       "      <td>MW1017857</td>\n",
       "      <td>P</td>\n",
       "      <td>N</td>\n",
       "      <td>NaN</td>\n",
       "      <td>NaN</td>\n",
       "      <td>01/06/2000</td>\n",
       "      <td>N</td>\n",
       "      <td>Y</td>\n",
       "      <td>...</td>\n",
       "      <td>NaN</td>\n",
       "      <td>LWS</td>\n",
       "      <td>NaN</td>\n",
       "      <td>NaN</td>\n",
       "      <td>NaN</td>\n",
       "      <td>161563</td>\n",
       "      <td>D</td>\n",
       "      <td>1</td>\n",
       "      <td>NaN</td>\n",
       "      <td>DURING ROUTINE EVAL ON 12/18/1999, ERROR WHILE...</td>\n",
       "    </tr>\n",
       "    <tr>\n",
       "      <th>273</th>\n",
       "      <td>257784</td>\n",
       "      <td>NaN</td>\n",
       "      <td>257784</td>\n",
       "      <td>U</td>\n",
       "      <td>N</td>\n",
       "      <td>NaN</td>\n",
       "      <td>NaN</td>\n",
       "      <td>01/04/2000</td>\n",
       "      <td>N</td>\n",
       "      <td>Y</td>\n",
       "      <td>...</td>\n",
       "      <td>NaN</td>\n",
       "      <td>LWS</td>\n",
       "      <td>*</td>\n",
       "      <td>NaN</td>\n",
       "      <td>NaN</td>\n",
       "      <td>161864</td>\n",
       "      <td>D</td>\n",
       "      <td>1</td>\n",
       "      <td>NaN</td>\n",
       "      <td>IMPLANTABLE CARDIOVERTER DEFIBRILLATOR WITH RE...</td>\n",
       "    </tr>\n",
       "    <tr>\n",
       "      <th>289</th>\n",
       "      <td>257800</td>\n",
       "      <td>NaN</td>\n",
       "      <td>2938836-2000-00002</td>\n",
       "      <td>M</td>\n",
       "      <td>Y</td>\n",
       "      <td>NaN</td>\n",
       "      <td>NaN</td>\n",
       "      <td>02/29/2000</td>\n",
       "      <td>Y</td>\n",
       "      <td>N</td>\n",
       "      <td>...</td>\n",
       "      <td>1999/12/23</td>\n",
       "      <td>LWS</td>\n",
       "      <td>9 MO</td>\n",
       "      <td>Y</td>\n",
       "      <td>NaN</td>\n",
       "      <td>177535</td>\n",
       "      <td>D</td>\n",
       "      <td>1</td>\n",
       "      <td>NaN</td>\n",
       "      <td>DURING A ROUTINE FOLLOW-UP, AN \"EXCEPTION 13\" ...</td>\n",
       "    </tr>\n",
       "    <tr>\n",
       "      <th>290</th>\n",
       "      <td>257801</td>\n",
       "      <td>NaN</td>\n",
       "      <td>2938836-2000-00004</td>\n",
       "      <td>M</td>\n",
       "      <td>Y</td>\n",
       "      <td>NaN</td>\n",
       "      <td>NaN</td>\n",
       "      <td>01/07/2000</td>\n",
       "      <td>Y</td>\n",
       "      <td>N</td>\n",
       "      <td>...</td>\n",
       "      <td>1999/12/23</td>\n",
       "      <td>LWS</td>\n",
       "      <td>2 YR</td>\n",
       "      <td>Y</td>\n",
       "      <td>NaN</td>\n",
       "      <td>206042</td>\n",
       "      <td>D</td>\n",
       "      <td>1</td>\n",
       "      <td>NaN</td>\n",
       "      <td>DURING A ROUTINE FOLLOW-UP, A BATTERY VOLTAGE ...</td>\n",
       "    </tr>\n",
       "  </tbody>\n",
       "</table>\n",
       "<p>5 rows × 114 columns</p>\n",
       "</div>"
      ],
      "text/plain": [
       "    MDR_REPORT_KEY EVENT_KEY       REPORT_NUMBER REPORT_SOURCE_CODE  \\\n",
       "73          257484       NaN  2938836-2000-00003                  M   \n",
       "221         257721       NaN           MW1017857                  P   \n",
       "273         257784       NaN              257784                  U   \n",
       "289         257800       NaN  2938836-2000-00002                  M   \n",
       "290         257801       NaN  2938836-2000-00004                  M   \n",
       "\n",
       "    MANUFACTURER_LINK_FLAG_ NUMBER_DEVICES_IN_EVENT NUMBER_PATIENTS_IN_EVENT  \\\n",
       "73                        Y                     NaN                      NaN   \n",
       "221                       N                     NaN                      NaN   \n",
       "273                       N                     NaN                      NaN   \n",
       "289                       Y                     NaN                      NaN   \n",
       "290                       Y                     NaN                      NaN   \n",
       "\n",
       "    DATE_RECEIVED_x ADVERSE_EVENT_FLAG PRODUCT_PROBLEM_FLAG  ...  \\\n",
       "73       01/06/2000                  Y                    N  ...   \n",
       "221      01/06/2000                  N                    Y  ...   \n",
       "273      01/04/2000                  N                    Y  ...   \n",
       "289      02/29/2000                  Y                    N  ...   \n",
       "290      01/07/2000                  Y                    N  ...   \n",
       "\n",
       "    DATE_RETURNED_TO_MANUFACTURER DEVICE_REPORT_PRODUCT_CODE DEVICE_AGE_TEXT  \\\n",
       "73                            NaN                        LWS            3 YR   \n",
       "221                           NaN                        LWS             NaN   \n",
       "273                           NaN                        LWS               *   \n",
       "289                    1999/12/23                        LWS            9 MO   \n",
       "290                    1999/12/23                        LWS            2 YR   \n",
       "\n",
       "    DEVICE_EVALUATED_BY_MANUFACTUR COMBINATION_PRODUCT_FLAG MDR_TEXT_KEY  \\\n",
       "73                               Y                      NaN       147733   \n",
       "221                            NaN                      NaN       161563   \n",
       "273                            NaN                      NaN       161864   \n",
       "289                              Y                      NaN       177535   \n",
       "290                              Y                      NaN       206042   \n",
       "\n",
       "    TEXT_TYPE_CODE PATIENT_SEQUENCE_NUMBER DATE_REPORT_y  \\\n",
       "73               D                       1           NaN   \n",
       "221              D                       1           NaN   \n",
       "273              D                       1           NaN   \n",
       "289              D                       1           NaN   \n",
       "290              D                       1           NaN   \n",
       "\n",
       "                                              FOI_TEXT  \n",
       "73   THE PT PRESENTED AT THE CLINIC COMPLAINING OF ...  \n",
       "221  DURING ROUTINE EVAL ON 12/18/1999, ERROR WHILE...  \n",
       "273  IMPLANTABLE CARDIOVERTER DEFIBRILLATOR WITH RE...  \n",
       "289  DURING A ROUTINE FOLLOW-UP, AN \"EXCEPTION 13\" ...  \n",
       "290  DURING A ROUTINE FOLLOW-UP, A BATTERY VOLTAGE ...  \n",
       "\n",
       "[5 rows x 114 columns]"
      ]
     },
     "execution_count": 6,
     "metadata": {},
     "output_type": "execute_result"
    }
   ],
   "source": [
    "df_cohort_one.head()"
   ]
  },
  {
   "cell_type": "code",
   "execution_count": 7,
   "id": "7eb220fc",
   "metadata": {},
   "outputs": [
    {
     "data": {
      "text/plain": [
       "(911098, 114)"
      ]
     },
     "execution_count": 7,
     "metadata": {},
     "output_type": "execute_result"
    }
   ],
   "source": [
    "df_cohort_one.shape"
   ]
  },
  {
   "cell_type": "code",
   "execution_count": 9,
   "id": "d477f607",
   "metadata": {},
   "outputs": [],
   "source": [
    "df_cohort_one.to_pickle(\"./cohortOne.pkl\")"
   ]
  },
  {
   "cell_type": "code",
   "execution_count": 25,
   "id": "3e0664f0",
   "metadata": {},
   "outputs": [
    {
     "data": {
      "text/plain": [
       "73          THE PT PRESENTED AT THE CLINIC COMPLAINING OF ...\n",
       "221         DURING ROUTINE EVAL ON 12/18/1999, ERROR WHILE...\n",
       "273         IMPLANTABLE CARDIOVERTER DEFIBRILLATOR WITH RE...\n",
       "289         DURING A ROUTINE FOLLOW-UP, AN \"EXCEPTION 13\" ...\n",
       "290         DURING A ROUTINE FOLLOW-UP, A BATTERY VOLTAGE ...\n",
       "                                  ...                        \n",
       "23010141    RELATED MANUFACTURER REFERENCE NUMBER: 2017865...\n",
       "23011231    FURTHER INFORMATION WAS REQUESTED BUT NOT RECE...\n",
       "23011232    IT WAS REPORTED THAT THE PATIENT HAD PRESENTED...\n",
       "23011267    THIS PRODUCT IS REGISTERED AS A COMBINATION PR...\n",
       "23011268    IT WAS REPORTED THAT THE RIGHT VENTRICULAR LEA...\n",
       "Name: FOI_TEXT, Length: 911098, dtype: object"
      ]
     },
     "execution_count": 25,
     "metadata": {},
     "output_type": "execute_result"
    }
   ],
   "source": [
    "df_cohort_one['FOI_TEXT']"
   ]
  },
  {
   "cell_type": "code",
   "execution_count": 26,
   "id": "ae9ff17f",
   "metadata": {},
   "outputs": [],
   "source": [
    "duplicateRowsDF = df_cohort_one[df_cohort_one.duplicated(['MDR_REPORT_KEY'])]"
   ]
  },
  {
   "cell_type": "code",
   "execution_count": 33,
   "id": "8f63a520",
   "metadata": {},
   "outputs": [
    {
     "data": {
      "text/plain": [
       "616           258143\n",
       "628           258154\n",
       "839           258376\n",
       "1560          259116\n",
       "5644          263325\n",
       "              ...   \n",
       "23009510    11102231\n",
       "23009862    11102412\n",
       "23010141    11102615\n",
       "23011232    11103281\n",
       "23011268    11103299\n",
       "Name: MDR_REPORT_KEY, Length: 515260, dtype: object"
      ]
     },
     "execution_count": 33,
     "metadata": {},
     "output_type": "execute_result"
    }
   ],
   "source": [
    "duplicateRowsDF['MDR_REPORT_KEY']"
   ]
  },
  {
   "cell_type": "code",
   "execution_count": 42,
   "id": "f689e1dd",
   "metadata": {},
   "outputs": [
    {
     "data": {
      "text/html": [
       "<div>\n",
       "<style scoped>\n",
       "    .dataframe tbody tr th:only-of-type {\n",
       "        vertical-align: middle;\n",
       "    }\n",
       "\n",
       "    .dataframe tbody tr th {\n",
       "        vertical-align: top;\n",
       "    }\n",
       "\n",
       "    .dataframe thead th {\n",
       "        text-align: right;\n",
       "    }\n",
       "</style>\n",
       "<table border=\"1\" class=\"dataframe\">\n",
       "  <thead>\n",
       "    <tr style=\"text-align: right;\">\n",
       "      <th></th>\n",
       "      <th>MDR_REPORT_KEY</th>\n",
       "      <th>EVENT_KEY</th>\n",
       "      <th>REPORT_NUMBER</th>\n",
       "      <th>REPORT_SOURCE_CODE</th>\n",
       "      <th>MANUFACTURER_LINK_FLAG_</th>\n",
       "      <th>NUMBER_DEVICES_IN_EVENT</th>\n",
       "      <th>NUMBER_PATIENTS_IN_EVENT</th>\n",
       "      <th>DATE_RECEIVED_x</th>\n",
       "      <th>ADVERSE_EVENT_FLAG</th>\n",
       "      <th>PRODUCT_PROBLEM_FLAG</th>\n",
       "      <th>...</th>\n",
       "      <th>DATE_RETURNED_TO_MANUFACTURER</th>\n",
       "      <th>DEVICE_REPORT_PRODUCT_CODE</th>\n",
       "      <th>DEVICE_AGE_TEXT</th>\n",
       "      <th>DEVICE_EVALUATED_BY_MANUFACTUR</th>\n",
       "      <th>COMBINATION_PRODUCT_FLAG</th>\n",
       "      <th>MDR_TEXT_KEY</th>\n",
       "      <th>TEXT_TYPE_CODE</th>\n",
       "      <th>PATIENT_SEQUENCE_NUMBER</th>\n",
       "      <th>DATE_REPORT_y</th>\n",
       "      <th>FOI_TEXT</th>\n",
       "    </tr>\n",
       "  </thead>\n",
       "  <tbody>\n",
       "    <tr>\n",
       "      <th>23011267</th>\n",
       "      <td>11103299</td>\n",
       "      <td>NaN</td>\n",
       "      <td>2017865-2020-25345</td>\n",
       "      <td>M</td>\n",
       "      <td>Y</td>\n",
       "      <td>NaN</td>\n",
       "      <td>NaN</td>\n",
       "      <td>12/31/2020</td>\n",
       "      <td>Y</td>\n",
       "      <td>Y</td>\n",
       "      <td>...</td>\n",
       "      <td>2021/01/11</td>\n",
       "      <td>NVY</td>\n",
       "      <td>DA</td>\n",
       "      <td>Y</td>\n",
       "      <td>N</td>\n",
       "      <td>224744617</td>\n",
       "      <td>N</td>\n",
       "      <td>1</td>\n",
       "      <td>NaN</td>\n",
       "      <td>THIS PRODUCT IS REGISTERED AS A COMBINATION PR...</td>\n",
       "    </tr>\n",
       "    <tr>\n",
       "      <th>23011268</th>\n",
       "      <td>11103299</td>\n",
       "      <td>NaN</td>\n",
       "      <td>2017865-2020-25345</td>\n",
       "      <td>M</td>\n",
       "      <td>Y</td>\n",
       "      <td>NaN</td>\n",
       "      <td>NaN</td>\n",
       "      <td>12/31/2020</td>\n",
       "      <td>Y</td>\n",
       "      <td>Y</td>\n",
       "      <td>...</td>\n",
       "      <td>2021/01/11</td>\n",
       "      <td>NVY</td>\n",
       "      <td>DA</td>\n",
       "      <td>Y</td>\n",
       "      <td>N</td>\n",
       "      <td>224744618</td>\n",
       "      <td>D</td>\n",
       "      <td>1</td>\n",
       "      <td>NaN</td>\n",
       "      <td>IT WAS REPORTED THAT THE RIGHT VENTRICULAR LEA...</td>\n",
       "    </tr>\n",
       "  </tbody>\n",
       "</table>\n",
       "<p>2 rows × 114 columns</p>\n",
       "</div>"
      ],
      "text/plain": [
       "         MDR_REPORT_KEY EVENT_KEY       REPORT_NUMBER REPORT_SOURCE_CODE  \\\n",
       "23011267       11103299       NaN  2017865-2020-25345                  M   \n",
       "23011268       11103299       NaN  2017865-2020-25345                  M   \n",
       "\n",
       "         MANUFACTURER_LINK_FLAG_ NUMBER_DEVICES_IN_EVENT  \\\n",
       "23011267                       Y                     NaN   \n",
       "23011268                       Y                     NaN   \n",
       "\n",
       "         NUMBER_PATIENTS_IN_EVENT DATE_RECEIVED_x ADVERSE_EVENT_FLAG  \\\n",
       "23011267                      NaN      12/31/2020                  Y   \n",
       "23011268                      NaN      12/31/2020                  Y   \n",
       "\n",
       "         PRODUCT_PROBLEM_FLAG  ... DATE_RETURNED_TO_MANUFACTURER  \\\n",
       "23011267                    Y  ...                    2021/01/11   \n",
       "23011268                    Y  ...                    2021/01/11   \n",
       "\n",
       "         DEVICE_REPORT_PRODUCT_CODE DEVICE_AGE_TEXT  \\\n",
       "23011267                        NVY              DA   \n",
       "23011268                        NVY              DA   \n",
       "\n",
       "         DEVICE_EVALUATED_BY_MANUFACTUR COMBINATION_PRODUCT_FLAG MDR_TEXT_KEY  \\\n",
       "23011267                              Y                        N    224744617   \n",
       "23011268                              Y                        N    224744618   \n",
       "\n",
       "         TEXT_TYPE_CODE PATIENT_SEQUENCE_NUMBER DATE_REPORT_y  \\\n",
       "23011267              N                       1           NaN   \n",
       "23011268              D                       1           NaN   \n",
       "\n",
       "                                                   FOI_TEXT  \n",
       "23011267  THIS PRODUCT IS REGISTERED AS A COMBINATION PR...  \n",
       "23011268  IT WAS REPORTED THAT THE RIGHT VENTRICULAR LEA...  \n",
       "\n",
       "[2 rows x 114 columns]"
      ]
     },
     "execution_count": 42,
     "metadata": {},
     "output_type": "execute_result"
    }
   ],
   "source": [
    "df_cohort_one[df_cohort_one['MDR_REPORT_KEY']=='11103299']"
   ]
  },
  {
   "cell_type": "code",
   "execution_count": 44,
   "id": "7c9d216a",
   "metadata": {},
   "outputs": [],
   "source": [
    "df_cohort_one_nodupes = pd.concat([df_cohort_one, duplicateRowsDF]).drop_duplicates(keep=False)"
   ]
  },
  {
   "cell_type": "code",
   "execution_count": 46,
   "id": "ae9e7c10",
   "metadata": {},
   "outputs": [
    {
     "data": {
      "text/plain": [
       "(911098, 114)"
      ]
     },
     "execution_count": 46,
     "metadata": {},
     "output_type": "execute_result"
    }
   ],
   "source": [
    "df_cohort_one.shape"
   ]
  },
  {
   "cell_type": "code",
   "execution_count": 47,
   "id": "2ba53248",
   "metadata": {},
   "outputs": [
    {
     "data": {
      "text/plain": [
       "(515260, 114)"
      ]
     },
     "execution_count": 47,
     "metadata": {},
     "output_type": "execute_result"
    }
   ],
   "source": [
    "duplicateRowsDF.shape"
   ]
  },
  {
   "cell_type": "code",
   "execution_count": 49,
   "id": "1147d0e3",
   "metadata": {},
   "outputs": [],
   "source": [
    "df_cohort_one_nodupes.to_pickle(\"./cohortOneNoDupes.pkl\")"
   ]
  },
  {
   "cell_type": "code",
   "execution_count": null,
   "id": "6596aab4",
   "metadata": {},
   "outputs": [],
   "source": []
  }
 ],
 "metadata": {
  "kernelspec": {
   "display_name": "Python 3",
   "language": "python",
   "name": "python3"
  },
  "language_info": {
   "codemirror_mode": {
    "name": "ipython",
    "version": 3
   },
   "file_extension": ".py",
   "mimetype": "text/x-python",
   "name": "python",
   "nbconvert_exporter": "python",
   "pygments_lexer": "ipython3",
   "version": "3.8.8"
  }
 },
 "nbformat": 4,
 "nbformat_minor": 5
}
