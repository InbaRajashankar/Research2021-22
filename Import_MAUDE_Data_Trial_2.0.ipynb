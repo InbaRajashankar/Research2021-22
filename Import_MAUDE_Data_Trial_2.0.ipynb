{
 "cells": [
  {
   "cell_type": "code",
   "execution_count": 1,
   "id": "02bd9067",
   "metadata": {},
   "outputs": [
    {
     "data": {
      "text/plain": [
       "131072"
      ]
     },
     "execution_count": 1,
     "metadata": {},
     "output_type": "execute_result"
    }
   ],
   "source": [
    "import numpy as np\n",
    "import pandas as pd\n",
    "import numpy as np\n",
    "import pandas as pd\n",
    "import sys\n",
    "import csv\n",
    "\n",
    "csv.field_size_limit(1000000000000000000)"
   ]
  },
  {
   "cell_type": "code",
   "execution_count": 2,
   "id": "6c80fe08",
   "metadata": {},
   "outputs": [],
   "source": [
    "# importing the yearly device files as dataframes\n",
    "device2000 = pd.read_csv('DEVICE2000.txt', sep=\"|\", header = 0, dtype=str, engine='python', quoting=3)\n",
    "device2001 = pd.read_csv('DEVICE2001.txt', sep=\"|\", header = 0, dtype=str, engine='python', quoting=3)\n",
    "device2002 = pd.read_csv('DEVICE2002.txt', sep=\"|\", header = 0, dtype=str, engine='python', quoting=3)\n",
    "device2003 = pd.read_csv('DEVICE2003.txt', sep=\"|\", header = 0, dtype=str, engine='python', quoting=3)\n",
    "device2004 = pd.read_csv('DEVICE2004.txt', sep=\"|\", header = 0, dtype=str, engine='python', quoting=3)\n",
    "device2005 = pd.read_csv('DEVICE2005.txt', sep=\"|\", header = 0, dtype=str, engine='python', quoting=3)\n",
    "device2006 = pd.read_csv('DEVICE2006.txt', sep=\"|\", header = 0, dtype=str, engine='python', quoting=3)\n",
    "device2007 = pd.read_csv('DEVICE2007.txt', sep=\"|\", header = 0, dtype=str, engine='python', quoting=3)\n",
    "device2008 = pd.read_csv('DEVICE2008.txt', sep=\"|\", header = 0, dtype=str, engine='python', quoting=3)\n",
    "device2009 = pd.read_csv('DEVICE2009.txt', sep=\"|\", header = 0, dtype=str, engine='python', quoting=3)\n",
    "device2010 = pd.read_csv('DEVICE2010.txt', sep=\"|\", header = 0, dtype=str, engine='python', quoting=3)\n",
    "device2011 = pd.read_csv('DEVICE2011.txt', sep=\"|\", header = 0, dtype=str, engine='python', quoting=3)\n",
    "device2012 = pd.read_csv('DEVICE2012.txt', sep=\"|\", header = 0, dtype=str, engine='python', quoting=3)\n",
    "device2013 = pd.read_csv('DEVICE2013.txt', sep=\"|\", header = 0, dtype=str, engine='python', quoting=3)\n",
    "device2014 = pd.read_csv('DEVICE2014.txt', sep=\"|\", header = 0, dtype=str, engine='python', quoting=3)\n",
    "device2015 = pd.read_csv('DEVICE2015.txt', sep=\"|\", header = 0, dtype=str, engine='python', quoting=3)\n",
    "device2016 = pd.read_csv('DEVICE2016.txt', sep=\"|\", header = 0, dtype=str, engine='python', quoting=3)\n",
    "device2017 = pd.read_csv('DEVICE2017.txt', sep=\"|\", header = 0, dtype=str, engine='python', quoting=3)\n",
    "device2018 = pd.read_csv('DEVICE2018.txt', sep=\"|\", header = 0, dtype=str, engine='python', quoting=3)\n",
    "device2019 = pd.read_csv('DEVICE2019.txt', sep=\"|\", header = 0, dtype=str, engine='python', quoting=3)\n",
    "device2020 = pd.read_csv('DEVICE2020.txt', sep=\"|\", header = 0, dtype=str, engine='python', quoting=3)"
   ]
  },
  {
   "cell_type": "code",
   "execution_count": 3,
   "id": "980c3968",
   "metadata": {},
   "outputs": [],
   "source": [
    "# joining the yearly device files\n",
    "DEVICE = device2000\n",
    "deviceYearlyFiles = [device2001,device2002,device2003,device2004,device2005,device2006,device2007,device2008,device2009,\n",
    "          device2010,device2011,device2012,device2013,device2014,device2015,device2016,device2017,device2018,device2019,\n",
    "          device2020]\n",
    "for yearlyFile in deviceYearlyFiles:\n",
    "    DEVICE = DEVICE.append(yearlyFile)"
   ]
  },
  {
   "cell_type": "code",
   "execution_count": 4,
   "id": "39d1f7f1",
   "metadata": {},
   "outputs": [
    {
     "data": {
      "text/plain": [
       "(10580315, 29)"
      ]
     },
     "execution_count": 4,
     "metadata": {},
     "output_type": "execute_result"
    }
   ],
   "source": [
    "DEVICE.shape"
   ]
  },
  {
   "cell_type": "code",
   "execution_count": 5,
   "id": "4a61d254",
   "metadata": {},
   "outputs": [],
   "source": [
    "# importing the master file from a perviously piclkled dataframe\n",
    "master = pd.read_pickle(\"./master.pkl\")"
   ]
  },
  {
   "cell_type": "code",
   "execution_count": 6,
   "id": "8e08580b",
   "metadata": {},
   "outputs": [],
   "source": [
    "# merging the master, DEVICE\n",
    "allData = pd.merge(master, DEVICE, on=\"MDR_REPORT_KEY\")"
   ]
  },
  {
   "cell_type": "code",
   "execution_count": 7,
   "id": "7cbda602",
   "metadata": {},
   "outputs": [
    {
     "data": {
      "text/plain": [
       "(10579309, 109)"
      ]
     },
     "execution_count": 7,
     "metadata": {},
     "output_type": "execute_result"
    }
   ],
   "source": [
    "allData.shape"
   ]
  },
  {
   "cell_type": "code",
   "execution_count": 8,
   "id": "e27885ec",
   "metadata": {},
   "outputs": [],
   "source": [
    "# importing the yearly text files as dataframes\n",
    "foitext2000 = pd.read_csv('foitext2000.txt', sep=\"|\", header = 0, dtype=str, engine='python', quoting=3)\n",
    "foitext2001 = pd.read_csv('foitext2001.txt', sep=\"|\", header = 0, dtype=str, engine='python', quoting=3)\n",
    "foitext2002 = pd.read_csv('foitext2002.txt', sep=\"|\", header = 0, dtype=str, engine='python', quoting=3)\n",
    "foitext2003 = pd.read_csv('foitext2003.txt', sep=\"|\", header = 0, dtype=str, engine='python', quoting=3)\n",
    "foitext2004 = pd.read_csv('foitext2004.txt', sep=\"|\", header = 0, dtype=str, engine='python', quoting=3)\n",
    "foitext2005 = pd.read_csv('foitext2005.txt', sep=\"|\", header = 0, dtype=str, engine='python', quoting=3)\n",
    "foitext2006 = pd.read_csv('foitext2006.txt', sep=\"|\", header = 0, dtype=str, engine='python', quoting=3)\n",
    "foitext2007 = pd.read_csv('foitext2007.txt', sep=\"|\", header = 0, dtype=str, engine='python', quoting=3)\n",
    "foitext2008 = pd.read_csv('foitext2008.txt', sep=\"|\", header = 0, dtype=str, engine='python', quoting=3)\n",
    "foitext2009 = pd.read_csv('foitext2009.txt', sep=\"|\", header = 0, dtype=str, engine='python', quoting=3)\n",
    "foitext2010 = pd.read_csv('foitext2010.txt', sep=\"|\", header = 0, dtype=str, engine='python', quoting=3)\n",
    "foitext2011 = pd.read_csv('foitext2011.txt', sep=\"|\", header = 0, dtype=str, engine='python', quoting=3)\n",
    "foitext2012 = pd.read_csv('foitext2012.txt', sep=\"|\", header = 0, dtype=str, engine='python', quoting=3)\n",
    "foitext2013 = pd.read_csv('foitext2013.txt', sep=\"|\", header = 0, dtype=str, engine='python', quoting=3)\n",
    "foitext2014 = pd.read_csv('foitext2014.txt', sep=\"|\", header = 0, dtype=str, engine='python', quoting=3)\n",
    "foitext2015 = pd.read_csv('foitext2015.txt', sep=\"|\", header = 0, dtype=str, engine='python', quoting=3)\n",
    "foitext2016 = pd.read_csv('foitext2016.txt', sep=\"|\", header = 0, dtype=str, engine='python', quoting=3)\n",
    "foitext2017 = pd.read_csv('foitext2017.txt', sep=\"|\", header = 0, dtype=str, engine='python', quoting=3)\n",
    "foitext2018 = pd.read_csv('foitext2018.txt', sep=\"|\", header = 0, dtype=str, engine='python', quoting=3)\n",
    "foitext2019 = pd.read_csv('foitext2019.txt', sep=\"|\", header = 0, dtype=str, engine='python', quoting=3)\n",
    "foitext2020 = pd.read_csv('foitext2020.txt', sep=\"|\", header = 0, dtype=str, engine='python', quoting=3)"
   ]
  },
  {
   "cell_type": "code",
   "execution_count": 9,
   "id": "ee720582",
   "metadata": {},
   "outputs": [],
   "source": [
    "# joining the yearly text files\n",
    "FOITEXT = foitext2000\n",
    "foitextYearlyFiles = [foitext2001,foitext2002,foitext2003,foitext2004,foitext2005,foitext2006,foitext2007,foitext2008,foitext2009,\n",
    "          foitext2010,foitext2011,foitext2012,foitext2013,foitext2014,foitext2015,foitext2016,foitext2017,foitext2018,foitext2019,\n",
    "          foitext2020]\n",
    "for yearlyFile in foitextYearlyFiles:\n",
    "    FOITEXT = FOITEXT.append(yearlyFile)"
   ]
  },
  {
   "cell_type": "code",
   "execution_count": 10,
   "id": "e376d77e",
   "metadata": {},
   "outputs": [
    {
     "data": {
      "text/plain": [
       "(22977701, 6)"
      ]
     },
     "execution_count": 10,
     "metadata": {},
     "output_type": "execute_result"
    }
   ],
   "source": [
    "FOITEXT.shape"
   ]
  },
  {
   "cell_type": "code",
   "execution_count": 11,
   "id": "b54c3950",
   "metadata": {},
   "outputs": [],
   "source": [
    "allData = pd.merge(allData, FOITEXT, on=\"MDR_REPORT_KEY\")"
   ]
  },
  {
   "cell_type": "code",
   "execution_count": 12,
   "id": "42fe1ff8",
   "metadata": {},
   "outputs": [
    {
     "data": {
      "text/plain": [
       "(23011743, 114)"
      ]
     },
     "execution_count": 12,
     "metadata": {},
     "output_type": "execute_result"
    }
   ],
   "source": [
    "allData.shape"
   ]
  },
  {
   "cell_type": "code",
   "execution_count": 13,
   "id": "8f17676c",
   "metadata": {},
   "outputs": [],
   "source": [
    "PATIENT = pd.read_csv('patientThru2020.txt', sep=\"|\", header = 0, dtype=str, engine='python', quoting=3)"
   ]
  },
  {
   "cell_type": "code",
   "execution_count": 14,
   "id": "092ce707",
   "metadata": {},
   "outputs": [
    {
     "data": {
      "text/plain": [
       "(10803960, 5)"
      ]
     },
     "execution_count": 14,
     "metadata": {},
     "output_type": "execute_result"
    }
   ],
   "source": [
    "PATIENT.shape"
   ]
  },
  {
   "cell_type": "code",
   "execution_count": 15,
   "id": "3740fe0d",
   "metadata": {},
   "outputs": [],
   "source": [
    "allData = pd.merge(allData, PATIENT, on=\"MDR_REPORT_KEY\")"
   ]
  },
  {
   "cell_type": "code",
   "execution_count": 16,
   "id": "3e35c246",
   "metadata": {},
   "outputs": [
    {
     "data": {
      "text/plain": [
       "(23070373, 118)"
      ]
     },
     "execution_count": 16,
     "metadata": {},
     "output_type": "execute_result"
    }
   ],
   "source": [
    "allData.shape"
   ]
  },
  {
   "cell_type": "code",
   "execution_count": 17,
   "id": "17554773",
   "metadata": {},
   "outputs": [],
   "source": [
    "# creating a file with all the entries with a shared MDR_REPORT_KEY\n",
    "allDatawdupes = allData[allData.duplicated(['MDR_REPORT_KEY'])]"
   ]
  },
  {
   "cell_type": "code",
   "execution_count": 18,
   "id": "a565ef57",
   "metadata": {},
   "outputs": [
    {
     "data": {
      "text/plain": [
       "(12612552, 118)"
      ]
     },
     "execution_count": 18,
     "metadata": {},
     "output_type": "execute_result"
    }
   ],
   "source": [
    "allDatawdupes.shape"
   ]
  },
  {
   "cell_type": "code",
   "execution_count": null,
   "id": "bd85f6b0",
   "metadata": {},
   "outputs": [],
   "source": [
    "# removed duplicate files from the DEVICE df, as they might hamper with the the data\n",
    "allData = pd.concat([allData, allDatawdupes]).drop_duplicates(keep=False)"
   ]
  },
  {
   "cell_type": "code",
   "execution_count": null,
   "id": "be54826e",
   "metadata": {},
   "outputs": [],
   "source": [
    "allData.shape"
   ]
  },
  {
   "cell_type": "code",
   "execution_count": null,
   "id": "2e86fc66",
   "metadata": {},
   "outputs": [],
   "source": [
    "# select entries with the product code found within \"cohort one\"\n",
    "dfLWS = allData[allData['DEVICE_REPORT_PRODUCT_CODE']=='LWS']\n",
    "dfMRM = allData[allData['DEVICE_REPORT_PRODUCT_CODE']=='MRM']\n",
    "dfNIK = allData[allData['DEVICE_REPORT_PRODUCT_CODE']=='NIK']\n",
    "dfNVY = allData[allData['DEVICE_REPORT_PRODUCT_CODE']=='NVY']    \n",
    "\n",
    "allData = pd.concat([dfLWS, dfMRM, dfNIK, dfNVY])"
   ]
  },
  {
   "cell_type": "code",
   "execution_count": null,
   "id": "0477b150",
   "metadata": {},
   "outputs": [],
   "source": [
    "allData.shape"
   ]
  },
  {
   "cell_type": "code",
   "execution_count": null,
   "id": "01fccb23",
   "metadata": {},
   "outputs": [],
   "source": [
    "for col in allData.columns:\n",
    "    print(col)"
   ]
  },
  {
   "cell_type": "code",
   "execution_count": null,
   "id": "d42179ce",
   "metadata": {},
   "outputs": [],
   "source": [
    "allData"
   ]
  },
  {
   "cell_type": "code",
   "execution_count": null,
   "id": "f4328843",
   "metadata": {},
   "outputs": [],
   "source": [
    "allDatapatseqgreaterthan1 = allData[allData['PATIENT_SEQUENCE_NUMBER']>1]"
   ]
  },
  {
   "cell_type": "code",
   "execution_count": null,
   "id": "26e77fc6",
   "metadata": {},
   "outputs": [],
   "source": [
    "allData = pd.concat([allData, allDatapatseqgreaterthan1])"
   ]
  },
  {
   "cell_type": "code",
   "execution_count": null,
   "id": "5d769219",
   "metadata": {},
   "outputs": [],
   "source": [
    "def deleteNull(df):\n",
    "    for ind in df.index:\n",
    "        if df.isnull()['FOI_TEXT'][ind] == True:\n",
    "            df.drop(labels=[ind],axis=0,inplace=True)"
   ]
  },
  {
   "cell_type": "code",
   "execution_count": null,
   "id": "696a1457",
   "metadata": {},
   "outputs": [],
   "source": []
  }
 ],
 "metadata": {
  "kernelspec": {
   "display_name": "Python 3",
   "language": "python",
   "name": "python3"
  },
  "language_info": {
   "codemirror_mode": {
    "name": "ipython",
    "version": 3
   },
   "file_extension": ".py",
   "mimetype": "text/x-python",
   "name": "python",
   "nbconvert_exporter": "python",
   "pygments_lexer": "ipython3",
   "version": "3.8.8"
  }
 },
 "nbformat": 4,
 "nbformat_minor": 5
}
