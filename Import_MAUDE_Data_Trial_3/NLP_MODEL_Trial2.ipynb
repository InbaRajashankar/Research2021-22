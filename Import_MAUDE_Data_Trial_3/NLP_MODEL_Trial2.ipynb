{
 "cells": [
  {
   "cell_type": "code",
   "execution_count": 1,
   "id": "cc93bac5",
   "metadata": {},
   "outputs": [],
   "source": [
    "import numpy as np\n",
    "import pandas as pd\n",
    "import numpy as np\n",
    "import pandas as pd\n",
    "import sys\n",
    "import csv\n",
    "import functools\n",
    "from functools import reduce\n",
    "import seaborn as sns\n",
    "import matplotlib.pyplot as plt\n",
    "from datetime import datetime\n",
    "import re\n",
    "import string\n",
    "import statistics\n",
    "\n",
    "import nltk\n",
    "from nltk.corpus import stopwords\n",
    "from nltk.stem.porter import PorterStemmer\n",
    "from sklearn.feature_extraction.text import CountVectorizer\n",
    "from sklearn.model_selection import train_test_split\n",
    "from sklearn.naive_bayes import GaussianNB\n",
    "from sklearn.metrics import confusion_matrix, classification_report\n",
    "from sklearn.tree import DecisionTreeClassifier\n",
    "from sklearn.ensemble import RandomForestClassifier\n",
    "#from sklearn import svm\n",
    "#from sklearn.svm import SVC\n",
    "from sklearn.model_selection import KFold \n",
    "from sklearn.model_selection import cross_val_score\n",
    "from sklearn.metrics import accuracy_score\n",
    "from sklearn.neighbors import KNeighborsClassifier"
   ]
  },
  {
   "cell_type": "code",
   "execution_count": 2,
   "id": "b88d1b7f",
   "metadata": {},
   "outputs": [],
   "source": [
    "df = pd.read_pickle(\"./3_COMB_File_CLEANED_1.pkl\")\n",
    "udf = pd.read_pickle(\"./3_COMB_FILE_UNDERSAMPLING\")\n",
    "odf2 = pd.read_pickle(\"./3_COMB_FILE_OVERSAMPLINGx2\")\n",
    "odf3 = pd.read_pickle(\"./3_COMB_FILE_OVERSAMPLINGx3\")\n",
    "odf4 = pd.read_pickle(\"./3_COMB_FILE_OVERSAMPLINGx4\")\n",
    "odf5 = pd.read_pickle(\"./3_COMB_FILE_OVERSAMPLINGx5\")\n",
    "odfsame = pd.read_pickle(\"./3_COMB_FILE_OVERSAMPLINGsame\")"
   ]
  },
  {
   "cell_type": "code",
   "execution_count": 3,
   "id": "a43ab985",
   "metadata": {},
   "outputs": [
    {
     "name": "stdout",
     "output_type": "stream",
     "text": [
      "(42208, 7424)\n",
      "(28279, 7424)\n",
      "(13929, 7424)\n",
      "(28279,)\n",
      "(13929,)\n"
     ]
    }
   ],
   "source": [
    "# create bag of words for df\n",
    "cv = CountVectorizer(stop_words='english')\n",
    "data_cv = cv.fit_transform(df.CLEAN_FOI_TEXT)\n",
    "df_dtm = pd.DataFrame(data_cv.toarray(), columns=cv.get_feature_names())\n",
    "df_dtm.index = df.index\n",
    "print(df_dtm.shape)\n",
    "\n",
    "# train-test split for df\n",
    "X_df = df_dtm\n",
    "y_df = df[\"RECALL_CLASS\"]\n",
    "\n",
    "X_df_train, X_df_test, y_df_train, y_df_test = train_test_split(X_df, y_df, test_size = 0.33, random_state = 0)\n",
    "print(X_df_train.shape)\n",
    "print(X_df_test.shape)\n",
    "print(y_df_train.shape)\n",
    "print(y_df_test.shape)"
   ]
  },
  {
   "cell_type": "code",
   "execution_count": 4,
   "id": "0330f849",
   "metadata": {},
   "outputs": [
    {
     "name": "stdout",
     "output_type": "stream",
     "text": [
      "(11292, 4313)\n",
      "(7565, 4313)\n",
      "(3727, 4313)\n",
      "(7565,)\n",
      "(3727,)\n"
     ]
    }
   ],
   "source": [
    "# create bag of words for udf\n",
    "cv_u = CountVectorizer(stop_words='english')\n",
    "data_cv_u = cv_u.fit_transform(udf.CLEAN_FOI_TEXT)\n",
    "udf_dtm = pd.DataFrame(data_cv_u.toarray(), columns=cv_u.get_feature_names())\n",
    "udf_dtm.index = udf.index\n",
    "print(udf_dtm.shape)\n",
    "\n",
    "# train-test split for udf\n",
    "X_u = udf_dtm\n",
    "y_u = udf[\"RECALL_CLASS\"]\n",
    "\n",
    "X_u_train, X_u_test, y_u_train, y_u_test = train_test_split(X_u, y_u, test_size = 0.33, random_state = 0)\n",
    "print(X_u_train.shape)\n",
    "print(X_u_test.shape)\n",
    "print(y_u_train.shape)\n",
    "print(y_u_test.shape)"
   ]
  },
  {
   "cell_type": "code",
   "execution_count": 5,
   "id": "1040ce68",
   "metadata": {},
   "outputs": [
    {
     "name": "stdout",
     "output_type": "stream",
     "text": [
      "(51692, 7424)\n",
      "(34633, 7424)\n",
      "(17059, 7424)\n",
      "(34633,)\n",
      "(17059,)\n"
     ]
    }
   ],
   "source": [
    "# create bag of words for odf2\n",
    "cv_o2 = CountVectorizer(stop_words='english')\n",
    "data_cv_o2 = cv_o2.fit_transform(odf2.CLEAN_FOI_TEXT)\n",
    "odf2_dtm = pd.DataFrame(data_cv_o2.toarray(), columns=cv_o2.get_feature_names())\n",
    "odf2_dtm.index = odf2.index\n",
    "print(odf2_dtm.shape)\n",
    "\n",
    "# train-test split for odf2\n",
    "X_o2 = odf2_dtm\n",
    "y_o2 = odf2[\"RECALL_CLASS\"]\n",
    "\n",
    "X_o2_train, X_o2_test, y_o2_train, y_o2_test = train_test_split(X_o2, y_o2, test_size = 0.33, random_state = 0)\n",
    "print(X_o2_train.shape)\n",
    "print(X_o2_test.shape)\n",
    "print(y_o2_train.shape)\n",
    "print(y_o2_test.shape)"
   ]
  },
  {
   "cell_type": "code",
   "execution_count": 6,
   "id": "90015380",
   "metadata": {},
   "outputs": [
    {
     "name": "stdout",
     "output_type": "stream",
     "text": [
      "(61176, 7424)\n",
      "(40987, 7424)\n",
      "(20189, 7424)\n",
      "(40987,)\n",
      "(20189,)\n"
     ]
    }
   ],
   "source": [
    "# create bag of words for odf3\n",
    "cv_o3 = CountVectorizer(stop_words='english')\n",
    "data_cv_o3 = cv_o3.fit_transform(odf3.CLEAN_FOI_TEXT)\n",
    "odf3_dtm = pd.DataFrame(data_cv_o3.toarray(), columns=cv_o3.get_feature_names())\n",
    "odf3_dtm.index = odf3.index\n",
    "print(odf3_dtm.shape)\n",
    "\n",
    "# train-test split for odf3\n",
    "X_o3 = odf3_dtm\n",
    "y_o3 = odf3[\"RECALL_CLASS\"]\n",
    "\n",
    "X_o3_train, X_o3_test, y_o3_train, y_o3_test = train_test_split(X_o3, y_o3, test_size = 0.33, random_state = 0)\n",
    "print(X_o3_train.shape)\n",
    "print(X_o3_test.shape)\n",
    "print(y_o3_train.shape)\n",
    "print(y_o3_test.shape)"
   ]
  },
  {
   "cell_type": "code",
   "execution_count": 7,
   "id": "95bc4e0f",
   "metadata": {},
   "outputs": [
    {
     "name": "stdout",
     "output_type": "stream",
     "text": [
      "(70660, 7424)\n",
      "(47342, 7424)\n",
      "(23318, 7424)\n",
      "(47342,)\n",
      "(23318,)\n"
     ]
    }
   ],
   "source": [
    "# create bag of words for odf4\n",
    "cv_o4 = CountVectorizer(stop_words='english')\n",
    "data_cv_o4 = cv_o4.fit_transform(odf4.CLEAN_FOI_TEXT)\n",
    "odf4_dtm = pd.DataFrame(data_cv_o4.toarray(), columns=cv_o4.get_feature_names())\n",
    "odf4_dtm.index = odf4.index\n",
    "print(odf4_dtm.shape)\n",
    "\n",
    "# train-test split for odf4\n",
    "X_o4 = odf4_dtm\n",
    "y_o4 = odf4[\"RECALL_CLASS\"]\n",
    "\n",
    "X_o4_train, X_o4_test, y_o4_train, y_o4_test = train_test_split(X_o4, y_o4, test_size = 0.33, random_state = 0)\n",
    "print(X_o4_train.shape)\n",
    "print(X_o4_test.shape)\n",
    "print(y_o4_train.shape)\n",
    "print(y_o4_test.shape)"
   ]
  },
  {
   "cell_type": "code",
   "execution_count": 8,
   "id": "1ed19135",
   "metadata": {},
   "outputs": [
    {
     "name": "stdout",
     "output_type": "stream",
     "text": [
      "(80144, 7424)\n",
      "(53696, 7424)\n",
      "(26448, 7424)\n",
      "(53696,)\n",
      "(26448,)\n"
     ]
    }
   ],
   "source": [
    "# create bag of words for odf5\n",
    "cv_o5 = CountVectorizer(stop_words='english')\n",
    "data_cv_o5 = cv_o5.fit_transform(odf5.CLEAN_FOI_TEXT)\n",
    "odf5_dtm = pd.DataFrame(data_cv_o5.toarray(), columns=cv_o5.get_feature_names())\n",
    "odf5_dtm.index = odf5.index\n",
    "print(odf5_dtm.shape)\n",
    "\n",
    "# train-test split for odf5\n",
    "X_o5 = odf5_dtm\n",
    "y_o5 = odf5[\"RECALL_CLASS\"]\n",
    "\n",
    "X_o5_train, X_o5_test, y_o5_train, y_o5_test = train_test_split(X_o5, y_o5, test_size = 0.33, random_state = 0)\n",
    "print(X_o5_train.shape)\n",
    "print(X_o5_test.shape)\n",
    "print(y_o5_train.shape)\n",
    "print(y_o5_test.shape)"
   ]
  },
  {
   "cell_type": "code",
   "execution_count": 9,
   "id": "03b3b135",
   "metadata": {},
   "outputs": [
    {
     "name": "stdout",
     "output_type": "stream",
     "text": [
      "(98172, 7424)\n",
      "(65775, 7424)\n",
      "(32397, 7424)\n",
      "(65775,)\n",
      "(32397,)\n"
     ]
    }
   ],
   "source": [
    "# create bag of words for odfsame\n",
    "cv_osame = CountVectorizer(stop_words='english')\n",
    "data_cv_osame = cv_osame.fit_transform(odfsame.CLEAN_FOI_TEXT)\n",
    "odfsame_dtm = pd.DataFrame(data_cv_osame.toarray(), columns=cv_osame.get_feature_names())\n",
    "odfsame_dtm.index = odfsame.index\n",
    "print(odfsame_dtm.shape)\n",
    "\n",
    "# train-test split for odfsame\n",
    "X_osame = odfsame_dtm\n",
    "y_osame = odfsame[\"RECALL_CLASS\"]\n",
    "\n",
    "X_osame_train, X_osame_test, y_osame_train, y_osame_test = train_test_split(X_osame, y_osame, test_size = 0.33, random_state = 0)\n",
    "print(X_osame_train.shape)\n",
    "print(X_osame_test.shape)\n",
    "print(y_osame_train.shape)\n",
    "print(y_osame_test.shape)"
   ]
  },
  {
   "cell_type": "code",
   "execution_count": 10,
   "id": "6bed2402",
   "metadata": {},
   "outputs": [],
   "source": [
    "# running naive-bayes classifiers"
   ]
  },
  {
   "cell_type": "code",
   "execution_count": 11,
   "id": "cf604b50",
   "metadata": {},
   "outputs": [
    {
     "data": {
      "text/plain": [
       "'\\nclassifierdf = GaussianNB()\\ncvScore_df = cross_val_score(classifierdf, X_df_train, y_df_train, cv=10)\\nprint(cvScore_df)\\nprint(statistics.mean(cvScore_df))\\n'"
      ]
     },
     "execution_count": 11,
     "metadata": {},
     "output_type": "execute_result"
    }
   ],
   "source": [
    "'''\n",
    "classifierdf = GaussianNB()\n",
    "cvScore_df = cross_val_score(classifierdf, X_df_train, y_df_train, cv=10)\n",
    "print(cvScore_df)\n",
    "print(statistics.mean(cvScore_df))\n",
    "'''"
   ]
  },
  {
   "cell_type": "code",
   "execution_count": 12,
   "id": "1583da18",
   "metadata": {},
   "outputs": [
    {
     "name": "stdout",
     "output_type": "stream",
     "text": [
      "Unbalanced classes\n",
      "[[3170 6115 1570]\n",
      " [ 149 1593  171]\n",
      " [ 119  449  593]]\n",
      "\n",
      "\n",
      "              precision    recall  f1-score   support\n",
      "\n",
      "           0       0.92      0.29      0.44     10855\n",
      "           1       0.20      0.83      0.32      1913\n",
      "           2       0.25      0.51      0.34      1161\n",
      "\n",
      "    accuracy                           0.38     13929\n",
      "   macro avg       0.46      0.55      0.37     13929\n",
      "weighted avg       0.77      0.38      0.42     13929\n",
      "\n"
     ]
    }
   ],
   "source": [
    "# for unbalanced class data\n",
    "classifierdf = GaussianNB()\n",
    "classifierdf.fit(X_df_train, y_df_train)\n",
    "ydfPredNB = classifierdf.predict(X_df_test)\n",
    "print(\"Unbalanced classes\")\n",
    "print(confusion_matrix(y_df_test,ydfPredNB))\n",
    "print('\\n')\n",
    "print(classification_report(y_df_test,ydfPredNB))"
   ]
  },
  {
   "cell_type": "code",
   "execution_count": 13,
   "id": "90df3012",
   "metadata": {},
   "outputs": [
    {
     "name": "stdout",
     "output_type": "stream",
     "text": [
      "Undersampled classes\n",
      "[[ 497  576  125]\n",
      " [  56 1111   92]\n",
      " [  62  724  484]]\n",
      "\n",
      "\n",
      "              precision    recall  f1-score   support\n",
      "\n",
      "           0       0.81      0.41      0.55      1198\n",
      "           1       0.46      0.88      0.61      1259\n",
      "           2       0.69      0.38      0.49      1270\n",
      "\n",
      "    accuracy                           0.56      3727\n",
      "   macro avg       0.65      0.56      0.55      3727\n",
      "weighted avg       0.65      0.56      0.55      3727\n",
      "\n"
     ]
    }
   ],
   "source": [
    "# for undersampled class data\n",
    "classifieru = GaussianNB()\n",
    "classifieru.fit(X_u_train, y_u_train)\n",
    "yuPredNB = classifieru.predict(X_u_test)\n",
    "print(\"Undersampled classes\")\n",
    "print(confusion_matrix(y_u_test,yuPredNB))\n",
    "print('\\n')\n",
    "print(classification_report(y_u_test,yuPredNB))"
   ]
  },
  {
   "cell_type": "code",
   "execution_count": 14,
   "id": "86e33c0c",
   "metadata": {},
   "outputs": [
    {
     "name": "stdout",
     "output_type": "stream",
     "text": [
      "Oversampled (x2) classes\n",
      "[[2490 2839 5441]\n",
      " [  56 1258 2494]\n",
      " [  80   29 2372]]\n",
      "\n",
      "\n",
      "              precision    recall  f1-score   support\n",
      "\n",
      "           0       0.95      0.23      0.37     10770\n",
      "           1       0.30      0.33      0.32      3808\n",
      "           2       0.23      0.96      0.37      2481\n",
      "\n",
      "    accuracy                           0.36     17059\n",
      "   macro avg       0.49      0.51      0.35     17059\n",
      "weighted avg       0.70      0.36      0.36     17059\n",
      "\n"
     ]
    }
   ],
   "source": [
    "# for oversampled (x2) class data\n",
    "classifier = GaussianNB()\n",
    "classifier.fit(X_o2_train, y_o2_train)\n",
    "yo2PredNB = classifier.predict(X_o2_test)\n",
    "print(\"Oversampled (x2) classes\")\n",
    "print(confusion_matrix(y_o2_test,yo2PredNB))\n",
    "print('\\n')\n",
    "print(classification_report(y_o2_test,yo2PredNB))"
   ]
  },
  {
   "cell_type": "code",
   "execution_count": 15,
   "id": "cd7633f4",
   "metadata": {},
   "outputs": [
    {
     "name": "stdout",
     "output_type": "stream",
     "text": [
      "Oversampled (x3) classes\n",
      "[[2460 2969 5341]\n",
      " [  33 1854 3823]\n",
      " [  39   64 3606]]\n",
      "\n",
      "\n",
      "              precision    recall  f1-score   support\n",
      "\n",
      "           0       0.97      0.23      0.37     10770\n",
      "           1       0.38      0.32      0.35      5710\n",
      "           2       0.28      0.97      0.44      3709\n",
      "\n",
      "    accuracy                           0.39     20189\n",
      "   macro avg       0.54      0.51      0.39     20189\n",
      "weighted avg       0.68      0.39      0.38     20189\n",
      "\n"
     ]
    }
   ],
   "source": [
    "# for oversampled (x3) class data\n",
    "classifier = GaussianNB()\n",
    "classifier.fit(X_o3_train, y_o3_train)\n",
    "yo3PredNB = classifier.predict(X_o3_test)\n",
    "print(\"Oversampled (x3) classes\")\n",
    "print(confusion_matrix(y_o3_test,yo3PredNB))\n",
    "print('\\n')\n",
    "print(classification_report(y_o3_test,yo3PredNB))"
   ]
  },
  {
   "cell_type": "code",
   "execution_count": 16,
   "id": "181f1387",
   "metadata": {},
   "outputs": [
    {
     "name": "stdout",
     "output_type": "stream",
     "text": [
      "Oversampled (x4) classes\n",
      "[[2355 2841 5454]\n",
      " [  20 2673 4933]\n",
      " [   8   59 4975]]\n",
      "\n",
      "\n",
      "              precision    recall  f1-score   support\n",
      "\n",
      "           0       0.99      0.22      0.36     10650\n",
      "           1       0.48      0.35      0.41      7626\n",
      "           2       0.32      0.99      0.49      5042\n",
      "\n",
      "    accuracy                           0.43     23318\n",
      "   macro avg       0.60      0.52      0.42     23318\n",
      "weighted avg       0.68      0.43      0.40     23318\n",
      "\n"
     ]
    }
   ],
   "source": [
    "# for oversampled (x4) class data\n",
    "classifier = GaussianNB()\n",
    "classifier.fit(X_o4_train, y_o4_train)\n",
    "yo4PredNB = classifier.predict(X_o4_test)\n",
    "print(\"Oversampled (x4) classes\")\n",
    "print(confusion_matrix(y_o4_test,yo4PredNB))\n",
    "print('\\n')\n",
    "print(classification_report(y_o4_test,yo4PredNB))"
   ]
  },
  {
   "cell_type": "code",
   "execution_count": 17,
   "id": "44c00201",
   "metadata": {},
   "outputs": [
    {
     "name": "stdout",
     "output_type": "stream",
     "text": [
      "Oversampled (x5) classes\n",
      "[[2408 1832 6348]\n",
      " [   5 3276 6298]\n",
      " [  10   70 6201]]\n",
      "\n",
      "\n",
      "              precision    recall  f1-score   support\n",
      "\n",
      "           0       0.99      0.23      0.37     10588\n",
      "           1       0.63      0.34      0.44      9579\n",
      "           2       0.33      0.99      0.49      6281\n",
      "\n",
      "    accuracy                           0.45     26448\n",
      "   macro avg       0.65      0.52      0.44     26448\n",
      "weighted avg       0.71      0.45      0.43     26448\n",
      "\n"
     ]
    }
   ],
   "source": [
    "# for oversampled (x5) class data\n",
    "classifier = GaussianNB()\n",
    "classifier.fit(X_o5_train, y_o5_train)\n",
    "yo5PredNB = classifier.predict(X_o5_test)\n",
    "print(\"Oversampled (x5) classes\")\n",
    "print(confusion_matrix(y_o5_test,yo5PredNB))\n",
    "print('\\n')\n",
    "print(classification_report(y_o5_test,yo5PredNB))"
   ]
  },
  {
   "cell_type": "code",
   "execution_count": 18,
   "id": "a1502dc3",
   "metadata": {},
   "outputs": [
    {
     "name": "stdout",
     "output_type": "stream",
     "text": [
      "Oversampled (xsame) classes\n",
      "[[ 2375  2927  5481]\n",
      " [    6  3864  6928]\n",
      " [    0    79 10737]]\n",
      "\n",
      "\n",
      "              precision    recall  f1-score   support\n",
      "\n",
      "           0       1.00      0.22      0.36     10783\n",
      "           1       0.56      0.36      0.44     10798\n",
      "           2       0.46      0.99      0.63     10816\n",
      "\n",
      "    accuracy                           0.52     32397\n",
      "   macro avg       0.67      0.52      0.48     32397\n",
      "weighted avg       0.67      0.52      0.48     32397\n",
      "\n"
     ]
    }
   ],
   "source": [
    "# for oversampled (same) class data\n",
    "classifier = GaussianNB()\n",
    "classifier.fit(X_osame_train, y_osame_train)\n",
    "yosamePredNB = classifier.predict(X_osame_test)\n",
    "print(\"Oversampled (xsame) classes\")\n",
    "print(confusion_matrix(y_osame_test,yosamePredNB))\n",
    "print('\\n')\n",
    "print(classification_report(y_osame_test,yosamePredNB))"
   ]
  },
  {
   "cell_type": "code",
   "execution_count": 19,
   "id": "884a0d5c",
   "metadata": {},
   "outputs": [],
   "source": [
    "# running descision tree classifiers"
   ]
  },
  {
   "cell_type": "code",
   "execution_count": 20,
   "id": "135f6e4f",
   "metadata": {},
   "outputs": [
    {
     "name": "stdout",
     "output_type": "stream",
     "text": [
      "Unbalanced classes\n",
      "[[9706  787  362]\n",
      " [ 893  955   65]\n",
      " [ 374   64  723]]\n",
      "\n",
      "\n",
      "              precision    recall  f1-score   support\n",
      "\n",
      "           0       0.88      0.89      0.89     10855\n",
      "           1       0.53      0.50      0.51      1913\n",
      "           2       0.63      0.62      0.63      1161\n",
      "\n",
      "    accuracy                           0.82     13929\n",
      "   macro avg       0.68      0.67      0.68     13929\n",
      "weighted avg       0.81      0.82      0.82     13929\n",
      "\n"
     ]
    }
   ],
   "source": [
    "# for unbalanced class data\n",
    "classifierdf = DecisionTreeClassifier()\n",
    "classifierdf.fit(X_df_train, y_df_train)\n",
    "ydfPredNB = classifierdf.predict(X_df_test)\n",
    "print(\"Unbalanced classes\")\n",
    "print(confusion_matrix(y_df_test,ydfPredNB))\n",
    "print('\\n')\n",
    "print(classification_report(y_df_test,ydfPredNB))"
   ]
  },
  {
   "cell_type": "code",
   "execution_count": 21,
   "id": "69c365b5",
   "metadata": {},
   "outputs": [
    {
     "name": "stdout",
     "output_type": "stream",
     "text": [
      "Undersampled classes\n",
      "[[ 497  576  125]\n",
      " [  56 1111   92]\n",
      " [  62  724  484]]\n",
      "\n",
      "\n",
      "              precision    recall  f1-score   support\n",
      "\n",
      "           0       0.81      0.41      0.55      1198\n",
      "           1       0.46      0.88      0.61      1259\n",
      "           2       0.69      0.38      0.49      1270\n",
      "\n",
      "    accuracy                           0.56      3727\n",
      "   macro avg       0.65      0.56      0.55      3727\n",
      "weighted avg       0.65      0.56      0.55      3727\n",
      "\n"
     ]
    }
   ],
   "source": [
    "# for undersampled class data\n",
    "classifieru = GaussianNB()\n",
    "classifieru.fit(X_u_train, y_u_train)\n",
    "yuPredNB = classifieru.predict(X_u_test)\n",
    "print(\"Undersampled classes\")\n",
    "print(confusion_matrix(y_u_test,yuPredNB))\n",
    "print('\\n')\n",
    "print(classification_report(y_u_test,yuPredNB))"
   ]
  },
  {
   "cell_type": "code",
   "execution_count": 22,
   "id": "ad7fd2fe",
   "metadata": {},
   "outputs": [
    {
     "name": "stdout",
     "output_type": "stream",
     "text": [
      "Oversampled (x2) classes\n",
      "[[9319  978  473]\n",
      " [ 557 3185   66]\n",
      " [ 280   63 2138]]\n",
      "\n",
      "\n",
      "              precision    recall  f1-score   support\n",
      "\n",
      "           0       0.92      0.87      0.89     10770\n",
      "           1       0.75      0.84      0.79      3808\n",
      "           2       0.80      0.86      0.83      2481\n",
      "\n",
      "    accuracy                           0.86     17059\n",
      "   macro avg       0.82      0.85      0.84     17059\n",
      "weighted avg       0.86      0.86      0.86     17059\n",
      "\n"
     ]
    }
   ],
   "source": [
    "# for oversampled (x2) class data\n",
    "classifier = DecisionTreeClassifier()\n",
    "classifier.fit(X_o2_train, y_o2_train)\n",
    "yo2PredNB = classifier.predict(X_o2_test)\n",
    "print(\"Oversampled (x2) classes\")\n",
    "print(confusion_matrix(y_o2_test,yo2PredNB))\n",
    "print('\\n')\n",
    "print(classification_report(y_o2_test,yo2PredNB))"
   ]
  },
  {
   "cell_type": "code",
   "execution_count": 23,
   "id": "f9569a6f",
   "metadata": {},
   "outputs": [
    {
     "name": "stdout",
     "output_type": "stream",
     "text": [
      "Oversampled (x3) classes\n",
      "[[9161 1097  512]\n",
      " [ 309 5356   45]\n",
      " [  99   43 3567]]\n",
      "\n",
      "\n",
      "              precision    recall  f1-score   support\n",
      "\n",
      "           0       0.96      0.85      0.90     10770\n",
      "           1       0.82      0.94      0.88      5710\n",
      "           2       0.86      0.96      0.91      3709\n",
      "\n",
      "    accuracy                           0.90     20189\n",
      "   macro avg       0.88      0.92      0.90     20189\n",
      "weighted avg       0.90      0.90      0.90     20189\n",
      "\n"
     ]
    }
   ],
   "source": [
    "# for oversampled (x3) class data\n",
    "classifier = DecisionTreeClassifier()\n",
    "classifier.fit(X_o3_train, y_o3_train)\n",
    "yo3PredNB = classifier.predict(X_o3_test)\n",
    "print(\"Oversampled (x3) classes\")\n",
    "print(confusion_matrix(y_o3_test,yo3PredNB))\n",
    "print('\\n')\n",
    "print(classification_report(y_o3_test,yo3PredNB))"
   ]
  },
  {
   "cell_type": "code",
   "execution_count": 24,
   "id": "9bd551e2",
   "metadata": {},
   "outputs": [
    {
     "name": "stdout",
     "output_type": "stream",
     "text": [
      "Oversampled (x4) classes\n",
      "[[8954 1133  563]\n",
      " [ 200 7397   29]\n",
      " [  84   26 4932]]\n",
      "\n",
      "\n",
      "              precision    recall  f1-score   support\n",
      "\n",
      "           0       0.97      0.84      0.90     10650\n",
      "           1       0.86      0.97      0.91      7626\n",
      "           2       0.89      0.98      0.93      5042\n",
      "\n",
      "    accuracy                           0.91     23318\n",
      "   macro avg       0.91      0.93      0.92     23318\n",
      "weighted avg       0.92      0.91      0.91     23318\n",
      "\n"
     ]
    }
   ],
   "source": [
    "# for oversampled (x4) class data\n",
    "classifier = DecisionTreeClassifier()\n",
    "classifier.fit(X_o4_train, y_o4_train)\n",
    "yo4PredNB = classifier.predict(X_o4_test)\n",
    "print(\"Oversampled (x4) classes\")\n",
    "print(confusion_matrix(y_o4_test,yo4PredNB))\n",
    "print('\\n')\n",
    "print(classification_report(y_o4_test,yo4PredNB))"
   ]
  },
  {
   "cell_type": "code",
   "execution_count": 25,
   "id": "df73f412",
   "metadata": {},
   "outputs": [
    {
     "name": "stdout",
     "output_type": "stream",
     "text": [
      "Oversampled (x5) classes\n",
      "[[8901 1136  551]\n",
      " [  99 9463   17]\n",
      " [  81   34 6166]]\n",
      "\n",
      "\n",
      "              precision    recall  f1-score   support\n",
      "\n",
      "           0       0.98      0.84      0.91     10588\n",
      "           1       0.89      0.99      0.94      9579\n",
      "           2       0.92      0.98      0.95      6281\n",
      "\n",
      "    accuracy                           0.93     26448\n",
      "   macro avg       0.93      0.94      0.93     26448\n",
      "weighted avg       0.93      0.93      0.93     26448\n",
      "\n"
     ]
    }
   ],
   "source": [
    "# for oversampled (x5) class data\n",
    "classifier = DecisionTreeClassifier()\n",
    "classifier.fit(X_o5_train, y_o5_train)\n",
    "yo5PredNB = classifier.predict(X_o5_test)\n",
    "print(\"Oversampled (x5) classes\")\n",
    "print(confusion_matrix(y_o5_test,yo5PredNB))\n",
    "print('\\n')\n",
    "print(classification_report(y_o5_test,yo5PredNB))"
   ]
  },
  {
   "cell_type": "code",
   "execution_count": 26,
   "id": "c4edbadd",
   "metadata": {},
   "outputs": [
    {
     "name": "stdout",
     "output_type": "stream",
     "text": [
      "Oversampled (xsame) classes\n",
      "[[ 9003  1165   615]\n",
      " [   86 10684    28]\n",
      " [   30    13 10773]]\n",
      "\n",
      "\n",
      "              precision    recall  f1-score   support\n",
      "\n",
      "           0       0.99      0.83      0.90     10783\n",
      "           1       0.90      0.99      0.94     10798\n",
      "           2       0.94      1.00      0.97     10816\n",
      "\n",
      "    accuracy                           0.94     32397\n",
      "   macro avg       0.94      0.94      0.94     32397\n",
      "weighted avg       0.94      0.94      0.94     32397\n",
      "\n"
     ]
    }
   ],
   "source": [
    "# for oversampled (same) class data\n",
    "classifier = DecisionTreeClassifier()\n",
    "classifier.fit(X_osame_train, y_osame_train)\n",
    "yosamePredNB = classifier.predict(X_osame_test)\n",
    "print(\"Oversampled (xsame) classes\")\n",
    "print(confusion_matrix(y_osame_test,yosamePredNB))\n",
    "print('\\n')\n",
    "print(classification_report(y_osame_test,yosamePredNB))"
   ]
  },
  {
   "cell_type": "code",
   "execution_count": 27,
   "id": "44b0cc33",
   "metadata": {},
   "outputs": [],
   "source": [
    "# running KNN classifiers"
   ]
  },
  {
   "cell_type": "code",
   "execution_count": 28,
   "id": "b9ede635",
   "metadata": {},
   "outputs": [
    {
     "name": "stdout",
     "output_type": "stream",
     "text": [
      "Unbalanced classes\n",
      "[[9703  805  347]\n",
      " [ 837  986   90]\n",
      " [ 404   67  690]]\n",
      "\n",
      "\n",
      "              precision    recall  f1-score   support\n",
      "\n",
      "           0       0.89      0.89      0.89     10855\n",
      "           1       0.53      0.52      0.52      1913\n",
      "           2       0.61      0.59      0.60      1161\n",
      "\n",
      "    accuracy                           0.82     13929\n",
      "   macro avg       0.68      0.67      0.67     13929\n",
      "weighted avg       0.81      0.82      0.82     13929\n",
      "\n"
     ]
    }
   ],
   "source": [
    "# for unbalanced class data\n",
    "classifierdf = KNeighborsClassifier(n_neighbors=1)\n",
    "classifierdf.fit(X_df_train, y_df_train)\n",
    "ydfPredNB = classifierdf.predict(X_df_test)\n",
    "print(\"Unbalanced classes\")\n",
    "print(confusion_matrix(y_df_test,ydfPredNB))\n",
    "print('\\n')\n",
    "print(classification_report(y_df_test,ydfPredNB))"
   ]
  },
  {
   "cell_type": "code",
   "execution_count": 29,
   "id": "7893827e",
   "metadata": {},
   "outputs": [
    {
     "name": "stdout",
     "output_type": "stream",
     "text": [
      "Undersampled classes\n",
      "[[848 221 129]\n",
      " [223 933 103]\n",
      " [174 110 986]]\n",
      "\n",
      "\n",
      "              precision    recall  f1-score   support\n",
      "\n",
      "           0       0.68      0.71      0.69      1198\n",
      "           1       0.74      0.74      0.74      1259\n",
      "           2       0.81      0.78      0.79      1270\n",
      "\n",
      "    accuracy                           0.74      3727\n",
      "   macro avg       0.74      0.74      0.74      3727\n",
      "weighted avg       0.74      0.74      0.74      3727\n",
      "\n"
     ]
    }
   ],
   "source": [
    "# for undersampled class data\n",
    "classifieru = KNeighborsClassifier(n_neighbors=1)\n",
    "classifieru.fit(X_u_train, y_u_train)\n",
    "yuPredNB = classifieru.predict(X_u_test)\n",
    "print(\"Undersampled classes\")\n",
    "print(confusion_matrix(y_u_test,yuPredNB))\n",
    "print('\\n')\n",
    "print(classification_report(y_u_test,yuPredNB))"
   ]
  },
  {
   "cell_type": "code",
   "execution_count": 30,
   "id": "6678e091",
   "metadata": {},
   "outputs": [
    {
     "name": "stdout",
     "output_type": "stream",
     "text": [
      "Oversampled (x2) classes\n",
      "[[9326 1009  435]\n",
      " [ 505 3227   76]\n",
      " [ 292   42 2147]]\n",
      "\n",
      "\n",
      "              precision    recall  f1-score   support\n",
      "\n",
      "           0       0.92      0.87      0.89     10770\n",
      "           1       0.75      0.85      0.80      3808\n",
      "           2       0.81      0.87      0.84      2481\n",
      "\n",
      "    accuracy                           0.86     17059\n",
      "   macro avg       0.83      0.86      0.84     17059\n",
      "weighted avg       0.87      0.86      0.86     17059\n",
      "\n"
     ]
    }
   ],
   "source": [
    "# for oversampled (x2) class data\n",
    "classifier = KNeighborsClassifier(n_neighbors=1)\n",
    "classifier.fit(X_o2_train, y_o2_train)\n",
    "yo2PredNB = classifier.predict(X_o2_test)\n",
    "print(\"Oversampled (x2) classes\")\n",
    "print(confusion_matrix(y_o2_test,yo2PredNB))\n",
    "print('\\n')\n",
    "print(classification_report(y_o2_test,yo2PredNB))"
   ]
  },
  {
   "cell_type": "code",
   "execution_count": 31,
   "id": "b661f366",
   "metadata": {},
   "outputs": [
    {
     "name": "stdout",
     "output_type": "stream",
     "text": [
      "Oversampled (x3) classes\n",
      "[[9201 1123  446]\n",
      " [ 341 5338   31]\n",
      " [ 132   37 3540]]\n",
      "\n",
      "\n",
      "              precision    recall  f1-score   support\n",
      "\n",
      "           0       0.95      0.85      0.90     10770\n",
      "           1       0.82      0.93      0.87      5710\n",
      "           2       0.88      0.95      0.92      3709\n",
      "\n",
      "    accuracy                           0.90     20189\n",
      "   macro avg       0.88      0.91      0.90     20189\n",
      "weighted avg       0.90      0.90      0.90     20189\n",
      "\n"
     ]
    }
   ],
   "source": [
    "# for oversampled (x3) class data\n",
    "classifier = KNeighborsClassifier(n_neighbors=1)\n",
    "classifier.fit(X_o3_train, y_o3_train)\n",
    "yo3PredNB = classifier.predict(X_o3_test)\n",
    "print(\"Oversampled (x3) classes\")\n",
    "print(confusion_matrix(y_o3_test,yo3PredNB))\n",
    "print('\\n')\n",
    "print(classification_report(y_o3_test,yo3PredNB))"
   ]
  },
  {
   "cell_type": "code",
   "execution_count": 32,
   "id": "a3386e1e",
   "metadata": {},
   "outputs": [
    {
     "name": "stdout",
     "output_type": "stream",
     "text": [
      "Oversampled (x4) classes\n",
      "[[8947 1195  508]\n",
      " [ 218 7365   43]\n",
      " [  73   26 4943]]\n",
      "\n",
      "\n",
      "              precision    recall  f1-score   support\n",
      "\n",
      "           0       0.97      0.84      0.90     10650\n",
      "           1       0.86      0.97      0.91      7626\n",
      "           2       0.90      0.98      0.94      5042\n",
      "\n",
      "    accuracy                           0.91     23318\n",
      "   macro avg       0.91      0.93      0.92     23318\n",
      "weighted avg       0.92      0.91      0.91     23318\n",
      "\n"
     ]
    }
   ],
   "source": [
    "# for oversampled (x4) class data\n",
    "classifier = KNeighborsClassifier(n_neighbors=1)\n",
    "classifier.fit(X_o4_train, y_o4_train)\n",
    "yo4PredNB = classifier.predict(X_o4_test)\n",
    "print(\"Oversampled (x4) classes\")\n",
    "print(confusion_matrix(y_o4_test,yo4PredNB))\n",
    "print('\\n')\n",
    "print(classification_report(y_o4_test,yo4PredNB))"
   ]
  },
  {
   "cell_type": "code",
   "execution_count": 33,
   "id": "dfeb533d",
   "metadata": {},
   "outputs": [
    {
     "name": "stdout",
     "output_type": "stream",
     "text": [
      "Oversampled (x5) classes\n",
      "[[8930 1166  492]\n",
      " [ 174 9392   13]\n",
      " [  91   41 6149]]\n",
      "\n",
      "\n",
      "              precision    recall  f1-score   support\n",
      "\n",
      "           0       0.97      0.84      0.90     10588\n",
      "           1       0.89      0.98      0.93      9579\n",
      "           2       0.92      0.98      0.95      6281\n",
      "\n",
      "    accuracy                           0.93     26448\n",
      "   macro avg       0.93      0.93      0.93     26448\n",
      "weighted avg       0.93      0.93      0.92     26448\n",
      "\n"
     ]
    }
   ],
   "source": [
    "# for oversampled (x5) class data\n",
    "classifier = KNeighborsClassifier(n_neighbors=1)\n",
    "classifier.fit(X_o5_train, y_o5_train)\n",
    "yo5PredNB = classifier.predict(X_o5_test)\n",
    "print(\"Oversampled (x5) classes\")\n",
    "print(confusion_matrix(y_o5_test,yo5PredNB))\n",
    "print('\\n')\n",
    "print(classification_report(y_o5_test,yo5PredNB))"
   ]
  },
  {
   "cell_type": "code",
   "execution_count": 34,
   "id": "a6e373fa",
   "metadata": {},
   "outputs": [
    {
     "name": "stdout",
     "output_type": "stream",
     "text": [
      "Oversampled (xsame) classes\n",
      "[[ 8961  1246   576]\n",
      " [  155 10624    19]\n",
      " [   35    29 10752]]\n",
      "\n",
      "\n",
      "              precision    recall  f1-score   support\n",
      "\n",
      "           0       0.98      0.83      0.90     10783\n",
      "           1       0.89      0.98      0.94     10798\n",
      "           2       0.95      0.99      0.97     10816\n",
      "\n",
      "    accuracy                           0.94     32397\n",
      "   macro avg       0.94      0.94      0.94     32397\n",
      "weighted avg       0.94      0.94      0.94     32397\n",
      "\n"
     ]
    }
   ],
   "source": [
    "# for oversampled (same) class data\n",
    "classifier = KNeighborsClassifier(n_neighbors=1)\n",
    "classifier.fit(X_osame_train, y_osame_train)\n",
    "yosamePredNB = classifier.predict(X_osame_test)\n",
    "print(\"Oversampled (xsame) classes\")\n",
    "print(confusion_matrix(y_osame_test,yosamePredNB))\n",
    "print('\\n')\n",
    "print(classification_report(y_osame_test,yosamePredNB))"
   ]
  },
  {
   "cell_type": "code",
   "execution_count": 35,
   "id": "d48c6c86",
   "metadata": {},
   "outputs": [],
   "source": [
    "# running random forest classifier"
   ]
  },
  {
   "cell_type": "code",
   "execution_count": 36,
   "id": "837a7bb7",
   "metadata": {},
   "outputs": [
    {
     "name": "stdout",
     "output_type": "stream",
     "text": [
      "Unbalanced classes\n",
      "[[10434   304   117]\n",
      " [ 1080   804    29]\n",
      " [  495    19   647]]\n",
      "\n",
      "\n",
      "              precision    recall  f1-score   support\n",
      "\n",
      "           0       0.87      0.96      0.91     10855\n",
      "           1       0.71      0.42      0.53      1913\n",
      "           2       0.82      0.56      0.66      1161\n",
      "\n",
      "    accuracy                           0.85     13929\n",
      "   macro avg       0.80      0.65      0.70     13929\n",
      "weighted avg       0.84      0.85      0.84     13929\n",
      "\n"
     ]
    }
   ],
   "source": [
    "# for unbalanced class data\n",
    "classifierdf = RandomForestClassifier(n_estimators=100)\n",
    "classifierdf.fit(X_df_train, y_df_train)\n",
    "ydfPredNB = classifierdf.predict(X_df_test)\n",
    "print(\"Unbalanced classes\")\n",
    "print(confusion_matrix(y_df_test,ydfPredNB))\n",
    "print('\\n')\n",
    "print(classification_report(y_df_test,ydfPredNB))"
   ]
  },
  {
   "cell_type": "code",
   "execution_count": 37,
   "id": "58015404",
   "metadata": {},
   "outputs": [
    {
     "name": "stdout",
     "output_type": "stream",
     "text": [
      "Undersampled classes\n",
      "[[ 854  209  135]\n",
      " [ 101 1058  100]\n",
      " [  59   69 1142]]\n",
      "\n",
      "\n",
      "              precision    recall  f1-score   support\n",
      "\n",
      "           0       0.84      0.71      0.77      1198\n",
      "           1       0.79      0.84      0.82      1259\n",
      "           2       0.83      0.90      0.86      1270\n",
      "\n",
      "    accuracy                           0.82      3727\n",
      "   macro avg       0.82      0.82      0.82      3727\n",
      "weighted avg       0.82      0.82      0.82      3727\n",
      "\n"
     ]
    }
   ],
   "source": [
    "# for undersampled class data\n",
    "classifieru = RandomForestClassifier(n_estimators=100)\n",
    "classifieru.fit(X_u_train, y_u_train)\n",
    "yuPredNB = classifieru.predict(X_u_test)\n",
    "print(\"Undersampled classes\")\n",
    "print(confusion_matrix(y_u_test,yuPredNB))\n",
    "print('\\n')\n",
    "print(classification_report(y_u_test,yuPredNB))"
   ]
  },
  {
   "cell_type": "code",
   "execution_count": 38,
   "id": "14ebfd1d",
   "metadata": {},
   "outputs": [
    {
     "name": "stdout",
     "output_type": "stream",
     "text": [
      "Oversampled (x2) classes\n",
      "[[9997  581  192]\n",
      " [ 550 3226   32]\n",
      " [ 318   17 2146]]\n",
      "\n",
      "\n",
      "              precision    recall  f1-score   support\n",
      "\n",
      "           0       0.92      0.93      0.92     10770\n",
      "           1       0.84      0.85      0.85      3808\n",
      "           2       0.91      0.86      0.88      2481\n",
      "\n",
      "    accuracy                           0.90     17059\n",
      "   macro avg       0.89      0.88      0.88     17059\n",
      "weighted avg       0.90      0.90      0.90     17059\n",
      "\n"
     ]
    }
   ],
   "source": [
    "# for oversampled (x2) class data\n",
    "classifier = RandomForestClassifier(n_estimators=100)\n",
    "classifier.fit(X_o2_train, y_o2_train)\n",
    "yo2PredNB = classifier.predict(X_o2_test)\n",
    "print(\"Oversampled (x2) classes\")\n",
    "print(confusion_matrix(y_o2_test,yo2PredNB))\n",
    "print('\\n')\n",
    "print(classification_report(y_o2_test,yo2PredNB))"
   ]
  },
  {
   "cell_type": "code",
   "execution_count": 39,
   "id": "e6d0a4e6",
   "metadata": {},
   "outputs": [
    {
     "name": "stdout",
     "output_type": "stream",
     "text": [
      "Oversampled (x3) classes\n",
      "[[9722  766  282]\n",
      " [ 311 5374   25]\n",
      " [ 116   25 3568]]\n",
      "\n",
      "\n",
      "              precision    recall  f1-score   support\n",
      "\n",
      "           0       0.96      0.90      0.93     10770\n",
      "           1       0.87      0.94      0.91      5710\n",
      "           2       0.92      0.96      0.94      3709\n",
      "\n",
      "    accuracy                           0.92     20189\n",
      "   macro avg       0.92      0.94      0.93     20189\n",
      "weighted avg       0.93      0.92      0.92     20189\n",
      "\n"
     ]
    }
   ],
   "source": [
    "# for oversampled (x3) class data\n",
    "classifier = RandomForestClassifier(n_estimators=100)\n",
    "classifier.fit(X_o3_train, y_o3_train)\n",
    "yo3PredNB = classifier.predict(X_o3_test)\n",
    "print(\"Oversampled (x3) classes\")\n",
    "print(confusion_matrix(y_o3_test,yo3PredNB))\n",
    "print('\\n')\n",
    "print(classification_report(y_o3_test,yo3PredNB))"
   ]
  },
  {
   "cell_type": "code",
   "execution_count": 40,
   "id": "bb013d1c",
   "metadata": {},
   "outputs": [
    {
     "name": "stdout",
     "output_type": "stream",
     "text": [
      "Oversampled (x4) classes\n",
      "[[9495  809  346]\n",
      " [ 196 7398   32]\n",
      " [  58   21 4963]]\n",
      "\n",
      "\n",
      "              precision    recall  f1-score   support\n",
      "\n",
      "           0       0.97      0.89      0.93     10650\n",
      "           1       0.90      0.97      0.93      7626\n",
      "           2       0.93      0.98      0.96      5042\n",
      "\n",
      "    accuracy                           0.94     23318\n",
      "   macro avg       0.93      0.95      0.94     23318\n",
      "weighted avg       0.94      0.94      0.94     23318\n",
      "\n"
     ]
    }
   ],
   "source": [
    "# for oversampled (x4) class data\n",
    "classifier = RandomForestClassifier(n_estimators=100)\n",
    "classifier.fit(X_o4_train, y_o4_train)\n",
    "yo4PredNB = classifier.predict(X_o4_test)\n",
    "print(\"Oversampled (x4) classes\")\n",
    "print(confusion_matrix(y_o4_test,yo4PredNB))\n",
    "print('\\n')\n",
    "print(classification_report(y_o4_test,yo4PredNB))"
   ]
  },
  {
   "cell_type": "code",
   "execution_count": 41,
   "id": "8c32f5db",
   "metadata": {},
   "outputs": [
    {
     "name": "stdout",
     "output_type": "stream",
     "text": [
      "Oversampled (x5) classes\n",
      "[[9386  880  322]\n",
      " [  63 9500   16]\n",
      " [  84   28 6169]]\n",
      "\n",
      "\n",
      "              precision    recall  f1-score   support\n",
      "\n",
      "           0       0.98      0.89      0.93     10588\n",
      "           1       0.91      0.99      0.95      9579\n",
      "           2       0.95      0.98      0.96      6281\n",
      "\n",
      "    accuracy                           0.95     26448\n",
      "   macro avg       0.95      0.95      0.95     26448\n",
      "weighted avg       0.95      0.95      0.95     26448\n",
      "\n"
     ]
    }
   ],
   "source": [
    "# for oversampled (x5) class data\n",
    "classifier = RandomForestClassifier(n_estimators=100)\n",
    "classifier.fit(X_o5_train, y_o5_train)\n",
    "yo5PredNB = classifier.predict(X_o5_test)\n",
    "print(\"Oversampled (x5) classes\")\n",
    "print(confusion_matrix(y_o5_test,yo5PredNB))\n",
    "print('\\n')\n",
    "print(classification_report(y_o5_test,yo5PredNB))"
   ]
  },
  {
   "cell_type": "code",
   "execution_count": 42,
   "id": "3d296464",
   "metadata": {},
   "outputs": [
    {
     "name": "stdout",
     "output_type": "stream",
     "text": [
      "Oversampled (xsame) classes\n",
      "[[ 9507   895   381]\n",
      " [   64 10700    34]\n",
      " [   25    10 10781]]\n",
      "\n",
      "\n",
      "              precision    recall  f1-score   support\n",
      "\n",
      "           0       0.99      0.88      0.93     10783\n",
      "           1       0.92      0.99      0.96     10798\n",
      "           2       0.96      1.00      0.98     10816\n",
      "\n",
      "    accuracy                           0.96     32397\n",
      "   macro avg       0.96      0.96      0.96     32397\n",
      "weighted avg       0.96      0.96      0.96     32397\n",
      "\n"
     ]
    }
   ],
   "source": [
    "# for oversampled (same) class data\n",
    "classifier = RandomForestClassifier(n_estimators=100)\n",
    "classifier.fit(X_osame_train, y_osame_train)\n",
    "yosamePredNB = classifier.predict(X_osame_test)\n",
    "print(\"Oversampled (xsame) classes\")\n",
    "print(confusion_matrix(y_osame_test,yosamePredNB))\n",
    "print('\\n')\n",
    "print(classification_report(y_osame_test,yosamePredNB))"
   ]
  },
  {
   "cell_type": "code",
   "execution_count": 52,
   "id": "1ad61a84",
   "metadata": {},
   "outputs": [
    {
     "data": {
      "text/html": [
       "<div>\n",
       "<style scoped>\n",
       "    .dataframe tbody tr th:only-of-type {\n",
       "        vertical-align: middle;\n",
       "    }\n",
       "\n",
       "    .dataframe tbody tr th {\n",
       "        vertical-align: top;\n",
       "    }\n",
       "\n",
       "    .dataframe thead th {\n",
       "        text-align: right;\n",
       "    }\n",
       "</style>\n",
       "<table border=\"1\" class=\"dataframe\">\n",
       "  <thead>\n",
       "    <tr style=\"text-align: right;\">\n",
       "      <th></th>\n",
       "      <th>0</th>\n",
       "      <th>PRED</th>\n",
       "      <th>IND</th>\n",
       "    </tr>\n",
       "  </thead>\n",
       "  <tbody>\n",
       "    <tr>\n",
       "      <th>9915</th>\n",
       "      <td>0</td>\n",
       "      <td>0</td>\n",
       "      <td>9915</td>\n",
       "    </tr>\n",
       "    <tr>\n",
       "      <th>31774</th>\n",
       "      <td>2</td>\n",
       "      <td>2</td>\n",
       "      <td>31774</td>\n",
       "    </tr>\n",
       "    <tr>\n",
       "      <th>8748</th>\n",
       "      <td>1</td>\n",
       "      <td>1</td>\n",
       "      <td>8748</td>\n",
       "    </tr>\n",
       "    <tr>\n",
       "      <th>2325</th>\n",
       "      <td>1</td>\n",
       "      <td>1</td>\n",
       "      <td>2325</td>\n",
       "    </tr>\n",
       "    <tr>\n",
       "      <th>3215</th>\n",
       "      <td>2</td>\n",
       "      <td>2</td>\n",
       "      <td>3215</td>\n",
       "    </tr>\n",
       "  </tbody>\n",
       "</table>\n",
       "</div>"
      ],
      "text/plain": [
       "       0 PRED    IND\n",
       "9915   0    0   9915\n",
       "31774  2    2  31774\n",
       "8748   1    1   8748\n",
       "2325   1    1   2325\n",
       "3215   2    2   3215"
      ]
     },
     "execution_count": 52,
     "metadata": {},
     "output_type": "execute_result"
    }
   ],
   "source": [
    "dfNB_randfor[\"PRED\"] = pd.DataFrame(yosamePredNB)\n",
    "dfNB_randfor.index = y_osame_test.index\n",
    "dfNB_randfor[\"IND\"] = y_osame_test.index\n",
    "dfNB_randfor.head()"
   ]
  },
  {
   "cell_type": "code",
   "execution_count": 53,
   "id": "bab3f5e3",
   "metadata": {},
   "outputs": [
    {
     "data": {
      "text/html": [
       "<div>\n",
       "<style scoped>\n",
       "    .dataframe tbody tr th:only-of-type {\n",
       "        vertical-align: middle;\n",
       "    }\n",
       "\n",
       "    .dataframe tbody tr th {\n",
       "        vertical-align: top;\n",
       "    }\n",
       "\n",
       "    .dataframe thead th {\n",
       "        text-align: right;\n",
       "    }\n",
       "</style>\n",
       "<table border=\"1\" class=\"dataframe\">\n",
       "  <thead>\n",
       "    <tr style=\"text-align: right;\">\n",
       "      <th></th>\n",
       "      <th>0</th>\n",
       "      <th>PRED</th>\n",
       "      <th>IND</th>\n",
       "      <th>MDR_REPORT_KEY</th>\n",
       "      <th>MDR_TEXT_KEY</th>\n",
       "      <th>TEXT_TYPE_CODE</th>\n",
       "      <th>PATIENT_SEQUENCE_NUMBER</th>\n",
       "      <th>DATE_REPORT</th>\n",
       "      <th>FOI_TEXT</th>\n",
       "      <th>textLen</th>\n",
       "      <th>...</th>\n",
       "      <th>DEVICE_EVALUATED_BY_MANUFACTUR</th>\n",
       "      <th>year</th>\n",
       "      <th>STD_MANUFACTURER</th>\n",
       "      <th>STD_DEVICE</th>\n",
       "      <th>RECALL_CLASS</th>\n",
       "      <th>Before2013</th>\n",
       "      <th>CENSORED</th>\n",
       "      <th>_merge</th>\n",
       "      <th>CLEAN_FOI_TEXT</th>\n",
       "      <th>IND2</th>\n",
       "    </tr>\n",
       "  </thead>\n",
       "  <tbody>\n",
       "    <tr>\n",
       "      <th>0</th>\n",
       "      <td>0</td>\n",
       "      <td>0</td>\n",
       "      <td>9915</td>\n",
       "      <td>1411042</td>\n",
       "      <td>1268339</td>\n",
       "      <td>D</td>\n",
       "      <td>1</td>\n",
       "      <td>NaN</td>\n",
       "      <td>IT WAS REPORTED THAT THE LEAD WAS DISLODGED.</td>\n",
       "      <td>NaN</td>\n",
       "      <td>...</td>\n",
       "      <td>Y</td>\n",
       "      <td>2009</td>\n",
       "      <td>ST. JUDE</td>\n",
       "      <td>STJUDE_DURATA</td>\n",
       "      <td>0</td>\n",
       "      <td>True</td>\n",
       "      <td>2009-07-09</td>\n",
       "      <td>both</td>\n",
       "      <td>it report the lead dislodg</td>\n",
       "      <td>9915</td>\n",
       "    </tr>\n",
       "    <tr>\n",
       "      <th>1</th>\n",
       "      <td>0</td>\n",
       "      <td>0</td>\n",
       "      <td>9915</td>\n",
       "      <td>1955154</td>\n",
       "      <td>1783281</td>\n",
       "      <td>D</td>\n",
       "      <td>1</td>\n",
       "      <td>NaN</td>\n",
       "      <td>IT WAS REPORTED THAT THE LEAD WAS EXPLANTED DU...</td>\n",
       "      <td>NaN</td>\n",
       "      <td>...</td>\n",
       "      <td>R</td>\n",
       "      <td>2011</td>\n",
       "      <td>ST. JUDE</td>\n",
       "      <td>STJUDE_RIATA_ST</td>\n",
       "      <td>1</td>\n",
       "      <td>True</td>\n",
       "      <td>2011-01-10</td>\n",
       "      <td>both</td>\n",
       "      <td>it report the lead explant due dislodg</td>\n",
       "      <td>9915</td>\n",
       "    </tr>\n",
       "    <tr>\n",
       "      <th>2</th>\n",
       "      <td>0</td>\n",
       "      <td>0</td>\n",
       "      <td>9915</td>\n",
       "      <td>1718127</td>\n",
       "      <td>1630396</td>\n",
       "      <td>D</td>\n",
       "      <td>1</td>\n",
       "      <td>NaN</td>\n",
       "      <td>IT WAS REPORTED THAT DURING THE IMPLANT PROCED...</td>\n",
       "      <td>NaN</td>\n",
       "      <td>...</td>\n",
       "      <td>Y</td>\n",
       "      <td>2010</td>\n",
       "      <td>MEDTRONIC</td>\n",
       "      <td>MEDTRONIC_SPRINT_QUATTRO_SECURE</td>\n",
       "      <td>2</td>\n",
       "      <td>True</td>\n",
       "      <td>2010-06-10</td>\n",
       "      <td>both</td>\n",
       "      <td>it report dure implant procedur helix would ex...</td>\n",
       "      <td>9915</td>\n",
       "    </tr>\n",
       "    <tr>\n",
       "      <th>3</th>\n",
       "      <td>2</td>\n",
       "      <td>2</td>\n",
       "      <td>31774</td>\n",
       "      <td>2775649</td>\n",
       "      <td>3069072</td>\n",
       "      <td>D</td>\n",
       "      <td>1</td>\n",
       "      <td>NaN</td>\n",
       "      <td>BOSTON SCIENTIFIC RECEIVED INFORMATION THAT TH...</td>\n",
       "      <td>NaN</td>\n",
       "      <td>...</td>\n",
       "      <td>R</td>\n",
       "      <td>2012</td>\n",
       "      <td>BOSTON SCIENTIFIC</td>\n",
       "      <td>BOS_SCI_ENDOTAK_ENDURANCE</td>\n",
       "      <td>0</td>\n",
       "      <td>True</td>\n",
       "      <td>2012-10-08</td>\n",
       "      <td>both</td>\n",
       "      <td>mfgid receiv inform thi chloric rv lead di dev...</td>\n",
       "      <td>31774</td>\n",
       "    </tr>\n",
       "    <tr>\n",
       "      <th>4</th>\n",
       "      <td>2</td>\n",
       "      <td>2</td>\n",
       "      <td>31774</td>\n",
       "      <td>1376996</td>\n",
       "      <td>21368292</td>\n",
       "      <td>D</td>\n",
       "      <td>1</td>\n",
       "      <td>NaN</td>\n",
       "      <td>THE LEAD WAS EXPLANTED DUE TO NOISE OBSERVED O...</td>\n",
       "      <td>NaN</td>\n",
       "      <td>...</td>\n",
       "      <td>R</td>\n",
       "      <td>2009</td>\n",
       "      <td>ST. JUDE</td>\n",
       "      <td>STJUDE_RIATA</td>\n",
       "      <td>1</td>\n",
       "      <td>True</td>\n",
       "      <td>2009-05-09</td>\n",
       "      <td>both</td>\n",
       "      <td>the lead explant due nois observ the egm</td>\n",
       "      <td>31774</td>\n",
       "    </tr>\n",
       "  </tbody>\n",
       "</table>\n",
       "<p>5 rows × 46 columns</p>\n",
       "</div>"
      ],
      "text/plain": [
       "   0 PRED    IND MDR_REPORT_KEY MDR_TEXT_KEY TEXT_TYPE_CODE  \\\n",
       "0  0    0   9915        1411042      1268339              D   \n",
       "1  0    0   9915        1955154      1783281              D   \n",
       "2  0    0   9915        1718127      1630396              D   \n",
       "3  2    2  31774        2775649      3069072              D   \n",
       "4  2    2  31774        1376996     21368292              D   \n",
       "\n",
       "  PATIENT_SEQUENCE_NUMBER DATE_REPORT  \\\n",
       "0                       1         NaN   \n",
       "1                       1         NaN   \n",
       "2                       1         NaN   \n",
       "3                       1         NaN   \n",
       "4                       1         NaN   \n",
       "\n",
       "                                            FOI_TEXT  textLen  ...  \\\n",
       "0       IT WAS REPORTED THAT THE LEAD WAS DISLODGED.      NaN  ...   \n",
       "1  IT WAS REPORTED THAT THE LEAD WAS EXPLANTED DU...      NaN  ...   \n",
       "2  IT WAS REPORTED THAT DURING THE IMPLANT PROCED...      NaN  ...   \n",
       "3  BOSTON SCIENTIFIC RECEIVED INFORMATION THAT TH...      NaN  ...   \n",
       "4  THE LEAD WAS EXPLANTED DUE TO NOISE OBSERVED O...      NaN  ...   \n",
       "\n",
       "  DEVICE_EVALUATED_BY_MANUFACTUR  year   STD_MANUFACTURER  \\\n",
       "0                              Y  2009           ST. JUDE   \n",
       "1                              R  2011           ST. JUDE   \n",
       "2                              Y  2010          MEDTRONIC   \n",
       "3                              R  2012  BOSTON SCIENTIFIC   \n",
       "4                              R  2009           ST. JUDE   \n",
       "\n",
       "                        STD_DEVICE RECALL_CLASS Before2013   CENSORED _merge  \\\n",
       "0                    STJUDE_DURATA            0       True 2009-07-09   both   \n",
       "1                  STJUDE_RIATA_ST            1       True 2011-01-10   both   \n",
       "2  MEDTRONIC_SPRINT_QUATTRO_SECURE            2       True 2010-06-10   both   \n",
       "3        BOS_SCI_ENDOTAK_ENDURANCE            0       True 2012-10-08   both   \n",
       "4                     STJUDE_RIATA            1       True 2009-05-09   both   \n",
       "\n",
       "                                      CLEAN_FOI_TEXT   IND2  \n",
       "0                         it report the lead dislodg   9915  \n",
       "1             it report the lead explant due dislodg   9915  \n",
       "2  it report dure implant procedur helix would ex...   9915  \n",
       "3  mfgid receiv inform thi chloric rv lead di dev...  31774  \n",
       "4           the lead explant due nois observ the egm  31774  \n",
       "\n",
       "[5 rows x 46 columns]"
      ]
     },
     "execution_count": 53,
     "metadata": {},
     "output_type": "execute_result"
    }
   ],
   "source": [
    "odfsame[\"IND2\"] = odfsame.index\n",
    "dfNB_randforM = dfNB_randfor.merge(odfsame, left_on=\"IND\", right_on=\"IND2\")\n",
    "dfNB_randforM.head()"
   ]
  },
  {
   "cell_type": "code",
   "execution_count": 74,
   "id": "a9fed483",
   "metadata": {},
   "outputs": [
    {
     "data": {
      "text/html": [
       "<div>\n",
       "<style scoped>\n",
       "    .dataframe tbody tr th:only-of-type {\n",
       "        vertical-align: middle;\n",
       "    }\n",
       "\n",
       "    .dataframe tbody tr th {\n",
       "        vertical-align: top;\n",
       "    }\n",
       "\n",
       "    .dataframe thead th {\n",
       "        text-align: right;\n",
       "    }\n",
       "</style>\n",
       "<table border=\"1\" class=\"dataframe\">\n",
       "  <thead>\n",
       "    <tr style=\"text-align: right;\">\n",
       "      <th></th>\n",
       "      <th>RECALL1</th>\n",
       "      <th>RECALL2</th>\n",
       "      <th>TOTAL</th>\n",
       "      <th>RECALLTOTAL</th>\n",
       "      <th>RECALLPERCENTAGE</th>\n",
       "    </tr>\n",
       "  </thead>\n",
       "  <tbody>\n",
       "    <tr>\n",
       "      <th>BIOTRONIK_LUMAX</th>\n",
       "      <td>231</td>\n",
       "      <td>227.0</td>\n",
       "      <td>808</td>\n",
       "      <td>458.0</td>\n",
       "      <td>0.566832</td>\n",
       "    </tr>\n",
       "    <tr>\n",
       "      <th>STJUDE_QUICKFLEX</th>\n",
       "      <td>199</td>\n",
       "      <td>211.0</td>\n",
       "      <td>711</td>\n",
       "      <td>410.0</td>\n",
       "      <td>0.576653</td>\n",
       "    </tr>\n",
       "    <tr>\n",
       "      <th>BOS_SCI_ENDOTAK_RELIANCE</th>\n",
       "      <td>2266</td>\n",
       "      <td>2266.0</td>\n",
       "      <td>7780</td>\n",
       "      <td>4532.0</td>\n",
       "      <td>0.582519</td>\n",
       "    </tr>\n",
       "    <tr>\n",
       "      <th>BIOTRONIK_LINOX</th>\n",
       "      <td>359</td>\n",
       "      <td>393.0</td>\n",
       "      <td>1260</td>\n",
       "      <td>752.0</td>\n",
       "      <td>0.596825</td>\n",
       "    </tr>\n",
       "    <tr>\n",
       "      <th>BOS_SCI_ENDOTAK_ENDURANCE</th>\n",
       "      <td>218</td>\n",
       "      <td>237.0</td>\n",
       "      <td>750</td>\n",
       "      <td>455.0</td>\n",
       "      <td>0.606667</td>\n",
       "    </tr>\n",
       "    <tr>\n",
       "      <th>MEDTRONIC_SPRINT_QUATTRO</th>\n",
       "      <td>667</td>\n",
       "      <td>788.0</td>\n",
       "      <td>2286</td>\n",
       "      <td>1455.0</td>\n",
       "      <td>0.636483</td>\n",
       "    </tr>\n",
       "    <tr>\n",
       "      <th>BOS_SCI_ENDOTAK_DSP</th>\n",
       "      <td>233</td>\n",
       "      <td>221.0</td>\n",
       "      <td>689</td>\n",
       "      <td>454.0</td>\n",
       "      <td>0.658926</td>\n",
       "    </tr>\n",
       "    <tr>\n",
       "      <th>STJUDE_DURATA</th>\n",
       "      <td>1979</td>\n",
       "      <td>1397.0</td>\n",
       "      <td>5037</td>\n",
       "      <td>3376.0</td>\n",
       "      <td>0.670240</td>\n",
       "    </tr>\n",
       "    <tr>\n",
       "      <th>MEDTRONIC_SPRINT</th>\n",
       "      <td>637</td>\n",
       "      <td>762.0</td>\n",
       "      <td>2033</td>\n",
       "      <td>1399.0</td>\n",
       "      <td>0.688146</td>\n",
       "    </tr>\n",
       "    <tr>\n",
       "      <th>MEDTRONIC_TRANSVENE</th>\n",
       "      <td>366</td>\n",
       "      <td>467.0</td>\n",
       "      <td>1186</td>\n",
       "      <td>833.0</td>\n",
       "      <td>0.702361</td>\n",
       "    </tr>\n",
       "    <tr>\n",
       "      <th>STJUDE_RIATA_ST</th>\n",
       "      <td>2346</td>\n",
       "      <td>2125.0</td>\n",
       "      <td>5904</td>\n",
       "      <td>4471.0</td>\n",
       "      <td>0.757283</td>\n",
       "    </tr>\n",
       "    <tr>\n",
       "      <th>STJUDE_RIATA</th>\n",
       "      <td>7115</td>\n",
       "      <td>6566.0</td>\n",
       "      <td>17994</td>\n",
       "      <td>13681.0</td>\n",
       "      <td>0.760309</td>\n",
       "    </tr>\n",
       "    <tr>\n",
       "      <th>MEDTRONIC_SPRINT_QUATTRO_SECURE</th>\n",
       "      <td>9937</td>\n",
       "      <td>10128.0</td>\n",
       "      <td>26333</td>\n",
       "      <td>20065.0</td>\n",
       "      <td>0.761972</td>\n",
       "    </tr>\n",
       "    <tr>\n",
       "      <th>SORIN_ISOLINE</th>\n",
       "      <td>975</td>\n",
       "      <td>1008.0</td>\n",
       "      <td>2563</td>\n",
       "      <td>1983.0</td>\n",
       "      <td>0.773703</td>\n",
       "    </tr>\n",
       "    <tr>\n",
       "      <th>MEDTRONIC_SPRINT_FIDELIS</th>\n",
       "      <td>1948</td>\n",
       "      <td>1924.0</td>\n",
       "      <td>4985</td>\n",
       "      <td>3872.0</td>\n",
       "      <td>0.776730</td>\n",
       "    </tr>\n",
       "    <tr>\n",
       "      <th>STJUDE_RIATA_ST_OPTIM</th>\n",
       "      <td>388</td>\n",
       "      <td>236.0</td>\n",
       "      <td>798</td>\n",
       "      <td>624.0</td>\n",
       "      <td>0.781955</td>\n",
       "    </tr>\n",
       "  </tbody>\n",
       "</table>\n",
       "</div>"
      ],
      "text/plain": [
       "                                 RECALL1  RECALL2  TOTAL  RECALLTOTAL  \\\n",
       "BIOTRONIK_LUMAX                      231    227.0    808        458.0   \n",
       "STJUDE_QUICKFLEX                     199    211.0    711        410.0   \n",
       "BOS_SCI_ENDOTAK_RELIANCE            2266   2266.0   7780       4532.0   \n",
       "BIOTRONIK_LINOX                      359    393.0   1260        752.0   \n",
       "BOS_SCI_ENDOTAK_ENDURANCE            218    237.0    750        455.0   \n",
       "MEDTRONIC_SPRINT_QUATTRO             667    788.0   2286       1455.0   \n",
       "BOS_SCI_ENDOTAK_DSP                  233    221.0    689        454.0   \n",
       "STJUDE_DURATA                       1979   1397.0   5037       3376.0   \n",
       "MEDTRONIC_SPRINT                     637    762.0   2033       1399.0   \n",
       "MEDTRONIC_TRANSVENE                  366    467.0   1186        833.0   \n",
       "STJUDE_RIATA_ST                     2346   2125.0   5904       4471.0   \n",
       "STJUDE_RIATA                        7115   6566.0  17994      13681.0   \n",
       "MEDTRONIC_SPRINT_QUATTRO_SECURE     9937  10128.0  26333      20065.0   \n",
       "SORIN_ISOLINE                        975   1008.0   2563       1983.0   \n",
       "MEDTRONIC_SPRINT_FIDELIS            1948   1924.0   4985       3872.0   \n",
       "STJUDE_RIATA_ST_OPTIM                388    236.0    798        624.0   \n",
       "\n",
       "                                 RECALLPERCENTAGE  \n",
       "BIOTRONIK_LUMAX                          0.566832  \n",
       "STJUDE_QUICKFLEX                         0.576653  \n",
       "BOS_SCI_ENDOTAK_RELIANCE                 0.582519  \n",
       "BIOTRONIK_LINOX                          0.596825  \n",
       "BOS_SCI_ENDOTAK_ENDURANCE                0.606667  \n",
       "MEDTRONIC_SPRINT_QUATTRO                 0.636483  \n",
       "BOS_SCI_ENDOTAK_DSP                      0.658926  \n",
       "STJUDE_DURATA                            0.670240  \n",
       "MEDTRONIC_SPRINT                         0.688146  \n",
       "MEDTRONIC_TRANSVENE                      0.702361  \n",
       "STJUDE_RIATA_ST                          0.757283  \n",
       "STJUDE_RIATA                             0.760309  \n",
       "MEDTRONIC_SPRINT_QUATTRO_SECURE          0.761972  \n",
       "SORIN_ISOLINE                            0.773703  \n",
       "MEDTRONIC_SPRINT_FIDELIS                 0.776730  \n",
       "STJUDE_RIATA_ST_OPTIM                    0.781955  "
      ]
     },
     "execution_count": 74,
     "metadata": {},
     "output_type": "execute_result"
    }
   ],
   "source": [
    "dfNB_randforM2 = pd.DataFrame(dfNB_randforM[dfNB_randforM[\"PRED\"] == \"1\"]['STD_DEVICE'].value_counts())\n",
    "dfNB_randforM2.rename({\"STD_DEVICE\":\"RECALL1\"}, axis=1, inplace=True)\n",
    "dfNB_randforM2[\"RECALL2\"] = pd.DataFrame(dfNB_randforM[dfNB_randforM[\"PRED\"] == \"2\"]['STD_DEVICE'].value_counts())\n",
    "dfNB_randforM2[\"TOTAL\"] = pd.DataFrame(dfNB_randforM['STD_DEVICE'].value_counts())\n",
    "dfNB_randforM2[\"RECALLTOTAL\"] = pd.DataFrame(dfNB_randforM2[\"RECALL2\"]+dfNB_randforM2[\"RECALL1\"])\n",
    "dfNB_randforM2[\"RECALLPERCENTAGE\"] = pd.DataFrame(dfNB_randforM2[\"RECALLTOTAL\"]/dfNB_randforM2[\"TOTAL\"])\n",
    "dfNB_randforM2[dfNB_randforM2[\"TOTAL\"] > 500].sort_values(by=\"RECALLPERCENTAGE\")"
   ]
  },
  {
   "cell_type": "code",
   "execution_count": 70,
   "id": "fcc0abff",
   "metadata": {},
   "outputs": [
    {
     "data": {
      "text/html": [
       "<div>\n",
       "<style scoped>\n",
       "    .dataframe tbody tr th:only-of-type {\n",
       "        vertical-align: middle;\n",
       "    }\n",
       "\n",
       "    .dataframe tbody tr th {\n",
       "        vertical-align: top;\n",
       "    }\n",
       "\n",
       "    .dataframe thead th {\n",
       "        text-align: right;\n",
       "    }\n",
       "</style>\n",
       "<table border=\"1\" class=\"dataframe\">\n",
       "  <thead>\n",
       "    <tr style=\"text-align: right;\">\n",
       "      <th></th>\n",
       "      <th>RECALL1</th>\n",
       "      <th>RECALL2</th>\n",
       "      <th>TOTAL</th>\n",
       "      <th>RECALLTOTAL</th>\n",
       "      <th>RECALLPERCENTAGE</th>\n",
       "    </tr>\n",
       "  </thead>\n",
       "  <tbody>\n",
       "    <tr>\n",
       "      <th>MEDTRONIC_SPRINT_QUATTRO_SECURE</th>\n",
       "      <td>9937</td>\n",
       "      <td>10128.0</td>\n",
       "      <td>26333</td>\n",
       "      <td>20065.0</td>\n",
       "      <td>0.761972</td>\n",
       "    </tr>\n",
       "    <tr>\n",
       "      <th>STJUDE_RIATA</th>\n",
       "      <td>7115</td>\n",
       "      <td>6566.0</td>\n",
       "      <td>17994</td>\n",
       "      <td>13681.0</td>\n",
       "      <td>0.760309</td>\n",
       "    </tr>\n",
       "    <tr>\n",
       "      <th>STJUDE_RIATA_ST</th>\n",
       "      <td>2346</td>\n",
       "      <td>2125.0</td>\n",
       "      <td>5904</td>\n",
       "      <td>4471.0</td>\n",
       "      <td>0.757283</td>\n",
       "    </tr>\n",
       "    <tr>\n",
       "      <th>BOS_SCI_ENDOTAK_RELIANCE</th>\n",
       "      <td>2266</td>\n",
       "      <td>2266.0</td>\n",
       "      <td>7780</td>\n",
       "      <td>4532.0</td>\n",
       "      <td>0.582519</td>\n",
       "    </tr>\n",
       "    <tr>\n",
       "      <th>STJUDE_DURATA</th>\n",
       "      <td>1979</td>\n",
       "      <td>1397.0</td>\n",
       "      <td>5037</td>\n",
       "      <td>3376.0</td>\n",
       "      <td>0.670240</td>\n",
       "    </tr>\n",
       "  </tbody>\n",
       "</table>\n",
       "</div>"
      ],
      "text/plain": [
       "                                 RECALL1  RECALL2  TOTAL  RECALLTOTAL  \\\n",
       "MEDTRONIC_SPRINT_QUATTRO_SECURE     9937  10128.0  26333      20065.0   \n",
       "STJUDE_RIATA                        7115   6566.0  17994      13681.0   \n",
       "STJUDE_RIATA_ST                     2346   2125.0   5904       4471.0   \n",
       "BOS_SCI_ENDOTAK_RELIANCE            2266   2266.0   7780       4532.0   \n",
       "STJUDE_DURATA                       1979   1397.0   5037       3376.0   \n",
       "\n",
       "                                 RECALLPERCENTAGE  \n",
       "MEDTRONIC_SPRINT_QUATTRO_SECURE          0.761972  \n",
       "STJUDE_RIATA                             0.760309  \n",
       "STJUDE_RIATA_ST                          0.757283  \n",
       "BOS_SCI_ENDOTAK_RELIANCE                 0.582519  \n",
       "STJUDE_DURATA                            0.670240  "
      ]
     },
     "execution_count": 70,
     "metadata": {},
     "output_type": "execute_result"
    }
   ],
   "source": []
  },
  {
   "cell_type": "code",
   "execution_count": null,
   "id": "60e8653c",
   "metadata": {},
   "outputs": [],
   "source": []
  }
 ],
 "metadata": {
  "kernelspec": {
   "display_name": "Python 3",
   "language": "python",
   "name": "python3"
  },
  "language_info": {
   "codemirror_mode": {
    "name": "ipython",
    "version": 3
   },
   "file_extension": ".py",
   "mimetype": "text/x-python",
   "name": "python",
   "nbconvert_exporter": "python",
   "pygments_lexer": "ipython3",
   "version": "3.8.8"
  }
 },
 "nbformat": 4,
 "nbformat_minor": 5
}
