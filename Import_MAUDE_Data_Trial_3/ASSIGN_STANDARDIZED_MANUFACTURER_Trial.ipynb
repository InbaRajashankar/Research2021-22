{
 "cells": [
  {
   "cell_type": "code",
   "execution_count": 1,
   "id": "a8508002",
   "metadata": {},
   "outputs": [
    {
     "data": {
      "text/plain": [
       "131072"
      ]
     },
     "execution_count": 1,
     "metadata": {},
     "output_type": "execute_result"
    }
   ],
   "source": [
    "import numpy as np\n",
    "import pandas as pd\n",
    "import numpy as np\n",
    "import pandas as pd\n",
    "import sys\n",
    "import csv\n",
    "import functools\n",
    "from functools import reduce\n",
    "import seaborn as sns\n",
    "import matplotlib.pyplot as plt\n",
    "\n",
    "csv.field_size_limit(1000000000000000000)"
   ]
  },
  {
   "cell_type": "code",
   "execution_count": 2,
   "id": "72e02c6d",
   "metadata": {},
   "outputs": [],
   "source": [
    "MASDEV = pd.read_pickle(\"./3_MASTER_DEVICE_File.pkl\")"
   ]
  },
  {
   "cell_type": "code",
   "execution_count": 3,
   "id": "f2fd0f75",
   "metadata": {},
   "outputs": [
    {
     "data": {
      "text/plain": [
       "(433946, 30)"
      ]
     },
     "execution_count": 3,
     "metadata": {},
     "output_type": "execute_result"
    }
   ],
   "source": [
    "MASDEV.shape"
   ]
  },
  {
   "cell_type": "code",
   "execution_count": 4,
   "id": "3c9b0dc4",
   "metadata": {},
   "outputs": [
    {
     "name": "stdout",
     "output_type": "stream",
     "text": [
      "MDR_REPORT_KEY\n",
      "REPORT_NUMBER\n",
      "REPORT_SOURCE_CODE\n",
      "MANUFACTURER_LINK_FLAG_\n",
      "ADVERSE_EVENT_FLAG\n",
      "PRODUCT_PROBLEM_FLAG\n",
      "DATE_OF_EVENT\n",
      "REPORTER_OCCUPATION_CODE\n",
      "HEALTH_PROFESSIONAL\n",
      "INITIAL_REPORT_TO_FDA\n",
      "REPORT_TO_FDA\n",
      "EVENT_LOCATION\n",
      "EVENT_TYPE\n",
      "TYPE_OF_REPORT\n",
      "DATE_ADDED\n",
      "DATE_CHANGED\n",
      "REPORTER_COUNTRY_CODE\n",
      "SUMMARY_REPORT\n",
      "DEVICE_SEQUENCE_NO\n",
      "DATE_RECEIVED\n",
      "BRAND_NAME\n",
      "GENERIC_NAME\n",
      "MANUFACTURER_D_NAME\n",
      "DEVICE_OPERATOR\n",
      "MODEL_NUMBER\n",
      "DEVICE_REPORT_PRODUCT_CODE\n",
      "DEVICE_AGE_TEXT\n",
      "DEVICE_EVALUATED_BY_MANUFACTUR\n",
      "DEVICE_SEQUENCE_NO\n",
      "year\n"
     ]
    },
    {
     "data": {
      "text/plain": [
       "30"
      ]
     },
     "execution_count": 4,
     "metadata": {},
     "output_type": "execute_result"
    }
   ],
   "source": [
    "# find columns to use for a manufacturer identifier and device identifier\n",
    "masdevCols = []\n",
    "\n",
    "for col in MASDEV:\n",
    "    masdevCols.append(str(col))\n",
    "    print(col)\n",
    "len(masdevCols)"
   ]
  },
  {
   "cell_type": "code",
   "execution_count": 5,
   "id": "03ace382",
   "metadata": {},
   "outputs": [],
   "source": [
    "# can be used for manufacturer identifier: MANUFACTURER_D_NAME\n",
    "# can be used for product identifier: BRAND_NAME, GENERIC_NAME, MODEL_NUMBER"
   ]
  },
  {
   "cell_type": "code",
   "execution_count": 6,
   "id": "03dce48b",
   "metadata": {},
   "outputs": [
    {
     "data": {
      "text/plain": [
       "(743, 2)"
      ]
     },
     "execution_count": 6,
     "metadata": {},
     "output_type": "execute_result"
    }
   ],
   "source": [
    "manufacCounts = MASDEV['MANUFACTURER_D_NAME'].value_counts(normalize=True).to_frame()\n",
    "manufacCounts['count'] = MASDEV['MANUFACTURER_D_NAME'].value_counts()\n",
    "manufacCounts.shape"
   ]
  },
  {
   "cell_type": "code",
   "execution_count": 7,
   "id": "788a2570",
   "metadata": {},
   "outputs": [
    {
     "data": {
      "text/html": [
       "<div>\n",
       "<style scoped>\n",
       "    .dataframe tbody tr th:only-of-type {\n",
       "        vertical-align: middle;\n",
       "    }\n",
       "\n",
       "    .dataframe tbody tr th {\n",
       "        vertical-align: top;\n",
       "    }\n",
       "\n",
       "    .dataframe thead th {\n",
       "        text-align: right;\n",
       "    }\n",
       "</style>\n",
       "<table border=\"1\" class=\"dataframe\">\n",
       "  <thead>\n",
       "    <tr style=\"text-align: right;\">\n",
       "      <th></th>\n",
       "      <th>MANUFACTURER_D_NAME</th>\n",
       "      <th>count</th>\n",
       "    </tr>\n",
       "  </thead>\n",
       "  <tbody>\n",
       "    <tr>\n",
       "      <th>SORIN GROUP ITALIA S.R.L.</th>\n",
       "      <td>0.000378</td>\n",
       "      <td>164</td>\n",
       "    </tr>\n",
       "    <tr>\n",
       "      <th>OSCOR</th>\n",
       "      <td>0.000355</td>\n",
       "      <td>154</td>\n",
       "    </tr>\n",
       "    <tr>\n",
       "      <th>BIOTRONIK SE &amp; CO KG</th>\n",
       "      <td>0.000346</td>\n",
       "      <td>150</td>\n",
       "    </tr>\n",
       "    <tr>\n",
       "      <th>ANGEION CORP.</th>\n",
       "      <td>0.000339</td>\n",
       "      <td>147</td>\n",
       "    </tr>\n",
       "    <tr>\n",
       "      <th>MEDTRONIC INC</th>\n",
       "      <td>0.000328</td>\n",
       "      <td>142</td>\n",
       "    </tr>\n",
       "    <tr>\n",
       "      <th>SORIN BIOMEDICA C.R.M., S.R.L.</th>\n",
       "      <td>0.000318</td>\n",
       "      <td>138</td>\n",
       "    </tr>\n",
       "    <tr>\n",
       "      <th>CARDIAC PACEMAKERS, INC.</th>\n",
       "      <td>0.000314</td>\n",
       "      <td>136</td>\n",
       "    </tr>\n",
       "    <tr>\n",
       "      <th>ST. JUDE MEDICAL INC. CRMD</th>\n",
       "      <td>0.000311</td>\n",
       "      <td>135</td>\n",
       "    </tr>\n",
       "    <tr>\n",
       "      <th>CLONMEL</th>\n",
       "      <td>0.000305</td>\n",
       "      <td>132</td>\n",
       "    </tr>\n",
       "    <tr>\n",
       "      <th>ELA MEDICAL, S.A.S.</th>\n",
       "      <td>0.000279</td>\n",
       "      <td>121</td>\n",
       "    </tr>\n",
       "    <tr>\n",
       "      <th>GUIDANT CORPORATION</th>\n",
       "      <td>0.000272</td>\n",
       "      <td>118</td>\n",
       "    </tr>\n",
       "    <tr>\n",
       "      <th>BIOTRONIK GMBH AND CO</th>\n",
       "      <td>0.000261</td>\n",
       "      <td>113</td>\n",
       "    </tr>\n",
       "    <tr>\n",
       "      <th>ST JUDE MEDICAL</th>\n",
       "      <td>0.000258</td>\n",
       "      <td>112</td>\n",
       "    </tr>\n",
       "    <tr>\n",
       "      <th>MEDTRONIC S.A. (SMO)</th>\n",
       "      <td>0.000249</td>\n",
       "      <td>108</td>\n",
       "    </tr>\n",
       "    <tr>\n",
       "      <th>ST. JUDE MEDICAL, CARDIAC RHYTHM MANAGEMENT DIVISI</th>\n",
       "      <td>0.000235</td>\n",
       "      <td>102</td>\n",
       "    </tr>\n",
       "    <tr>\n",
       "      <th>SORIN C.R.M., S.R.L.</th>\n",
       "      <td>0.000233</td>\n",
       "      <td>101</td>\n",
       "    </tr>\n",
       "  </tbody>\n",
       "</table>\n",
       "</div>"
      ],
      "text/plain": [
       "                                                    MANUFACTURER_D_NAME  count\n",
       "SORIN GROUP ITALIA S.R.L.                                      0.000378    164\n",
       "OSCOR                                                          0.000355    154\n",
       "BIOTRONIK SE & CO KG                                           0.000346    150\n",
       "ANGEION CORP.                                                  0.000339    147\n",
       "MEDTRONIC INC                                                  0.000328    142\n",
       "SORIN BIOMEDICA C.R.M., S.R.L.                                 0.000318    138\n",
       "CARDIAC PACEMAKERS, INC.                                       0.000314    136\n",
       "ST. JUDE MEDICAL INC. CRMD                                     0.000311    135\n",
       "CLONMEL                                                        0.000305    132\n",
       "ELA MEDICAL, S.A.S.                                            0.000279    121\n",
       "GUIDANT CORPORATION                                            0.000272    118\n",
       "BIOTRONIK GMBH AND CO                                          0.000261    113\n",
       "ST JUDE MEDICAL                                                0.000258    112\n",
       "MEDTRONIC S.A. (SMO)                                           0.000249    108\n",
       "ST. JUDE MEDICAL, CARDIAC RHYTHM MANAGEMENT DIVISI             0.000235    102\n",
       "SORIN C.R.M., S.R.L.                                           0.000233    101"
      ]
     },
     "execution_count": 7,
     "metadata": {},
     "output_type": "execute_result"
    }
   ],
   "source": [
    "manufacCounts[manufacCounts['count'] >= 100].iloc[50:]"
   ]
  },
  {
   "cell_type": "code",
   "execution_count": 8,
   "id": "1d69d59a",
   "metadata": {},
   "outputs": [
    {
     "data": {
      "text/html": [
       "<div>\n",
       "<style scoped>\n",
       "    .dataframe tbody tr th:only-of-type {\n",
       "        vertical-align: middle;\n",
       "    }\n",
       "\n",
       "    .dataframe tbody tr th {\n",
       "        vertical-align: top;\n",
       "    }\n",
       "\n",
       "    .dataframe thead th {\n",
       "        text-align: right;\n",
       "    }\n",
       "</style>\n",
       "<table border=\"1\" class=\"dataframe\">\n",
       "  <thead>\n",
       "    <tr style=\"text-align: right;\">\n",
       "      <th></th>\n",
       "      <th>MDR_REPORT_KEY</th>\n",
       "      <th>REPORT_NUMBER</th>\n",
       "      <th>REPORT_SOURCE_CODE</th>\n",
       "      <th>MANUFACTURER_LINK_FLAG_</th>\n",
       "      <th>ADVERSE_EVENT_FLAG</th>\n",
       "      <th>PRODUCT_PROBLEM_FLAG</th>\n",
       "      <th>DATE_OF_EVENT</th>\n",
       "      <th>REPORTER_OCCUPATION_CODE</th>\n",
       "      <th>HEALTH_PROFESSIONAL</th>\n",
       "      <th>INITIAL_REPORT_TO_FDA</th>\n",
       "      <th>...</th>\n",
       "      <th>GENERIC_NAME</th>\n",
       "      <th>MANUFACTURER_D_NAME</th>\n",
       "      <th>DEVICE_OPERATOR</th>\n",
       "      <th>MODEL_NUMBER</th>\n",
       "      <th>DEVICE_REPORT_PRODUCT_CODE</th>\n",
       "      <th>DEVICE_AGE_TEXT</th>\n",
       "      <th>DEVICE_EVALUATED_BY_MANUFACTUR</th>\n",
       "      <th>DEVICE_SEQUENCE_NO</th>\n",
       "      <th>year</th>\n",
       "      <th>STD_MANUFACTURER</th>\n",
       "    </tr>\n",
       "  </thead>\n",
       "  <tbody>\n",
       "    <tr>\n",
       "      <th>0</th>\n",
       "      <td>257484</td>\n",
       "      <td>2938836-2000-00003</td>\n",
       "      <td>M</td>\n",
       "      <td>Y</td>\n",
       "      <td>Y</td>\n",
       "      <td>N</td>\n",
       "      <td>12/07/1999</td>\n",
       "      <td>001</td>\n",
       "      <td>Y</td>\n",
       "      <td>N</td>\n",
       "      <td>...</td>\n",
       "      <td>IMPLANTABLE CARDIAC DEFIBRILLATOR</td>\n",
       "      <td>ST. JUDE MEDICAL, INC., CRMD</td>\n",
       "      <td>0HP</td>\n",
       "      <td>V-105C</td>\n",
       "      <td>LWS</td>\n",
       "      <td>3 YR</td>\n",
       "      <td>Y</td>\n",
       "      <td>1</td>\n",
       "      <td>2000</td>\n",
       "      <td>ST. JUDE MEDICAL, INC., CRMD</td>\n",
       "    </tr>\n",
       "    <tr>\n",
       "      <th>1</th>\n",
       "      <td>257721</td>\n",
       "      <td>MW1017857</td>\n",
       "      <td>P</td>\n",
       "      <td>N</td>\n",
       "      <td>N</td>\n",
       "      <td>Y</td>\n",
       "      <td>12/10/1999</td>\n",
       "      <td>000</td>\n",
       "      <td>Y</td>\n",
       "      <td>NaN</td>\n",
       "      <td>...</td>\n",
       "      <td>IMPLANTABLE CARDIOVERTER DEFIBRILLATOR</td>\n",
       "      <td>ST. JUDE MEDICAL</td>\n",
       "      <td>0HP</td>\n",
       "      <td>V-175-C</td>\n",
       "      <td>LWS</td>\n",
       "      <td>NaN</td>\n",
       "      <td>NaN</td>\n",
       "      <td>1</td>\n",
       "      <td>2000</td>\n",
       "      <td>ST. JUDE MEDICAL</td>\n",
       "    </tr>\n",
       "    <tr>\n",
       "      <th>2</th>\n",
       "      <td>257784</td>\n",
       "      <td>257784</td>\n",
       "      <td>U</td>\n",
       "      <td>N</td>\n",
       "      <td>N</td>\n",
       "      <td>Y</td>\n",
       "      <td>12/07/1999</td>\n",
       "      <td>500</td>\n",
       "      <td>Y</td>\n",
       "      <td>Y</td>\n",
       "      <td>...</td>\n",
       "      <td>IMPLANTABLE CARDIAC DEFIBRILLATOR</td>\n",
       "      <td>MEDTRONIC, INC.</td>\n",
       "      <td>0HP</td>\n",
       "      <td>7271</td>\n",
       "      <td>LWS</td>\n",
       "      <td>*</td>\n",
       "      <td>NaN</td>\n",
       "      <td>1</td>\n",
       "      <td>2000</td>\n",
       "      <td>MEDTRONIC, INC.</td>\n",
       "    </tr>\n",
       "    <tr>\n",
       "      <th>3</th>\n",
       "      <td>257800</td>\n",
       "      <td>2938836-2000-00002</td>\n",
       "      <td>M</td>\n",
       "      <td>Y</td>\n",
       "      <td>Y</td>\n",
       "      <td>N</td>\n",
       "      <td>12/08/1999</td>\n",
       "      <td>001</td>\n",
       "      <td>Y</td>\n",
       "      <td>N</td>\n",
       "      <td>...</td>\n",
       "      <td>IMPLANTABLE CARDIAC DEFIBRILLATOR</td>\n",
       "      <td>ST. JUDE MEDICAL, INC., CRMD</td>\n",
       "      <td>0HP</td>\n",
       "      <td>V-175C</td>\n",
       "      <td>LWS</td>\n",
       "      <td>9 MO</td>\n",
       "      <td>Y</td>\n",
       "      <td>1</td>\n",
       "      <td>2000</td>\n",
       "      <td>ST. JUDE MEDICAL, INC., CRMD</td>\n",
       "    </tr>\n",
       "    <tr>\n",
       "      <th>4</th>\n",
       "      <td>257801</td>\n",
       "      <td>2938836-2000-00004</td>\n",
       "      <td>M</td>\n",
       "      <td>Y</td>\n",
       "      <td>Y</td>\n",
       "      <td>N</td>\n",
       "      <td>11/05/1999</td>\n",
       "      <td>001</td>\n",
       "      <td>Y</td>\n",
       "      <td>N</td>\n",
       "      <td>...</td>\n",
       "      <td>IMPLANTABLE CARDIAC DEFIBRILLATOR</td>\n",
       "      <td>ST. JUDE MEDICAL, INC., CRMD</td>\n",
       "      <td>0HP</td>\n",
       "      <td>V-190HV3</td>\n",
       "      <td>LWS</td>\n",
       "      <td>2 YR</td>\n",
       "      <td>Y</td>\n",
       "      <td>1</td>\n",
       "      <td>2000</td>\n",
       "      <td>ST. JUDE MEDICAL, INC., CRMD</td>\n",
       "    </tr>\n",
       "  </tbody>\n",
       "</table>\n",
       "<p>5 rows × 31 columns</p>\n",
       "</div>"
      ],
      "text/plain": [
       "  MDR_REPORT_KEY       REPORT_NUMBER REPORT_SOURCE_CODE  \\\n",
       "0         257484  2938836-2000-00003                  M   \n",
       "1         257721           MW1017857                  P   \n",
       "2         257784              257784                  U   \n",
       "3         257800  2938836-2000-00002                  M   \n",
       "4         257801  2938836-2000-00004                  M   \n",
       "\n",
       "  MANUFACTURER_LINK_FLAG_ ADVERSE_EVENT_FLAG PRODUCT_PROBLEM_FLAG  \\\n",
       "0                       Y                  Y                    N   \n",
       "1                       N                  N                    Y   \n",
       "2                       N                  N                    Y   \n",
       "3                       Y                  Y                    N   \n",
       "4                       Y                  Y                    N   \n",
       "\n",
       "  DATE_OF_EVENT REPORTER_OCCUPATION_CODE HEALTH_PROFESSIONAL  \\\n",
       "0    12/07/1999                      001                   Y   \n",
       "1    12/10/1999                      000                   Y   \n",
       "2    12/07/1999                      500                   Y   \n",
       "3    12/08/1999                      001                   Y   \n",
       "4    11/05/1999                      001                   Y   \n",
       "\n",
       "  INITIAL_REPORT_TO_FDA  ...                            GENERIC_NAME  \\\n",
       "0                     N  ...       IMPLANTABLE CARDIAC DEFIBRILLATOR   \n",
       "1                   NaN  ...  IMPLANTABLE CARDIOVERTER DEFIBRILLATOR   \n",
       "2                     Y  ...       IMPLANTABLE CARDIAC DEFIBRILLATOR   \n",
       "3                     N  ...       IMPLANTABLE CARDIAC DEFIBRILLATOR   \n",
       "4                     N  ...       IMPLANTABLE CARDIAC DEFIBRILLATOR   \n",
       "\n",
       "            MANUFACTURER_D_NAME DEVICE_OPERATOR MODEL_NUMBER  \\\n",
       "0  ST. JUDE MEDICAL, INC., CRMD             0HP       V-105C   \n",
       "1              ST. JUDE MEDICAL             0HP      V-175-C   \n",
       "2               MEDTRONIC, INC.             0HP         7271   \n",
       "3  ST. JUDE MEDICAL, INC., CRMD             0HP       V-175C   \n",
       "4  ST. JUDE MEDICAL, INC., CRMD             0HP     V-190HV3   \n",
       "\n",
       "  DEVICE_REPORT_PRODUCT_CODE DEVICE_AGE_TEXT DEVICE_EVALUATED_BY_MANUFACTUR  \\\n",
       "0                        LWS            3 YR                              Y   \n",
       "1                        LWS             NaN                            NaN   \n",
       "2                        LWS               *                            NaN   \n",
       "3                        LWS            9 MO                              Y   \n",
       "4                        LWS            2 YR                              Y   \n",
       "\n",
       "  DEVICE_SEQUENCE_NO  year              STD_MANUFACTURER  \n",
       "0                  1  2000  ST. JUDE MEDICAL, INC., CRMD  \n",
       "1                  1  2000              ST. JUDE MEDICAL  \n",
       "2                  1  2000               MEDTRONIC, INC.  \n",
       "3                  1  2000  ST. JUDE MEDICAL, INC., CRMD  \n",
       "4                  1  2000  ST. JUDE MEDICAL, INC., CRMD  \n",
       "\n",
       "[5 rows x 31 columns]"
      ]
     },
     "execution_count": 8,
     "metadata": {},
     "output_type": "execute_result"
    }
   ],
   "source": [
    "# create  STD_MANUFACTURER\n",
    "MASDEV[\"STD_MANUFACTURER\"] = MASDEV[\"MANUFACTURER_D_NAME\"]\n",
    "MASDEV.head()"
   ]
  },
  {
   "cell_type": "code",
   "execution_count": 9,
   "id": "968b0c3e",
   "metadata": {},
   "outputs": [],
   "source": [
    "# create induvidual manufacturer dfs\n",
    "# run twice to make sure all have the same length (for merging)"
   ]
  },
  {
   "cell_type": "code",
   "execution_count": 40,
   "id": "d6da8448",
   "metadata": {},
   "outputs": [
    {
     "data": {
      "text/plain": [
       "(46085, 47)"
      ]
     },
     "execution_count": 40,
     "metadata": {},
     "output_type": "execute_result"
    }
   ],
   "source": [
    "MASDEV[\"MPRI_MADE\"] = pd.DataFrame(MASDEV['MANUFACTURER_D_NAME'].str.contains('MPRI', regex=False))\n",
    "MASDEV_MPRI = MASDEV[MASDEV[\"MPRI_MADE\"] == True]\n",
    "MASDEV_MPRI = MASDEV_MPRI.assign(STD_MANUFACTURER='MEDTRONIC')\n",
    "MASDEV_MPRI.shape"
   ]
  },
  {
   "cell_type": "code",
   "execution_count": 41,
   "id": "31eedfb4",
   "metadata": {},
   "outputs": [
    {
     "data": {
      "text/plain": [
       "(44720, 47)"
      ]
     },
     "execution_count": 41,
     "metadata": {},
     "output_type": "execute_result"
    }
   ],
   "source": [
    "MASDEV[\"GUIDANT_MADE\"] = pd.DataFrame(MASDEV['MANUFACTURER_D_NAME'].str.contains('GUIDANT', regex=False))\n",
    "MASDEV_GUIDANT = MASDEV[MASDEV[\"GUIDANT_MADE\"] == True]\n",
    "MASDEV_GUIDANT = MASDEV_GUIDANT.assign(STD_MANUFACTURER='BOSTON SCIENTIFIC')\n",
    "MASDEV_GUIDANT.shape"
   ]
  },
  {
   "cell_type": "code",
   "execution_count": 42,
   "id": "959d6b98",
   "metadata": {},
   "outputs": [
    {
     "data": {
      "text/plain": [
       "(142433, 47)"
      ]
     },
     "execution_count": 42,
     "metadata": {},
     "output_type": "execute_result"
    }
   ],
   "source": [
    "# FIX THIS\n",
    "MASDEV[\"ST. JUDE_MADE\"] = pd.DataFrame(MASDEV['MANUFACTURER_D_NAME'].str.contains('ST', regex=False) &\n",
    "                                      MASDEV['MANUFACTURER_D_NAME'].str.contains('JUDE', regex=False))\n",
    "MASDEV_StJUDE = MASDEV[MASDEV[\"ST. JUDE_MADE\"] == True]\n",
    "MASDEV_StJUDE = MASDEV_StJUDE.assign(STD_MANUFACTURER='ST. JUDE')\n",
    "MASDEV_StJUDE.shape"
   ]
  },
  {
   "cell_type": "code",
   "execution_count": 43,
   "id": "74962a1b",
   "metadata": {},
   "outputs": [
    {
     "data": {
      "text/plain": [
       "(29526, 47)"
      ]
     },
     "execution_count": 43,
     "metadata": {},
     "output_type": "execute_result"
    }
   ],
   "source": [
    "MASDEV[\"CPI_MADE\"] = pd.DataFrame(MASDEV['MANUFACTURER_D_NAME'].str.contains('CPI ', regex=False))\n",
    "MASDEV_CPI = MASDEV[MASDEV[\"CPI_MADE\"] == True]\n",
    "MASDEV_CPI = MASDEV_CPI.assign(STD_MANUFACTURER='BOSTON SCIENTIFIC')\n",
    "MASDEV_CPI.shape"
   ]
  },
  {
   "cell_type": "code",
   "execution_count": 44,
   "id": "8da4e5b3",
   "metadata": {},
   "outputs": [
    {
     "data": {
      "text/plain": [
       "(90290, 47)"
      ]
     },
     "execution_count": 44,
     "metadata": {},
     "output_type": "execute_result"
    }
   ],
   "source": [
    "MASDEV[\"MEDTRONIC_MADE\"] = pd.DataFrame(MASDEV['MANUFACTURER_D_NAME'].str.contains('MEDTRONIC', regex=False))\n",
    "MASDEV_MEDTRONIC = MASDEV[MASDEV[\"MEDTRONIC_MADE\"] == True]\n",
    "MASDEV_MEDTRONIC = MASDEV_MEDTRONIC.assign(STD_MANUFACTURER='MEDTRONIC')\n",
    "MASDEV_MEDTRONIC.shape"
   ]
  },
  {
   "cell_type": "code",
   "execution_count": 45,
   "id": "ec8edba0",
   "metadata": {},
   "outputs": [
    {
     "data": {
      "text/plain": [
       "(26836, 47)"
      ]
     },
     "execution_count": 45,
     "metadata": {},
     "output_type": "execute_result"
    }
   ],
   "source": [
    "MASDEV[\"CARDIAC PACEMAKERS_MADE\"] = pd.DataFrame(MASDEV['MANUFACTURER_D_NAME'].str.contains('CARDIAC PACEMAKERS', regex=False))\n",
    "MASDEV_CARDIACPACEMAKERS = MASDEV[MASDEV[\"CARDIAC PACEMAKERS_MADE\"] == True]\n",
    "MASDEV_CARDIACPACEMAKERS = MASDEV_CARDIACPACEMAKERS.assign(STD_MANUFACTURER='BOSTON SCIENTIFIC')\n",
    "MASDEV_CARDIACPACEMAKERS.shape"
   ]
  },
  {
   "cell_type": "code",
   "execution_count": 46,
   "id": "06774da9",
   "metadata": {},
   "outputs": [
    {
     "data": {
      "text/plain": [
       "(15960, 47)"
      ]
     },
     "execution_count": 46,
     "metadata": {},
     "output_type": "execute_result"
    }
   ],
   "source": [
    "MASDEV[\"BOSTON SCIENTIFIC_MADE\"] = pd.DataFrame(MASDEV['MANUFACTURER_D_NAME'].str.contains('BOSTON SCIENTIFIC', regex=False))\n",
    "MASDEV_BOSTONSCIENTIFIC = MASDEV[MASDEV[\"BOSTON SCIENTIFIC_MADE\"] == True]\n",
    "MASDEV_BOSTONSCIENTIFIC = MASDEV_BOSTONSCIENTIFIC.assign(STD_MANUFACTURER='BOSTON SCIENTIFIC')\n",
    "MASDEV_BOSTONSCIENTIFIC.shape"
   ]
  },
  {
   "cell_type": "code",
   "execution_count": 47,
   "id": "5b6542ca",
   "metadata": {},
   "outputs": [
    {
     "data": {
      "text/plain": [
       "(17189, 47)"
      ]
     },
     "execution_count": 47,
     "metadata": {},
     "output_type": "execute_result"
    }
   ],
   "source": [
    "MASDEV[\"BIOTRONIK_MADE\"] = pd.DataFrame(MASDEV['MANUFACTURER_D_NAME'].str.contains('BIOTRONIK', regex=False))\n",
    "MASDEV_BIOTRONIK = MASDEV[MASDEV[\"BIOTRONIK_MADE\"] == True]\n",
    "MASDEV_BIOTRONIK = MASDEV_BIOTRONIK.assign(STD_MANUFACTURER='BIOTRONIK')\n",
    "MASDEV_BIOTRONIK.shape"
   ]
  },
  {
   "cell_type": "code",
   "execution_count": 48,
   "id": "bafff62a",
   "metadata": {},
   "outputs": [
    {
     "data": {
      "text/plain": [
       "(6111, 47)"
      ]
     },
     "execution_count": 48,
     "metadata": {},
     "output_type": "execute_result"
    }
   ],
   "source": [
    "MASDEV[\"IPG MFG_MADE\"] = pd.DataFrame(MASDEV['MANUFACTURER_D_NAME'].str.contains('IPG', regex=False))\n",
    "MASDEV_IPGMFG = MASDEV[MASDEV[\"IPG MFG_MADE\"] == True]\n",
    "MASDEV_IPGMFG = MASDEV_IPGMFG.assign(STD_MANUFACTURER='IPG MFG')\n",
    "MASDEV_IPGMFG.shape"
   ]
  },
  {
   "cell_type": "code",
   "execution_count": 49,
   "id": "1dc25804",
   "metadata": {},
   "outputs": [
    {
     "data": {
      "text/plain": [
       "(4560, 47)"
      ]
     },
     "execution_count": 49,
     "metadata": {},
     "output_type": "execute_result"
    }
   ],
   "source": [
    "MASDEV[\"ABBOTT_MADE\"] = pd.DataFrame(MASDEV['MANUFACTURER_D_NAME'].str.contains('ABBOTT', regex=False))\n",
    "MASDEV_ABBOTT = MASDEV[MASDEV[\"ABBOTT_MADE\"] == True]\n",
    "MASDEV_ABBOTT = MASDEV_ABBOTT.assign(STD_MANUFACTURER='ABBOTT')\n",
    "MASDEV_ABBOTT.shape"
   ]
  },
  {
   "cell_type": "code",
   "execution_count": 50,
   "id": "11e137ca",
   "metadata": {},
   "outputs": [
    {
     "data": {
      "text/plain": [
       "(2541, 47)"
      ]
     },
     "execution_count": 50,
     "metadata": {},
     "output_type": "execute_result"
    }
   ],
   "source": [
    "MASDEV[\"CAMERON HEALTH_MADE\"] = pd.DataFrame(MASDEV['MANUFACTURER_D_NAME'].str.contains('CAMERON HEALTH', regex=False))\n",
    "MASDEV_CAMERONHEALTH = MASDEV[MASDEV[\"CAMERON HEALTH_MADE\"] == True]\n",
    "MASDEV_CAMERONHEALTH = MASDEV_CAMERONHEALTH.assign(STD_MANUFACTURER='CAMERON HEALTH')\n",
    "MASDEV_CAMERONHEALTH.shape"
   ]
  },
  {
   "cell_type": "code",
   "execution_count": 51,
   "id": "c6514732",
   "metadata": {},
   "outputs": [
    {
     "data": {
      "text/plain": [
       "(3579, 47)"
      ]
     },
     "execution_count": 51,
     "metadata": {},
     "output_type": "execute_result"
    }
   ],
   "source": [
    "MASDEV[\"SORIN_MADE\"] = pd.DataFrame(MASDEV['MANUFACTURER_D_NAME'].str.contains('SORIN', regex=False))\n",
    "MASDEV_SORIN = MASDEV[MASDEV[\"SORIN_MADE\"] == True]\n",
    "MASDEV_SORIN = MASDEV_SORIN.assign(STD_MANUFACTURER='SORIN')\n",
    "MASDEV_SORIN.shape"
   ]
  },
  {
   "cell_type": "code",
   "execution_count": 52,
   "id": "7e1e77d6",
   "metadata": {},
   "outputs": [
    {
     "data": {
      "text/plain": [
       "(560, 47)"
      ]
     },
     "execution_count": 52,
     "metadata": {},
     "output_type": "execute_result"
    }
   ],
   "source": [
    "MASDEV[\"ELA_MADE\"] = pd.DataFrame(MASDEV['MANUFACTURER_D_NAME'].str.contains('ELA ', regex=False))\n",
    "MASDEV_ELA = MASDEV[MASDEV[\"ELA_MADE\"] == True]\n",
    "MASDEV_ELA = MASDEV_ELA.assign(STD_MANUFACTURER='SORIN')\n",
    "MASDEV_ELA.shape"
   ]
  },
  {
   "cell_type": "code",
   "execution_count": 53,
   "id": "77f5f2bd",
   "metadata": {},
   "outputs": [
    {
     "data": {
      "text/plain": [
       "(213, 47)"
      ]
     },
     "execution_count": 53,
     "metadata": {},
     "output_type": "execute_result"
    }
   ],
   "source": [
    "MASDEV[\"RICE CREEK_MADE\"] = pd.DataFrame(MASDEV['MANUFACTURER_D_NAME'].str.contains('RICE CREEK', regex=False))\n",
    "MASDEV_RICECREEK = MASDEV[MASDEV[\"RICE CREEK_MADE\"] == True]\n",
    "MASDEV_RICECREEK = MASDEV_RICECREEK.assign(STD_MANUFACTURER='MEDTRONIC')\n",
    "MASDEV_RICECREEK.shape"
   ]
  },
  {
   "cell_type": "code",
   "execution_count": 54,
   "id": "dfe92261",
   "metadata": {},
   "outputs": [
    {
     "data": {
      "text/plain": [
       "(246, 47)"
      ]
     },
     "execution_count": 54,
     "metadata": {},
     "output_type": "execute_result"
    }
   ],
   "source": [
    "MASDEV[\"OSCOR_MADE\"] = pd.DataFrame(MASDEV['MANUFACTURER_D_NAME'].str.contains('OSCOR', regex=False))\n",
    "MASDEV_OSCOR = MASDEV[MASDEV[\"OSCOR_MADE\"] == True]\n",
    "MASDEV_OSCOR = MASDEV_OSCOR.assign(STD_MANUFACTURER='OSCOR')\n",
    "MASDEV_OSCOR.shape"
   ]
  },
  {
   "cell_type": "code",
   "execution_count": 55,
   "id": "7712e984",
   "metadata": {},
   "outputs": [
    {
     "data": {
      "text/plain": [
       "(254, 47)"
      ]
     },
     "execution_count": 55,
     "metadata": {},
     "output_type": "execute_result"
    }
   ],
   "source": [
    "MASDEV[\"ANGEION_MADE\"] = pd.DataFrame(MASDEV['MANUFACTURER_D_NAME'].str.contains('ANGEION', regex=False))\n",
    "MASDEV_ANGEION = MASDEV[MASDEV[\"ANGEION_MADE\"] == True]\n",
    "MASDEV_ANGEION = MASDEV_ANGEION.assign(STD_MANUFACTURER='ANGEION')\n",
    "MASDEV_ANGEION.shape"
   ]
  },
  {
   "cell_type": "code",
   "execution_count": 56,
   "id": "76c543e8",
   "metadata": {},
   "outputs": [
    {
     "name": "stdout",
     "output_type": "stream",
     "text": [
      "(46085, 47)\n"
     ]
    }
   ],
   "source": [
    "# append dfs together\n",
    "manufacDFList = [ \n",
    "                MASDEV_GUIDANT, MASDEV_StJUDE, MASDEV_CPI, MASDEV_MEDTRONIC, MASDEV_CARDIACPACEMAKERS,\n",
    "                MASDEV_BOSTONSCIENTIFIC, MASDEV_BIOTRONIK, MASDEV_IPGMFG, MASDEV_ABBOTT, MASDEV_CAMERONHEALTH,\n",
    "                MASDEV_SORIN, MASDEV_ELA, MASDEV_RICECREEK, MASDEV_OSCOR, MASDEV_ANGEION\n",
    "                ]\n",
    "\n",
    "MASDEV2 = MASDEV_MPRI\n",
    "print(MASDEV2.shape)"
   ]
  },
  {
   "cell_type": "code",
   "execution_count": 57,
   "id": "72156e47",
   "metadata": {},
   "outputs": [
    {
     "name": "stdout",
     "output_type": "stream",
     "text": [
      "(90805, 47)\n",
      "(233238, 47)\n",
      "(262764, 47)\n",
      "(353054, 47)\n",
      "(379890, 47)\n",
      "(395850, 47)\n",
      "(413039, 47)\n",
      "(419150, 47)\n",
      "(423710, 47)\n",
      "(426251, 47)\n",
      "(429830, 47)\n",
      "(430390, 47)\n",
      "(430603, 47)\n",
      "(430849, 47)\n",
      "(431103, 47)\n"
     ]
    }
   ],
   "source": [
    "for df in manufacDFList:\n",
    "    MASDEV2 = MASDEV2.append(df)\n",
    "    print(MASDEV2.shape)\n",
    "    #print(df.shape)"
   ]
  },
  {
   "cell_type": "code",
   "execution_count": 58,
   "id": "14170434",
   "metadata": {},
   "outputs": [
    {
     "data": {
      "text/plain": [
       "(431103, 47)"
      ]
     },
     "execution_count": 58,
     "metadata": {},
     "output_type": "execute_result"
    }
   ],
   "source": [
    "MASDEV2.shape"
   ]
  },
  {
   "cell_type": "code",
   "execution_count": 59,
   "id": "b556095a",
   "metadata": {},
   "outputs": [
    {
     "name": "stdout",
     "output_type": "stream",
     "text": [
      "there are 245 duplicate values in MASDEV2\n",
      "there are now 0 duplicate values in MASDEV2 after removal\n",
      "the shape of MASDEV2 is now: (430858, 47)\n"
     ]
    }
   ],
   "source": [
    "# drop duplicate report key values\n",
    "s=MASDEV2['MDR_REPORT_KEY'].duplicated(keep='first')\n",
    "indexDupeReportkey = s[s].index\n",
    "print(\"there are \" + str(len(indexDupeReportkey)) + \" duplicate values in MASDEV2\")\n",
    "\n",
    "MASDEV2 = MASDEV2.drop_duplicates(subset=['MDR_REPORT_KEY'], keep='first')\n",
    "\n",
    "s=MASDEV2['MDR_REPORT_KEY'].duplicated(keep='first')\n",
    "indexDupeReportkey = s[s].index\n",
    "print(\"there are now \" + str(len(indexDupeReportkey)) + \" duplicate values in MASDEV2 after removal\")\n",
    "print(\"the shape of MASDEV2 is now: \" + str(MASDEV2.shape))"
   ]
  },
  {
   "cell_type": "code",
   "execution_count": 60,
   "id": "a1af8cdf",
   "metadata": {},
   "outputs": [
    {
     "name": "stdout",
     "output_type": "stream",
     "text": [
      "the shape of MASDEV2 is: (430858, 47)\n",
      "the shape of MASDEV2 after column removal is: (430858, 30)\n",
      "Index(['MDR_REPORT_KEY', 'REPORT_NUMBER', 'REPORT_SOURCE_CODE',\n",
      "       'MANUFACTURER_LINK_FLAG_', 'ADVERSE_EVENT_FLAG', 'PRODUCT_PROBLEM_FLAG',\n",
      "       'DATE_OF_EVENT', 'REPORTER_OCCUPATION_CODE', 'HEALTH_PROFESSIONAL',\n",
      "       'INITIAL_REPORT_TO_FDA', 'REPORT_TO_FDA', 'EVENT_LOCATION',\n",
      "       'EVENT_TYPE', 'TYPE_OF_REPORT', 'DATE_ADDED', 'DATE_CHANGED',\n",
      "       'REPORTER_COUNTRY_CODE', 'SUMMARY_REPORT', 'DEVICE_SEQUENCE_NO',\n",
      "       'DEVICE_SEQUENCE_NO', 'DATE_RECEIVED', 'BRAND_NAME', 'GENERIC_NAME',\n",
      "       'DEVICE_OPERATOR', 'MODEL_NUMBER', 'DEVICE_REPORT_PRODUCT_CODE',\n",
      "       'DEVICE_AGE_TEXT', 'DEVICE_EVALUATED_BY_MANUFACTUR', 'year',\n",
      "       'STD_MANUFACTURER'],\n",
      "      dtype='object')\n"
     ]
    }
   ],
   "source": [
    "# remove unwanted columns\n",
    "print(\"the shape of MASDEV2 is: \" + str(MASDEV2.shape))\n",
    "\n",
    "keptCols = ['MDR_REPORT_KEY',\n",
    "            'REPORT_NUMBER',\n",
    "            'REPORT_SOURCE_CODE',\n",
    "            'MANUFACTURER_LINK_FLAG_',\n",
    "            'ADVERSE_EVENT_FLAG',\n",
    "            'PRODUCT_PROBLEM_FLAG',\n",
    "            'DATE_OF_EVENT',\n",
    "            'REPORTER_OCCUPATION_CODE',\n",
    "            'HEALTH_PROFESSIONAL',\n",
    "            'INITIAL_REPORT_TO_FDA',\n",
    "            'REPORT_TO_FDA',\n",
    "            'EVENT_LOCATION',\n",
    "            'EVENT_TYPE',\n",
    "            'TYPE_OF_REPORT',\n",
    "            'DATE_ADDED',\n",
    "            'DATE_CHANGED',\n",
    "            'REPORTER_COUNTRY_CODE',\n",
    "            'SUMMARY_REPORT',\n",
    "            'DEVICE_SEQUENCE_NO',\n",
    "            'DATE_RECEIVED',\n",
    "            'BRAND_NAME',\n",
    "            'GENERIC_NAME',\n",
    "            'DEVICE_OPERATOR',\n",
    "            'MODEL_NUMBER',\n",
    "            'DEVICE_REPORT_PRODUCT_CODE',\n",
    "            'DEVICE_AGE_TEXT',\n",
    "            'DEVICE_EVALUATED_BY_MANUFACTUR',\n",
    "            'year',\n",
    "            'STD_MANUFACTURER']\n",
    "\n",
    "MASDEV2 = MASDEV2[keptCols]\n",
    "print(\"the shape of MASDEV2 after column removal is: \" + str(MASDEV2.shape))\n",
    "print(MASDEV2.columns)"
   ]
  },
  {
   "cell_type": "code",
   "execution_count": 61,
   "id": "f266affc",
   "metadata": {},
   "outputs": [],
   "source": [
    "MASDEV2.to_pickle(\"./3_MASTER_DEVICE_File_wSTDMANUFAC.pkl\")"
   ]
  }
 ],
 "metadata": {
  "kernelspec": {
   "display_name": "Python 3",
   "language": "python",
   "name": "python3"
  },
  "language_info": {
   "codemirror_mode": {
    "name": "ipython",
    "version": 3
   },
   "file_extension": ".py",
   "mimetype": "text/x-python",
   "name": "python",
   "nbconvert_exporter": "python",
   "pygments_lexer": "ipython3",
   "version": "3.8.8"
  }
 },
 "nbformat": 4,
 "nbformat_minor": 5
}
