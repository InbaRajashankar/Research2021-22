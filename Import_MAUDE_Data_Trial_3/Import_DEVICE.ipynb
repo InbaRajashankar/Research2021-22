{
 "cells": [
  {
   "cell_type": "code",
   "execution_count": 45,
   "id": "a4086263",
   "metadata": {},
   "outputs": [
    {
     "data": {
      "text/plain": [
       "1000000000000000000"
      ]
     },
     "execution_count": 45,
     "metadata": {},
     "output_type": "execute_result"
    }
   ],
   "source": [
    "import numpy as np\n",
    "import pandas as pd\n",
    "import numpy as np\n",
    "import pandas as pd\n",
    "import sys\n",
    "import csv\n",
    "import functools\n",
    "from functools import reduce\n",
    "import seaborn as sns\n",
    "import matplotlib.pyplot as plt\n",
    "\n",
    "csv.field_size_limit(1000000000000000000)"
   ]
  },
  {
   "cell_type": "code",
   "execution_count": 2,
   "id": "aa7d8ef0",
   "metadata": {},
   "outputs": [],
   "source": [
    "# importing the yearly device files as dataframes\n",
    "device2000 = pd.read_csv('DEVICE2000.txt', sep=\"|\", header = 0, dtype=str, engine='python', quoting=3)\n",
    "device2001 = pd.read_csv('DEVICE2001.txt', sep=\"|\", header = 0, dtype=str, engine='python', quoting=3)\n",
    "device2002 = pd.read_csv('DEVICE2002.txt', sep=\"|\", header = 0, dtype=str, engine='python', quoting=3)\n",
    "device2003 = pd.read_csv('DEVICE2003.txt', sep=\"|\", header = 0, dtype=str, engine='python', quoting=3)\n",
    "device2004 = pd.read_csv('DEVICE2004.txt', sep=\"|\", header = 0, dtype=str, engine='python', quoting=3)\n",
    "device2005 = pd.read_csv('DEVICE2005.txt', sep=\"|\", header = 0, dtype=str, engine='python', quoting=3)\n",
    "device2006 = pd.read_csv('DEVICE2006.txt', sep=\"|\", header = 0, dtype=str, engine='python', quoting=3)\n",
    "device2007 = pd.read_csv('DEVICE2007.txt', sep=\"|\", header = 0, dtype=str, engine='python', quoting=3)\n",
    "device2008 = pd.read_csv('DEVICE2008.txt', sep=\"|\", header = 0, dtype=str, engine='python', quoting=3)\n",
    "device2009 = pd.read_csv('DEVICE2009.txt', sep=\"|\", header = 0, dtype=str, engine='python', quoting=3)\n",
    "device2010 = pd.read_csv('DEVICE2010.txt', sep=\"|\", header = 0, dtype=str, engine='python', quoting=3)\n",
    "device2011 = pd.read_csv('DEVICE2011.txt', sep=\"|\", header = 0, dtype=str, engine='python', quoting=3)\n",
    "device2012 = pd.read_csv('DEVICE2012.txt', sep=\"|\", header = 0, dtype=str, engine='python', quoting=3)\n",
    "device2013 = pd.read_csv('DEVICE2013.txt', sep=\"|\", header = 0, dtype=str, engine='python', quoting=3)\n",
    "device2014 = pd.read_csv('DEVICE2014.txt', sep=\"|\", header = 0, dtype=str, engine='python', quoting=3)\n",
    "device2015 = pd.read_csv('DEVICE2015.txt', sep=\"|\", header = 0, dtype=str, engine='python', quoting=3)\n",
    "device2016 = pd.read_csv('DEVICE2016.txt', sep=\"|\", header = 0, dtype=str, engine='python', quoting=3)\n",
    "device2017 = pd.read_csv('DEVICE2017.txt', sep=\"|\", header = 0, dtype=str, engine='python', quoting=3)\n",
    "device2018 = pd.read_csv('DEVICE2018.txt', sep=\"|\", header = 0, dtype=str, engine='python', quoting=3)\n",
    "device2019 = pd.read_csv('DEVICE2019.txt', sep=\"|\", header = 0, dtype=str, engine='python', quoting=3)\n",
    "device2020 = pd.read_csv('DEVICE2020.txt', sep=\"|\", header = 0, dtype=str, engine='python', quoting=3)"
   ]
  },
  {
   "cell_type": "code",
   "execution_count": 3,
   "id": "f47a901c",
   "metadata": {},
   "outputs": [],
   "source": [
    "# joining the yearly device files\n",
    "DEVICE = device2000\n",
    "deviceYearlyFiles = [device2001,device2002,device2003,device2004,device2005,device2006,device2007,device2008,device2009,\n",
    "          device2010,device2011,device2012,device2013,device2014,device2015,device2016,device2017,device2018,device2019,\n",
    "          device2020]\n",
    "for yearlyFile in deviceYearlyFiles:\n",
    "    DEVICE = DEVICE.append(yearlyFile)"
   ]
  },
  {
   "cell_type": "code",
   "execution_count": 4,
   "id": "27f77f27",
   "metadata": {},
   "outputs": [
    {
     "name": "stdout",
     "output_type": "stream",
     "text": [
      "MDR_REPORT_KEY\n",
      "DEVICE_EVENT_KEY\n",
      "IMPLANT_FLAG\n",
      "DATE_REMOVED_FLAG\n",
      "DEVICE_SEQUENCE_NO\n",
      "DATE_RECEIVED\n",
      "BRAND_NAME\n",
      "GENERIC_NAME\n",
      "MANUFACTURER_D_NAME\n",
      "MANUFACTURER_D_ADDRESS_1\n",
      "MANUFACTURER_D_ADDRESS_2\n",
      "MANUFACTURER_D_CITY\n",
      "MANUFACTURER_D_STATE_CODE\n",
      "MANUFACTURER_D_ZIP_CODE\n",
      "MANUFACTURER_D_ZIP_CODE_EXT\n",
      "MANUFACTURER_D_COUNTRY_CODE\n",
      "MANUFACTURER_D_POSTAL_CODE\n",
      "DEVICE_OPERATOR\n",
      "EXPIRATION_DATE_OF_DEVICE\n",
      "MODEL_NUMBER\n",
      "CATALOG_NUMBER\n",
      "LOT_NUMBER\n",
      "OTHER_ID_NUMBER\n",
      "DEVICE_AVAILABILITY\n",
      "DATE_RETURNED_TO_MANUFACTURER\n",
      "DEVICE_REPORT_PRODUCT_CODE\n",
      "DEVICE_AGE_TEXT\n",
      "DEVICE_EVALUATED_BY_MANUFACTUR\n",
      "COMBINATION_PRODUCT_FLAG\n"
     ]
    }
   ],
   "source": [
    "for col in DEVICE.columns:\n",
    "    print(col)"
   ]
  },
  {
   "cell_type": "code",
   "execution_count": 14,
   "id": "2c87cd1f",
   "metadata": {},
   "outputs": [
    {
     "data": {
      "text/plain": [
       "LWS    237839\n",
       "NIK    107783\n",
       "NVY     83869\n",
       "MRM      4989\n",
       "Name: DEVICE_REPORT_PRODUCT_CODE, dtype: int64"
      ]
     },
     "execution_count": 14,
     "metadata": {},
     "output_type": "execute_result"
    }
   ],
   "source": [
    "# remove all entries that are not in cohort 1\n",
    "dfLWS = DEVICE[DEVICE['DEVICE_REPORT_PRODUCT_CODE']=='LWS']\n",
    "dfMRM = DEVICE[DEVICE['DEVICE_REPORT_PRODUCT_CODE']=='MRM']\n",
    "dfNIK = DEVICE[DEVICE['DEVICE_REPORT_PRODUCT_CODE']=='NIK']\n",
    "dfNVY = DEVICE[DEVICE['DEVICE_REPORT_PRODUCT_CODE']=='NVY']    \n",
    "\n",
    "DEVICE = pd.concat([dfLWS, dfMRM, dfNIK, dfNVY])\n",
    "DEVICE['DEVICE_REPORT_PRODUCT_CODE'].value_counts(dropna=False)"
   ]
  },
  {
   "cell_type": "code",
   "execution_count": 9,
   "id": "870222d4",
   "metadata": {},
   "outputs": [
    {
     "data": {
      "text/plain": [
       "DEXCOM G5 MOBILE CONTINUOUS GLUCOSE MONITORING SYSTEM    326644\n",
       "DEXCOM G6 CONTINUOUS GLUCOSE MONITORING SYSTEM           312282\n",
       "PARADIGM REAL-TIME REVEL INSULIN INFUSION PUMP           175166\n",
       "NaN                                                      141945\n",
       "SPECTRUM INFUSION PUMP                                   135495\n",
       "                                                          ...  \n",
       "CONFORM BINDER SUBMALAR FACIAL IMPLANT, SMALL                 1\n",
       "AIM-100                                                       1\n",
       "BIOMET ACET SHELL                                             1\n",
       "PULL PEG SD 20F PULL KIT                                      1\n",
       "UNKNOWN DEPUY 58X32MM POLY LINER                              1\n",
       "Name: BRAND_NAME, Length: 437705, dtype: int64"
      ]
     },
     "execution_count": 9,
     "metadata": {},
     "output_type": "execute_result"
    }
   ],
   "source": [
    "# find columns to keep and drop\n",
    "DEVICE['BRAND_NAME'].value_counts(dropna=False)"
   ]
  },
  {
   "cell_type": "code",
   "execution_count": 15,
   "id": "f90cf575",
   "metadata": {},
   "outputs": [],
   "source": [
    "# define columns to keep in DEVICE file\n",
    "keptCols = ['MDR_REPORT_KEY', 'DEVICE_SEQUENCE_NO','DATE_RECEIVED','BRAND_NAME','GENERIC_NAME'\n",
    "                , 'MANUFACTURER_D_NAME','DEVICE_OPERATOR','MODEL_NUMBER','DEVICE_REPORT_PRODUCT_CODE'\n",
    "                , 'DEVICE_AGE_TEXT','DEVICE_EVALUATED_BY_MANUFACTUR', 'DEVICE_SEQUENCE_NO']"
   ]
  },
  {
   "cell_type": "code",
   "execution_count": 17,
   "id": "742f5dc5",
   "metadata": {},
   "outputs": [],
   "source": [
    "DEVICE = DEVICE[keptCols]"
   ]
  },
  {
   "cell_type": "code",
   "execution_count": 40,
   "id": "4f4ba831",
   "metadata": {},
   "outputs": [
    {
     "data": {
      "text/plain": [
       "2014/01/13    4597\n",
       "2009/11/10    3274\n",
       "2008/05/08    3010\n",
       "2010/02/10    2642\n",
       "2009/05/08    2631\n",
       "              ... \n",
       "2004/10/28       1\n",
       "2007/12/12       1\n",
       "2008/10/07       1\n",
       "2013/03/10       1\n",
       "2004/01/30       1\n",
       "Name: DATE_RECEIVED, Length: 5508, dtype: int64"
      ]
     },
     "execution_count": 40,
     "metadata": {},
     "output_type": "execute_result"
    }
   ],
   "source": [
    "# working with the dates of reports\n",
    "DEVICE['DATE_RECEIVED'].value_counts(dropna=False)"
   ]
  },
  {
   "cell_type": "code",
   "execution_count": 41,
   "id": "4345c906",
   "metadata": {},
   "outputs": [
    {
     "data": {
      "text/plain": [
       "Int64Index([2000, 2000, 2000, 2000, 2000, 2000, 2000, 2000, 2000, 2000,\n",
       "            ...\n",
       "            2020, 2020, 2020, 2020, 2020, 2020, 2020, 2020, 2020, 2020],\n",
       "           dtype='int64', name='DATE_RECEIVED', length=434480)"
      ]
     },
     "execution_count": 41,
     "metadata": {},
     "output_type": "execute_result"
    }
   ],
   "source": [
    "pd.DatetimeIndex(DEVICE['DATE_RECEIVED']).year"
   ]
  },
  {
   "cell_type": "code",
   "execution_count": 42,
   "id": "ed0e4c41",
   "metadata": {},
   "outputs": [],
   "source": [
    "DEVICE['year'] = pd.DatetimeIndex(DEVICE['DATE_RECEIVED']).year"
   ]
  },
  {
   "cell_type": "code",
   "execution_count": 46,
   "id": "866b50bb",
   "metadata": {},
   "outputs": [
    {
     "data": {
      "text/html": [
       "<div>\n",
       "<style scoped>\n",
       "    .dataframe tbody tr th:only-of-type {\n",
       "        vertical-align: middle;\n",
       "    }\n",
       "\n",
       "    .dataframe tbody tr th {\n",
       "        vertical-align: top;\n",
       "    }\n",
       "\n",
       "    .dataframe thead th {\n",
       "        text-align: right;\n",
       "    }\n",
       "</style>\n",
       "<table border=\"1\" class=\"dataframe\">\n",
       "  <thead>\n",
       "    <tr style=\"text-align: right;\">\n",
       "      <th></th>\n",
       "      <th>MDR_REPORT_KEY</th>\n",
       "      <th>DEVICE_SEQUENCE_NO</th>\n",
       "      <th>DATE_RECEIVED</th>\n",
       "      <th>BRAND_NAME</th>\n",
       "      <th>GENERIC_NAME</th>\n",
       "      <th>MANUFACTURER_D_NAME</th>\n",
       "      <th>DEVICE_OPERATOR</th>\n",
       "      <th>MODEL_NUMBER</th>\n",
       "      <th>DEVICE_REPORT_PRODUCT_CODE</th>\n",
       "      <th>DEVICE_AGE_TEXT</th>\n",
       "      <th>DEVICE_EVALUATED_BY_MANUFACTUR</th>\n",
       "      <th>DEVICE_SEQUENCE_NO</th>\n",
       "      <th>year</th>\n",
       "    </tr>\n",
       "  </thead>\n",
       "  <tbody>\n",
       "    <tr>\n",
       "      <th>71</th>\n",
       "      <td>257484</td>\n",
       "      <td>1</td>\n",
       "      <td>2000/01/06</td>\n",
       "      <td>CADET V-105 SERIES TIERED THERAPY DEFIBRILLATOR</td>\n",
       "      <td>IMPLANTABLE CARDIAC DEFIBRILLATOR</td>\n",
       "      <td>ST. JUDE MEDICAL, INC., CRMD</td>\n",
       "      <td>0HP</td>\n",
       "      <td>V-105C</td>\n",
       "      <td>LWS</td>\n",
       "      <td>3 YR</td>\n",
       "      <td>Y</td>\n",
       "      <td>1</td>\n",
       "      <td>2000</td>\n",
       "    </tr>\n",
       "    <tr>\n",
       "      <th>197</th>\n",
       "      <td>257721</td>\n",
       "      <td>1</td>\n",
       "      <td>2000/01/06</td>\n",
       "      <td>VENTRITEX V-175-C</td>\n",
       "      <td>IMPLANTABLE CARDIOVERTER DEFIBRILLATOR</td>\n",
       "      <td>ST. JUDE MEDICAL</td>\n",
       "      <td>0HP</td>\n",
       "      <td>V-175-C</td>\n",
       "      <td>LWS</td>\n",
       "      <td>NaN</td>\n",
       "      <td>NaN</td>\n",
       "      <td>1</td>\n",
       "      <td>2000</td>\n",
       "    </tr>\n",
       "    <tr>\n",
       "      <th>252</th>\n",
       "      <td>257784</td>\n",
       "      <td>1</td>\n",
       "      <td>2000/01/04</td>\n",
       "      <td>MEDTRONIC ICD</td>\n",
       "      <td>IMPLANTABLE CARDIAC DEFIBRILLATOR</td>\n",
       "      <td>MEDTRONIC, INC.</td>\n",
       "      <td>0HP</td>\n",
       "      <td>7271</td>\n",
       "      <td>LWS</td>\n",
       "      <td>*</td>\n",
       "      <td>NaN</td>\n",
       "      <td>1</td>\n",
       "      <td>2000</td>\n",
       "    </tr>\n",
       "    <tr>\n",
       "      <th>267</th>\n",
       "      <td>257800</td>\n",
       "      <td>1</td>\n",
       "      <td>2000/02/29</td>\n",
       "      <td>CONTOUR MD V-175 SERIES TIERED THERAPY DEFIB.</td>\n",
       "      <td>IMPLANTABLE CARDIAC DEFIBRILLATOR</td>\n",
       "      <td>ST. JUDE MEDICAL, INC., CRMD</td>\n",
       "      <td>0HP</td>\n",
       "      <td>V-175C</td>\n",
       "      <td>LWS</td>\n",
       "      <td>9 MO</td>\n",
       "      <td>Y</td>\n",
       "      <td>1</td>\n",
       "      <td>2000</td>\n",
       "    </tr>\n",
       "    <tr>\n",
       "      <th>268</th>\n",
       "      <td>257801</td>\n",
       "      <td>1</td>\n",
       "      <td>2000/01/07</td>\n",
       "      <td>ANGSTROM MD SERIES TIERED THERAPY DEFIBRILLATOR</td>\n",
       "      <td>IMPLANTABLE CARDIAC DEFIBRILLATOR</td>\n",
       "      <td>ST. JUDE MEDICAL, INC., CRMD</td>\n",
       "      <td>0HP</td>\n",
       "      <td>V-190HV3</td>\n",
       "      <td>LWS</td>\n",
       "      <td>2 YR</td>\n",
       "      <td>Y</td>\n",
       "      <td>1</td>\n",
       "      <td>2000</td>\n",
       "    </tr>\n",
       "  </tbody>\n",
       "</table>\n",
       "</div>"
      ],
      "text/plain": [
       "    MDR_REPORT_KEY DEVICE_SEQUENCE_NO DATE_RECEIVED  \\\n",
       "71          257484                  1    2000/01/06   \n",
       "197         257721                  1    2000/01/06   \n",
       "252         257784                  1    2000/01/04   \n",
       "267         257800                  1    2000/02/29   \n",
       "268         257801                  1    2000/01/07   \n",
       "\n",
       "                                          BRAND_NAME  \\\n",
       "71   CADET V-105 SERIES TIERED THERAPY DEFIBRILLATOR   \n",
       "197                                VENTRITEX V-175-C   \n",
       "252                                    MEDTRONIC ICD   \n",
       "267    CONTOUR MD V-175 SERIES TIERED THERAPY DEFIB.   \n",
       "268  ANGSTROM MD SERIES TIERED THERAPY DEFIBRILLATOR   \n",
       "\n",
       "                               GENERIC_NAME           MANUFACTURER_D_NAME  \\\n",
       "71        IMPLANTABLE CARDIAC DEFIBRILLATOR  ST. JUDE MEDICAL, INC., CRMD   \n",
       "197  IMPLANTABLE CARDIOVERTER DEFIBRILLATOR              ST. JUDE MEDICAL   \n",
       "252       IMPLANTABLE CARDIAC DEFIBRILLATOR               MEDTRONIC, INC.   \n",
       "267       IMPLANTABLE CARDIAC DEFIBRILLATOR  ST. JUDE MEDICAL, INC., CRMD   \n",
       "268       IMPLANTABLE CARDIAC DEFIBRILLATOR  ST. JUDE MEDICAL, INC., CRMD   \n",
       "\n",
       "    DEVICE_OPERATOR MODEL_NUMBER DEVICE_REPORT_PRODUCT_CODE DEVICE_AGE_TEXT  \\\n",
       "71              0HP       V-105C                        LWS            3 YR   \n",
       "197             0HP      V-175-C                        LWS             NaN   \n",
       "252             0HP         7271                        LWS               *   \n",
       "267             0HP       V-175C                        LWS            9 MO   \n",
       "268             0HP     V-190HV3                        LWS            2 YR   \n",
       "\n",
       "    DEVICE_EVALUATED_BY_MANUFACTUR DEVICE_SEQUENCE_NO  year  \n",
       "71                               Y                  1  2000  \n",
       "197                            NaN                  1  2000  \n",
       "252                            NaN                  1  2000  \n",
       "267                              Y                  1  2000  \n",
       "268                              Y                  1  2000  "
      ]
     },
     "execution_count": 46,
     "metadata": {},
     "output_type": "execute_result"
    }
   ],
   "source": [
    "DEVICE.head()"
   ]
  },
  {
   "cell_type": "code",
   "execution_count": 91,
   "id": "97f55a35",
   "metadata": {},
   "outputs": [
    {
     "data": {
      "image/png": "[encoded data removed]",
      "text/plain": [
       "<Figure size 1080x720 with 1 Axes>"
      ]
     },
     "metadata": {
      "needs_background": "light"
     },
     "output_type": "display_data"
    }
   ],
   "source": [
    "plt.figure(figsize=(15,10))\n",
    "p = sns.histplot(\n",
    "    DEVICE,\n",
    "    x=\"year\",\n",
    "    hue='DEVICE_REPORT_PRODUCT_CODE',\n",
    "    multiple=\"stack\",\n",
    "    palette=\"muted\",\n",
    "    binwidth=1 \n",
    ")\n"
   ]
  },
  {
   "cell_type": "code",
   "execution_count": 93,
   "id": "54d88362",
   "metadata": {},
   "outputs": [
    {
     "data": {
      "text/plain": [
       "509"
      ]
     },
     "execution_count": 93,
     "metadata": {},
     "output_type": "execute_result"
    }
   ],
   "source": [
    "# drop duplicate report key values\n",
    "s=DEVICE['MDR_REPORT_KEY'].duplicated(keep='first')\n",
    "indexDupeReportkey = s[s].index\n",
    "len(indexDupeReportkey)"
   ]
  },
  {
   "cell_type": "code",
   "execution_count": 95,
   "id": "99348d35",
   "metadata": {},
   "outputs": [],
   "source": [
    "DEVICE= DEVICE.drop_duplicates(subset=['MDR_REPORT_KEY'], keep='first')"
   ]
  },
  {
   "cell_type": "code",
   "execution_count": 96,
   "id": "469d6d0b",
   "metadata": {},
   "outputs": [
    {
     "data": {
      "text/plain": [
       "0"
      ]
     },
     "execution_count": 96,
     "metadata": {},
     "output_type": "execute_result"
    }
   ],
   "source": [
    "s=DEVICE['MDR_REPORT_KEY'].duplicated(keep='first')\n",
    "indexDupeReportkey = s[s].index\n",
    "len(indexDupeReportkey)"
   ]
  },
  {
   "cell_type": "code",
   "execution_count": 97,
   "id": "44487e6a",
   "metadata": {},
   "outputs": [
    {
     "data": {
      "text/plain": [
       "(433971, 13)"
      ]
     },
     "execution_count": 97,
     "metadata": {},
     "output_type": "execute_result"
    }
   ],
   "source": [
    "DEVICE.shape"
   ]
  },
  {
   "cell_type": "code",
   "execution_count": 98,
   "id": "8fc9873d",
   "metadata": {},
   "outputs": [],
   "source": [
    "# pickle it\n",
    "DEVICE.to_pickle('./3_DEVICE_File.pkl')"
   ]
  },
  {
   "cell_type": "code",
   "execution_count": null,
   "id": "fbd4fd7d",
   "metadata": {},
   "outputs": [],
   "source": []
  }
 ],
 "metadata": {
  "kernelspec": {
   "display_name": "Python 3",
   "language": "python",
   "name": "python3"
  },
  "language_info": {
   "codemirror_mode": {
    "name": "ipython",
    "version": 3
   },
   "file_extension": ".py",
   "mimetype": "text/x-python",
   "name": "python",
   "nbconvert_exporter": "python",
   "pygments_lexer": "ipython3",
   "version": "3.8.8"
  }
 },
 "nbformat": 4,
 "nbformat_minor": 5
}
