{
 "cells": [
  {
   "cell_type": "code",
   "execution_count": 1,
   "id": "c739f0d9",
   "metadata": {},
   "outputs": [
    {
     "data": {
      "text/plain": [
       "131072"
      ]
     },
     "execution_count": 1,
     "metadata": {},
     "output_type": "execute_result"
    }
   ],
   "source": [
    "import numpy as np\n",
    "import pandas as pd\n",
    "import numpy as np\n",
    "import pandas as pd\n",
    "import sys\n",
    "import csv\n",
    "import functools\n",
    "from functools import reduce\n",
    "import seaborn as sns\n",
    "import matplotlib.pyplot as plt\n",
    "\n",
    "csv.field_size_limit(1000000000000000000)"
   ]
  },
  {
   "cell_type": "code",
   "execution_count": 2,
   "id": "e73babe2",
   "metadata": {},
   "outputs": [],
   "source": [
    "# importing the master file from a perviously piclkled dataframe\n",
    "MASTER = pd.read_pickle(\"./master.pkl\")"
   ]
  },
  {
   "cell_type": "code",
   "execution_count": 12,
   "id": "727d9d32",
   "metadata": {},
   "outputs": [
    {
     "name": "stdout",
     "output_type": "stream",
     "text": [
      "<class 'pandas.core.frame.DataFrame'>\n",
      "RangeIndex: 10800979 entries, 0 to 10800978\n",
      "Data columns (total 81 columns):\n",
      " #   Column                          Dtype \n",
      "---  ------                          ----- \n",
      " 0   MDR_REPORT_KEY                  object\n",
      " 1   EVENT_KEY                       object\n",
      " 2   REPORT_NUMBER                   object\n",
      " 3   REPORT_SOURCE_CODE              object\n",
      " 4   MANUFACTURER_LINK_FLAG_         object\n",
      " 5   NUMBER_DEVICES_IN_EVENT         object\n",
      " 6   NUMBER_PATIENTS_IN_EVENT        object\n",
      " 7   DATE_RECEIVED                   object\n",
      " 8   ADVERSE_EVENT_FLAG              object\n",
      " 9   PRODUCT_PROBLEM_FLAG            object\n",
      " 10  DATE_REPORT                     object\n",
      " 11  DATE_OF_EVENT                   object\n",
      " 12  REPROCESSED_AND_REUSED_FLAG     object\n",
      " 13  REPORTER_OCCUPATION_CODE        object\n",
      " 14  HEALTH_PROFESSIONAL             object\n",
      " 15  INITIAL_REPORT_TO_FDA           object\n",
      " 16  DATE_FACILITY_AWARE             object\n",
      " 17  REPORT_DATE                     object\n",
      " 18  REPORT_TO_FDA                   object\n",
      " 19  DATE_REPORT_TO_FDA              object\n",
      " 20  EVENT_LOCATION                  object\n",
      " 21  DATE_REPORT_TO_MANUFACTURER     object\n",
      " 22  MANUFACTURER_CONTACT_T_NAME     object\n",
      " 23  MANUFACTURER_CONTACT_F_NAME     object\n",
      " 24  MANUFACTURER_CONTACT_L_NAME     object\n",
      " 25  MANUFACTURER_CONTACT_STREET_1   object\n",
      " 26  MANUFACTURER_CONTACT_STREET_2   object\n",
      " 27  MANUFACTURER_CONTACT_CITY       object\n",
      " 28  MANUFACTURER_CONTACT_STATE      object\n",
      " 29  MANUFACTURER_CONTACT_ZIP_CODE   object\n",
      " 30  MANUFACTURER_CONTACT_ZIP_EXT    object\n",
      " 31  MANUFACTURER_CONTACT_COUNTRY    object\n",
      " 32  MANUFACTURER_CONTACT_POSTAL     object\n",
      " 33  MANUFACTURER_CONTACT_AREA_CODE  object\n",
      " 34  MANUFACTURER_CONTACT_EXCHANGE   object\n",
      " 35  MANUFACTURER_CONTACT_PHONE_NO   object\n",
      " 36  MANUFACTURER_CONTACT_EXTENSION  object\n",
      " 37  MANUFACTURER_CONTACT_PCOUNTRY   object\n",
      " 38  MANUFACTURER_CONTACT_PCITY      object\n",
      " 39  MANUFACTURER_CONTACT_PLOCAL     object\n",
      " 40  MANUFACTURER_G1_NAME            object\n",
      " 41  MANUFACTURER_G1_STREET_1        object\n",
      " 42  MANUFACTURER_G1_STREET_2        object\n",
      " 43  MANUFACTURER_G1_CITY            object\n",
      " 44  MANUFACTURER_G1_STATE_CODE      object\n",
      " 45  MANUFACTURER_G1_ZIP_CODE        object\n",
      " 46  MANUFACTURER_G1_ZIP_CODE_EXT    object\n",
      " 47  MANUFACTURER_G1_COUNTRY_CODE    object\n",
      " 48  MANUFACTURER_G1_POSTAL_CODE     object\n",
      " 49  DATE_MANUFACTURER_RECEIVED      object\n",
      " 50  DEVICE_DATE_OF_MANUFACTURE      object\n",
      " 51  SINGLE_USE_FLAG                 object\n",
      " 52  REMEDIAL_ACTION                 object\n",
      " 53  PREVIOUS_USE_CODE               object\n",
      " 54  REMOVAL_CORRECTION_NUMBER       object\n",
      " 55  EVENT_TYPE                      object\n",
      " 56  DISTRIBUTOR_NAME                object\n",
      " 57  DISTRIBUTOR_ADDRESS_1           object\n",
      " 58  DISTRIBUTOR_ADDRESS_2           object\n",
      " 59  DISTRIBUTOR_CITY                object\n",
      " 60  DISTRIBUTOR_STATE_CODE          object\n",
      " 61  DISTRIBUTOR_ZIP_CODE            object\n",
      " 62  DISTRIBUTOR_ZIP_CODE_EXT        object\n",
      " 63  REPORT_TO_MANUFACTURER          object\n",
      " 64  MANUFACTURER_NAME               object\n",
      " 65  MANUFACTURER_ADDRESS_1          object\n",
      " 66  MANUFACTURER_ADDRESS_2          object\n",
      " 67  MANUFACTURER_CITY               object\n",
      " 68  MANUFACTURER_STATE_CODE         object\n",
      " 69  MANUFACTURER_ZIP_CODE           object\n",
      " 70  MANUFACTURER_ZIP_CODE_EXT       object\n",
      " 71  MANUFACTURER_COUNTRY_CODE       object\n",
      " 72  MANUFACTURER_POSTAL_CODE        object\n",
      " 73  TYPE_OF_REPORT                  object\n",
      " 74  SOURCE_TYPE                     object\n",
      " 75  DATE_ADDED                      object\n",
      " 76  DATE_CHANGED                    object\n",
      " 77  REPORTER_COUNTRY_CODE           object\n",
      " 78  PMA_PMN_NUM                     object\n",
      " 79  EXEMPTION_NUMBER                object\n",
      " 80  SUMMARY_REPORT                  object\n",
      "dtypes: object(81)\n",
      "memory usage: 6.5+ GB\n"
     ]
    }
   ],
   "source": [
    "MASTER.info()"
   ]
  },
  {
   "cell_type": "code",
   "execution_count": 9,
   "id": "e12f40bd",
   "metadata": {},
   "outputs": [
    {
     "name": "stdout",
     "output_type": "stream",
     "text": [
      "MDR_REPORT_KEY\n",
      "EVENT_KEY\n",
      "REPORT_NUMBER\n",
      "REPORT_SOURCE_CODE\n",
      "MANUFACTURER_LINK_FLAG_\n",
      "NUMBER_DEVICES_IN_EVENT\n",
      "NUMBER_PATIENTS_IN_EVENT\n",
      "DATE_RECEIVED\n",
      "ADVERSE_EVENT_FLAG\n",
      "PRODUCT_PROBLEM_FLAG\n",
      "DATE_REPORT\n",
      "DATE_OF_EVENT\n",
      "REPROCESSED_AND_REUSED_FLAG\n",
      "REPORTER_OCCUPATION_CODE\n",
      "HEALTH_PROFESSIONAL\n",
      "INITIAL_REPORT_TO_FDA\n",
      "DATE_FACILITY_AWARE\n",
      "REPORT_DATE\n",
      "REPORT_TO_FDA\n",
      "DATE_REPORT_TO_FDA\n",
      "EVENT_LOCATION\n",
      "DATE_REPORT_TO_MANUFACTURER\n",
      "MANUFACTURER_CONTACT_T_NAME\n",
      "MANUFACTURER_CONTACT_F_NAME\n",
      "MANUFACTURER_CONTACT_L_NAME\n",
      "MANUFACTURER_CONTACT_STREET_1\n",
      "MANUFACTURER_CONTACT_STREET_2\n",
      "MANUFACTURER_CONTACT_CITY\n",
      "MANUFACTURER_CONTACT_STATE\n",
      "MANUFACTURER_CONTACT_ZIP_CODE\n",
      "MANUFACTURER_CONTACT_ZIP_EXT\n",
      "MANUFACTURER_CONTACT_COUNTRY\n",
      "MANUFACTURER_CONTACT_POSTAL\n",
      "MANUFACTURER_CONTACT_AREA_CODE\n",
      "MANUFACTURER_CONTACT_EXCHANGE\n",
      "MANUFACTURER_CONTACT_PHONE_NO\n",
      "MANUFACTURER_CONTACT_EXTENSION\n",
      "MANUFACTURER_CONTACT_PCOUNTRY\n",
      "MANUFACTURER_CONTACT_PCITY\n",
      "MANUFACTURER_CONTACT_PLOCAL\n",
      "MANUFACTURER_G1_NAME\n",
      "MANUFACTURER_G1_STREET_1\n",
      "MANUFACTURER_G1_STREET_2\n",
      "MANUFACTURER_G1_CITY\n",
      "MANUFACTURER_G1_STATE_CODE\n",
      "MANUFACTURER_G1_ZIP_CODE\n",
      "MANUFACTURER_G1_ZIP_CODE_EXT\n",
      "MANUFACTURER_G1_COUNTRY_CODE\n",
      "MANUFACTURER_G1_POSTAL_CODE\n",
      "DATE_MANUFACTURER_RECEIVED\n",
      "DEVICE_DATE_OF_MANUFACTURE\n",
      "SINGLE_USE_FLAG\n",
      "REMEDIAL_ACTION\n",
      "PREVIOUS_USE_CODE\n",
      "REMOVAL_CORRECTION_NUMBER\n",
      "EVENT_TYPE\n",
      "DISTRIBUTOR_NAME\n",
      "DISTRIBUTOR_ADDRESS_1\n",
      "DISTRIBUTOR_ADDRESS_2\n",
      "DISTRIBUTOR_CITY\n",
      "DISTRIBUTOR_STATE_CODE\n",
      "DISTRIBUTOR_ZIP_CODE\n",
      "DISTRIBUTOR_ZIP_CODE_EXT\n",
      "REPORT_TO_MANUFACTURER\n",
      "MANUFACTURER_NAME\n",
      "MANUFACTURER_ADDRESS_1\n",
      "MANUFACTURER_ADDRESS_2\n",
      "MANUFACTURER_CITY\n",
      "MANUFACTURER_STATE_CODE\n",
      "MANUFACTURER_ZIP_CODE\n",
      "MANUFACTURER_ZIP_CODE_EXT\n",
      "MANUFACTURER_COUNTRY_CODE\n",
      "MANUFACTURER_POSTAL_CODE\n",
      "TYPE_OF_REPORT\n",
      "SOURCE_TYPE\n",
      "DATE_ADDED\n",
      "DATE_CHANGED\n",
      "REPORTER_COUNTRY_CODE\n",
      "PMA_PMN_NUM\n",
      "EXEMPTION_NUMBER\n",
      "SUMMARY_REPORT\n"
     ]
    }
   ],
   "source": [
    "# checking columns in MASTER, and deleting uneeded ones\n",
    "for col in MASTER.columns:\n",
    "    print(col)"
   ]
  },
  {
   "cell_type": "code",
   "execution_count": 16,
   "id": "7b1ea631",
   "metadata": {},
   "outputs": [],
   "source": [
    "keptCols = ['MDR_REPORT_KEY',\n",
    "            'REPORT_NUMBER',\n",
    "            'REPORT_SOURCE_CODE',\n",
    "            'MANUFACTURER_LINK_FLAG_',\n",
    "            'ADVERSE_EVENT_FLAG',\n",
    "            'PRODUCT_PROBLEM_FLAG',\n",
    "            'DATE_OF_EVENT',\n",
    "            'REPORTER_OCCUPATION_CODE',\n",
    "            'HEALTH_PROFESSIONAL',\n",
    "            'INITIAL_REPORT_TO_FDA',\n",
    "            'REPORT_TO_FDA',\n",
    "            'EVENT_LOCATION',\n",
    "            'EVENT_TYPE',\n",
    "            'TYPE_OF_REPORT',\n",
    "            'DATE_ADDED',\n",
    "            'DATE_CHANGED',\n",
    "            'REPORTER_COUNTRY_CODE',\n",
    "            'SUMMARY_REPORT']\n",
    "MASTER = MASTER[keptCols]"
   ]
  },
  {
   "cell_type": "code",
   "execution_count": 3,
   "id": "d4f204e5",
   "metadata": {},
   "outputs": [],
   "source": [
    "# importing the DEVICE file from a perviously piclkled dataframe\n",
    "DEVICE = pd.read_pickle('./3_DEVICE_File.pkl')"
   ]
  },
  {
   "cell_type": "code",
   "execution_count": 17,
   "id": "5dcafbd8",
   "metadata": {},
   "outputs": [
    {
     "name": "stdout",
     "output_type": "stream",
     "text": [
      "shape of MASTER: (10800979, 18)\n",
      "shape of DEVICE: (433971, 13)\n"
     ]
    }
   ],
   "source": [
    "print(\"shape of MASTER: \" + str(MASTER.shape))\n",
    "print(\"shape of DEVICE: \" + str(DEVICE.shape))"
   ]
  },
  {
   "cell_type": "code",
   "execution_count": 18,
   "id": "2eee5009",
   "metadata": {},
   "outputs": [
    {
     "name": "stdout",
     "output_type": "stream",
     "text": [
      "shape of combined file: (433946, 30)\n"
     ]
    }
   ],
   "source": [
    "# merge MASTER and DEVICE\n",
    "MASTER_DEVICE = pd.merge(MASTER, DEVICE, on='MDR_REPORT_KEY')\n",
    "print(\"shape of combined file: \" + str(MASTER_DEVICE.shape))"
   ]
  },
  {
   "cell_type": "code",
   "execution_count": 20,
   "id": "887f88c6",
   "metadata": {},
   "outputs": [],
   "source": [
    "# pickle\n",
    "MASTER_DEVICE.to_pickle('./3_MASTER_DEVICE_File.pkl')"
   ]
  },
  {
   "cell_type": "code",
   "execution_count": null,
   "id": "d2769249",
   "metadata": {},
   "outputs": [],
   "source": []
  }
 ],
 "metadata": {
  "kernelspec": {
   "display_name": "Python 3",
   "language": "python",
   "name": "python3"
  },
  "language_info": {
   "codemirror_mode": {
    "name": "ipython",
    "version": 3
   },
   "file_extension": ".py",
   "mimetype": "text/x-python",
   "name": "python",
   "nbconvert_exporter": "python",
   "pygments_lexer": "ipython3",
   "version": "3.8.8"
  }
 },
 "nbformat": 4,
 "nbformat_minor": 5
}
