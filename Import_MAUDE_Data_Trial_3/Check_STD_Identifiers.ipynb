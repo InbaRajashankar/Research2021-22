{
 "cells": [
  {
   "cell_type": "code",
   "execution_count": 1,
   "id": "bccbbd2a",
   "metadata": {},
   "outputs": [
    {
     "data": {
      "text/plain": [
       "131072"
      ]
     },
     "execution_count": 1,
     "metadata": {},
     "output_type": "execute_result"
    }
   ],
   "source": [
    "import numpy as np\n",
    "import pandas as pd\n",
    "import numpy as np\n",
    "import pandas as pd\n",
    "import sys\n",
    "import csv\n",
    "import functools\n",
    "from functools import reduce\n",
    "import seaborn as sns\n",
    "import matplotlib.pyplot as plt\n",
    "\n",
    "csv.field_size_limit(1000000000000000000)"
   ]
  },
  {
   "cell_type": "code",
   "execution_count": 2,
   "id": "ff57cb46",
   "metadata": {},
   "outputs": [
    {
     "data": {
      "text/plain": [
       "(76433, 32)"
      ]
     },
     "execution_count": 2,
     "metadata": {},
     "output_type": "execute_result"
    }
   ],
   "source": [
    "MASDEV = pd.read_pickle(\"./3_MASTER_DEVICE_File_wSTDDEVICE_2000to2013.pkl\")\n",
    "MASDEV.shape"
   ]
  },
  {
   "cell_type": "code",
   "execution_count": 3,
   "id": "014ddce7",
   "metadata": {},
   "outputs": [
    {
     "data": {
      "text/plain": [
       "MEDTRONIC            34034\n",
       "ST. JUDE             22140\n",
       "BOSTON SCIENTIFIC    16258\n",
       "BIOTRONIK             3571\n",
       "SORIN                  425\n",
       "CAMERON HEALTH           5\n",
       "Name: STD_MANUFACTURER, dtype: int64"
      ]
     },
     "execution_count": 3,
     "metadata": {},
     "output_type": "execute_result"
    }
   ],
   "source": [
    "MASDEV[\"STD_MANUFACTURER\"].value_counts()"
   ]
  },
  {
   "cell_type": "code",
   "execution_count": 4,
   "id": "b64f273d",
   "metadata": {},
   "outputs": [
    {
     "data": {
      "text/plain": [
       "MEDTRONIC_SPRINT_QUATTRO_SECURE        15098\n",
       "BOS_SCI_ENDOTAK_RELIANCE               11880\n",
       "MEDTRONIC_SPRINT_FIDELIS               10122\n",
       "STJUDE_RIATA                            9539\n",
       "STJUDE_DURATA                           6603\n",
       "MEDTRONIC_SPRINT_QUATTRO                3538\n",
       "STJUDE_RIATA_ST                         2999\n",
       "MEDTRONIC_SPRINT                        2975\n",
       "MEDTRONIC_TRANSVENE                     1859\n",
       "BIOTRONIK_LINOX                         1597\n",
       "BOS_SCI_ENDOTAK_ENDURANCE               1390\n",
       "STJUDE_RIATA_ST_OPTIM                   1131\n",
       "BOS_SCI_ENDOTAK_DSP                     1070\n",
       "BIOTRONIK_LUMAX                          996\n",
       "STJUDE_QUICKFLEX                         940\n",
       "BOS_SCI_ENDOTAK                          596\n",
       "BIOTRONIK_LINOX_SMART                    493\n",
       "BOS_SCI_EASYTRAK                         453\n",
       "SORIN_ISOLINE                            405\n",
       "STJUDE_TVL_ADX                           330\n",
       "BOS_SCI_SELUTE                           309\n",
       "BOS_SCI_EASYTRAK2                        300\n",
       "STJUDE_QUICKSITE                         267\n",
       "STJUDE_SPL                               253\n",
       "BIOTRONIK_KENTROX_STEROID                163\n",
       "MEDTRONIC_SUBQ                           141\n",
       "MEDTRONIC_CAPSURE                        120\n",
       "BOS_SCI_ENDOTAK_SQ                        84\n",
       "BIOTRONIK_KENTROX                         81\n",
       "BIOTRONIK_LINOX_SMART_PROMRI              80\n",
       "STJUDE_TVL                                75\n",
       "BOS_SCI_INTERVENE                         70\n",
       "MEDTRONIC_EPICARDIAL_PATCH                69\n",
       "MEDTRONIC_SELECTSECURE                    64\n",
       "BOS_SCI_EASYTRAK3                         50\n",
       "BIOTRONIK_COROX_OTW                       49\n",
       "BIOTRONIK_KAINOX                          47\n",
       "BOS_SCI_FLEXTEND2                         43\n",
       "MEDTRONIC_SPRINT_QUATTRO_SECURE_MRI       34\n",
       "BIOTRONIK_SELOX                           34\n",
       "BIOTRONIK_VIGILA_1                        16\n",
       "SORIN_SITUS                               14\n",
       "MEDTRONIC_ATTAIN                          14\n",
       "BIOTRONIK_VIGILA_2                         9\n",
       "BIOTRONIK_AROX                             6\n",
       "BOS_SCI_ACUITY                             6\n",
       "CAMERON_HEALTH_QTRAK                       5\n",
       "SORIN_STELID_II                            4\n",
       "BOS_SCI_FLEXTEND                           4\n",
       "STJUDE_TENDRIL                             3\n",
       "BOS_SCI_FINELINE                           3\n",
       "SORIN_STELIX_II                            2\n",
       "Name: STD_DEVICE, dtype: int64"
      ]
     },
     "execution_count": 4,
     "metadata": {},
     "output_type": "execute_result"
    }
   ],
   "source": [
    "MASDEV[\"STD_DEVICE\"].value_counts()"
   ]
  },
  {
   "cell_type": "code",
   "execution_count": null,
   "id": "4fb427fc",
   "metadata": {},
   "outputs": [],
   "source": []
  }
 ],
 "metadata": {
  "kernelspec": {
   "display_name": "Python 3",
   "language": "python",
   "name": "python3"
  },
  "language_info": {
   "codemirror_mode": {
    "name": "ipython",
    "version": 3
   },
   "file_extension": ".py",
   "mimetype": "text/x-python",
   "name": "python",
   "nbconvert_exporter": "python",
   "pygments_lexer": "ipython3",
   "version": "3.8.8"
  }
 },
 "nbformat": 4,
 "nbformat_minor": 5
}
