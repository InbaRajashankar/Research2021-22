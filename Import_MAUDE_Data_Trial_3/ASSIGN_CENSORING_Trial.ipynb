{
 "cells": [
  {
   "cell_type": "code",
   "execution_count": 50,
   "id": "8545311c",
   "metadata": {},
   "outputs": [
    {
     "data": {
      "text/plain": [
       "1000000000000000000"
      ]
     },
     "execution_count": 50,
     "metadata": {},
     "output_type": "execute_result"
    }
   ],
   "source": [
    "import numpy as np\n",
    "import pandas as pd\n",
    "import numpy as np\n",
    "import pandas as pd\n",
    "import sys\n",
    "import csv\n",
    "import functools\n",
    "from functools import reduce\n",
    "import seaborn as sns\n",
    "import matplotlib.pyplot as plt\n",
    "from datetime import datetime\n",
    "\n",
    "csv.field_size_limit(1000000000000000000)"
   ]
  },
  {
   "cell_type": "code",
   "execution_count": 51,
   "id": "018285cf",
   "metadata": {},
   "outputs": [],
   "source": [
    "df = pd.read_pickle(\"./3_MASTER_DEVICE_File_wSTDDEVICE_2000to2013.pkl\")"
   ]
  },
  {
   "cell_type": "code",
   "execution_count": 52,
   "id": "f3b42a4c",
   "metadata": {},
   "outputs": [
    {
     "name": "stdout",
     "output_type": "stream",
     "text": [
      "DATE_OF_EVENT\n",
      "DATE_ADDED\n",
      "DATE_CHANGED\n",
      "DATE_RECEIVED\n"
     ]
    }
   ],
   "source": [
    "for col in df.columns:\n",
    "    \n",
    "    if \"DATE\" in col:\n",
    "        print(col)\n",
    "# decide to use DATE_RECEIVED"
   ]
  },
  {
   "cell_type": "code",
   "execution_count": 53,
   "id": "18c370bc",
   "metadata": {},
   "outputs": [
    {
     "data": {
      "text/plain": [
       "2008/05/08    1183\n",
       "2009/03/10    1124\n",
       "2008/01/10     908\n",
       "2007/11/09     808\n",
       "2012/03/10     791\n",
       "              ... \n",
       "2010/02/25       1\n",
       "2010/02/18       1\n",
       "2003/04/10       1\n",
       "2002/07/11       1\n",
       "2009/03/31       1\n",
       "Name: DATE_RECEIVED, Length: 2016, dtype: int64"
      ]
     },
     "execution_count": 53,
     "metadata": {},
     "output_type": "execute_result"
    }
   ],
   "source": [
    "df[\"DATE_RECEIVED\"].value_counts()"
   ]
  },
  {
   "cell_type": "code",
   "execution_count": 55,
   "id": "63428b74",
   "metadata": {},
   "outputs": [
    {
     "data": {
      "text/plain": [
       "28790     2007-07-31\n",
       "30694     2007-08-14\n",
       "30721     2007-08-22\n",
       "31540     2007-09-17\n",
       "31541     2007-09-17\n",
       "             ...    \n",
       "169959    2013-09-10\n",
       "173773    2013-10-16\n",
       "175072    2013-11-04\n",
       "175089    2013-11-04\n",
       "175808    2013-11-07\n",
       "Name: DATE_RECEIVED, Length: 76433, dtype: object"
      ]
     },
     "execution_count": 55,
     "metadata": {},
     "output_type": "execute_result"
    }
   ],
   "source": [
    "# converting to datetime\n",
    "df[\"DATE_RECEIVED\"].str.replace(pat=\"/\", repl=\"-\")"
   ]
  },
  {
   "cell_type": "code",
   "execution_count": 56,
   "id": "c07c0990",
   "metadata": {},
   "outputs": [
    {
     "data": {
      "text/plain": [
       "dtype('<M8[ns]')"
      ]
     },
     "execution_count": 56,
     "metadata": {},
     "output_type": "execute_result"
    }
   ],
   "source": [
    "df[\"DATE_RECEIVED\"] = pd.to_datetime(df[\"DATE_RECEIVED\"])\n",
    "df[\"DATE_RECEIVED\"].dtype"
   ]
  },
  {
   "cell_type": "code",
   "execution_count": 57,
   "id": "67fcf22e",
   "metadata": {},
   "outputs": [],
   "source": [
    "# creating the censored column\n",
    "df[\"CENSORED\"] = df[\"DATE_RECEIVED\"]"
   ]
  },
  {
   "cell_type": "code",
   "execution_count": 58,
   "id": "d1f061d6",
   "metadata": {},
   "outputs": [
    {
     "data": {
      "text/plain": [
       "MEDTRONIC_SPRINT_QUATTRO_SECURE    15098\n",
       "MEDTRONIC_SPRINT_FIDELIS           10122\n",
       "STJUDE_RIATA                        9539\n",
       "STJUDE_RIATA_ST                     2999\n",
       "SORIN_ISOLINE                        405\n",
       "Name: STD_DEVICE, dtype: int64"
      ]
     },
     "execution_count": 58,
     "metadata": {},
     "output_type": "execute_result"
    }
   ],
   "source": [
    "# checking valuecounts\n",
    "df[df[\"RECALL_CLASS\"] != \"0\"][\"STD_DEVICE\"].value_counts()"
   ]
  },
  {
   "cell_type": "code",
   "execution_count": 80,
   "id": "9ec0b750",
   "metadata": {},
   "outputs": [
    {
     "name": "stdout",
     "output_type": "stream",
     "text": [
      "not recalled shape: (38270, 34)\n"
     ]
    }
   ],
   "source": [
    "# assigning censor tags\n",
    "dfList = []\n",
    "dfListNoCen = []\n",
    "\n",
    "df_NOT_RECALLED = df[df[\"RECALL_CLASS\"] == \"0\"]\n",
    "df_NOT_RECALLED.assign(CENSOR=\"NO\")\n",
    "\n",
    "print(\"not recalled shape: \" + str(df_NOT_RECALLED.shape))"
   ]
  },
  {
   "cell_type": "code",
   "execution_count": 81,
   "id": "1106ca4b",
   "metadata": {},
   "outputs": [
    {
     "name": "stdout",
     "output_type": "stream",
     "text": [
      "censored shape: (10959, 34)\n",
      "non-censored shape: (4139, 34)\n"
     ]
    }
   ],
   "source": [
    "df_MEDTRONIC_SPRINT_QUATTRO_SECURE_censor = df[(df[\"DATE_RECEIVED\"] >= datetime(2010, 11, 26)) & (df[\"STD_DEVICE\"] == \"MEDTRONIC_SPRINT_QUATTRO_SECURE\")]\n",
    "df_MEDTRONIC_SPRINT_QUATTRO_SECURE_censor.assign(CENSOR=\"YES\")\n",
    "dfList.append(df_MEDTRONIC_SPRINT_QUATTRO_SECURE_censor)\n",
    "\n",
    "df_MEDTRONIC_SPRINT_QUATTRO_SECURE_nocensor = df[(df[\"DATE_RECEIVED\"] < datetime(2010, 11, 26)) & (df[\"STD_DEVICE\"] == \"MEDTRONIC_SPRINT_QUATTRO_SECURE\")]\n",
    "df_MEDTRONIC_SPRINT_QUATTRO_SECURE_nocensor.assign(CENSOR=\"NO\")\n",
    "dfList.append(df_MEDTRONIC_SPRINT_QUATTRO_SECURE_nocensor)\n",
    "dfListNoCen.append(df_MEDTRONIC_SPRINT_QUATTRO_SECURE_nocensor)\n",
    "\n",
    "print(\"censored shape: \" + str(df_MEDTRONIC_SPRINT_QUATTRO_SECURE_censor.shape))\n",
    "print(\"non-censored shape: \" + str(df_MEDTRONIC_SPRINT_QUATTRO_SECURE_nocensor.shape))"
   ]
  },
  {
   "cell_type": "code",
   "execution_count": 82,
   "id": "1538ac2b",
   "metadata": {},
   "outputs": [
    {
     "name": "stdout",
     "output_type": "stream",
     "text": [
      "censored shape: (8393, 34)\n",
      "non-censored shape: (1729, 34)\n"
     ]
    }
   ],
   "source": [
    "df_MEDTRONIC_SPRINT_FIDELIS_censor = df[(df[\"DATE_RECEIVED\"] >= datetime(2007, 10, 25)) & (df[\"STD_DEVICE\"] == \"MEDTRONIC_SPRINT_FIDELIS\")]\n",
    "df_MEDTRONIC_SPRINT_FIDELIS_censor.assign(CENSOR=\"YES\")\n",
    "dfList.append(df_MEDTRONIC_SPRINT_FIDELIS_censor)\n",
    "\n",
    "df_MEDTRONIC_SPRINT_FIDELIS_nocensor = df[(df[\"DATE_RECEIVED\"] < datetime(2007, 10, 25)) & (df[\"STD_DEVICE\"] == \"MEDTRONIC_SPRINT_FIDELIS\")]\n",
    "df_MEDTRONIC_SPRINT_FIDELIS_nocensor.assign(CENSOR=\"NO\")\n",
    "dfList.append(df_MEDTRONIC_SPRINT_FIDELIS_nocensor)\n",
    "dfListNoCen.append(df_MEDTRONIC_SPRINT_FIDELIS_nocensor)\n",
    "\n",
    "print(\"censored shape: \" + str(df_MEDTRONIC_SPRINT_FIDELIS_censor.shape))\n",
    "print(\"non-censored shape: \" + str(df_MEDTRONIC_SPRINT_FIDELIS_nocensor.shape))"
   ]
  },
  {
   "cell_type": "code",
   "execution_count": 83,
   "id": "4eb25f03",
   "metadata": {},
   "outputs": [
    {
     "name": "stdout",
     "output_type": "stream",
     "text": [
      "censored shape: (5544, 34)\n",
      "non-censored shape: (3995, 34)\n"
     ]
    }
   ],
   "source": [
    "df_STJUDE_RIATA_censor = df[(df[\"DATE_RECEIVED\"] >= datetime(2012, 1, 11)) & (df[\"STD_DEVICE\"] == \"STJUDE_RIATA\")]\n",
    "df_STJUDE_RIATA_censor.assign(CENSOR=\"YES\")\n",
    "dfList.append(df_STJUDE_RIATA_censor)\n",
    "\n",
    "df_STJUDE_RIATA_nocensor = df[(df[\"DATE_RECEIVED\"] < datetime(2012, 1, 11)) & (df[\"STD_DEVICE\"] == \"STJUDE_RIATA\")]\n",
    "df_STJUDE_RIATA_nocensor.assign(CENSOR=\"NO\")\n",
    "dfList.append(df_STJUDE_RIATA_nocensor)\n",
    "dfListNoCen.append(df_STJUDE_RIATA_nocensor)\n",
    "\n",
    "print(\"censored shape: \" + str(df_STJUDE_RIATA_censor.shape))\n",
    "print(\"non-censored shape: \" + str(df_STJUDE_RIATA_nocensor.shape))"
   ]
  },
  {
   "cell_type": "code",
   "execution_count": 84,
   "id": "64035ff2",
   "metadata": {},
   "outputs": [
    {
     "name": "stdout",
     "output_type": "stream",
     "text": [
      "censored shape: (1507, 34)\n",
      "non-censored shape: (1492, 34)\n"
     ]
    }
   ],
   "source": [
    "df_STJUDE_RIATA_ST_censor = df[(df[\"DATE_RECEIVED\"] >= datetime(2012, 1, 11)) & (df[\"STD_DEVICE\"] == \"STJUDE_RIATA_ST\")]\n",
    "df_STJUDE_RIATA_ST_censor.assign(CENSOR=\"YES\")\n",
    "dfList.append(df_STJUDE_RIATA_ST_censor)\n",
    "\n",
    "df_STJUDE_RIATA_ST_nocensor = df[(df[\"DATE_RECEIVED\"] < datetime(2012, 1, 11)) & (df[\"STD_DEVICE\"] == \"STJUDE_RIATA_ST\")]\n",
    "df_STJUDE_RIATA_ST_nocensor.assign(CENSOR=\"NO\")\n",
    "dfList.append(df_STJUDE_RIATA_ST_nocensor)\n",
    "dfListNoCen.append(df_STJUDE_RIATA_ST_nocensor)\n",
    "\n",
    "print(\"censored shape: \" + str(df_STJUDE_RIATA_ST_censor.shape))\n",
    "print(\"non-censored shape: \" + str(df_STJUDE_RIATA_ST_nocensor.shape))"
   ]
  },
  {
   "cell_type": "code",
   "execution_count": 85,
   "id": "fe5be334",
   "metadata": {},
   "outputs": [
    {
     "name": "stdout",
     "output_type": "stream",
     "text": [
      "censored shape: (67, 34)\n",
      "non-censored shape: (338, 34)\n"
     ]
    }
   ],
   "source": [
    "df_SORIN_ISOLINE_censor = df[(df[\"DATE_RECEIVED\"] >= datetime(2013, 3, 8)) & (df[\"STD_DEVICE\"] == \"SORIN_ISOLINE\")]\n",
    "df_SORIN_ISOLINE_censor.assign(CENSOR=\"YES\")\n",
    "dfList.append(df_SORIN_ISOLINE_censor)\n",
    "\n",
    "df_SORIN_ISOLINE_nocensor = df[(df[\"DATE_RECEIVED\"] < datetime(2013, 3, 8)) & (df[\"STD_DEVICE\"] == \"SORIN_ISOLINE\")]\n",
    "df_SORIN_ISOLINE_nocensor.assign(CENSOR=\"NO\")\n",
    "dfList.append(df_SORIN_ISOLINE_nocensor)\n",
    "dfListNoCen.append(df_SORIN_ISOLINE_nocensor)\n",
    "\n",
    "print(\"censored shape: \" + str(df_SORIN_ISOLINE_censor.shape))\n",
    "print(\"non-censored shape: \" + str(df_SORIN_ISOLINE_nocensor.shape))"
   ]
  },
  {
   "cell_type": "code",
   "execution_count": 87,
   "id": "e1968af6",
   "metadata": {
    "scrolled": true
   },
   "outputs": [
    {
     "name": "stdout",
     "output_type": "stream",
     "text": [
      "MEDTRONIC_SPRINT_QUATTRO_SECURE\n",
      "MEDTRONIC_SPRINT_QUATTRO_SECURE\n",
      "MEDTRONIC_SPRINT_FIDELIS\n",
      "MEDTRONIC_SPRINT_FIDELIS\n",
      "STJUDE_RIATA\n",
      "STJUDE_RIATA\n",
      "STJUDE_RIATA_ST\n",
      "STJUDE_RIATA_ST\n",
      "SORIN_ISOLINE\n",
      "SORIN_ISOLINE\n"
     ]
    }
   ],
   "source": [
    "# merging all the dfs together\n",
    "for df in dfList:\n",
    "    print(df.STD_DEVICE.iloc[0])"
   ]
  },
  {
   "cell_type": "code",
   "execution_count": 90,
   "id": "0a54bcfa",
   "metadata": {},
   "outputs": [
    {
     "name": "stdout",
     "output_type": "stream",
     "text": [
      "(38270, 34)\n",
      "(49229, 34)\n",
      "(53368, 34)\n",
      "(61761, 34)\n",
      "(63490, 34)\n",
      "(69034, 34)\n",
      "(73029, 34)\n",
      "(74536, 34)\n",
      "(76028, 34)\n",
      "(76095, 34)\n",
      "(76433, 34)\n"
     ]
    }
   ],
   "source": [
    "df_all = df_NOT_RECALLED\n",
    "print(df_all.shape)\n",
    "\n",
    "for df in dfList:\n",
    "    df_all = df_all.append(df)\n",
    "    print(df_all.shape)"
   ]
  },
  {
   "cell_type": "code",
   "execution_count": 94,
   "id": "c82a5554",
   "metadata": {},
   "outputs": [
    {
     "name": "stdout",
     "output_type": "stream",
     "text": [
      "the shape of df_all is: (76433, 34)\n"
     ]
    }
   ],
   "source": [
    "print(\"the shape of df_all is: \" + str(df_all.shape))\n",
    "df_all.to_pickle(\"./3_MASTER_DEVICE_File_wCENSOR_all\")"
   ]
  },
  {
   "cell_type": "code",
   "execution_count": 88,
   "id": "0f56b718",
   "metadata": {},
   "outputs": [
    {
     "name": "stdout",
     "output_type": "stream",
     "text": [
      "MEDTRONIC_SPRINT_QUATTRO_SECURE\n",
      "MEDTRONIC_SPRINT_FIDELIS\n",
      "STJUDE_RIATA\n",
      "STJUDE_RIATA_ST\n",
      "SORIN_ISOLINE\n"
     ]
    }
   ],
   "source": [
    "# merging all the non-censored dfs together\n",
    "for df in dfListNoCen:\n",
    "    print(df.STD_DEVICE.iloc[0])"
   ]
  },
  {
   "cell_type": "code",
   "execution_count": 92,
   "id": "d8f0cc10",
   "metadata": {},
   "outputs": [
    {
     "name": "stdout",
     "output_type": "stream",
     "text": [
      "(38270, 34)\n",
      "(42409, 34)\n",
      "(44138, 34)\n",
      "(48133, 34)\n",
      "(49625, 34)\n",
      "(49963, 34)\n"
     ]
    }
   ],
   "source": [
    "df_all_NoCen = df_NOT_RECALLED\n",
    "print(df_all_NoCen.shape)\n",
    "\n",
    "for df in dfListNoCen:\n",
    "    df_all_NoCen = df_all_NoCen.append(df)\n",
    "    print(df_all_NoCen.shape)"
   ]
  },
  {
   "cell_type": "code",
   "execution_count": 95,
   "id": "e450de6c",
   "metadata": {},
   "outputs": [
    {
     "name": "stdout",
     "output_type": "stream",
     "text": [
      "the shape of df_all_NoCen is: (49963, 34)\n"
     ]
    }
   ],
   "source": [
    "print(\"the shape of df_all_NoCen is: \" + str(df_all_NoCen.shape))\n",
    "df_all_NoCen.to_pickle(\"./3_MASTER_DEVICE_File_wCENSOR_NOTCENSORED\")"
   ]
  },
  {
   "cell_type": "code",
   "execution_count": null,
   "id": "ad76027c",
   "metadata": {},
   "outputs": [],
   "source": []
  }
 ],
 "metadata": {
  "kernelspec": {
   "display_name": "Python 3",
   "language": "python",
   "name": "python3"
  },
  "language_info": {
   "codemirror_mode": {
    "name": "ipython",
    "version": 3
   },
   "file_extension": ".py",
   "mimetype": "text/x-python",
   "name": "python",
   "nbconvert_exporter": "python",
   "pygments_lexer": "ipython3",
   "version": "3.8.8"
  }
 },
 "nbformat": 4,
 "nbformat_minor": 5
}
