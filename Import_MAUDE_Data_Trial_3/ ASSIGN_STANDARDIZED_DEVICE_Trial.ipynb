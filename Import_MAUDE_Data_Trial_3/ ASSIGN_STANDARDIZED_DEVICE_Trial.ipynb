{
 "cells": [
  {
   "cell_type": "code",
   "execution_count": 334,
   "id": "cf1b44b7",
   "metadata": {},
   "outputs": [
    {
     "data": {
      "text/plain": [
       "1000000000000000000"
      ]
     },
     "execution_count": 334,
     "metadata": {},
     "output_type": "execute_result"
    }
   ],
   "source": [
    "import numpy as np\n",
    "import pandas as pd\n",
    "import numpy as np\n",
    "import pandas as pd\n",
    "import sys\n",
    "import csv\n",
    "import functools\n",
    "from functools import reduce\n",
    "import seaborn as sns\n",
    "import matplotlib.pyplot as plt\n",
    "\n",
    "csv.field_size_limit(1000000000000000000)"
   ]
  },
  {
   "cell_type": "code",
   "execution_count": 335,
   "id": "94f40cab",
   "metadata": {},
   "outputs": [
    {
     "data": {
      "text/plain": [
       "(430858, 30)"
      ]
     },
     "execution_count": 335,
     "metadata": {},
     "output_type": "execute_result"
    }
   ],
   "source": [
    "MASDEV = pd.read_pickle(\"./3_MASTER_DEVICE_File_wSTDMANUFAC.pkl\")\n",
    "MASDEV.shape"
   ]
  },
  {
   "cell_type": "code",
   "execution_count": 336,
   "id": "b2990397",
   "metadata": {},
   "outputs": [],
   "source": [
    "# columns that can be used for product identifier, as found in the ASSIGN_STANDARDIZED_MANUFACTURER file: \n",
    "# BRAND_NAME, GENERIC_NAME, MODEL_NUMBER"
   ]
  },
  {
   "cell_type": "code",
   "execution_count": 337,
   "id": "7fb6e484",
   "metadata": {},
   "outputs": [
    {
     "data": {
      "text/plain": [
       "ST. JUDE             142433\n",
       "MEDTRONIC            136584\n",
       "BOSTON SCIENTIFIC    116823\n",
       "BIOTRONIK             17189\n",
       "IPG MFG                6111\n",
       "ABBOTT                 4541\n",
       "SORIN                  4137\n",
       "CAMERON HEALTH         2540\n",
       "ANGEION                 254\n",
       "OSCOR                   246\n",
       "Name: STD_MANUFACTURER, dtype: int64"
      ]
     },
     "execution_count": 337,
     "metadata": {},
     "output_type": "execute_result"
    }
   ],
   "source": [
    "# checking the standard manufacturer indicator\n",
    "MASDEV[\"STD_MANUFACTURER\"].value_counts()"
   ]
  },
  {
   "cell_type": "code",
   "execution_count": 338,
   "id": "eda4d8cb",
   "metadata": {},
   "outputs": [
    {
     "data": {
      "text/plain": [
       "SPRINT QUATTRO SECURE                               24274\n",
       "ENDOTAK RELIANCE                                    22790\n",
       "DURATA STS OPTIM ACTIVE FIXATION, DF-4 CONNECTOR    16350\n",
       "SPRINT QUATTRO SECURE S                             14535\n",
       "SPRINT FIDELIS                                      14286\n",
       "                                                    ...  \n",
       "128478HINSYNC MAXIMO                                    1\n",
       "MEDTRONIC DEFIBRILLATOR IMPLANT                         1\n",
       "ST. JUDE MEDICAL 7122 DURATA                            1\n",
       "RAPIDO CUTTER CATHETER                                  1\n",
       "IFORIA 7 VR-T DX                                        1\n",
       "Name: BRAND_NAME, Length: 3099, dtype: int64"
      ]
     },
     "execution_count": 338,
     "metadata": {},
     "output_type": "execute_result"
    }
   ],
   "source": [
    "# checking the columns\n",
    "MASDEV['BRAND_NAME'].value_counts()"
   ]
  },
  {
   "cell_type": "code",
   "execution_count": 339,
   "id": "f5f70594",
   "metadata": {},
   "outputs": [
    {
     "data": {
      "text/plain": [
       "IMPLANTABLE CARDIOVERTER DEFIBRILLATOR               121757\n",
       "DEFIBRILLATOR, AUTOMATIC IMPLANTABLE CARDIOVERTER     62044\n",
       "DEFIBRILLATION LEAD                                   57557\n",
       "IMPLANTABLE LEAD                                      31762\n",
       "IMPLANTABLE TACHY LEAD                                27200\n",
       "                                                      ...  \n",
       "AICD V-LEAD                                               1\n",
       "DEFIBRILLATGION LEAD                                      1\n",
       "PACEMAKER/DEFIBRILLATOR, BIVENTRICULAR                    1\n",
       "AICD HEART PACEMAKER                                      1\n",
       "SPRINT FIDELIS VENTRICULAR LEAD WIRE                      1\n",
       "Name: GENERIC_NAME, Length: 1398, dtype: int64"
      ]
     },
     "execution_count": 339,
     "metadata": {},
     "output_type": "execute_result"
    }
   ],
   "source": [
    "MASDEV['GENERIC_NAME'].value_counts()"
   ]
  },
  {
   "cell_type": "code",
   "execution_count": 340,
   "id": "2b3d3f63",
   "metadata": {},
   "outputs": [
    {
     "data": {
      "text/plain": [
       "6947        10349\n",
       "6935M62      9596\n",
       "694765       8722\n",
       "6949         8411\n",
       "0185         7354\n",
       "            ...  \n",
       "365000          1\n",
       "V-186HVS        1\n",
       "V-186V3         1\n",
       "429564          1\n",
       "72210           1\n",
       "Name: MODEL_NUMBER, Length: 2902, dtype: int64"
      ]
     },
     "execution_count": 340,
     "metadata": {},
     "output_type": "execute_result"
    }
   ],
   "source": [
    "MASDEV['MODEL_NUMBER'].value_counts()"
   ]
  },
  {
   "cell_type": "code",
   "execution_count": 341,
   "id": "983971e2",
   "metadata": {},
   "outputs": [
    {
     "data": {
      "text/html": [
       "<div>\n",
       "<style scoped>\n",
       "    .dataframe tbody tr th:only-of-type {\n",
       "        vertical-align: middle;\n",
       "    }\n",
       "\n",
       "    .dataframe tbody tr th {\n",
       "        vertical-align: top;\n",
       "    }\n",
       "\n",
       "    .dataframe thead th {\n",
       "        text-align: right;\n",
       "    }\n",
       "</style>\n",
       "<table border=\"1\" class=\"dataframe\">\n",
       "  <thead>\n",
       "    <tr style=\"text-align: right;\">\n",
       "      <th></th>\n",
       "      <th>MDR_REPORT_KEY</th>\n",
       "      <th>REPORT_NUMBER</th>\n",
       "      <th>REPORT_SOURCE_CODE</th>\n",
       "      <th>MANUFACTURER_LINK_FLAG_</th>\n",
       "      <th>ADVERSE_EVENT_FLAG</th>\n",
       "      <th>PRODUCT_PROBLEM_FLAG</th>\n",
       "      <th>DATE_OF_EVENT</th>\n",
       "      <th>REPORTER_OCCUPATION_CODE</th>\n",
       "      <th>HEALTH_PROFESSIONAL</th>\n",
       "      <th>INITIAL_REPORT_TO_FDA</th>\n",
       "      <th>...</th>\n",
       "      <th>GENERIC_NAME</th>\n",
       "      <th>DEVICE_OPERATOR</th>\n",
       "      <th>MODEL_NUMBER</th>\n",
       "      <th>DEVICE_REPORT_PRODUCT_CODE</th>\n",
       "      <th>DEVICE_AGE_TEXT</th>\n",
       "      <th>DEVICE_EVALUATED_BY_MANUFACTUR</th>\n",
       "      <th>year</th>\n",
       "      <th>STD_MANUFACTURER</th>\n",
       "      <th>STD_DEVICE</th>\n",
       "      <th>RECALL_CLASS</th>\n",
       "    </tr>\n",
       "  </thead>\n",
       "  <tbody>\n",
       "    <tr>\n",
       "      <th>7089</th>\n",
       "      <td>489687</td>\n",
       "      <td>2649622-2003-00267</td>\n",
       "      <td>M</td>\n",
       "      <td>Y</td>\n",
       "      <td>N</td>\n",
       "      <td>*</td>\n",
       "      <td>03/06/2003</td>\n",
       "      <td>*</td>\n",
       "      <td>*</td>\n",
       "      <td>N</td>\n",
       "      <td>...</td>\n",
       "      <td>*</td>\n",
       "      <td>*</td>\n",
       "      <td>6944</td>\n",
       "      <td>LWS</td>\n",
       "      <td>NaN</td>\n",
       "      <td>Y</td>\n",
       "      <td>2003</td>\n",
       "      <td>MEDTRONIC</td>\n",
       "      <td>*</td>\n",
       "      <td>0</td>\n",
       "    </tr>\n",
       "    <tr>\n",
       "      <th>7514</th>\n",
       "      <td>507667</td>\n",
       "      <td>2649622-2003-00355</td>\n",
       "      <td>M</td>\n",
       "      <td>Y</td>\n",
       "      <td>N</td>\n",
       "      <td>*</td>\n",
       "      <td>03/13/2003</td>\n",
       "      <td>*</td>\n",
       "      <td>*</td>\n",
       "      <td>*</td>\n",
       "      <td>...</td>\n",
       "      <td>*</td>\n",
       "      <td>*</td>\n",
       "      <td>*</td>\n",
       "      <td>LWS</td>\n",
       "      <td>NaN</td>\n",
       "      <td>*</td>\n",
       "      <td>2003</td>\n",
       "      <td>MEDTRONIC</td>\n",
       "      <td>*</td>\n",
       "      <td>0</td>\n",
       "    </tr>\n",
       "    <tr>\n",
       "      <th>17701</th>\n",
       "      <td>687828</td>\n",
       "      <td>2649622-2006-00441</td>\n",
       "      <td>M</td>\n",
       "      <td>Y</td>\n",
       "      <td>Y</td>\n",
       "      <td>N</td>\n",
       "      <td>11/18/2005</td>\n",
       "      <td>001</td>\n",
       "      <td>Y</td>\n",
       "      <td>N</td>\n",
       "      <td>...</td>\n",
       "      <td>DEFIBRILLATOR, AUTOMATIC IMPLANTABLE CARDIOVERTER</td>\n",
       "      <td>0LP</td>\n",
       "      <td>6949</td>\n",
       "      <td>LWS</td>\n",
       "      <td>8 MO</td>\n",
       "      <td>Y</td>\n",
       "      <td>2006</td>\n",
       "      <td>MEDTRONIC</td>\n",
       "      <td>SPRINT FIDELIS</td>\n",
       "      <td>0</td>\n",
       "    </tr>\n",
       "    <tr>\n",
       "      <th>19469</th>\n",
       "      <td>734998</td>\n",
       "      <td>2649622-2006-00783</td>\n",
       "      <td>M</td>\n",
       "      <td>Y</td>\n",
       "      <td>Y</td>\n",
       "      <td>N</td>\n",
       "      <td>05/23/2006</td>\n",
       "      <td>600</td>\n",
       "      <td>N</td>\n",
       "      <td>N</td>\n",
       "      <td>...</td>\n",
       "      <td>DEFIBRILLATOR, AUTOMATIC IMPLANTABLE CARDIOVERTER</td>\n",
       "      <td>0LP</td>\n",
       "      <td>6931</td>\n",
       "      <td>LWS</td>\n",
       "      <td>12 MO</td>\n",
       "      <td>Y</td>\n",
       "      <td>2006</td>\n",
       "      <td>MEDTRONIC</td>\n",
       "      <td>SPRINT FIDELIS</td>\n",
       "      <td>0</td>\n",
       "    </tr>\n",
       "    <tr>\n",
       "      <th>27519</th>\n",
       "      <td>849636</td>\n",
       "      <td>2649622-2007-01218</td>\n",
       "      <td>M</td>\n",
       "      <td>Y</td>\n",
       "      <td>Y</td>\n",
       "      <td>Y</td>\n",
       "      <td>03/13/2007</td>\n",
       "      <td>305</td>\n",
       "      <td>Y</td>\n",
       "      <td>N</td>\n",
       "      <td>...</td>\n",
       "      <td>DEFIBRILLATOR, AUTOMATIC IMPLANTABLE CARDIOVERTER</td>\n",
       "      <td>0LP</td>\n",
       "      <td>6949</td>\n",
       "      <td>LWS</td>\n",
       "      <td>24 MO</td>\n",
       "      <td>*</td>\n",
       "      <td>2007</td>\n",
       "      <td>MEDTRONIC</td>\n",
       "      <td>SPRINT FIDELIS</td>\n",
       "      <td>0</td>\n",
       "    </tr>\n",
       "  </tbody>\n",
       "</table>\n",
       "<p>5 rows × 32 columns</p>\n",
       "</div>"
      ],
      "text/plain": [
       "      MDR_REPORT_KEY       REPORT_NUMBER REPORT_SOURCE_CODE  \\\n",
       "7089          489687  2649622-2003-00267                  M   \n",
       "7514          507667  2649622-2003-00355                  M   \n",
       "17701         687828  2649622-2006-00441                  M   \n",
       "19469         734998  2649622-2006-00783                  M   \n",
       "27519         849636  2649622-2007-01218                  M   \n",
       "\n",
       "      MANUFACTURER_LINK_FLAG_ ADVERSE_EVENT_FLAG PRODUCT_PROBLEM_FLAG  \\\n",
       "7089                        Y                  N                    *   \n",
       "7514                        Y                  N                    *   \n",
       "17701                       Y                  Y                    N   \n",
       "19469                       Y                  Y                    N   \n",
       "27519                       Y                  Y                    Y   \n",
       "\n",
       "      DATE_OF_EVENT REPORTER_OCCUPATION_CODE HEALTH_PROFESSIONAL  \\\n",
       "7089     03/06/2003                        *                   *   \n",
       "7514     03/13/2003                        *                   *   \n",
       "17701    11/18/2005                      001                   Y   \n",
       "19469    05/23/2006                      600                   N   \n",
       "27519    03/13/2007                      305                   Y   \n",
       "\n",
       "      INITIAL_REPORT_TO_FDA  ...  \\\n",
       "7089                      N  ...   \n",
       "7514                      *  ...   \n",
       "17701                     N  ...   \n",
       "19469                     N  ...   \n",
       "27519                     N  ...   \n",
       "\n",
       "                                            GENERIC_NAME DEVICE_OPERATOR  \\\n",
       "7089                                                   *               *   \n",
       "7514                                                   *               *   \n",
       "17701  DEFIBRILLATOR, AUTOMATIC IMPLANTABLE CARDIOVERTER             0LP   \n",
       "19469  DEFIBRILLATOR, AUTOMATIC IMPLANTABLE CARDIOVERTER             0LP   \n",
       "27519  DEFIBRILLATOR, AUTOMATIC IMPLANTABLE CARDIOVERTER             0LP   \n",
       "\n",
       "      MODEL_NUMBER DEVICE_REPORT_PRODUCT_CODE DEVICE_AGE_TEXT  \\\n",
       "7089          6944                        LWS             NaN   \n",
       "7514             *                        LWS             NaN   \n",
       "17701         6949                        LWS            8 MO   \n",
       "19469         6931                        LWS           12 MO   \n",
       "27519         6949                        LWS           24 MO   \n",
       "\n",
       "      DEVICE_EVALUATED_BY_MANUFACTUR  year STD_MANUFACTURER      STD_DEVICE  \\\n",
       "7089                               Y  2003        MEDTRONIC               *   \n",
       "7514                               *  2003        MEDTRONIC               *   \n",
       "17701                              Y  2006        MEDTRONIC  SPRINT FIDELIS   \n",
       "19469                              Y  2006        MEDTRONIC  SPRINT FIDELIS   \n",
       "27519                              *  2007        MEDTRONIC  SPRINT FIDELIS   \n",
       "\n",
       "      RECALL_CLASS  \n",
       "7089             0  \n",
       "7514             0  \n",
       "17701            0  \n",
       "19469            0  \n",
       "27519            0  \n",
       "\n",
       "[5 rows x 32 columns]"
      ]
     },
     "execution_count": 341,
     "metadata": {},
     "output_type": "execute_result"
    }
   ],
   "source": [
    "# create the standardized device identifier column\n",
    "MASDEV[\"STD_DEVICE\"] = MASDEV['BRAND_NAME']\n",
    "MASDEV[\"RECALL_CLASS\"] = MASDEV['BRAND_NAME']\n",
    "MASDEV = MASDEV.assign(RECALL_CLASS=\"0\")\n",
    "MASDEV.head()"
   ]
  },
  {
   "cell_type": "code",
   "execution_count": 403,
   "id": "db225e5c",
   "metadata": {},
   "outputs": [],
   "source": [
    "# identifying products in Appendix E of Dr. Ensign's thesis\n",
    "\n",
    "# create a list of all the product dfs\n",
    "productDFs = []"
   ]
  },
  {
   "cell_type": "code",
   "execution_count": 404,
   "id": "4346847a",
   "metadata": {},
   "outputs": [
    {
     "data": {
      "text/plain": [
       "(6, 85)"
      ]
     },
     "execution_count": 404,
     "metadata": {},
     "output_type": "execute_result"
    }
   ],
   "source": [
    "MASDEV[\"BIOTRONIK_AROX\"] = pd.DataFrame(MASDEV['BRAND_NAME'].str.contains('AROX', regex=False) &\n",
    "                                        MASDEV['STD_MANUFACTURER'].str.contains('BIOTRONIK', regex=False))\n",
    "MASDEV_BIOTRONIK_AROX = MASDEV[MASDEV[\"BIOTRONIK_AROX\"] == True]\n",
    "MASDEV_BIOTRONIK_AROX = MASDEV_BIOTRONIK_AROX.assign(STD_DEVICE='BIOTRONIK_AROX')\n",
    "# productDFs.append(MASDEV_BIOTRONIK_AROX)\n",
    "MASDEV2 = MASDEV_BIOTRONIK_AROX\n",
    "MASDEV_BIOTRONIK_AROX.shape"
   ]
  },
  {
   "cell_type": "code",
   "execution_count": 405,
   "id": "a8a61034",
   "metadata": {},
   "outputs": [
    {
     "data": {
      "text/plain": [
       "(49, 85)"
      ]
     },
     "execution_count": 405,
     "metadata": {},
     "output_type": "execute_result"
    }
   ],
   "source": [
    "MASDEV[\"BIOTRONIK_COROX_OTW\"] = pd.DataFrame(MASDEV['BRAND_NAME'].str.contains('COROX OTW', regex=False) &\n",
    "                                             MASDEV['STD_MANUFACTURER'].str.contains('BIOTRONIK', regex=False))\n",
    "MASDEV_BIOTRONIK_COROX_OTW = MASDEV[MASDEV[\"BIOTRONIK_COROX_OTW\"] == True]\n",
    "MASDEV_BIOTRONIK_COROX_OTW = MASDEV_BIOTRONIK_COROX_OTW.assign(STD_DEVICE='BIOTRONIK_COROX_OTW')\n",
    "productDFs.append(MASDEV_BIOTRONIK_COROX_OTW)\n",
    "MASDEV_BIOTRONIK_COROX_OTW.shape"
   ]
  },
  {
   "cell_type": "code",
   "execution_count": 406,
   "id": "d1f3d3bf",
   "metadata": {},
   "outputs": [
    {
     "data": {
      "text/plain": [
       "(80, 85)"
      ]
     },
     "execution_count": 406,
     "metadata": {},
     "output_type": "execute_result"
    }
   ],
   "source": [
    "MASDEV[\"BIOTRONIK_KAINOX\"] = pd.DataFrame(MASDEV['BRAND_NAME'].str.contains('KAINOX', regex=False) &\n",
    "                                          MASDEV['STD_MANUFACTURER'].str.contains('BIOTRONIK', regex=False))\n",
    "MASDEV_BIOTRONIK_KAINOX = MASDEV[MASDEV[\"BIOTRONIK_KAINOX\"] == True]\n",
    "MASDEV_BIOTRONIK_KAINOX = MASDEV_BIOTRONIK_KAINOX.assign(STD_DEVICE='BIOTRONIK_KAINOX')\n",
    "productDFs.append(MASDEV_BIOTRONIK_KAINOX)\n",
    "MASDEV_BIOTRONIK_KAINOX.shape"
   ]
  },
  {
   "cell_type": "code",
   "execution_count": 407,
   "id": "4d193bb7",
   "metadata": {},
   "outputs": [
    {
     "data": {
      "text/plain": [
       "(102, 85)"
      ]
     },
     "execution_count": 407,
     "metadata": {},
     "output_type": "execute_result"
    }
   ],
   "source": [
    "MASDEV[\"BIOTRONIK_KENTROX\"] = pd.DataFrame((MASDEV['BRAND_NAME'].str.contains('KENTROX RV', regex=False) | \n",
    "                                            MASDEV['BRAND_NAME'].str.contains('KENTROX SL', regex=False)) & \n",
    "                                           (MASDEV['BRAND_NAME'].str.contains('STER', regex=False) == False) & \n",
    "                                           (MASDEV[\"BRAND_NAME\"].str.contains(\"SEROID\", regex=False) == False) &\n",
    "                                           MASDEV['STD_MANUFACTURER'].str.contains('BIOTRONIK', regex=False))\n",
    "MASDEV_BIOTRONIK_KENTROX = MASDEV[MASDEV[\"BIOTRONIK_KENTROX\"] == True]\n",
    "MASDEV_BIOTRONIK_KENTROX = MASDEV_BIOTRONIK_KENTROX.assign(STD_DEVICE='BIOTRONIK_KENTROX')\n",
    "productDFs.append(MASDEV_BIOTRONIK_KENTROX)\n",
    "MASDEV_BIOTRONIK_KENTROX.shape"
   ]
  },
  {
   "cell_type": "code",
   "execution_count": 408,
   "id": "692f989f",
   "metadata": {},
   "outputs": [
    {
     "data": {
      "text/plain": [
       "(305, 85)"
      ]
     },
     "execution_count": 408,
     "metadata": {},
     "output_type": "execute_result"
    }
   ],
   "source": [
    "MASDEV[\"BIOTRONIK_KENTROX_STEROID\"] = pd.DataFrame(MASDEV['BRAND_NAME'].str.contains('KENTROX', regex=False) & \n",
    "                                                   (MASDEV['BRAND_NAME'].str.contains('STER', regex=False) | \n",
    "                                                    MASDEV['BRAND_NAME'].str.contains('SEROID', regex=False)) & \n",
    "                                                   MASDEV['STD_MANUFACTURER'].str.contains('BIOTRONIK', regex=False))\n",
    "MASDEV_BIOTRONIK_KENTROX_STEROID = MASDEV[MASDEV[\"BIOTRONIK_KENTROX_STEROID\"] == True]\n",
    "MASDEV_BIOTRONIK_KENTROX_STEROID = MASDEV_BIOTRONIK_KENTROX_STEROID.assign(STD_DEVICE='BIOTRONIK_KENTROX_STEROID')\n",
    "productDFs.append(MASDEV_BIOTRONIK_KENTROX_STEROID)\n",
    "MASDEV_BIOTRONIK_KENTROX_STEROID.shape"
   ]
  },
  {
   "cell_type": "code",
   "execution_count": 409,
   "id": "a4ab8fea",
   "metadata": {},
   "outputs": [
    {
     "data": {
      "text/plain": [
       "(3711, 85)"
      ]
     },
     "execution_count": 409,
     "metadata": {},
     "output_type": "execute_result"
    }
   ],
   "source": [
    "MASDEV[\"BIOTRONIK_LINOX\"] = pd.DataFrame(MASDEV['BRAND_NAME'].str.contains('LINOX', regex=False) & \n",
    "                                         (MASDEV['BRAND_NAME'].str.contains('SMAR', regex=False) == False) & \n",
    "                                         (MASDEV['BRAND_NAME'].str.contains(' SD', regex=False) |\n",
    "                                          MASDEV['BRAND_NAME'].str.contains(' TD', regex=False) |\n",
    "                                          MASDEV['BRAND_NAME'].str.contains(' S', regex=False) |\n",
    "                                          MASDEV['BRAND_NAME'].str.contains(' T', regex=False)) &\n",
    "                                        MASDEV['STD_MANUFACTURER'].str.contains('BIOTRONIK', regex=False))\n",
    "MASDEV_BIOTRONIK_LINOX = MASDEV[MASDEV[\"BIOTRONIK_LINOX\"] == True]\n",
    "MASDEV_BIOTRONIK_LINOX = MASDEV_BIOTRONIK_LINOX.assign(STD_DEVICE='BIOTRONIK_LINOX')\n",
    "productDFs.append(MASDEV_BIOTRONIK_LINOX)\n",
    "MASDEV_BIOTRONIK_LINOX.shape"
   ]
  },
  {
   "cell_type": "code",
   "execution_count": 410,
   "id": "f5bccafb",
   "metadata": {},
   "outputs": [
    {
     "data": {
      "text/plain": [
       "(2998, 85)"
      ]
     },
     "execution_count": 410,
     "metadata": {},
     "output_type": "execute_result"
    }
   ],
   "source": [
    "MASDEV[\"BIOTRONIK_LINOX_SMART\"] = pd.DataFrame(MASDEV['BRAND_NAME'].str.contains('LINOX', regex=False) & \n",
    "                                            MASDEV['BRAND_NAME'].str.contains('SMART', regex=False) & \n",
    "                                             (MASDEV['BRAND_NAME'].str.contains(' SD', regex=False) |\n",
    "                                              MASDEV['BRAND_NAME'].str.contains(' S DX', regex=False) |\n",
    "                                              MASDEV['BRAND_NAME'].str.contains(' TD', regex=False) |\n",
    "                                              MASDEV['BRAND_NAME'].str.contains(' S', regex=False) |\n",
    "                                              MASDEV['BRAND_NAME'].str.contains(' T', regex=False)) &\n",
    "                                            (MASDEV['BRAND_NAME'].str.contains('PROM', regex=False) == False) &\n",
    "                                            MASDEV['STD_MANUFACTURER'].str.contains('BIOTRONIK', regex=False))\n",
    "MASDEV_BIOTRONIK_LINOX_SMART = MASDEV[MASDEV[\"BIOTRONIK_LINOX_SMART\"] == True]\n",
    "MASDEV_BIOTRONIK_LINOX_SMART = MASDEV_BIOTRONIK_LINOX_SMART.assign(STD_DEVICE='BIOTRONIK_LINOX_SMART')\n",
    "productDFs.append(MASDEV_BIOTRONIK_LINOX_SMART)\n",
    "MASDEV_BIOTRONIK_LINOX_SMART.shape"
   ]
  },
  {
   "cell_type": "code",
   "execution_count": 411,
   "id": "2b06401e",
   "metadata": {},
   "outputs": [
    {
     "data": {
      "text/plain": [
       "(1074, 85)"
      ]
     },
     "execution_count": 411,
     "metadata": {},
     "output_type": "execute_result"
    }
   ],
   "source": [
    "MASDEV[\"BIOTRONIK_LINOX_SMART_PROMRI\"] = pd.DataFrame(MASDEV['BRAND_NAME'].str.contains('LINOX', regex=False) & \n",
    "                                            MASDEV['BRAND_NAME'].str.contains('SMART', regex=False) & \n",
    "                                             (MASDEV['BRAND_NAME'].str.contains(' SD', regex=False) |\n",
    "                                              MASDEV['BRAND_NAME'].str.contains(' S DX', regex=False) |\n",
    "                                              MASDEV['BRAND_NAME'].str.contains(' DF4 SD', regex=False) |\n",
    "                                              MASDEV['BRAND_NAME'].str.contains(' S', regex=False)) &\n",
    "                                            MASDEV['BRAND_NAME'].str.contains('PROM', regex=False) &\n",
    "                                            MASDEV['STD_MANUFACTURER'].str.contains('BIOTRONIK', regex=False))\n",
    "MASDEV_BIOTRONIK_LINOX_SMART_PROMRI = MASDEV[MASDEV[\"BIOTRONIK_LINOX_SMART_PROMRI\"] == True]\n",
    "MASDEV_BIOTRONIK_LINOX_SMART_PROMRI = MASDEV_BIOTRONIK_LINOX_SMART_PROMRI.assign(STD_DEVICE='BIOTRONIK_LINOX_SMART_PROMRI')\n",
    "productDFs.append(MASDEV_BIOTRONIK_LINOX_SMART_PROMRI)\n",
    "MASDEV_BIOTRONIK_LINOX_SMART_PROMRI.shape"
   ]
  },
  {
   "cell_type": "code",
   "execution_count": 412,
   "id": "b6ab6996",
   "metadata": {},
   "outputs": [
    {
     "data": {
      "text/plain": [
       "(2201, 85)"
      ]
     },
     "execution_count": 412,
     "metadata": {},
     "output_type": "execute_result"
    }
   ],
   "source": [
    "MASDEV[\"BIOTRONIK_LUMAX\"] = pd.DataFrame(MASDEV['BRAND_NAME'].str.contains('LUMAX', regex=False) &\n",
    "                                        MASDEV['STD_MANUFACTURER'].str.contains('BIOTRONIK', regex=False))\n",
    "MASDEV_BIOTRONIK_LUMAX = MASDEV[MASDEV[\"BIOTRONIK_LUMAX\"] == True]\n",
    "MASDEV_BIOTRONIK_LUMAX = MASDEV_BIOTRONIK_LUMAX.assign(STD_DEVICE='BIOTRONIK_LUMAX')\n",
    "productDFs.append(MASDEV_BIOTRONIK_LUMAX)\n",
    "MASDEV_BIOTRONIK_LUMAX.shape"
   ]
  },
  {
   "cell_type": "code",
   "execution_count": 413,
   "id": "91a27990",
   "metadata": {},
   "outputs": [
    {
     "data": {
      "text/plain": [
       "(35, 85)"
      ]
     },
     "execution_count": 413,
     "metadata": {},
     "output_type": "execute_result"
    }
   ],
   "source": [
    "MASDEV[\"BIOTRONIK_SELOX\"] = pd.DataFrame(MASDEV['BRAND_NAME'].str.contains('SELOX', regex=False) &\n",
    "                                        MASDEV['STD_MANUFACTURER'].str.contains('BIOTRONIK', regex=False))\n",
    "MASDEV_BIOTRONIK_SELOX = MASDEV[MASDEV[\"BIOTRONIK_SELOX\"] == True]\n",
    "MASDEV_BIOTRONIK_SELOX = MASDEV_BIOTRONIK_SELOX.assign(STD_DEVICE='BIOTRONIK_SELOX')\n",
    "productDFs.append(MASDEV_BIOTRONIK_SELOX)\n",
    "MASDEV_BIOTRONIK_SELOX.shape"
   ]
  },
  {
   "cell_type": "code",
   "execution_count": 414,
   "id": "932f9ad6",
   "metadata": {},
   "outputs": [
    {
     "data": {
      "text/plain": [
       "'\\nMASDEV[\"BIOTRONIK_TILDA-R\"] = pd.DataFrame(MASDEV[\\'BRAND_NAME\\'].str.contains(\\'TILDA-R\\', regex=False) &\\n                                        MASDEV[\\'STD_MANUFACTURER\\'].str.contains(\\'BIOTRONIK\\', regex=False))\\nMASDEV_BIOTRONIK_TILDA_R = MASDEV[MASDEV[\"BIOTRONIK_TILDA-R\"] == True]\\nMASDEV_BIOTRONIK_TILDA_R = MASDEV_BIOTRONIK_TILDA_R.assign(STD_DEVICE=\\'BIOTRONIK_TILDA-R\\')\\nproductDFs.append(MASDEV_BIOTRONIK_TILDA_R)\\nMASDEV_BIOTRONIK_TILDA_R.shape\\n'"
      ]
     },
     "execution_count": 414,
     "metadata": {},
     "output_type": "execute_result"
    }
   ],
   "source": [
    "'''\n",
    "MASDEV[\"BIOTRONIK_TILDA-R\"] = pd.DataFrame(MASDEV['BRAND_NAME'].str.contains('TILDA-R', regex=False) &\n",
    "                                        MASDEV['STD_MANUFACTURER'].str.contains('BIOTRONIK', regex=False))\n",
    "MASDEV_BIOTRONIK_TILDA_R = MASDEV[MASDEV[\"BIOTRONIK_TILDA-R\"] == True]\n",
    "MASDEV_BIOTRONIK_TILDA_R = MASDEV_BIOTRONIK_TILDA_R.assign(STD_DEVICE='BIOTRONIK_TILDA-R')\n",
    "productDFs.append(MASDEV_BIOTRONIK_TILDA_R)\n",
    "MASDEV_BIOTRONIK_TILDA_R.shape\n",
    "'''\n",
    "# no MDRs were found"
   ]
  },
  {
   "cell_type": "code",
   "execution_count": 415,
   "id": "e6b6283a",
   "metadata": {},
   "outputs": [
    {
     "data": {
      "text/plain": [
       "(108, 85)"
      ]
     },
     "execution_count": 415,
     "metadata": {},
     "output_type": "execute_result"
    }
   ],
   "source": [
    "MASDEV[\"BIOTRONIK_VIGILA_1\"] = pd.DataFrame(MASDEV['BRAND_NAME'].str.contains('VIGILA 1', regex=False) &\n",
    "                                        MASDEV['STD_MANUFACTURER'].str.contains('BIOTRONIK', regex=False))\n",
    "MASDEV_BIOTRONIK_VIGILA_1 = MASDEV[MASDEV[\"BIOTRONIK_VIGILA_1\"] == True]\n",
    "MASDEV_BIOTRONIK_VIGILA_1 = MASDEV_BIOTRONIK_VIGILA_1.assign(STD_DEVICE='BIOTRONIK_VIGILA_1')\n",
    "productDFs.append(MASDEV_BIOTRONIK_VIGILA_1)\n",
    "MASDEV_BIOTRONIK_VIGILA_1.shape"
   ]
  },
  {
   "cell_type": "code",
   "execution_count": 416,
   "id": "6d3befff",
   "metadata": {},
   "outputs": [
    {
     "data": {
      "text/plain": [
       "(86, 85)"
      ]
     },
     "execution_count": 416,
     "metadata": {},
     "output_type": "execute_result"
    }
   ],
   "source": [
    "MASDEV[\"BIOTRONIK_VIGILA_2\"] = pd.DataFrame(MASDEV['BRAND_NAME'].str.contains('VIGILA 2', regex=False) &\n",
    "                                        MASDEV['STD_MANUFACTURER'].str.contains('BIOTRONIK', regex=False))\n",
    "MASDEV_BIOTRONIK_VIGILA_2 = MASDEV[MASDEV[\"BIOTRONIK_VIGILA_2\"] == True]\n",
    "MASDEV_BIOTRONIK_VIGILA_2 = MASDEV_BIOTRONIK_VIGILA_2.assign(STD_DEVICE='BIOTRONIK_VIGILA_2')\n",
    "productDFs.append(MASDEV_BIOTRONIK_VIGILA_2)\n",
    "MASDEV_BIOTRONIK_VIGILA_2.shape"
   ]
  },
  {
   "cell_type": "code",
   "execution_count": 417,
   "id": "62e3d93c",
   "metadata": {},
   "outputs": [
    {
     "data": {
      "text/plain": [
       "(510, 85)"
      ]
     },
     "execution_count": 417,
     "metadata": {},
     "output_type": "execute_result"
    }
   ],
   "source": [
    "MASDEV[\"BOS_SCI_ACUITY\"] = pd.DataFrame(MASDEV['BRAND_NAME'].str.contains('ACUITY', regex=False) &\n",
    "                                        MASDEV['STD_MANUFACTURER'].str.contains('BOSTON SCIENTIFIC', regex=False))\n",
    "MASDEV_BOS_SCI_ACUITY = MASDEV[MASDEV[\"BOS_SCI_ACUITY\"] == True]\n",
    "MASDEV_BOS_SCI_ACUITY = MASDEV_BOS_SCI_ACUITY.assign(STD_DEVICE='BOS_SCI_ACUITY')\n",
    "productDFs.append(MASDEV_BOS_SCI_ACUITY)\n",
    "MASDEV_BOS_SCI_ACUITY.shape"
   ]
  },
  {
   "cell_type": "code",
   "execution_count": 418,
   "id": "43b90c15",
   "metadata": {},
   "outputs": [
    {
     "data": {
      "text/plain": [
       "(591, 85)"
      ]
     },
     "execution_count": 418,
     "metadata": {},
     "output_type": "execute_result"
    }
   ],
   "source": [
    "MASDEV[\"BOS_SCI_EASYTRAK\"] = pd.DataFrame(MASDEV['BRAND_NAME'].str.contains('EASYTRAK', regex=False) &\n",
    "                                          (MASDEV['BRAND_NAME'].str.contains(' 2', regex=False) == False) &\n",
    "                                          (MASDEV['BRAND_NAME'].str.contains(' 3', regex=False) == False) &\n",
    "                                        MASDEV['STD_MANUFACTURER'].str.contains('BOSTON SCIENTIFIC', regex=False))\n",
    "MASDEV_BOS_SCI_EASYTRAK = MASDEV[MASDEV[\"BOS_SCI_EASYTRAK\"] == True]\n",
    "MASDEV_BOS_SCI_EASYTRAK = MASDEV_BOS_SCI_EASYTRAK.assign(STD_DEVICE='BOS_SCI_EASYTRAK')\n",
    "productDFs.append(MASDEV_BOS_SCI_EASYTRAK)\n",
    "MASDEV_BOS_SCI_EASYTRAK.shape"
   ]
  },
  {
   "cell_type": "code",
   "execution_count": 419,
   "id": "f6eb5a18",
   "metadata": {},
   "outputs": [
    {
     "data": {
      "text/plain": [
       "(2361, 85)"
      ]
     },
     "execution_count": 419,
     "metadata": {},
     "output_type": "execute_result"
    }
   ],
   "source": [
    "MASDEV[\"BOS_SCI_EASYTRAK2\"] = pd.DataFrame(MASDEV['BRAND_NAME'].str.contains('EASYTRAK', regex=False) &\n",
    "                                          MASDEV['BRAND_NAME'].str.contains(' 2', regex=False) &\n",
    "                                          (MASDEV['BRAND_NAME'].str.contains(' 3', regex=False) == False) &\n",
    "                                        MASDEV['STD_MANUFACTURER'].str.contains('BOSTON SCIENTIFIC', regex=False))\n",
    "MASDEV_BOS_SCI_EASYTRAK2 = MASDEV[MASDEV[\"BOS_SCI_EASYTRAK2\"] == True]\n",
    "MASDEV_BOS_SCI_EASYTRAK2 = MASDEV_BOS_SCI_EASYTRAK2.assign(STD_DEVICE='BOS_SCI_EASYTRAK2')\n",
    "productDFs.append(MASDEV_BOS_SCI_EASYTRAK2)\n",
    "MASDEV_BOS_SCI_EASYTRAK2.shape"
   ]
  },
  {
   "cell_type": "code",
   "execution_count": 420,
   "id": "a461c51e",
   "metadata": {},
   "outputs": [
    {
     "data": {
      "text/plain": [
       "(132, 85)"
      ]
     },
     "execution_count": 420,
     "metadata": {},
     "output_type": "execute_result"
    }
   ],
   "source": [
    "MASDEV[\"BOS_SCI_EASYTRAK3\"] = pd.DataFrame(MASDEV['BRAND_NAME'].str.contains('EASYTRAK', regex=False) &\n",
    "                                          (MASDEV['BRAND_NAME'].str.contains(' 2', regex=False) == False) &\n",
    "                                          MASDEV['BRAND_NAME'].str.contains(' 3', regex=False) &\n",
    "                                        MASDEV['STD_MANUFACTURER'].str.contains('BOSTON SCIENTIFIC', regex=False))\n",
    "MASDEV_BOS_SCI_EASYTRAK3 = MASDEV[MASDEV[\"BOS_SCI_EASYTRAK3\"] == True]\n",
    "MASDEV_BOS_SCI_EASYTRAK3 = MASDEV_BOS_SCI_EASYTRAK3.assign(STD_DEVICE='BOS_SCI_EASYTRAK3')\n",
    "productDFs.append(MASDEV_BOS_SCI_EASYTRAK3)\n",
    "MASDEV_BOS_SCI_EASYTRAK3.shape"
   ]
  },
  {
   "cell_type": "code",
   "execution_count": 421,
   "id": "9f5652bd",
   "metadata": {},
   "outputs": [
    {
     "data": {
      "text/plain": [
       "(638, 85)"
      ]
     },
     "execution_count": 421,
     "metadata": {},
     "output_type": "execute_result"
    }
   ],
   "source": [
    "MASDEV[\"BOS_SCI_ENDOTAK\"] = pd.DataFrame(MASDEV['BRAND_NAME'].str.contains('ENDOTAK', regex=False) &\n",
    "                                        (MASDEV[\"BRAND_NAME\"].str.contains(\" ENDURANCE\", regex=False) == False) &\n",
    "                                        (MASDEV[\"BRAND_NAME\"].str.contains(\" DSP\", regex=False) == False) &\n",
    "                                        (MASDEV[\"BRAND_NAME\"].str.contains(\" RELIANCE\", regex=False) == False) &\n",
    "                                        (MASDEV[\"BRAND_NAME\"].str.contains(\" SQ\", regex=False) == False) &\n",
    "                                        (MASDEV[\"BRAND_NAME\"].str.contains(\" C\", regex=False) |\n",
    "                                         MASDEV[\"BRAND_NAME\"].str.contains(\"60\", regex=False) |\n",
    "                                         MASDEV[\"BRAND_NAME\"].str.contains(\"70\", regex=False)) &\n",
    "                                        MASDEV['STD_MANUFACTURER'].str.contains('BOSTON SCIENTIFIC', regex=False))\n",
    "MASDEV_BOS_SCI_ENDOTAK = MASDEV[MASDEV[\"BOS_SCI_ENDOTAK\"] == True]\n",
    "MASDEV_BOS_SCI_ENDOTAK = MASDEV_BOS_SCI_ENDOTAK.assign(STD_DEVICE='BOS_SCI_ENDOTAK')\n",
    "productDFs.append(MASDEV_BOS_SCI_ENDOTAK)\n",
    "MASDEV_BOS_SCI_ENDOTAK.shape"
   ]
  },
  {
   "cell_type": "code",
   "execution_count": 422,
   "id": "2ce013ff",
   "metadata": {},
   "outputs": [
    {
     "data": {
      "text/plain": [
       "(1901, 85)"
      ]
     },
     "execution_count": 422,
     "metadata": {},
     "output_type": "execute_result"
    }
   ],
   "source": [
    "MASDEV[\"BOS_SCI_ENDOTAK_ENDURANCE\"] = pd.DataFrame(MASDEV['BRAND_NAME'].str.contains('ENDOTAK', regex=False) &\n",
    "                                        (MASDEV[\"BRAND_NAME\"].str.contains(\"ENDURANCE\", regex=False)) &\n",
    "                                        MASDEV['STD_MANUFACTURER'].str.contains('BOSTON SCIENTIFIC', regex=False))\n",
    "MASDEV_BOS_SCI_ENDOTAK_ENDURANCE = MASDEV[MASDEV[\"BOS_SCI_ENDOTAK_ENDURANCE\"] == True]\n",
    "MASDEV_BOS_SCI_ENDOTAK_ENDURANCE = MASDEV_BOS_SCI_ENDOTAK_ENDURANCE.assign(STD_DEVICE='BOS_SCI_ENDOTAK_ENDURANCE')\n",
    "productDFs.append(MASDEV_BOS_SCI_ENDOTAK_ENDURANCE)\n",
    "MASDEV_BOS_SCI_ENDOTAK_ENDURANCE.shape"
   ]
  },
  {
   "cell_type": "code",
   "execution_count": 423,
   "id": "13b577ec",
   "metadata": {},
   "outputs": [
    {
     "data": {
      "text/plain": [
       "(1277, 85)"
      ]
     },
     "execution_count": 423,
     "metadata": {},
     "output_type": "execute_result"
    }
   ],
   "source": [
    "MASDEV[\"BOS_SCI_ENDOTAK_DSP\"] = pd.DataFrame(MASDEV['BRAND_NAME'].str.contains('ENDOTAK', regex=False) &\n",
    "                                        (MASDEV[\"BRAND_NAME\"].str.contains(\"DSP\", regex=False)) &\n",
    "                                        MASDEV['STD_MANUFACTURER'].str.contains('BOSTON SCIENTIFIC', regex=False))\n",
    "MASDEV_BOS_SCI_ENDOTAK_DSP = MASDEV[MASDEV[\"BOS_SCI_ENDOTAK_DSP\"] == True]\n",
    "MASDEV_BOS_SCI_ENDOTAK_DSP = MASDEV_BOS_SCI_ENDOTAK_DSP.assign(STD_DEVICE='BOS_SCI_ENDOTAK_DSP')\n",
    "productDFs.append(MASDEV_BOS_SCI_ENDOTAK_DSP)\n",
    "MASDEV_BOS_SCI_ENDOTAK_DSP.shape"
   ]
  },
  {
   "cell_type": "code",
   "execution_count": 424,
   "id": "1f4994df",
   "metadata": {},
   "outputs": [
    {
     "data": {
      "text/plain": [
       "(29354, 85)"
      ]
     },
     "execution_count": 424,
     "metadata": {},
     "output_type": "execute_result"
    }
   ],
   "source": [
    "MASDEV[\"BOS_SCI_ENDOTAK_RELIANCE\"] = pd.DataFrame(MASDEV['BRAND_NAME'].str.contains('ENDOTAK', regex=False) &\n",
    "                                        (MASDEV[\"BRAND_NAME\"].str.contains(\"RELIANCE\", regex=False)) &\n",
    "                                        MASDEV['STD_MANUFACTURER'].str.contains('BOSTON SCIENTIFIC', regex=False))\n",
    "MASDEV_BOS_SCI_ENDOTAK_RELIANCE = MASDEV[MASDEV[\"BOS_SCI_ENDOTAK_RELIANCE\"] == True]\n",
    "MASDEV_BOS_SCI_ENDOTAK_RELIANCE = MASDEV_BOS_SCI_ENDOTAK_RELIANCE.assign(STD_DEVICE='BOS_SCI_ENDOTAK_RELIANCE')\n",
    "productDFs.append(MASDEV_BOS_SCI_ENDOTAK_RELIANCE)\n",
    "MASDEV_BOS_SCI_ENDOTAK_RELIANCE.shape"
   ]
  },
  {
   "cell_type": "code",
   "execution_count": 425,
   "id": "5a6260ec",
   "metadata": {},
   "outputs": [
    {
     "data": {
      "text/plain": [
       "(110, 85)"
      ]
     },
     "execution_count": 425,
     "metadata": {},
     "output_type": "execute_result"
    }
   ],
   "source": [
    "MASDEV[\"BOS_SCI_ENDOTAK_SQ\"] = pd.DataFrame(MASDEV['BRAND_NAME'].str.contains('ENDOTAK', regex=False) &\n",
    "                                        (MASDEV[\"BRAND_NAME\"].str.contains(\"SQ\", regex=False)) &\n",
    "                                        MASDEV['STD_MANUFACTURER'].str.contains('BOSTON SCIENTIFIC', regex=False))\n",
    "MASDEV_BOS_SCI_ENDOTAK_SQ = MASDEV[MASDEV[\"BOS_SCI_ENDOTAK_SQ\"] == True]\n",
    "MASDEV_BOS_SCI_ENDOTAK_SQ = MASDEV_BOS_SCI_ENDOTAK_SQ.assign(STD_DEVICE='BOS_SCI_ENDOTAK_SQ')\n",
    "productDFs.append(MASDEV_BOS_SCI_ENDOTAK_SQ)\n",
    "MASDEV_BOS_SCI_ENDOTAK_SQ.shape"
   ]
  },
  {
   "cell_type": "code",
   "execution_count": 426,
   "id": "df19e7ec",
   "metadata": {},
   "outputs": [
    {
     "data": {
      "text/plain": [
       "(5, 85)"
      ]
     },
     "execution_count": 426,
     "metadata": {},
     "output_type": "execute_result"
    }
   ],
   "source": [
    "MASDEV[\"BOS_SCI_FINELINE\"] = pd.DataFrame(MASDEV['BRAND_NAME'].str.contains('FINELINE', regex=False) &\n",
    "                                        MASDEV['STD_MANUFACTURER'].str.contains('BOSTON SCIENTIFIC', regex=False))\n",
    "MASDEV_BOS_SCI_FINELINE = MASDEV[MASDEV[\"BOS_SCI_FINELINE\"] == True]\n",
    "MASDEV_BOS_SCI_FINELINE = MASDEV_BOS_SCI_FINELINE.assign(STD_DEVICE='BOS_SCI_FINELINE')\n",
    "productDFs.append(MASDEV_BOS_SCI_FINELINE)\n",
    "MASDEV_BOS_SCI_FINELINE.shape"
   ]
  },
  {
   "cell_type": "code",
   "execution_count": 427,
   "id": "5860deee",
   "metadata": {},
   "outputs": [
    {
     "data": {
      "text/plain": [
       "(5, 85)"
      ]
     },
     "execution_count": 427,
     "metadata": {},
     "output_type": "execute_result"
    }
   ],
   "source": [
    "MASDEV[\"BOS_SCI_FLEXTEND\"] = pd.DataFrame(MASDEV['BRAND_NAME'].str.contains('FLEXTEND', regex=False) &\n",
    "                                            (MASDEV[\"BRAND_NAME\"].str.contains(\" 2\", regex=False) == False) &\n",
    "                                            (MASDEV[\"BRAND_NAME\"].str.contains(\" II\", regex=False) == False) &\n",
    "                                            MASDEV['STD_MANUFACTURER'].str.contains('BOSTON SCIENTIFIC', regex=False))\n",
    "MASDEV_BOS_SCI_FLEXTEND = MASDEV[MASDEV[\"BOS_SCI_FLEXTEND\"] == True]\n",
    "MASDEV_BOS_SCI_FLEXTEND = MASDEV_BOS_SCI_FLEXTEND.assign(STD_DEVICE='BOS_SCI_FLEXTEND')\n",
    "productDFs.append(MASDEV_BOS_SCI_FLEXTEND)\n",
    "MASDEV_BOS_SCI_FLEXTEND.shape"
   ]
  },
  {
   "cell_type": "code",
   "execution_count": 428,
   "id": "ca0346fe",
   "metadata": {},
   "outputs": [
    {
     "data": {
      "text/plain": [
       "(111, 85)"
      ]
     },
     "execution_count": 428,
     "metadata": {},
     "output_type": "execute_result"
    }
   ],
   "source": [
    "MASDEV[\"BOS_SCI_FLEXTEND2\"] = pd.DataFrame(MASDEV['BRAND_NAME'].str.contains('FLEXTEND', regex=False) &\n",
    "                                            (MASDEV[\"BRAND_NAME\"].str.contains(\" 2\", regex=False) |\n",
    "                                            MASDEV[\"BRAND_NAME\"].str.contains(\" II\", regex=False)) &\n",
    "                                            MASDEV['STD_MANUFACTURER'].str.contains('BOSTON SCIENTIFIC', regex=False))\n",
    "MASDEV_BOS_SCI_FLEXTEND2 = MASDEV[MASDEV[\"BOS_SCI_FLEXTEND2\"] == True]\n",
    "MASDEV_BOS_SCI_FLEXTEND2 = MASDEV_BOS_SCI_FLEXTEND2.assign(STD_DEVICE='BOS_SCI_FLEXTEND2')\n",
    "productDFs.append(MASDEV_BOS_SCI_FLEXTEND2)\n",
    "MASDEV_BOS_SCI_FLEXTEND2.shape"
   ]
  },
  {
   "cell_type": "code",
   "execution_count": 429,
   "id": "e9715db6",
   "metadata": {},
   "outputs": [
    {
     "data": {
      "text/plain": [
       "(81, 85)"
      ]
     },
     "execution_count": 429,
     "metadata": {},
     "output_type": "execute_result"
    }
   ],
   "source": [
    "MASDEV[\"BOS_SCI_INTERVENE\"] = pd.DataFrame(MASDEV['BRAND_NAME'].str.contains('INTERVENE', regex=False) &\n",
    "                                        MASDEV['STD_MANUFACTURER'].str.contains('BOSTON SCIENTIFIC', regex=False))\n",
    "MASDEV_BOS_SCI_INTERVENE = MASDEV[MASDEV[\"BOS_SCI_INTERVENE\"] == True]\n",
    "MASDEV_BOS_SCI_INTERVENE = MASDEV_BOS_SCI_INTERVENE.assign(STD_DEVICE='BOS_SCI_INTERVENE')\n",
    "productDFs.append(MASDEV_BOS_SCI_INTERVENE)\n",
    "MASDEV_BOS_SCI_INTERVENE.shape"
   ]
  },
  {
   "cell_type": "code",
   "execution_count": 430,
   "id": "e7fd9932",
   "metadata": {},
   "outputs": [
    {
     "data": {
      "text/plain": [
       "(475, 85)"
      ]
     },
     "execution_count": 430,
     "metadata": {},
     "output_type": "execute_result"
    }
   ],
   "source": [
    "MASDEV[\"BOS_SCI_SELUTE\"] = pd.DataFrame(MASDEV['BRAND_NAME'].str.contains('SELUTE', regex=False) &\n",
    "                                        MASDEV['STD_MANUFACTURER'].str.contains('BOSTON SCIENTIFIC', regex=False))\n",
    "MASDEV_BOS_SCI_SELUTE = MASDEV[MASDEV[\"BOS_SCI_SELUTE\"] == True]\n",
    "MASDEV_BOS_SCI_SELUTE = MASDEV_BOS_SCI_SELUTE.assign(STD_DEVICE='BOS_SCI_SELUTE')\n",
    "productDFs.append(MASDEV_BOS_SCI_SELUTE)\n",
    "MASDEV_BOS_SCI_SELUTE.shape\n",
    "# look more into \"ATRIAL J SELUTE\""
   ]
  },
  {
   "cell_type": "code",
   "execution_count": 431,
   "id": "0b8ab3d9",
   "metadata": {},
   "outputs": [
    {
     "data": {
      "text/plain": [
       "'\\nMASDEV[\"BOS_SCI_TACHY_LEAD_EPI_PATCH\"] = pd.DataFrame(MASDEV[\\'BRAND_NAME\\'].str.contains(\\'TACHY\\', regex=False) &\\n                                        MASDEV[\\'STD_MANUFACTURER\\'].str.contains(\\'BOSTON SCIENTIFIC\\', regex=False))\\nMASDEV_BOS_SCI_TACHY_LEAD_EPI_PATCH = MASDEV[MASDEV[\"BOS_SCI_TACHY_LEAD_EPI_PATCH\"] == True]\\nMASDEV_BOS_SCI_TACHY_LEAD_EPI_PATCH = MASDEV_BOS_SCI_TACHY_LEAD_EPI_PATCH.assign(STD_DEVICE=\\'BOS_SCI_TACHY_LEAD_EPI_PATCH\\')\\nproductDFs.append(MASDEV_BOS_SCI_TACHY_LEAD_EPI_PATCH)\\nMASDEV_BOS_SCI_TACHY_LEAD_EPI_PATCH.shape\\n'"
      ]
     },
     "execution_count": 431,
     "metadata": {},
     "output_type": "execute_result"
    }
   ],
   "source": [
    "'''\n",
    "MASDEV[\"BOS_SCI_TACHY_LEAD_EPI_PATCH\"] = pd.DataFrame(MASDEV['BRAND_NAME'].str.contains('TACHY', regex=False) &\n",
    "                                        MASDEV['STD_MANUFACTURER'].str.contains('BOSTON SCIENTIFIC', regex=False))\n",
    "MASDEV_BOS_SCI_TACHY_LEAD_EPI_PATCH = MASDEV[MASDEV[\"BOS_SCI_TACHY_LEAD_EPI_PATCH\"] == True]\n",
    "MASDEV_BOS_SCI_TACHY_LEAD_EPI_PATCH = MASDEV_BOS_SCI_TACHY_LEAD_EPI_PATCH.assign(STD_DEVICE='BOS_SCI_TACHY_LEAD_EPI_PATCH')\n",
    "productDFs.append(MASDEV_BOS_SCI_TACHY_LEAD_EPI_PATCH)\n",
    "MASDEV_BOS_SCI_TACHY_LEAD_EPI_PATCH.shape\n",
    "'''\n",
    "# no MDRs were found"
   ]
  },
  {
   "cell_type": "code",
   "execution_count": 432,
   "id": "b0df9fb0",
   "metadata": {},
   "outputs": [
    {
     "data": {
      "text/plain": [
       "(129, 85)"
      ]
     },
     "execution_count": 432,
     "metadata": {},
     "output_type": "execute_result"
    }
   ],
   "source": [
    "MASDEV[\"CAMERON_HEALTH_QTRAK\"] = pd.DataFrame(MASDEV['BRAND_NAME'].str.contains('Q-TRAK', regex=False) &\n",
    "                                        MASDEV['STD_MANUFACTURER'].str.contains('CAMERON HEALTH', regex=False))\n",
    "MASDEV_CAMERON_HEALTH_QTRAK = MASDEV[MASDEV[\"CAMERON_HEALTH_QTRAK\"] == True]\n",
    "MASDEV_CAMERON_HEALTH_QTRAK = MASDEV_CAMERON_HEALTH_QTRAK.assign(STD_DEVICE='CAMERON_HEALTH_QTRAK')\n",
    "productDFs.append(MASDEV_CAMERON_HEALTH_QTRAK)\n",
    "MASDEV_CAMERON_HEALTH_QTRAK.shape"
   ]
  },
  {
   "cell_type": "code",
   "execution_count": 433,
   "id": "153109fc",
   "metadata": {},
   "outputs": [
    {
     "data": {
      "text/plain": [
       "'\\nMASDEV[\"MEDTRONIC_AESCULA\"] = pd.DataFrame(MASDEV[\\'BRAND_NAME\\'].str.contains(\\'AESCULA\\', regex=False) &\\n                                        MASDEV[\\'STD_MANUFACTURER\\'].str.contains(\\'MEDTRONIC\\', regex=False))\\nMASDEV_MEDTRONIC_AESCULA = MASDEV[MASDEV[\"MEDTRONIC_AESCULA\"] == True]\\nMASDEV_MEDTRONIC_AESCULA = MASDEV_MEDTRONIC_AESCULA.assign(STD_DEVICE=\\'MEDTRONIC_AESCULA\\')\\nproductDFs.append(MASDEV_MEDTRONIC_AESCULA)\\nMASDEV_MEDTRONIC_AESCULA.shape\\n'"
      ]
     },
     "execution_count": 433,
     "metadata": {},
     "output_type": "execute_result"
    }
   ],
   "source": [
    "'''\n",
    "MASDEV[\"MEDTRONIC_AESCULA\"] = pd.DataFrame(MASDEV['BRAND_NAME'].str.contains('AESCULA', regex=False) &\n",
    "                                        MASDEV['STD_MANUFACTURER'].str.contains('MEDTRONIC', regex=False))\n",
    "MASDEV_MEDTRONIC_AESCULA = MASDEV[MASDEV[\"MEDTRONIC_AESCULA\"] == True]\n",
    "MASDEV_MEDTRONIC_AESCULA = MASDEV_MEDTRONIC_AESCULA.assign(STD_DEVICE='MEDTRONIC_AESCULA')\n",
    "productDFs.append(MASDEV_MEDTRONIC_AESCULA)\n",
    "MASDEV_MEDTRONIC_AESCULA.shape\n",
    "'''\n",
    "# no MDRs were found"
   ]
  },
  {
   "cell_type": "code",
   "execution_count": 434,
   "id": "aac14359",
   "metadata": {},
   "outputs": [
    {
     "data": {
      "text/plain": [
       "(14, 85)"
      ]
     },
     "execution_count": 434,
     "metadata": {},
     "output_type": "execute_result"
    }
   ],
   "source": [
    "MASDEV[\"MEDTRONIC_ATTAIN\"] = pd.DataFrame(MASDEV['BRAND_NAME'].str.contains('ATTAIN', regex=False) &\n",
    "                                        MASDEV['STD_MANUFACTURER'].str.contains('MEDTRONIC', regex=False))\n",
    "MASDEV_MEDTRONIC_ATTAIN = MASDEV[MASDEV[\"MEDTRONIC_ATTAIN\"] == True]\n",
    "MASDEV_MEDTRONIC_ATTAIN = MASDEV_MEDTRONIC_ATTAIN.assign(STD_DEVICE='MEDTRONIC_ATTAIN')\n",
    "productDFs.append(MASDEV_MEDTRONIC_ATTAIN)\n",
    "MASDEV_MEDTRONIC_ATTAIN.shape"
   ]
  },
  {
   "cell_type": "code",
   "execution_count": 435,
   "id": "94acbab7",
   "metadata": {},
   "outputs": [
    {
     "data": {
      "text/plain": [
       "(354, 85)"
      ]
     },
     "execution_count": 435,
     "metadata": {},
     "output_type": "execute_result"
    }
   ],
   "source": [
    "MASDEV[\"MEDTRONIC_CAPSURE\"] = pd.DataFrame(MASDEV['BRAND_NAME'].str.contains('CAPSURE', regex=False) &\n",
    "                                        MASDEV['STD_MANUFACTURER'].str.contains('MEDTRONIC', regex=False))\n",
    "MASDEV_MEDTRONIC_CAPSURE = MASDEV[MASDEV[\"MEDTRONIC_CAPSURE\"] == True]\n",
    "MASDEV_MEDTRONIC_CAPSURE = MASDEV_MEDTRONIC_CAPSURE.assign(STD_DEVICE='MEDTRONIC_CAPSURE')\n",
    "productDFs.append(MASDEV_MEDTRONIC_CAPSURE)\n",
    "MASDEV_MEDTRONIC_CAPSURE.shape"
   ]
  },
  {
   "cell_type": "code",
   "execution_count": 436,
   "id": "45a16e53",
   "metadata": {},
   "outputs": [
    {
     "data": {
      "text/plain": [
       "(97, 85)"
      ]
     },
     "execution_count": 436,
     "metadata": {},
     "output_type": "execute_result"
    }
   ],
   "source": [
    "MASDEV[\"MEDTRONIC_EPICARDIAL_PATCH\"] = pd.DataFrame(MASDEV['BRAND_NAME'].str.contains('EPICARDIAL', regex=False) &\n",
    "                                        MASDEV['STD_MANUFACTURER'].str.contains('MEDTRONIC', regex=False))\n",
    "MASDEV_MEDTRONIC_EPICARDIAL_PATCH = MASDEV[MASDEV[\"MEDTRONIC_EPICARDIAL_PATCH\"] == True]\n",
    "MASDEV_MEDTRONIC_EPICARDIAL_PATCH = MASDEV_MEDTRONIC_EPICARDIAL_PATCH.assign(STD_DEVICE='MEDTRONIC_EPICARDIAL_PATCH')\n",
    "productDFs.append(MASDEV_MEDTRONIC_EPICARDIAL_PATCH)\n",
    "MASDEV_MEDTRONIC_EPICARDIAL_PATCH.shape"
   ]
  },
  {
   "cell_type": "code",
   "execution_count": 437,
   "id": "1f8e37c9",
   "metadata": {},
   "outputs": [
    {
     "data": {
      "text/plain": [
       "(66, 85)"
      ]
     },
     "execution_count": 437,
     "metadata": {},
     "output_type": "execute_result"
    }
   ],
   "source": [
    "MASDEV[\"MEDTRONIC_SELECTSECURE\"] = pd.DataFrame(MASDEV['BRAND_NAME'].str.contains('SELECT', regex=False) &\n",
    "                                                MASDEV[\"BRAND_NAME\"].str.contains(\"SECURE\", regex=False) &\n",
    "                                                MASDEV['STD_MANUFACTURER'].str.contains('MEDTRONIC', regex=False))\n",
    "MASDEV_MEDTRONIC_SELECTSECURE = MASDEV[MASDEV[\"MEDTRONIC_SELECTSECURE\"] == True]\n",
    "MASDEV_MEDTRONIC_SELECTSECURE = MASDEV_MEDTRONIC_SELECTSECURE.assign(STD_DEVICE='MEDTRONIC_SELECTSECURE')\n",
    "productDFs.append(MASDEV_MEDTRONIC_SELECTSECURE)\n",
    "MASDEV_MEDTRONIC_SELECTSECURE.shape"
   ]
  },
  {
   "cell_type": "code",
   "execution_count": 438,
   "id": "beabaf42",
   "metadata": {},
   "outputs": [
    {
     "data": {
      "text/plain": [
       "(4634, 85)"
      ]
     },
     "execution_count": 438,
     "metadata": {},
     "output_type": "execute_result"
    }
   ],
   "source": [
    "MASDEV[\"MEDTRONIC_SPRINT\"] = pd.DataFrame(MASDEV['BRAND_NAME'].str.contains('SPRINT', regex=False) &\n",
    "                                          (MASDEV[\"BRAND_NAME\"].str.contains(\"FID\", regex=False) == False) &\n",
    "                                          (MASDEV[\"BRAND_NAME\"].str.contains(\"FIELIS\", regex=False) == False) &\n",
    "                                          (MASDEV[\"BRAND_NAME\"].str.contains(\"FEDELIS\", regex=False) == False) &\n",
    "                                          ((MASDEV[\"BRAND_NAME\"].str.contains(\" QUAT\", regex=False) == False) &\n",
    "                                           (MASDEV[\"BRAND_NAME\"].str.contains(\"QUADRO\", regex=False) == False)) &\n",
    "                                        MASDEV['STD_MANUFACTURER'].str.contains('MEDTRONIC', regex=False))\n",
    "MASDEV_MEDTRONIC_SPRINT = MASDEV[MASDEV[\"MEDTRONIC_SPRINT\"] == True]\n",
    "MASDEV_MEDTRONIC_SPRINT = MASDEV_MEDTRONIC_SPRINT.assign(STD_DEVICE='MEDTRONIC_SPRINT')\n",
    "productDFs.append(MASDEV_MEDTRONIC_SPRINT)\n",
    "MASDEV_MEDTRONIC_SPRINT.shape"
   ]
  },
  {
   "cell_type": "code",
   "execution_count": 439,
   "id": "86e794a2",
   "metadata": {},
   "outputs": [
    {
     "data": {
      "text/plain": [
       "(14339, 85)"
      ]
     },
     "execution_count": 439,
     "metadata": {},
     "output_type": "execute_result"
    }
   ],
   "source": [
    "MASDEV[\"MEDTRONIC_SPRINT_FIDELIS\"] = pd.DataFrame(MASDEV['BRAND_NAME'].str.contains('SPRINT', regex=False) &\n",
    "                                                    MASDEV[\"BRAND_NAME\"].str.contains(\"FID\", regex=False) &\n",
    "                                                    MASDEV['STD_MANUFACTURER'].str.contains('MEDTRONIC', regex=False))\n",
    "MASDEV_MEDTRONIC_SPRINT_FIDELIS = MASDEV[MASDEV[\"MEDTRONIC_SPRINT_FIDELIS\"] == True]\n",
    "MASDEV_MEDTRONIC_SPRINT_FIDELIS = MASDEV_MEDTRONIC_SPRINT_FIDELIS.assign(STD_DEVICE='MEDTRONIC_SPRINT_FIDELIS')\n",
    "MASDEV_MEDTRONIC_SPRINT_FIDELIS = MASDEV_MEDTRONIC_SPRINT_FIDELIS.assign(RECALL_CLASS='1')\n",
    "productDFs.append(MASDEV_MEDTRONIC_SPRINT_FIDELIS)\n",
    "MASDEV_MEDTRONIC_SPRINT_FIDELIS.shape"
   ]
  },
  {
   "cell_type": "code",
   "execution_count": 440,
   "id": "4fc4b0c3",
   "metadata": {},
   "outputs": [
    {
     "data": {
      "text/plain": [
       "(6057, 85)"
      ]
     },
     "execution_count": 440,
     "metadata": {},
     "output_type": "execute_result"
    }
   ],
   "source": [
    "MASDEV[\"MEDTRONIC_SPRINT_QUATTRO\"] = pd.DataFrame(MASDEV['BRAND_NAME'].str.contains('SPRINT', regex=False) &\n",
    "                                                            MASDEV[\"BRAND_NAME\"].str.contains(\"QU\", regex=False) &\n",
    "                                                            (MASDEV[\"BRAND_NAME\"].str.contains(\"SECURE\", regex=False) == False) &\n",
    "                                                            MASDEV['STD_MANUFACTURER'].str.contains('MEDTRONIC', regex=False))\n",
    "MASDEV_MEDTRONIC_SPRINT_QUATTRO = MASDEV[MASDEV[\"MEDTRONIC_SPRINT_QUATTRO\"] == True]\n",
    "MASDEV_MEDTRONIC_SPRINT_QUATTRO = MASDEV_MEDTRONIC_SPRINT_QUATTRO.assign(STD_DEVICE='MEDTRONIC_SPRINT_QUATTRO')\n",
    "productDFs.append(MASDEV_MEDTRONIC_SPRINT_QUATTRO)\n",
    "MASDEV_MEDTRONIC_SPRINT_QUATTRO.shape"
   ]
  },
  {
   "cell_type": "code",
   "execution_count": 441,
   "id": "3bf2b2ed",
   "metadata": {},
   "outputs": [
    {
     "data": {
      "text/plain": [
       "(38856, 85)"
      ]
     },
     "execution_count": 441,
     "metadata": {},
     "output_type": "execute_result"
    }
   ],
   "source": [
    "MASDEV[\"MEDTRONIC_SPRINT_QUATTRO_SECURE\"] = pd.DataFrame(MASDEV['BRAND_NAME'].str.contains('SPRINT', regex=False) &\n",
    "                                                            MASDEV[\"BRAND_NAME\"].str.contains(\"QU\", regex=False) &\n",
    "                                                            MASDEV[\"BRAND_NAME\"].str.contains(\"SECURE\", regex=False)&\n",
    "                                                            (MASDEV[\"BRAND_NAME\"].str.contains(\" MRI\", regex=False) == False) &\n",
    "                                                            MASDEV['STD_MANUFACTURER'].str.contains('MEDTRONIC', regex=False))\n",
    "MASDEV_MEDTRONIC_SPRINT_QUATTRO_SECURE = MASDEV[MASDEV[\"MEDTRONIC_SPRINT_QUATTRO_SECURE\"] == True]\n",
    "MASDEV_MEDTRONIC_SPRINT_QUATTRO_SECURE = MASDEV_MEDTRONIC_SPRINT_QUATTRO_SECURE.assign(STD_DEVICE='MEDTRONIC_SPRINT_QUATTRO_SECURE')\n",
    "MASDEV_MEDTRONIC_SPRINT_QUATTRO_SECURE = MASDEV_MEDTRONIC_SPRINT_QUATTRO_SECURE.assign(RECALL_CLASS='2')\n",
    "productDFs.append(MASDEV_MEDTRONIC_SPRINT_QUATTRO_SECURE)\n",
    "MASDEV_MEDTRONIC_SPRINT_QUATTRO_SECURE.shape"
   ]
  },
  {
   "cell_type": "code",
   "execution_count": 442,
   "id": "422e6825",
   "metadata": {},
   "outputs": [
    {
     "data": {
      "text/plain": [
       "(10462, 85)"
      ]
     },
     "execution_count": 442,
     "metadata": {},
     "output_type": "execute_result"
    }
   ],
   "source": [
    "MASDEV[\"MEDTRONIC_SPRINT_QUATTRO_SECURE_MRI\"] = pd.DataFrame(MASDEV['BRAND_NAME'].str.contains('SPRINT', regex=False) &\n",
    "                                                            MASDEV[\"BRAND_NAME\"].str.contains(\"QU\", regex=False) &\n",
    "                                                            MASDEV[\"BRAND_NAME\"].str.contains(\"SECURE\", regex=False) &\n",
    "                                                            MASDEV[\"BRAND_NAME\"].str.contains(\" MRI\", regex=False) &\n",
    "                                                            MASDEV['STD_MANUFACTURER'].str.contains('MEDTRONIC', regex=False))\n",
    "MASDEV_MEDTRONIC_SPRINT_QUATTRO_SECURE_MRI = MASDEV[MASDEV[\"MEDTRONIC_SPRINT_QUATTRO_SECURE_MRI\"] == True]\n",
    "MASDEV_MEDTRONIC_SPRINT_QUATTRO_SECURE_MRI = MASDEV_MEDTRONIC_SPRINT_QUATTRO_SECURE_MRI.assign(STD_DEVICE='MEDTRONIC_SPRINT_QUATTRO_SECURE_MRI')\n",
    "productDFs.append(MASDEV_MEDTRONIC_SPRINT_QUATTRO_SECURE_MRI)\n",
    "MASDEV_MEDTRONIC_SPRINT_QUATTRO_SECURE_MRI.shape"
   ]
  },
  {
   "cell_type": "code",
   "execution_count": 443,
   "id": "359f529f",
   "metadata": {},
   "outputs": [
    {
     "data": {
      "text/plain": [
       "(300, 85)"
      ]
     },
     "execution_count": 443,
     "metadata": {},
     "output_type": "execute_result"
    }
   ],
   "source": [
    "MASDEV[\"MEDTRONIC_SUBQ\"] = pd.DataFrame(MASDEV['BRAND_NAME'].str.contains('SUB', regex=False) &\n",
    "                                        MASDEV[\"BRAND_NAME\"].str.contains(\"Q\", regex=False) &\n",
    "                                        MASDEV['STD_MANUFACTURER'].str.contains('MEDTRONIC', regex=False))\n",
    "MASDEV_MEDTRONIC_SUBQ = MASDEV[MASDEV[\"MEDTRONIC_SUBQ\"] == True]\n",
    "MASDEV_MEDTRONIC_SUBQ = MASDEV_MEDTRONIC_SUBQ.assign(STD_DEVICE='MEDTRONIC_SUBQ')\n",
    "productDFs.append(MASDEV_MEDTRONIC_SUBQ)\n",
    "MASDEV_MEDTRONIC_SUBQ.shape"
   ]
  },
  {
   "cell_type": "code",
   "execution_count": 444,
   "id": "1906c48f",
   "metadata": {},
   "outputs": [
    {
     "data": {
      "text/plain": [
       "'\\nMASDEV[\"MEDTRONIC_SVC\"] = pd.DataFrame(MASDEV[\\'BRAND_NAME\\'].str.contains(\\'SVC\\', regex=False) &\\n                                        MASDEV[\\'STD_MANUFACTURER\\'].str.contains(\\'MEDTRONIC\\', regex=False))\\nMASDEV_MEDTRONIC_SVC = MASDEV[MASDEV[\"MEDTRONIC_SVC\"] == True]\\nMASDEV_MEDTRONIC_SVC = MASDEV_MEDTRONIC_SVC.assign(STD_DEVICE=\\'MEDTRONIC_SVC\\')\\nproductDFs.append(productDFs)\\nMASDEV_MEDTRONIC_SVC.shape\\n'"
      ]
     },
     "execution_count": 444,
     "metadata": {},
     "output_type": "execute_result"
    }
   ],
   "source": [
    "# SVC may be part of Transvene, or something other than a product entirely\n",
    "# no information was found on the web, will look into this more\n",
    "'''\n",
    "MASDEV[\"MEDTRONIC_SVC\"] = pd.DataFrame(MASDEV['BRAND_NAME'].str.contains('SVC', regex=False) &\n",
    "                                        MASDEV['STD_MANUFACTURER'].str.contains('MEDTRONIC', regex=False))\n",
    "MASDEV_MEDTRONIC_SVC = MASDEV[MASDEV[\"MEDTRONIC_SVC\"] == True]\n",
    "MASDEV_MEDTRONIC_SVC = MASDEV_MEDTRONIC_SVC.assign(STD_DEVICE='MEDTRONIC_SVC')\n",
    "productDFs.append(productDFs)\n",
    "MASDEV_MEDTRONIC_SVC.shape\n",
    "'''"
   ]
  },
  {
   "cell_type": "code",
   "execution_count": 445,
   "id": "1a9e3a28",
   "metadata": {},
   "outputs": [
    {
     "data": {
      "text/plain": [
       "(2239, 85)"
      ]
     },
     "execution_count": 445,
     "metadata": {},
     "output_type": "execute_result"
    }
   ],
   "source": [
    "MASDEV[\"MEDTRONIC_TRANSVENE\"] = pd.DataFrame(MASDEV['BRAND_NAME'].str.contains('TRANSVENE', regex=False) &\n",
    "                                        MASDEV['STD_MANUFACTURER'].str.contains('MEDTRONIC', regex=False))\n",
    "MASDEV_MEDTRONIC_TRANSVENE = MASDEV[MASDEV[\"MEDTRONIC_TRANSVENE\"] == True]\n",
    "MASDEV_MEDTRONIC_TRANSVENE = MASDEV_MEDTRONIC_TRANSVENE.assign(STD_DEVICE='MEDTRONIC_TRANSVENE')\n",
    "productDFs.append(MASDEV_MEDTRONIC_TRANSVENE)\n",
    "MASDEV_MEDTRONIC_TRANSVENE.shape"
   ]
  },
  {
   "cell_type": "code",
   "execution_count": 446,
   "id": "5560ad1e",
   "metadata": {},
   "outputs": [
    {
     "data": {
      "text/plain": [
       "PARADYM                          1243\n",
       "OVATIO                            662\n",
       "PLATINIUM                         653\n",
       "ISOLINE                           563\n",
       "PARADYM RF                        226\n",
       "ALTO                              212\n",
       "ORCHESTRA                         136\n",
       "ALTO 2                             74\n",
       "PARADYM 2                          66\n",
       "ISOLINE 2CR6                       54\n",
       "INTENSIA                           46\n",
       "SMARTVIEW                          44\n",
       "SWIFT                              20\n",
       "DEFENDER IV                        14\n",
       "ORCHESTRA PLUS LINK                11\n",
       "SMARTVIEW HOTSPOT                  11\n",
       "SITUS                              10\n",
       "ISOLINE 2CT6                       10\n",
       "OVATIO CRT                         10\n",
       "STELID II                           7\n",
       "REPLY                               7\n",
       "SITUS OTW                           6\n",
       "KORA                                6\n",
       "PARADYM CRT                         5\n",
       "REPLY 200                           3\n",
       "SYMPHONY                            3\n",
       "STELIX II                           2\n",
       "PARADYM RF CRT                      2\n",
       "SWIFT 4041                          2\n",
       "LYRA                                2\n",
       "SORIN OVATIO ICD VR-IMPLANTED       1\n",
       "CPR3                                1\n",
       "DEFENDER                            1\n",
       "RHAPSODY                            1\n",
       "OVATIO DR 6550                      1\n",
       "ALT                                 1\n",
       "STELIX                              1\n",
       "PARADYM CRT-D                       1\n",
       "PARADYM DR                          1\n",
       "ALTO 2 VR                           1\n",
       "STELID                              1\n",
       "DEFENDER II                         1\n",
       "VATIO                               1\n",
       "OVATIO CRT DEVICE                   1\n",
       "OVATO                               1\n",
       "DEFONDER IV                         1\n",
       "OPUS                                1\n",
       "ALTC                                1\n",
       "PHYSIQUE                            1\n",
       "UNKNOWN                             1\n",
       "BOC                                 1\n",
       "ELA MEDICAL AICD DEVICE             1\n",
       "STELIX II BRF25D                    1\n",
       "PROTEGO T 65                        1\n",
       "ALTO 614                            1\n",
       "FOCUS                               1\n",
       "PARADYN                             1\n",
       "Name: BRAND_NAME, dtype: int64"
      ]
     },
     "execution_count": 446,
     "metadata": {},
     "output_type": "execute_result"
    }
   ],
   "source": [
    "MASDEV[MASDEV[\"STD_MANUFACTURER\"] == \"SORIN\"][\"BRAND_NAME\"].value_counts()\n",
    "# no MDRs for Sorin Angeflex, Sorin Angepass"
   ]
  },
  {
   "cell_type": "code",
   "execution_count": 447,
   "id": "c34e7470",
   "metadata": {},
   "outputs": [
    {
     "data": {
      "text/plain": [
       "(627, 85)"
      ]
     },
     "execution_count": 447,
     "metadata": {},
     "output_type": "execute_result"
    }
   ],
   "source": [
    "MASDEV[\"SORIN_ISOLINE\"] = pd.DataFrame(MASDEV['BRAND_NAME'].str.contains('ISOLINE', regex=False) &\n",
    "                                        MASDEV['STD_MANUFACTURER'].str.contains('SORIN', regex=False))\n",
    "MASDEV_SORIN_ISOLINE = MASDEV[MASDEV[\"SORIN_ISOLINE\"] == True]\n",
    "MASDEV_SORIN_ISOLINE = MASDEV_SORIN_ISOLINE.assign(STD_DEVICE='SORIN_ISOLINE')\n",
    "MASDEV_SORIN_ISOLINE = MASDEV_SORIN_ISOLINE.assign(RECALL_CLASS=\"2\")\n",
    "productDFs.append(MASDEV_SORIN_ISOLINE)\n",
    "MASDEV_SORIN_ISOLINE.shape\n",
    "# no results were found for \"ISOLENE\", but were found for \"ISOLINE\"\n",
    "# assuming that this is a typo on Dr. Ensign's part"
   ]
  },
  {
   "cell_type": "code",
   "execution_count": 448,
   "id": "aad3e6e2",
   "metadata": {},
   "outputs": [
    {
     "data": {
      "text/plain": [
       "(16, 85)"
      ]
     },
     "execution_count": 448,
     "metadata": {},
     "output_type": "execute_result"
    }
   ],
   "source": [
    "MASDEV[\"SORIN_SITUS\"] = pd.DataFrame(MASDEV['BRAND_NAME'].str.contains('SITUS', regex=False) &\n",
    "                                        MASDEV['STD_MANUFACTURER'].str.contains('SORIN', regex=False))\n",
    "MASDEV_SORIN_SITUS = MASDEV[MASDEV[\"SORIN_SITUS\"] == True]\n",
    "MASDEV_SORIN_SITUS = MASDEV_SORIN_SITUS.assign(STD_DEVICE='SORIN_SITUS')\n",
    "productDFs.append(MASDEV_SORIN_SITUS)\n",
    "MASDEV_SORIN_SITUS.shape"
   ]
  },
  {
   "cell_type": "code",
   "execution_count": 449,
   "id": "0fed385d",
   "metadata": {},
   "outputs": [
    {
     "data": {
      "text/plain": [
       "(7, 85)"
      ]
     },
     "execution_count": 449,
     "metadata": {},
     "output_type": "execute_result"
    }
   ],
   "source": [
    "MASDEV[\"SORIN_STELID_II\"] = pd.DataFrame(MASDEV['BRAND_NAME'].str.contains('STELID', regex=False) &\n",
    "                                         MASDEV[\"BRAND_NAME\"].str.contains(\"II\", regex=False) &\n",
    "                                        MASDEV['STD_MANUFACTURER'].str.contains('SORIN', regex=False))\n",
    "MASDEV_SORIN_STELID_II = MASDEV[MASDEV[\"SORIN_STELID_II\"] == True]\n",
    "MASDEV_SORIN_STELID_II = MASDEV_SORIN_STELID_II.assign(STD_DEVICE='SORIN_STELID_II')\n",
    "productDFs.append(MASDEV_SORIN_STELID_II)\n",
    "MASDEV_SORIN_STELID_II.shape"
   ]
  },
  {
   "cell_type": "code",
   "execution_count": 450,
   "id": "82d718d4",
   "metadata": {},
   "outputs": [
    {
     "data": {
      "text/plain": [
       "(3, 85)"
      ]
     },
     "execution_count": 450,
     "metadata": {},
     "output_type": "execute_result"
    }
   ],
   "source": [
    "MASDEV[\"SORIN_STELIX_II\"] = pd.DataFrame(MASDEV['BRAND_NAME'].str.contains('STELIX', regex=False) &\n",
    "                                         MASDEV[\"BRAND_NAME\"].str.contains(\"II\", regex=False) &\n",
    "                                        MASDEV['STD_MANUFACTURER'].str.contains('SORIN', regex=False))\n",
    "MASDEV_SORIN_STELIX_II = MASDEV[MASDEV[\"SORIN_STELIX_II\"] == True]\n",
    "MASDEV_SORIN_STELIX_II = MASDEV_SORIN_STELIX_II.assign(STD_DEVICE='SORIN_STELIX_II')\n",
    "productDFs.append(MASDEV_SORIN_STELIX_II)\n",
    "MASDEV_SORIN_STELIX_II.shape"
   ]
  },
  {
   "cell_type": "code",
   "execution_count": 451,
   "id": "5e76d5d9",
   "metadata": {},
   "outputs": [
    {
     "data": {
      "text/plain": [
       "(26277, 85)"
      ]
     },
     "execution_count": 451,
     "metadata": {},
     "output_type": "execute_result"
    }
   ],
   "source": [
    "MASDEV[\"STJUDE_DURATA\"] = pd.DataFrame(MASDEV['BRAND_NAME'].str.contains('DURATA', regex=False) &\n",
    "                                        MASDEV['STD_MANUFACTURER'].str.contains('ST. JUDE', regex=False))\n",
    "MASDEV_STJUDE_DURATA = MASDEV[MASDEV[\"STJUDE_DURATA\"] == True]\n",
    "MASDEV_STJUDE_DURATA = MASDEV_STJUDE_DURATA.assign(STD_DEVICE='STJUDE_DURATA')\n",
    "productDFs.append(MASDEV_STJUDE_DURATA)\n",
    "MASDEV_STJUDE_DURATA.shape"
   ]
  },
  {
   "cell_type": "code",
   "execution_count": 452,
   "id": "3c0f5f0c",
   "metadata": {},
   "outputs": [
    {
     "data": {
      "text/plain": [
       "(2029, 85)"
      ]
     },
     "execution_count": 452,
     "metadata": {},
     "output_type": "execute_result"
    }
   ],
   "source": [
    "MASDEV[\"STJUDE_QUARTET\"] = pd.DataFrame(MASDEV['BRAND_NAME'].str.contains('QUARTET', regex=False) &\n",
    "                                        MASDEV['STD_MANUFACTURER'].str.contains('ST. JUDE', regex=False))\n",
    "MASDEV_STJUDE_QUARTET = MASDEV[MASDEV[\"STJUDE_QUARTET\"] == True]\n",
    "MASDEV_STJUDE_QUARTET = MASDEV_STJUDE_QUARTET.assign(STD_DEVICE='STJUDE_QUARTET')\n",
    "productDFs.append(MASDEV_STJUDE_QUARTET)\n",
    "MASDEV_STJUDE_QUARTET.shape"
   ]
  },
  {
   "cell_type": "code",
   "execution_count": 453,
   "id": "50122747",
   "metadata": {},
   "outputs": [
    {
     "data": {
      "text/plain": [
       "(1382, 85)"
      ]
     },
     "execution_count": 453,
     "metadata": {},
     "output_type": "execute_result"
    }
   ],
   "source": [
    "MASDEV[\"STJUDE_QUICKFLEX\"] = pd.DataFrame(MASDEV['BRAND_NAME'].str.contains('QUICKFLEX', regex=False) &\n",
    "                                        MASDEV['STD_MANUFACTURER'].str.contains('ST. JUDE', regex=False))\n",
    "MASDEV_STJUDE_QUICKFLEX = MASDEV[MASDEV[\"STJUDE_QUICKFLEX\"] == True]\n",
    "MASDEV_STJUDE_QUICKFLEX = MASDEV_STJUDE_QUICKFLEX.assign(STD_DEVICE='STJUDE_QUICKFLEX')\n",
    "productDFs.append(MASDEV_STJUDE_QUICKFLEX)\n",
    "MASDEV_STJUDE_QUICKFLEX.shape\n",
    "# no entries for St. Jude Quickflex u were found"
   ]
  },
  {
   "cell_type": "code",
   "execution_count": 454,
   "id": "5db848a0",
   "metadata": {},
   "outputs": [
    {
     "data": {
      "text/plain": [
       "(342, 85)"
      ]
     },
     "execution_count": 454,
     "metadata": {},
     "output_type": "execute_result"
    }
   ],
   "source": [
    "MASDEV[\"STJUDE_QUICKSITE\"] = pd.DataFrame(MASDEV['BRAND_NAME'].str.contains('QUICKSITE', regex=False) &\n",
    "                                        MASDEV['STD_MANUFACTURER'].str.contains('ST. JUDE', regex=False))\n",
    "MASDEV_STJUDE_QUICKSITE = MASDEV[MASDEV[\"STJUDE_QUICKSITE\"] == True]\n",
    "MASDEV_STJUDE_QUICKSITE = MASDEV_STJUDE_QUICKSITE.assign(STD_DEVICE='STJUDE_QUICKSITE')\n",
    "productDFs.append(MASDEV_STJUDE_QUICKSITE)\n",
    "MASDEV_STJUDE_QUICKSITE.shape"
   ]
  },
  {
   "cell_type": "code",
   "execution_count": 455,
   "id": "fecb4b87",
   "metadata": {},
   "outputs": [
    {
     "data": {
      "text/plain": [
       "(17992, 85)"
      ]
     },
     "execution_count": 455,
     "metadata": {},
     "output_type": "execute_result"
    }
   ],
   "source": [
    "MASDEV[\"STJUDE_RIATA\"] = pd.DataFrame(MASDEV['BRAND_NAME'].str.contains('RIATA', regex=False) &\n",
    "                                      (MASDEV[\"BRAND_NAME\"].str.contains(\"ST\", regex=False) == False) &\n",
    "                                        MASDEV['STD_MANUFACTURER'].str.contains('ST. JUDE', regex=False))\n",
    "MASDEV_STJUDE_RIATA = MASDEV[MASDEV[\"STJUDE_RIATA\"] == True]\n",
    "MASDEV_STJUDE_RIATA = MASDEV_STJUDE_RIATA.assign(STD_DEVICE='STJUDE_RIATA')\n",
    "MASDEV_STJUDE_RIATA = MASDEV_STJUDE_RIATA.assign(RECALL_CLASS=\"1\")\n",
    "productDFs.append(MASDEV_STJUDE_RIATA)\n",
    "MASDEV_STJUDE_RIATA.shape"
   ]
  },
  {
   "cell_type": "code",
   "execution_count": 456,
   "id": "7b7c6ebc",
   "metadata": {},
   "outputs": [
    {
     "data": {
      "text/plain": [
       "(6321, 85)"
      ]
     },
     "execution_count": 456,
     "metadata": {},
     "output_type": "execute_result"
    }
   ],
   "source": [
    "MASDEV[\"STJUDE_RIATA_ST\"] = pd.DataFrame(MASDEV['BRAND_NAME'].str.contains('RIATA', regex=False) &\n",
    "                                            MASDEV[\"BRAND_NAME\"].str.contains(\"ST\", regex=False) &\n",
    "                                            (MASDEV[\"BRAND_NAME\"].str.contains(\"OPTIM\", regex=False) == False) &\n",
    "                                            MASDEV['STD_MANUFACTURER'].str.contains('ST. JUDE', regex=False))\n",
    "MASDEV_STJUDE_RIATA_ST = MASDEV[MASDEV[\"STJUDE_RIATA_ST\"] == True]\n",
    "MASDEV_STJUDE_RIATA_ST = MASDEV_STJUDE_RIATA_ST.assign(STD_DEVICE='STJUDE_RIATA_ST')\n",
    "MASDEV_STJUDE_RIATA_ST = MASDEV_STJUDE_RIATA_ST.assign(RECALL_CLASS=\"1\")\n",
    "productDFs.append(MASDEV_STJUDE_RIATA_ST)\n",
    "MASDEV_STJUDE_RIATA_ST.shape"
   ]
  },
  {
   "cell_type": "code",
   "execution_count": 457,
   "id": "4c1f0746",
   "metadata": {},
   "outputs": [
    {
     "data": {
      "text/plain": [
       "(2435, 85)"
      ]
     },
     "execution_count": 457,
     "metadata": {},
     "output_type": "execute_result"
    }
   ],
   "source": [
    "MASDEV[\"STJUDE_RIATA_ST_OPTIM\"] = pd.DataFrame(MASDEV['BRAND_NAME'].str.contains('RIATA', regex=False) &\n",
    "                                                MASDEV[\"BRAND_NAME\"].str.contains(\"ST\", regex=False) &\n",
    "                                                MASDEV[\"BRAND_NAME\"].str.contains(\"OPTIM\", regex=False) &\n",
    "                                                MASDEV['STD_MANUFACTURER'].str.contains('ST. JUDE', regex=False))\n",
    "MASDEV_STJUDE_RIATA_ST_OPTIM = MASDEV[MASDEV[\"STJUDE_RIATA_ST_OPTIM\"] == True]\n",
    "MASDEV_STJUDE_RIATA_ST_OPTIM = MASDEV_STJUDE_RIATA_ST_OPTIM.assign(STD_DEVICE='STJUDE_RIATA_ST_OPTIM')\n",
    "productDFs.append(MASDEV_STJUDE_RIATA_ST_OPTIM)\n",
    "MASDEV_STJUDE_RIATA_ST_OPTIM.shape"
   ]
  },
  {
   "cell_type": "code",
   "execution_count": 458,
   "id": "f0b68e58",
   "metadata": {},
   "outputs": [
    {
     "data": {
      "text/plain": [
       "(479, 85)"
      ]
     },
     "execution_count": 458,
     "metadata": {},
     "output_type": "execute_result"
    }
   ],
   "source": [
    "MASDEV[\"STJUDE_SPL\"] = pd.DataFrame(MASDEV['BRAND_NAME'].str.contains('SPL', regex=False) &\n",
    "                                        MASDEV['STD_MANUFACTURER'].str.contains('ST. JUDE', regex=False))\n",
    "MASDEV_STJUDE_SPL = MASDEV[MASDEV[\"STJUDE_SPL\"] == True]\n",
    "MASDEV_STJUDE_SPL = MASDEV_STJUDE_SPL.assign(STD_DEVICE='STJUDE_SPL')\n",
    "productDFs.append(MASDEV_STJUDE_SPL)\n",
    "MASDEV_STJUDE_SPL.shape"
   ]
  },
  {
   "cell_type": "code",
   "execution_count": 459,
   "id": "4ab68a18",
   "metadata": {},
   "outputs": [
    {
     "data": {
      "text/plain": [
       "(11, 85)"
      ]
     },
     "execution_count": 459,
     "metadata": {},
     "output_type": "execute_result"
    }
   ],
   "source": [
    "MASDEV[\"STJUDE_TENDRIL\"] = pd.DataFrame(MASDEV['BRAND_NAME'].str.contains('TENDRIL', regex=False) &\n",
    "                                        MASDEV['STD_MANUFACTURER'].str.contains('ST. JUDE', regex=False))\n",
    "MASDEV_STJUDE_TENDRIL = MASDEV[MASDEV[\"STJUDE_TENDRIL\"] == True]\n",
    "MASDEV_STJUDE_TENDRIL = MASDEV_STJUDE_TENDRIL.assign(STD_DEVICE='STJUDE_TENDRIL')\n",
    "productDFs.append(MASDEV_STJUDE_TENDRIL)\n",
    "MASDEV_STJUDE_TENDRIL.shape"
   ]
  },
  {
   "cell_type": "code",
   "execution_count": 460,
   "id": "c98f22f5",
   "metadata": {},
   "outputs": [
    {
     "data": {
      "text/plain": [
       "(125, 85)"
      ]
     },
     "execution_count": 460,
     "metadata": {},
     "output_type": "execute_result"
    }
   ],
   "source": [
    "MASDEV[\"STJUDE_TVL\"] = pd.DataFrame(MASDEV['BRAND_NAME'].str.contains('TVL', regex=False) &\n",
    "                                        (MASDEV[\"BRAND_NAME\"].str.contains(\"ADX\", regex=False) == False) &\n",
    "                                        (MASDEV[\"BRAND_NAME\"].str.contains(\"ADC\", regex=False) == False) &\n",
    "                                        MASDEV['STD_MANUFACTURER'].str.contains('ST. JUDE', regex=False))\n",
    "MASDEV_STJUDE_TVL = MASDEV[MASDEV[\"STJUDE_TVL\"] == True]\n",
    "MASDEV_STJUDE_TVL = MASDEV_STJUDE_TVL.assign(STD_DEVICE='STJUDE_TVL')\n",
    "productDFs.append(MASDEV_STJUDE_TVL)\n",
    "MASDEV_STJUDE_TVL.shape"
   ]
  },
  {
   "cell_type": "code",
   "execution_count": 461,
   "id": "03d9e132",
   "metadata": {},
   "outputs": [
    {
     "data": {
      "text/plain": [
       "(440, 85)"
      ]
     },
     "execution_count": 461,
     "metadata": {},
     "output_type": "execute_result"
    }
   ],
   "source": [
    "MASDEV[\"STJUDE_TVL_ADX\"] = pd.DataFrame(MASDEV['BRAND_NAME'].str.contains('TVL', regex=False) &\n",
    "                                        (MASDEV[\"BRAND_NAME\"].str.contains(\"ADX\", regex=False) |\n",
    "                                         MASDEV[\"BRAND_NAME\"].str.contains(\"ADC\", regex=False)) &\n",
    "                                        MASDEV['STD_MANUFACTURER'].str.contains('ST. JUDE', regex=False))\n",
    "MASDEV_STJUDE_TVL_ADX = MASDEV[MASDEV[\"STJUDE_TVL_ADX\"] == True]\n",
    "MASDEV_STJUDE_TVL_ADX = MASDEV_STJUDE_TVL_ADX.assign(STD_DEVICE='STJUDE_TVL_ADX')\n",
    "productDFs.append(MASDEV_STJUDE_TVL_ADX)\n",
    "MASDEV_STJUDE_TVL_ADX.shape"
   ]
  },
  {
   "cell_type": "code",
   "execution_count": 462,
   "id": "e2646b05",
   "metadata": {},
   "outputs": [
    {
     "data": {
      "text/plain": [
       "TVL ADX                                                         218\n",
       "TVL-ADX ACTIVE-FIXATION STEROID-ELUTING                         112\n",
       "TVL-ADX ACTIVE FIXATION LEAD                                     38\n",
       "TVL-ADX ACTIVE-FIXATION STEROID-ELUTING TACHYARRHYTHMIA          37\n",
       "TVL-ADX ACTIVE-FIXATION STEROID-ELUTING TACHYARRHYTHMIA LEAD     15\n",
       "TVL-ADX ACTIVE-FIXATION LEAD                                      4\n",
       "TVL-ADX ACTIVE-FIXATION STEROID ELUTING                           3\n",
       "TVL-ADX ACTIVE-FIXATION STERIOD-ELUTING                           3\n",
       "TVL-ADX ACTIVE FIXATION STEROID ELUTING TACHYARRHYTHMIA           2\n",
       "TVL-ADX ACTIVE FIXATION STEROID-ELUTING TACHYARRHYTHMIA           2\n",
       "TVL-ADX ACTIVE-FIXATION STEROID ELUTING TACHYARRHYTHMIA           1\n",
       "TVL-ADX ACTIVE-FIXATION STERIOD-ELUTING TACHYARRHYTHMIA LEAD      1\n",
       "TVL-ADC ACTIVE-FIXATION STEROID-ELUTING                           1\n",
       "TVL-ADX ACTIVE-FIXATION STERIOID-ELUTING                          1\n",
       "TVL-ADX 1559 ICD LEAD                                             1\n",
       "TVL ADX ACTIVE-FIXATION STEROID-ELUTING TACHYARRHYTHMIA           1\n",
       "Name: BRAND_NAME, dtype: int64"
      ]
     },
     "execution_count": 462,
     "metadata": {},
     "output_type": "execute_result"
    }
   ],
   "source": [
    "# \"moving\" cell that I used to check the accepted values for each product df\n",
    "MASDEV_STJUDE_TVL_ADX[\"BRAND_NAME\"].value_counts()"
   ]
  },
  {
   "cell_type": "code",
   "execution_count": 463,
   "id": "28dd2345",
   "metadata": {},
   "outputs": [
    {
     "name": "stdout",
     "output_type": "stream",
     "text": [
      "BIOTRONIK_COROX_OTW\n",
      "BIOTRONIK_KAINOX\n",
      "BIOTRONIK_KENTROX\n",
      "BIOTRONIK_KENTROX_STEROID\n",
      "BIOTRONIK_LINOX\n",
      "BIOTRONIK_LINOX_SMART\n",
      "BIOTRONIK_LINOX_SMART_PROMRI\n",
      "BIOTRONIK_LUMAX\n",
      "BIOTRONIK_SELOX\n",
      "BIOTRONIK_VIGILA_1\n",
      "BIOTRONIK_VIGILA_2\n",
      "BOS_SCI_ACUITY\n",
      "BOS_SCI_EASYTRAK\n",
      "BOS_SCI_EASYTRAK2\n",
      "BOS_SCI_EASYTRAK3\n",
      "BOS_SCI_ENDOTAK\n",
      "BOS_SCI_ENDOTAK_ENDURANCE\n",
      "BOS_SCI_ENDOTAK_DSP\n",
      "BOS_SCI_ENDOTAK_RELIANCE\n",
      "BOS_SCI_ENDOTAK_SQ\n",
      "BOS_SCI_FINELINE\n",
      "BOS_SCI_FLEXTEND\n",
      "BOS_SCI_FLEXTEND2\n",
      "BOS_SCI_INTERVENE\n",
      "BOS_SCI_SELUTE\n",
      "CAMERON_HEALTH_QTRAK\n",
      "MEDTRONIC_ATTAIN\n",
      "MEDTRONIC_CAPSURE\n",
      "MEDTRONIC_EPICARDIAL_PATCH\n",
      "MEDTRONIC_SELECTSECURE\n",
      "MEDTRONIC_SPRINT\n",
      "MEDTRONIC_SPRINT_FIDELIS\n",
      "MEDTRONIC_SPRINT_QUATTRO\n",
      "MEDTRONIC_SPRINT_QUATTRO_SECURE\n",
      "MEDTRONIC_SPRINT_QUATTRO_SECURE_MRI\n",
      "MEDTRONIC_SUBQ\n",
      "MEDTRONIC_TRANSVENE\n",
      "SORIN_ISOLINE\n",
      "SORIN_SITUS\n",
      "SORIN_STELID_II\n",
      "SORIN_STELIX_II\n",
      "STJUDE_DURATA\n",
      "STJUDE_QUARTET\n",
      "STJUDE_QUICKFLEX\n",
      "STJUDE_QUICKSITE\n",
      "STJUDE_RIATA\n",
      "STJUDE_RIATA_ST\n",
      "STJUDE_RIATA_ST_OPTIM\n",
      "STJUDE_SPL\n",
      "STJUDE_TENDRIL\n",
      "STJUDE_TVL\n",
      "STJUDE_TVL_ADX\n"
     ]
    }
   ],
   "source": [
    "# check if all dfs were added to productDFs\n",
    "for df in productDFs:\n",
    "        print(df[\"STD_DEVICE\"].iloc[0])"
   ]
  },
  {
   "cell_type": "code",
   "execution_count": 464,
   "id": "fb057dd3",
   "metadata": {},
   "outputs": [
    {
     "name": "stdout",
     "output_type": "stream",
     "text": [
      "(55, 85)\n",
      "(135, 85)\n",
      "(237, 85)\n",
      "(542, 85)\n",
      "(4253, 85)\n",
      "(7251, 85)\n",
      "(8325, 85)\n",
      "(10526, 85)\n",
      "(10561, 85)\n",
      "(10669, 85)\n",
      "(10755, 85)\n",
      "(11265, 85)\n",
      "(11856, 85)\n",
      "(14217, 85)\n",
      "(14349, 85)\n",
      "(14987, 85)\n",
      "(16888, 85)\n",
      "(18165, 85)\n",
      "(47519, 85)\n",
      "(47629, 85)\n",
      "(47634, 85)\n",
      "(47639, 85)\n",
      "(47750, 85)\n",
      "(47831, 85)\n",
      "(48306, 85)\n",
      "(48435, 85)\n",
      "(48449, 85)\n",
      "(48803, 85)\n",
      "(48900, 85)\n",
      "(48966, 85)\n",
      "(53600, 85)\n",
      "(67939, 85)\n",
      "(73996, 85)\n",
      "(112852, 85)\n",
      "(123314, 85)\n",
      "(123614, 85)\n",
      "(125853, 85)\n",
      "(126480, 85)\n",
      "(126496, 85)\n",
      "(126503, 85)\n",
      "(126506, 85)\n",
      "(152783, 85)\n",
      "(154812, 85)\n",
      "(156194, 85)\n",
      "(156536, 85)\n",
      "(174528, 85)\n",
      "(180849, 85)\n",
      "(183284, 85)\n",
      "(183763, 85)\n",
      "(183774, 85)\n",
      "(183899, 85)\n",
      "(184339, 85)\n"
     ]
    }
   ],
   "source": [
    "# merge the dfs in productDFs\n",
    "\n",
    "for df in productDFs:\n",
    "    MASDEV2 = MASDEV2.append(df)\n",
    "    print(MASDEV2.shape)"
   ]
  },
  {
   "cell_type": "code",
   "execution_count": 465,
   "id": "a9693c2b",
   "metadata": {},
   "outputs": [
    {
     "data": {
      "text/plain": [
       "MEDTRONIC_SPRINT_QUATTRO_SECURE        38856\n",
       "BOS_SCI_ENDOTAK_RELIANCE               29354\n",
       "STJUDE_DURATA                          26277\n",
       "STJUDE_RIATA                           17992\n",
       "MEDTRONIC_SPRINT_FIDELIS               14339\n",
       "MEDTRONIC_SPRINT_QUATTRO_SECURE_MRI    10462\n",
       "STJUDE_RIATA_ST                         6321\n",
       "MEDTRONIC_SPRINT_QUATTRO                6057\n",
       "MEDTRONIC_SPRINT                        4634\n",
       "BIOTRONIK_LINOX                         3711\n",
       "BIOTRONIK_LINOX_SMART                   2998\n",
       "STJUDE_RIATA_ST_OPTIM                   2435\n",
       "BOS_SCI_EASYTRAK2                       2361\n",
       "MEDTRONIC_TRANSVENE                     2239\n",
       "BIOTRONIK_LUMAX                         2201\n",
       "STJUDE_QUARTET                          2029\n",
       "BOS_SCI_ENDOTAK_ENDURANCE               1901\n",
       "STJUDE_QUICKFLEX                        1382\n",
       "BOS_SCI_ENDOTAK_DSP                     1277\n",
       "BIOTRONIK_LINOX_SMART_PROMRI            1074\n",
       "BOS_SCI_ENDOTAK                          638\n",
       "SORIN_ISOLINE                            627\n",
       "BOS_SCI_EASYTRAK                         591\n",
       "BOS_SCI_ACUITY                           510\n",
       "STJUDE_SPL                               479\n",
       "BOS_SCI_SELUTE                           475\n",
       "STJUDE_TVL_ADX                           440\n",
       "MEDTRONIC_CAPSURE                        354\n",
       "STJUDE_QUICKSITE                         342\n",
       "BIOTRONIK_KENTROX_STEROID                305\n",
       "MEDTRONIC_SUBQ                           300\n",
       "BOS_SCI_EASYTRAK3                        132\n",
       "CAMERON_HEALTH_QTRAK                     129\n",
       "STJUDE_TVL                               125\n",
       "BOS_SCI_FLEXTEND2                        111\n",
       "BOS_SCI_ENDOTAK_SQ                       110\n",
       "BIOTRONIK_VIGILA_1                       108\n",
       "BIOTRONIK_KENTROX                        102\n",
       "MEDTRONIC_EPICARDIAL_PATCH                97\n",
       "BIOTRONIK_VIGILA_2                        86\n",
       "BOS_SCI_INTERVENE                         81\n",
       "BIOTRONIK_KAINOX                          80\n",
       "MEDTRONIC_SELECTSECURE                    66\n",
       "BIOTRONIK_COROX_OTW                       49\n",
       "BIOTRONIK_SELOX                           35\n",
       "SORIN_SITUS                               16\n",
       "MEDTRONIC_ATTAIN                          14\n",
       "STJUDE_TENDRIL                            11\n",
       "SORIN_STELID_II                            7\n",
       "BIOTRONIK_AROX                             6\n",
       "BOS_SCI_FLEXTEND                           5\n",
       "BOS_SCI_FINELINE                           5\n",
       "SORIN_STELIX_II                            3\n",
       "Name: STD_DEVICE, dtype: int64"
      ]
     },
     "execution_count": 465,
     "metadata": {},
     "output_type": "execute_result"
    }
   ],
   "source": [
    "MASDEV2[\"STD_DEVICE\"].value_counts()"
   ]
  },
  {
   "cell_type": "code",
   "execution_count": 466,
   "id": "efa6a0fc",
   "metadata": {},
   "outputs": [
    {
     "data": {
      "text/plain": [
       "0    106204\n",
       "2     39483\n",
       "1     38652\n",
       "Name: RECALL_CLASS, dtype: int64"
      ]
     },
     "execution_count": 466,
     "metadata": {},
     "output_type": "execute_result"
    }
   ],
   "source": [
    "MASDEV2[\"RECALL_CLASS\"].value_counts()"
   ]
  },
  {
   "cell_type": "code",
   "execution_count": 467,
   "id": "d3797820",
   "metadata": {},
   "outputs": [
    {
     "name": "stdout",
     "output_type": "stream",
     "text": [
      "the shape of MASDEV2 is: (184339, 85)\n",
      "the shape of MASDEV2 after column removal is: (184339, 32)\n",
      "Index(['MDR_REPORT_KEY', 'REPORT_NUMBER', 'REPORT_SOURCE_CODE',\n",
      "       'MANUFACTURER_LINK_FLAG_', 'ADVERSE_EVENT_FLAG', 'PRODUCT_PROBLEM_FLAG',\n",
      "       'DATE_OF_EVENT', 'REPORTER_OCCUPATION_CODE', 'HEALTH_PROFESSIONAL',\n",
      "       'INITIAL_REPORT_TO_FDA', 'REPORT_TO_FDA', 'EVENT_LOCATION',\n",
      "       'EVENT_TYPE', 'TYPE_OF_REPORT', 'DATE_ADDED', 'DATE_CHANGED',\n",
      "       'REPORTER_COUNTRY_CODE', 'SUMMARY_REPORT', 'DEVICE_SEQUENCE_NO',\n",
      "       'DEVICE_SEQUENCE_NO', 'DATE_RECEIVED', 'BRAND_NAME', 'GENERIC_NAME',\n",
      "       'DEVICE_OPERATOR', 'MODEL_NUMBER', 'DEVICE_REPORT_PRODUCT_CODE',\n",
      "       'DEVICE_AGE_TEXT', 'DEVICE_EVALUATED_BY_MANUFACTUR', 'year',\n",
      "       'STD_MANUFACTURER', 'STD_DEVICE', 'RECALL_CLASS'],\n",
      "      dtype='object')\n"
     ]
    }
   ],
   "source": [
    "# remove unwanted columns\n",
    "print(\"the shape of MASDEV2 is: \" + str(MASDEV2.shape))\n",
    "\n",
    "keptCols = ['MDR_REPORT_KEY',\n",
    "            'REPORT_NUMBER',\n",
    "            'REPORT_SOURCE_CODE',\n",
    "            'MANUFACTURER_LINK_FLAG_',\n",
    "            'ADVERSE_EVENT_FLAG',\n",
    "            'PRODUCT_PROBLEM_FLAG',\n",
    "            'DATE_OF_EVENT',\n",
    "            'REPORTER_OCCUPATION_CODE',\n",
    "            'HEALTH_PROFESSIONAL',\n",
    "            'INITIAL_REPORT_TO_FDA',\n",
    "            'REPORT_TO_FDA',\n",
    "            'EVENT_LOCATION',\n",
    "            'EVENT_TYPE',\n",
    "            'TYPE_OF_REPORT',\n",
    "            'DATE_ADDED',\n",
    "            'DATE_CHANGED',\n",
    "            'REPORTER_COUNTRY_CODE',\n",
    "            'SUMMARY_REPORT',\n",
    "            'DEVICE_SEQUENCE_NO',\n",
    "            'DATE_RECEIVED',\n",
    "            'BRAND_NAME',\n",
    "            'GENERIC_NAME',\n",
    "            'DEVICE_OPERATOR',\n",
    "            'MODEL_NUMBER',\n",
    "            'DEVICE_REPORT_PRODUCT_CODE',\n",
    "            'DEVICE_AGE_TEXT',\n",
    "            'DEVICE_EVALUATED_BY_MANUFACTUR',\n",
    "            'year',\n",
    "            'STD_MANUFACTURER',\n",
    "            'STD_DEVICE',\n",
    "            'RECALL_CLASS']\n",
    "\n",
    "MASDEV2 = MASDEV2[keptCols]\n",
    "print(\"the shape of MASDEV2 after column removal is: \" + str(MASDEV2.shape))\n",
    "print(MASDEV2.columns)"
   ]
  },
  {
   "cell_type": "code",
   "execution_count": 468,
   "id": "869f0366",
   "metadata": {},
   "outputs": [],
   "source": [
    "MASDEV2.to_pickle(\"./3_MASTER_DEVICE_File_wSTDDEVICE.pkl\")"
   ]
  },
  {
   "cell_type": "code",
   "execution_count": 469,
   "id": "7910498a",
   "metadata": {},
   "outputs": [],
   "source": [
    "# work from below here is related to selecting the right dates"
   ]
  },
  {
   "cell_type": "code",
   "execution_count": 470,
   "id": "ded95b2c",
   "metadata": {},
   "outputs": [
    {
     "name": "stdout",
     "output_type": "stream",
     "text": [
      "<class 'pandas.core.frame.DataFrame'>\n",
      "Int64Index: 184339 entries, 28790 to 410124\n",
      "Data columns (total 32 columns):\n",
      " #   Column                          Non-Null Count   Dtype \n",
      "---  ------                          --------------   ----- \n",
      " 0   MDR_REPORT_KEY                  184339 non-null  object\n",
      " 1   REPORT_NUMBER                   184339 non-null  object\n",
      " 2   REPORT_SOURCE_CODE              184339 non-null  object\n",
      " 3   MANUFACTURER_LINK_FLAG_         184339 non-null  object\n",
      " 4   ADVERSE_EVENT_FLAG              184245 non-null  object\n",
      " 5   PRODUCT_PROBLEM_FLAG            184256 non-null  object\n",
      " 6   DATE_OF_EVENT                   167218 non-null  object\n",
      " 7   REPORTER_OCCUPATION_CODE        178744 non-null  object\n",
      " 8   HEALTH_PROFESSIONAL             177395 non-null  object\n",
      " 9   INITIAL_REPORT_TO_FDA           180453 non-null  object\n",
      " 10  REPORT_TO_FDA                   137341 non-null  object\n",
      " 11  EVENT_LOCATION                  147625 non-null  object\n",
      " 12  EVENT_TYPE                      184339 non-null  object\n",
      " 13  TYPE_OF_REPORT                  184339 non-null  object\n",
      " 14  DATE_ADDED                      184339 non-null  object\n",
      " 15  DATE_CHANGED                    184339 non-null  object\n",
      " 16  REPORTER_COUNTRY_CODE           136826 non-null  object\n",
      " 17  SUMMARY_REPORT                  184339 non-null  object\n",
      " 18  DEVICE_SEQUENCE_NO              184339 non-null  object\n",
      " 19  DEVICE_SEQUENCE_NO              184339 non-null  object\n",
      " 20  DATE_RECEIVED                   184339 non-null  object\n",
      " 21  BRAND_NAME                      184339 non-null  object\n",
      " 22  GENERIC_NAME                    176781 non-null  object\n",
      " 23  DEVICE_OPERATOR                 184338 non-null  object\n",
      " 24  MODEL_NUMBER                    184304 non-null  object\n",
      " 25  DEVICE_REPORT_PRODUCT_CODE      184339 non-null  object\n",
      " 26  DEVICE_AGE_TEXT                 110062 non-null  object\n",
      " 27  DEVICE_EVALUATED_BY_MANUFACTUR  183657 non-null  object\n",
      " 28  year                            184339 non-null  int64 \n",
      " 29  STD_MANUFACTURER                184339 non-null  object\n",
      " 30  STD_DEVICE                      184339 non-null  object\n",
      " 31  RECALL_CLASS                    184339 non-null  object\n",
      "dtypes: int64(1), object(31)\n",
      "memory usage: 46.4+ MB\n"
     ]
    }
   ],
   "source": [
    "MASDEV2.info()\n",
    "# \"DATE_OF_EVENT\", \"DATE_ADDED\", \"DATE_CHANGED\", \"DATE_RECEIVED\" all have date-related information stored\n",
    "# Dr. Ensign uses \"DATE_RECEIVED\", so I will use it here"
   ]
  },
  {
   "cell_type": "code",
   "execution_count": 471,
   "id": "f62f40ac",
   "metadata": {},
   "outputs": [
    {
     "data": {
      "text/plain": [
       "28790     2007/07/31\n",
       "30694     2007/08/14\n",
       "30721     2007/08/22\n",
       "31540     2007/09/17\n",
       "31541     2007/09/17\n",
       "             ...    \n",
       "389592    2019/09/16\n",
       "394059    2019/10/30\n",
       "395628    2019/11/14\n",
       "398013    2019/12/16\n",
       "410124    2020/04/16\n",
       "Name: DATE_RECEIVED, Length: 184339, dtype: object"
      ]
     },
     "execution_count": 471,
     "metadata": {},
     "output_type": "execute_result"
    }
   ],
   "source": [
    "MASDEV2['DATE_RECEIVED']"
   ]
  },
  {
   "cell_type": "code",
   "execution_count": 472,
   "id": "17d15aa9",
   "metadata": {},
   "outputs": [
    {
     "name": "stdout",
     "output_type": "stream",
     "text": [
      "MASDEV2.shape: (184339, 32)\n",
      "MASDEV2_Before2013.shape: (76433, 33)\n"
     ]
    }
   ],
   "source": [
    "print(\"MASDEV2.shape: \" + str(MASDEV2.shape))\n",
    "\n",
    "MASDEV2[\"Before2013\"] = pd.DataFrame(MASDEV2['DATE_RECEIVED'].str.contains('2000', regex=False) |\n",
    "                                        MASDEV2[\"DATE_RECEIVED\"].str.contains(\"2001\", regex=False) |\n",
    "                                        MASDEV2['DATE_RECEIVED'].str.contains('2002', regex=False) |\n",
    "                                        MASDEV2[\"DATE_RECEIVED\"].str.contains(\"2003\", regex=False) |\n",
    "                                        MASDEV2['DATE_RECEIVED'].str.contains('2004', regex=False) |\n",
    "                                        MASDEV2[\"DATE_RECEIVED\"].str.contains(\"2005\", regex=False) |\n",
    "                                        MASDEV2['DATE_RECEIVED'].str.contains('2006', regex=False) |\n",
    "                                        MASDEV2[\"DATE_RECEIVED\"].str.contains(\"2007\", regex=False) |\n",
    "                                        MASDEV2['DATE_RECEIVED'].str.contains('2008', regex=False) |\n",
    "                                        MASDEV2[\"DATE_RECEIVED\"].str.contains(\"2009\", regex=False) |\n",
    "                                        MASDEV2['DATE_RECEIVED'].str.contains('2010', regex=False) |\n",
    "                                        MASDEV2[\"DATE_RECEIVED\"].str.contains(\"2011\", regex=False) |\n",
    "                                        MASDEV2['DATE_RECEIVED'].str.contains('2012', regex=False) |\n",
    "                                        MASDEV2[\"DATE_RECEIVED\"].str.contains(\"2013\", regex=False)\n",
    "                                    )\n",
    "MASDEV2_Before2013 = MASDEV2[MASDEV2[\"Before2013\"] == True]\n",
    "print(\"MASDEV2_Before2013.shape: \" + str(MASDEV2_Before2013.shape))"
   ]
  },
  {
   "cell_type": "code",
   "execution_count": 473,
   "id": "4659dd1e",
   "metadata": {},
   "outputs": [],
   "source": [
    "MASDEV2_Before2013.to_pickle(\"./3_MASTER_DEVICE_File_wSTDDEVICE_2000to2013.pkl\")"
   ]
  },
  {
   "cell_type": "code",
   "execution_count": null,
   "id": "f81785c7",
   "metadata": {},
   "outputs": [],
   "source": []
  }
 ],
 "metadata": {
  "kernelspec": {
   "display_name": "Python 3",
   "language": "python",
   "name": "python3"
  },
  "language_info": {
   "codemirror_mode": {
    "name": "ipython",
    "version": 3
   },
   "file_extension": ".py",
   "mimetype": "text/x-python",
   "name": "python",
   "nbconvert_exporter": "python",
   "pygments_lexer": "ipython3",
   "version": "3.8.8"
  }
 },
 "nbformat": 4,
 "nbformat_minor": 5
}
