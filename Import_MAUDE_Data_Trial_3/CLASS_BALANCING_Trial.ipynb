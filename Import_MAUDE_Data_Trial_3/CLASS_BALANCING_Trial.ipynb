{
 "cells": [
  {
   "cell_type": "code",
   "execution_count": 1,
   "id": "95a529b3",
   "metadata": {},
   "outputs": [],
   "source": [
    "import numpy as np\n",
    "import pandas as pd\n",
    "import numpy as np\n",
    "import pandas as pd\n",
    "import sys\n",
    "import csv\n",
    "import functools\n",
    "from functools import reduce\n",
    "import seaborn as sns\n",
    "import matplotlib.pyplot as plt\n",
    "from datetime import datetime\n",
    "import re\n",
    "import string\n",
    "\n",
    "import nltk\n",
    "from nltk.corpus import stopwords\n",
    "from nltk.stem.porter import PorterStemmer\n",
    "from sklearn.feature_extraction.text import CountVectorizer\n",
    "from sklearn.model_selection import train_test_split\n",
    "from sklearn.naive_bayes import GaussianNB\n",
    "from sklearn.metrics import confusion_matrix, classification_report\n",
    "from sklearn.tree import DecisionTreeClassifier\n",
    "from sklearn.ensemble import RandomForestClassifier"
   ]
  },
  {
   "cell_type": "code",
   "execution_count": 32,
   "id": "ce677e70",
   "metadata": {},
   "outputs": [
    {
     "data": {
      "text/plain": [
       "(42208, 42)"
      ]
     },
     "execution_count": 32,
     "metadata": {},
     "output_type": "execute_result"
    }
   ],
   "source": [
    "df = pd.read_pickle(\"./3_COMB_File_CLEANED_1.pkl\")\n",
    "df.shape"
   ]
  },
  {
   "cell_type": "code",
   "execution_count": 33,
   "id": "3a9a8519",
   "metadata": {
    "scrolled": true
   },
   "outputs": [
    {
     "data": {
      "text/plain": [
       "<AxesSubplot:xlabel='RECALL_CLASS', ylabel='count'>"
      ]
     },
     "execution_count": 33,
     "metadata": {},
     "output_type": "execute_result"
    },
    {
     "data": {
      "image/png": "[encoded data removed]",
      "text/plain": [
       "<Figure size 432x288 with 1 Axes>"
      ]
     },
     "metadata": {
      "needs_background": "light"
     },
     "output_type": "display_data"
    }
   ],
   "source": [
    "sns.countplot(x=\"RECALL_CLASS\", data=df)"
   ]
  },
  {
   "cell_type": "code",
   "execution_count": 34,
   "id": "3cafc5ed",
   "metadata": {},
   "outputs": [
    {
     "name": "stdout",
     "output_type": "stream",
     "text": [
      "(32724, 42)\n"
     ]
    },
    {
     "data": {
      "text/html": [
       "<div>\n",
       "<style scoped>\n",
       "    .dataframe tbody tr th:only-of-type {\n",
       "        vertical-align: middle;\n",
       "    }\n",
       "\n",
       "    .dataframe tbody tr th {\n",
       "        vertical-align: top;\n",
       "    }\n",
       "\n",
       "    .dataframe thead th {\n",
       "        text-align: right;\n",
       "    }\n",
       "</style>\n",
       "<table border=\"1\" class=\"dataframe\">\n",
       "  <thead>\n",
       "    <tr style=\"text-align: right;\">\n",
       "      <th></th>\n",
       "      <th>MDR_REPORT_KEY</th>\n",
       "      <th>MDR_TEXT_KEY</th>\n",
       "      <th>TEXT_TYPE_CODE</th>\n",
       "      <th>PATIENT_SEQUENCE_NUMBER</th>\n",
       "      <th>DATE_REPORT</th>\n",
       "      <th>FOI_TEXT</th>\n",
       "      <th>textLen</th>\n",
       "      <th>REPORT_NUMBER</th>\n",
       "      <th>REPORT_SOURCE_CODE</th>\n",
       "      <th>MANUFACTURER_LINK_FLAG_</th>\n",
       "      <th>...</th>\n",
       "      <th>DEVICE_AGE_TEXT</th>\n",
       "      <th>DEVICE_EVALUATED_BY_MANUFACTUR</th>\n",
       "      <th>year</th>\n",
       "      <th>STD_MANUFACTURER</th>\n",
       "      <th>STD_DEVICE</th>\n",
       "      <th>RECALL_CLASS</th>\n",
       "      <th>Before2013</th>\n",
       "      <th>CENSORED</th>\n",
       "      <th>_merge</th>\n",
       "      <th>CLEAN_FOI_TEXT</th>\n",
       "    </tr>\n",
       "  </thead>\n",
       "  <tbody>\n",
       "    <tr>\n",
       "      <th>0</th>\n",
       "      <td>262717</td>\n",
       "      <td>162068</td>\n",
       "      <td>D</td>\n",
       "      <td>1</td>\n",
       "      <td>NaN</td>\n",
       "      <td>EVENT DESCRIPTION CPI RECEIVED INFORMATION THA...</td>\n",
       "      <td>NaN</td>\n",
       "      <td>2124215-2000-01321</td>\n",
       "      <td>M</td>\n",
       "      <td>Y</td>\n",
       "      <td>...</td>\n",
       "      <td>0 DAY</td>\n",
       "      <td>R</td>\n",
       "      <td>2000</td>\n",
       "      <td>BOSTON SCIENTIFIC</td>\n",
       "      <td>BOS_SCI_ENDOTAK</td>\n",
       "      <td>0</td>\n",
       "      <td>True</td>\n",
       "      <td>2000-02-09</td>\n",
       "      <td>both</td>\n",
       "      <td>mfgid receiv inform thi implant cardiovert def...</td>\n",
       "    </tr>\n",
       "    <tr>\n",
       "      <th>1</th>\n",
       "      <td>262790</td>\n",
       "      <td>161157</td>\n",
       "      <td>D</td>\n",
       "      <td>1</td>\n",
       "      <td>NaN</td>\n",
       "      <td>EVENT DESCRIPTION CPI RECEIVED INFORMATION THA...</td>\n",
       "      <td>NaN</td>\n",
       "      <td>2124215-2000-01260</td>\n",
       "      <td>M</td>\n",
       "      <td>Y</td>\n",
       "      <td>...</td>\n",
       "      <td>4 YR</td>\n",
       "      <td>Y</td>\n",
       "      <td>2000</td>\n",
       "      <td>BOSTON SCIENTIFIC</td>\n",
       "      <td>BOS_SCI_ENDOTAK_DSP</td>\n",
       "      <td>0</td>\n",
       "      <td>True</td>\n",
       "      <td>2000-02-09</td>\n",
       "      <td>both</td>\n",
       "      <td>mfgid receiv inform thi patient an devid trans...</td>\n",
       "    </tr>\n",
       "    <tr>\n",
       "      <th>2</th>\n",
       "      <td>262799</td>\n",
       "      <td>204642</td>\n",
       "      <td>D</td>\n",
       "      <td>1</td>\n",
       "      <td>NaN</td>\n",
       "      <td>EVENT DESCRIPTION GUIDANT/CRM RECEIVED INFORMA...</td>\n",
       "      <td>NaN</td>\n",
       "      <td>2124215-2000-01516</td>\n",
       "      <td>M</td>\n",
       "      <td>Y</td>\n",
       "      <td>...</td>\n",
       "      <td>0 DAY</td>\n",
       "      <td>R</td>\n",
       "      <td>2000</td>\n",
       "      <td>BOSTON SCIENTIFIC</td>\n",
       "      <td>BOS_SCI_SELUTE</td>\n",
       "      <td>0</td>\n",
       "      <td>True</td>\n",
       "      <td>2000-02-09</td>\n",
       "      <td>both</td>\n",
       "      <td>mfgid crm receiv inform thi implant lead float...</td>\n",
       "    </tr>\n",
       "    <tr>\n",
       "      <th>3</th>\n",
       "      <td>262812</td>\n",
       "      <td>175882</td>\n",
       "      <td>D</td>\n",
       "      <td>1</td>\n",
       "      <td>NaN</td>\n",
       "      <td>EVENT DESCRIPTION GUIDANT/CPI RECEIVED INFORMA...</td>\n",
       "      <td>NaN</td>\n",
       "      <td>2124215-2000-01503</td>\n",
       "      <td>M</td>\n",
       "      <td>Y</td>\n",
       "      <td>...</td>\n",
       "      <td>29 MO</td>\n",
       "      <td>R</td>\n",
       "      <td>2000</td>\n",
       "      <td>BOSTON SCIENTIFIC</td>\n",
       "      <td>BOS_SCI_SELUTE</td>\n",
       "      <td>0</td>\n",
       "      <td>True</td>\n",
       "      <td>2000-02-09</td>\n",
       "      <td>both</td>\n",
       "      <td>mfgid mfgid receiv inform due microperfor micr...</td>\n",
       "    </tr>\n",
       "    <tr>\n",
       "      <th>4</th>\n",
       "      <td>262819</td>\n",
       "      <td>175883</td>\n",
       "      <td>D</td>\n",
       "      <td>1</td>\n",
       "      <td>NaN</td>\n",
       "      <td>EVENT DESCRIPTION CPI RECEIVED INFORMATION THA...</td>\n",
       "      <td>NaN</td>\n",
       "      <td>2124215-2000-01510</td>\n",
       "      <td>M</td>\n",
       "      <td>Y</td>\n",
       "      <td>...</td>\n",
       "      <td>5 YR</td>\n",
       "      <td>Y</td>\n",
       "      <td>2000</td>\n",
       "      <td>BOSTON SCIENTIFIC</td>\n",
       "      <td>BOS_SCI_ENDOTAK</td>\n",
       "      <td>0</td>\n",
       "      <td>True</td>\n",
       "      <td>2000-02-09</td>\n",
       "      <td>both</td>\n",
       "      <td>mfgid receiv inform thi devid transven defibri...</td>\n",
       "    </tr>\n",
       "  </tbody>\n",
       "</table>\n",
       "<p>5 rows × 42 columns</p>\n",
       "</div>"
      ],
      "text/plain": [
       "  MDR_REPORT_KEY MDR_TEXT_KEY TEXT_TYPE_CODE PATIENT_SEQUENCE_NUMBER  \\\n",
       "0         262717       162068              D                       1   \n",
       "1         262790       161157              D                       1   \n",
       "2         262799       204642              D                       1   \n",
       "3         262812       175882              D                       1   \n",
       "4         262819       175883              D                       1   \n",
       "\n",
       "  DATE_REPORT                                           FOI_TEXT  textLen  \\\n",
       "0         NaN  EVENT DESCRIPTION CPI RECEIVED INFORMATION THA...      NaN   \n",
       "1         NaN  EVENT DESCRIPTION CPI RECEIVED INFORMATION THA...      NaN   \n",
       "2         NaN  EVENT DESCRIPTION GUIDANT/CRM RECEIVED INFORMA...      NaN   \n",
       "3         NaN  EVENT DESCRIPTION GUIDANT/CPI RECEIVED INFORMA...      NaN   \n",
       "4         NaN  EVENT DESCRIPTION CPI RECEIVED INFORMATION THA...      NaN   \n",
       "\n",
       "        REPORT_NUMBER REPORT_SOURCE_CODE MANUFACTURER_LINK_FLAG_  ...  \\\n",
       "0  2124215-2000-01321                  M                       Y  ...   \n",
       "1  2124215-2000-01260                  M                       Y  ...   \n",
       "2  2124215-2000-01516                  M                       Y  ...   \n",
       "3  2124215-2000-01503                  M                       Y  ...   \n",
       "4  2124215-2000-01510                  M                       Y  ...   \n",
       "\n",
       "  DEVICE_AGE_TEXT DEVICE_EVALUATED_BY_MANUFACTUR  year   STD_MANUFACTURER  \\\n",
       "0           0 DAY                              R  2000  BOSTON SCIENTIFIC   \n",
       "1            4 YR                              Y  2000  BOSTON SCIENTIFIC   \n",
       "2           0 DAY                              R  2000  BOSTON SCIENTIFIC   \n",
       "3           29 MO                              R  2000  BOSTON SCIENTIFIC   \n",
       "4            5 YR                              Y  2000  BOSTON SCIENTIFIC   \n",
       "\n",
       "            STD_DEVICE RECALL_CLASS Before2013   CENSORED _merge  \\\n",
       "0      BOS_SCI_ENDOTAK            0       True 2000-02-09   both   \n",
       "1  BOS_SCI_ENDOTAK_DSP            0       True 2000-02-09   both   \n",
       "2       BOS_SCI_SELUTE            0       True 2000-02-09   both   \n",
       "3       BOS_SCI_SELUTE            0       True 2000-02-09   both   \n",
       "4      BOS_SCI_ENDOTAK            0       True 2000-02-09   both   \n",
       "\n",
       "                                      CLEAN_FOI_TEXT  \n",
       "0  mfgid receiv inform thi implant cardiovert def...  \n",
       "1  mfgid receiv inform thi patient an devid trans...  \n",
       "2  mfgid crm receiv inform thi implant lead float...  \n",
       "3  mfgid mfgid receiv inform due microperfor micr...  \n",
       "4  mfgid receiv inform thi devid transven defibri...  \n",
       "\n",
       "[5 rows x 42 columns]"
      ]
     },
     "execution_count": 34,
     "metadata": {},
     "output_type": "execute_result"
    }
   ],
   "source": [
    "df_recall0 = df[df[\"RECALL_CLASS\"] == \"0\"]\n",
    "print(df_recall0.shape)\n",
    "df_recall0.head()"
   ]
  },
  {
   "cell_type": "code",
   "execution_count": 35,
   "id": "e4e134c8",
   "metadata": {},
   "outputs": [
    {
     "name": "stdout",
     "output_type": "stream",
     "text": [
      "(5720, 42)\n"
     ]
    },
    {
     "data": {
      "text/html": [
       "<div>\n",
       "<style scoped>\n",
       "    .dataframe tbody tr th:only-of-type {\n",
       "        vertical-align: middle;\n",
       "    }\n",
       "\n",
       "    .dataframe tbody tr th {\n",
       "        vertical-align: top;\n",
       "    }\n",
       "\n",
       "    .dataframe thead th {\n",
       "        text-align: right;\n",
       "    }\n",
       "</style>\n",
       "<table border=\"1\" class=\"dataframe\">\n",
       "  <thead>\n",
       "    <tr style=\"text-align: right;\">\n",
       "      <th></th>\n",
       "      <th>MDR_REPORT_KEY</th>\n",
       "      <th>MDR_TEXT_KEY</th>\n",
       "      <th>TEXT_TYPE_CODE</th>\n",
       "      <th>PATIENT_SEQUENCE_NUMBER</th>\n",
       "      <th>DATE_REPORT</th>\n",
       "      <th>FOI_TEXT</th>\n",
       "      <th>textLen</th>\n",
       "      <th>REPORT_NUMBER</th>\n",
       "      <th>REPORT_SOURCE_CODE</th>\n",
       "      <th>MANUFACTURER_LINK_FLAG_</th>\n",
       "      <th>...</th>\n",
       "      <th>DEVICE_AGE_TEXT</th>\n",
       "      <th>DEVICE_EVALUATED_BY_MANUFACTUR</th>\n",
       "      <th>year</th>\n",
       "      <th>STD_MANUFACTURER</th>\n",
       "      <th>STD_DEVICE</th>\n",
       "      <th>RECALL_CLASS</th>\n",
       "      <th>Before2013</th>\n",
       "      <th>CENSORED</th>\n",
       "      <th>_merge</th>\n",
       "      <th>CLEAN_FOI_TEXT</th>\n",
       "    </tr>\n",
       "  </thead>\n",
       "  <tbody>\n",
       "    <tr>\n",
       "      <th>1162</th>\n",
       "      <td>409748</td>\n",
       "      <td>290612</td>\n",
       "      <td>D</td>\n",
       "      <td>1</td>\n",
       "      <td>NaN</td>\n",
       "      <td>IT WAS REPORTED THAT 1 DAY POST-IMPLANT THE PA...</td>\n",
       "      <td>NaN</td>\n",
       "      <td>2938836-2002-00336</td>\n",
       "      <td>M</td>\n",
       "      <td>Y</td>\n",
       "      <td>...</td>\n",
       "      <td>NO INFO</td>\n",
       "      <td>R</td>\n",
       "      <td>2002</td>\n",
       "      <td>ST. JUDE</td>\n",
       "      <td>STJUDE_RIATA</td>\n",
       "      <td>1</td>\n",
       "      <td>True</td>\n",
       "      <td>2002-08-09</td>\n",
       "      <td>both</td>\n",
       "      <td>it report day postimpl patient receiv multipl ...</td>\n",
       "    </tr>\n",
       "    <tr>\n",
       "      <th>1181</th>\n",
       "      <td>426239</td>\n",
       "      <td>268707</td>\n",
       "      <td>D</td>\n",
       "      <td>1</td>\n",
       "      <td>NaN</td>\n",
       "      <td>IT WAS REPORTED TO ST. JUDE MEDICAL THAT 2 DAY...</td>\n",
       "      <td>NaN</td>\n",
       "      <td>2938836-2002-00457</td>\n",
       "      <td>M</td>\n",
       "      <td>Y</td>\n",
       "      <td>...</td>\n",
       "      <td>2 MO</td>\n",
       "      <td>Y</td>\n",
       "      <td>2002</td>\n",
       "      <td>ST. JUDE</td>\n",
       "      <td>STJUDE_RIATA</td>\n",
       "      <td>1</td>\n",
       "      <td>True</td>\n",
       "      <td>2002-11-04</td>\n",
       "      <td>both</td>\n",
       "      <td>it report mfgid medic day implant ventricular ...</td>\n",
       "    </tr>\n",
       "    <tr>\n",
       "      <th>1259</th>\n",
       "      <td>424242</td>\n",
       "      <td>250900</td>\n",
       "      <td>D</td>\n",
       "      <td>1</td>\n",
       "      <td>NaN</td>\n",
       "      <td>THE LEAD WAS EXPLANTED DUE TO A REPORTED CAPTU...</td>\n",
       "      <td>NaN</td>\n",
       "      <td>2938836-2002-00445</td>\n",
       "      <td>M</td>\n",
       "      <td>Y</td>\n",
       "      <td>...</td>\n",
       "      <td>2 MO</td>\n",
       "      <td>Y</td>\n",
       "      <td>2002</td>\n",
       "      <td>ST. JUDE</td>\n",
       "      <td>STJUDE_RIATA</td>\n",
       "      <td>1</td>\n",
       "      <td>True</td>\n",
       "      <td>2002-10-24</td>\n",
       "      <td>both</td>\n",
       "      <td>the lead explant due a report captur sens anomali</td>\n",
       "    </tr>\n",
       "    <tr>\n",
       "      <th>1260</th>\n",
       "      <td>426820</td>\n",
       "      <td>21587628</td>\n",
       "      <td>D</td>\n",
       "      <td>1</td>\n",
       "      <td>NaN</td>\n",
       "      <td>THE ST. JUDE REPRESENTATIVE REPORTED THAT THE ...</td>\n",
       "      <td>NaN</td>\n",
       "      <td>2938836-2002-00460</td>\n",
       "      <td>M</td>\n",
       "      <td>Y</td>\n",
       "      <td>...</td>\n",
       "      <td>6 MO</td>\n",
       "      <td>Y</td>\n",
       "      <td>2002</td>\n",
       "      <td>ST. JUDE</td>\n",
       "      <td>STJUDE_RIATA</td>\n",
       "      <td>1</td>\n",
       "      <td>True</td>\n",
       "      <td>2002-11-08</td>\n",
       "      <td>both</td>\n",
       "      <td>the mfgid repres report the patient receiv sev...</td>\n",
       "    </tr>\n",
       "    <tr>\n",
       "      <th>1261</th>\n",
       "      <td>431515</td>\n",
       "      <td>284917</td>\n",
       "      <td>D</td>\n",
       "      <td>1</td>\n",
       "      <td>NaN</td>\n",
       "      <td>NOISE WAS OBSERVED ON THE INTERNAL ELECTROGRAM...</td>\n",
       "      <td>NaN</td>\n",
       "      <td>2938836-2002-00500</td>\n",
       "      <td>M</td>\n",
       "      <td>Y</td>\n",
       "      <td>...</td>\n",
       "      <td>15 DAY</td>\n",
       "      <td>Y</td>\n",
       "      <td>2002</td>\n",
       "      <td>ST. JUDE</td>\n",
       "      <td>STJUDE_RIATA</td>\n",
       "      <td>1</td>\n",
       "      <td>True</td>\n",
       "      <td>2002-12-04</td>\n",
       "      <td>both</td>\n",
       "      <td>nois observ the intern electrogram lead reposi...</td>\n",
       "    </tr>\n",
       "  </tbody>\n",
       "</table>\n",
       "<p>5 rows × 42 columns</p>\n",
       "</div>"
      ],
      "text/plain": [
       "     MDR_REPORT_KEY MDR_TEXT_KEY TEXT_TYPE_CODE PATIENT_SEQUENCE_NUMBER  \\\n",
       "1162         409748       290612              D                       1   \n",
       "1181         426239       268707              D                       1   \n",
       "1259         424242       250900              D                       1   \n",
       "1260         426820     21587628              D                       1   \n",
       "1261         431515       284917              D                       1   \n",
       "\n",
       "     DATE_REPORT                                           FOI_TEXT  textLen  \\\n",
       "1162         NaN  IT WAS REPORTED THAT 1 DAY POST-IMPLANT THE PA...      NaN   \n",
       "1181         NaN  IT WAS REPORTED TO ST. JUDE MEDICAL THAT 2 DAY...      NaN   \n",
       "1259         NaN  THE LEAD WAS EXPLANTED DUE TO A REPORTED CAPTU...      NaN   \n",
       "1260         NaN  THE ST. JUDE REPRESENTATIVE REPORTED THAT THE ...      NaN   \n",
       "1261         NaN  NOISE WAS OBSERVED ON THE INTERNAL ELECTROGRAM...      NaN   \n",
       "\n",
       "           REPORT_NUMBER REPORT_SOURCE_CODE MANUFACTURER_LINK_FLAG_  ...  \\\n",
       "1162  2938836-2002-00336                  M                       Y  ...   \n",
       "1181  2938836-2002-00457                  M                       Y  ...   \n",
       "1259  2938836-2002-00445                  M                       Y  ...   \n",
       "1260  2938836-2002-00460                  M                       Y  ...   \n",
       "1261  2938836-2002-00500                  M                       Y  ...   \n",
       "\n",
       "     DEVICE_AGE_TEXT DEVICE_EVALUATED_BY_MANUFACTUR  year STD_MANUFACTURER  \\\n",
       "1162         NO INFO                              R  2002         ST. JUDE   \n",
       "1181            2 MO                              Y  2002         ST. JUDE   \n",
       "1259            2 MO                              Y  2002         ST. JUDE   \n",
       "1260            6 MO                              Y  2002         ST. JUDE   \n",
       "1261          15 DAY                              Y  2002         ST. JUDE   \n",
       "\n",
       "        STD_DEVICE RECALL_CLASS Before2013   CENSORED _merge  \\\n",
       "1162  STJUDE_RIATA            1       True 2002-08-09   both   \n",
       "1181  STJUDE_RIATA            1       True 2002-11-04   both   \n",
       "1259  STJUDE_RIATA            1       True 2002-10-24   both   \n",
       "1260  STJUDE_RIATA            1       True 2002-11-08   both   \n",
       "1261  STJUDE_RIATA            1       True 2002-12-04   both   \n",
       "\n",
       "                                         CLEAN_FOI_TEXT  \n",
       "1162  it report day postimpl patient receiv multipl ...  \n",
       "1181  it report mfgid medic day implant ventricular ...  \n",
       "1259  the lead explant due a report captur sens anomali  \n",
       "1260  the mfgid repres report the patient receiv sev...  \n",
       "1261  nois observ the intern electrogram lead reposi...  \n",
       "\n",
       "[5 rows x 42 columns]"
      ]
     },
     "execution_count": 35,
     "metadata": {},
     "output_type": "execute_result"
    }
   ],
   "source": [
    "df_recall1 = df[df[\"RECALL_CLASS\"] == \"1\"]\n",
    "print(df_recall1.shape)\n",
    "df_recall1.head()"
   ]
  },
  {
   "cell_type": "code",
   "execution_count": 36,
   "id": "4ad0a853",
   "metadata": {},
   "outputs": [
    {
     "name": "stdout",
     "output_type": "stream",
     "text": [
      "(3764, 42)\n"
     ]
    },
    {
     "data": {
      "text/html": [
       "<div>\n",
       "<style scoped>\n",
       "    .dataframe tbody tr th:only-of-type {\n",
       "        vertical-align: middle;\n",
       "    }\n",
       "\n",
       "    .dataframe tbody tr th {\n",
       "        vertical-align: top;\n",
       "    }\n",
       "\n",
       "    .dataframe thead th {\n",
       "        text-align: right;\n",
       "    }\n",
       "</style>\n",
       "<table border=\"1\" class=\"dataframe\">\n",
       "  <thead>\n",
       "    <tr style=\"text-align: right;\">\n",
       "      <th></th>\n",
       "      <th>MDR_REPORT_KEY</th>\n",
       "      <th>MDR_TEXT_KEY</th>\n",
       "      <th>TEXT_TYPE_CODE</th>\n",
       "      <th>PATIENT_SEQUENCE_NUMBER</th>\n",
       "      <th>DATE_REPORT</th>\n",
       "      <th>FOI_TEXT</th>\n",
       "      <th>textLen</th>\n",
       "      <th>REPORT_NUMBER</th>\n",
       "      <th>REPORT_SOURCE_CODE</th>\n",
       "      <th>MANUFACTURER_LINK_FLAG_</th>\n",
       "      <th>...</th>\n",
       "      <th>DEVICE_AGE_TEXT</th>\n",
       "      <th>DEVICE_EVALUATED_BY_MANUFACTUR</th>\n",
       "      <th>year</th>\n",
       "      <th>STD_MANUFACTURER</th>\n",
       "      <th>STD_DEVICE</th>\n",
       "      <th>RECALL_CLASS</th>\n",
       "      <th>Before2013</th>\n",
       "      <th>CENSORED</th>\n",
       "      <th>_merge</th>\n",
       "      <th>CLEAN_FOI_TEXT</th>\n",
       "    </tr>\n",
       "  </thead>\n",
       "  <tbody>\n",
       "    <tr>\n",
       "      <th>1154</th>\n",
       "      <td>407143</td>\n",
       "      <td>18604588</td>\n",
       "      <td>D</td>\n",
       "      <td>1</td>\n",
       "      <td>NaN</td>\n",
       "      <td>NON-CAPTURE, SENSING DIFFICULTY.</td>\n",
       "      <td>NaN</td>\n",
       "      <td>2649622-2002-00449</td>\n",
       "      <td>M</td>\n",
       "      <td>Y</td>\n",
       "      <td>...</td>\n",
       "      <td>6 MO</td>\n",
       "      <td>Y</td>\n",
       "      <td>2002</td>\n",
       "      <td>MEDTRONIC</td>\n",
       "      <td>MEDTRONIC_SPRINT_QUATTRO_SECURE</td>\n",
       "      <td>2</td>\n",
       "      <td>True</td>\n",
       "      <td>2002-07-10</td>\n",
       "      <td>both</td>\n",
       "      <td>noncaptur sens difficulti</td>\n",
       "    </tr>\n",
       "    <tr>\n",
       "      <th>1159</th>\n",
       "      <td>407300</td>\n",
       "      <td>21594076</td>\n",
       "      <td>D</td>\n",
       "      <td>1</td>\n",
       "      <td>NaN</td>\n",
       "      <td>HIGH PACING THRESHOLDS, NO CAPTURE, \"NICKS\" NO...</td>\n",
       "      <td>NaN</td>\n",
       "      <td>2649622-2002-00434</td>\n",
       "      <td>M</td>\n",
       "      <td>Y</td>\n",
       "      <td>...</td>\n",
       "      <td>5 MO</td>\n",
       "      <td>Y</td>\n",
       "      <td>2002</td>\n",
       "      <td>MEDTRONIC</td>\n",
       "      <td>MEDTRONIC_SPRINT_QUATTRO_SECURE</td>\n",
       "      <td>2</td>\n",
       "      <td>True</td>\n",
       "      <td>2002-07-10</td>\n",
       "      <td>both</td>\n",
       "      <td>high pace threshold captur nick note lead explant</td>\n",
       "    </tr>\n",
       "    <tr>\n",
       "      <th>1161</th>\n",
       "      <td>407347</td>\n",
       "      <td>259305</td>\n",
       "      <td>D</td>\n",
       "      <td>1</td>\n",
       "      <td>NaN</td>\n",
       "      <td>SENSING DIFFICULTY, FLUID/BLOOD INGRESSION.  6...</td>\n",
       "      <td>NaN</td>\n",
       "      <td>2649622-2002-00421</td>\n",
       "      <td>M</td>\n",
       "      <td>Y</td>\n",
       "      <td>...</td>\n",
       "      <td>4 MO</td>\n",
       "      <td>Y</td>\n",
       "      <td>2002</td>\n",
       "      <td>MEDTRONIC</td>\n",
       "      <td>MEDTRONIC_SPRINT_QUATTRO_SECURE</td>\n",
       "      <td>2</td>\n",
       "      <td>True</td>\n",
       "      <td>2002-07-10</td>\n",
       "      <td>both</td>\n",
       "      <td>sens difficulti fluidblood ingress addtl info ...</td>\n",
       "    </tr>\n",
       "    <tr>\n",
       "      <th>1176</th>\n",
       "      <td>420206</td>\n",
       "      <td>259590</td>\n",
       "      <td>D</td>\n",
       "      <td>1</td>\n",
       "      <td>NaN</td>\n",
       "      <td>PT PRESENTED WITH CHEST PAIN AND PERFORATION W...</td>\n",
       "      <td>NaN</td>\n",
       "      <td>2649622-2002-00481</td>\n",
       "      <td>M</td>\n",
       "      <td>Y</td>\n",
       "      <td>...</td>\n",
       "      <td>3 MO</td>\n",
       "      <td>R</td>\n",
       "      <td>2002</td>\n",
       "      <td>MEDTRONIC</td>\n",
       "      <td>MEDTRONIC_SPRINT_QUATTRO_SECURE</td>\n",
       "      <td>2</td>\n",
       "      <td>True</td>\n",
       "      <td>2002-09-10</td>\n",
       "      <td>both</td>\n",
       "      <td>pt present chest pain perfor suspect</td>\n",
       "    </tr>\n",
       "    <tr>\n",
       "      <th>1241</th>\n",
       "      <td>407284</td>\n",
       "      <td>259293</td>\n",
       "      <td>D</td>\n",
       "      <td>1</td>\n",
       "      <td>NaN</td>\n",
       "      <td>POOR R-WAVE SENSING</td>\n",
       "      <td>NaN</td>\n",
       "      <td>2649622-2002-00438</td>\n",
       "      <td>M</td>\n",
       "      <td>Y</td>\n",
       "      <td>...</td>\n",
       "      <td>4 MO</td>\n",
       "      <td>Y</td>\n",
       "      <td>2002</td>\n",
       "      <td>MEDTRONIC</td>\n",
       "      <td>MEDTRONIC_SPRINT_QUATTRO_SECURE</td>\n",
       "      <td>2</td>\n",
       "      <td>True</td>\n",
       "      <td>2002-07-10</td>\n",
       "      <td>both</td>\n",
       "      <td>poor rwave sens</td>\n",
       "    </tr>\n",
       "  </tbody>\n",
       "</table>\n",
       "<p>5 rows × 42 columns</p>\n",
       "</div>"
      ],
      "text/plain": [
       "     MDR_REPORT_KEY MDR_TEXT_KEY TEXT_TYPE_CODE PATIENT_SEQUENCE_NUMBER  \\\n",
       "1154         407143     18604588              D                       1   \n",
       "1159         407300     21594076              D                       1   \n",
       "1161         407347       259305              D                       1   \n",
       "1176         420206       259590              D                       1   \n",
       "1241         407284       259293              D                       1   \n",
       "\n",
       "     DATE_REPORT                                           FOI_TEXT  textLen  \\\n",
       "1154         NaN                   NON-CAPTURE, SENSING DIFFICULTY.      NaN   \n",
       "1159         NaN  HIGH PACING THRESHOLDS, NO CAPTURE, \"NICKS\" NO...      NaN   \n",
       "1161         NaN  SENSING DIFFICULTY, FLUID/BLOOD INGRESSION.  6...      NaN   \n",
       "1176         NaN  PT PRESENTED WITH CHEST PAIN AND PERFORATION W...      NaN   \n",
       "1241         NaN                                POOR R-WAVE SENSING      NaN   \n",
       "\n",
       "           REPORT_NUMBER REPORT_SOURCE_CODE MANUFACTURER_LINK_FLAG_  ...  \\\n",
       "1154  2649622-2002-00449                  M                       Y  ...   \n",
       "1159  2649622-2002-00434                  M                       Y  ...   \n",
       "1161  2649622-2002-00421                  M                       Y  ...   \n",
       "1176  2649622-2002-00481                  M                       Y  ...   \n",
       "1241  2649622-2002-00438                  M                       Y  ...   \n",
       "\n",
       "     DEVICE_AGE_TEXT DEVICE_EVALUATED_BY_MANUFACTUR  year STD_MANUFACTURER  \\\n",
       "1154            6 MO                              Y  2002        MEDTRONIC   \n",
       "1159            5 MO                              Y  2002        MEDTRONIC   \n",
       "1161            4 MO                              Y  2002        MEDTRONIC   \n",
       "1176            3 MO                              R  2002        MEDTRONIC   \n",
       "1241            4 MO                              Y  2002        MEDTRONIC   \n",
       "\n",
       "                           STD_DEVICE RECALL_CLASS Before2013   CENSORED  \\\n",
       "1154  MEDTRONIC_SPRINT_QUATTRO_SECURE            2       True 2002-07-10   \n",
       "1159  MEDTRONIC_SPRINT_QUATTRO_SECURE            2       True 2002-07-10   \n",
       "1161  MEDTRONIC_SPRINT_QUATTRO_SECURE            2       True 2002-07-10   \n",
       "1176  MEDTRONIC_SPRINT_QUATTRO_SECURE            2       True 2002-09-10   \n",
       "1241  MEDTRONIC_SPRINT_QUATTRO_SECURE            2       True 2002-07-10   \n",
       "\n",
       "     _merge                                     CLEAN_FOI_TEXT  \n",
       "1154   both                          noncaptur sens difficulti  \n",
       "1159   both  high pace threshold captur nick note lead explant  \n",
       "1161   both  sens difficulti fluidblood ingress addtl info ...  \n",
       "1176   both               pt present chest pain perfor suspect  \n",
       "1241   both                                    poor rwave sens  \n",
       "\n",
       "[5 rows x 42 columns]"
      ]
     },
     "execution_count": 36,
     "metadata": {},
     "output_type": "execute_result"
    }
   ],
   "source": [
    "df_recall2 = df[df[\"RECALL_CLASS\"] == \"2\"]\n",
    "print(df_recall2.shape)\n",
    "df_recall2.head()"
   ]
  },
  {
   "cell_type": "code",
   "execution_count": 37,
   "id": "eb3a124d",
   "metadata": {},
   "outputs": [
    {
     "name": "stdout",
     "output_type": "stream",
     "text": [
      "(3764, 42)\n",
      "(3764, 42)\n",
      "(3764, 42)\n"
     ]
    }
   ],
   "source": [
    "# undersampling\n",
    "udf_recall0 = df_recall0.sample(n=3764)\n",
    "print(udf_recall0.shape)\n",
    "udf_recall1 = df_recall1.sample(n=3764)\n",
    "print(udf_recall1.shape)\n",
    "udf_recall2 = df_recall2\n",
    "print(udf_recall2.shape)"
   ]
  },
  {
   "cell_type": "code",
   "execution_count": 38,
   "id": "88ef3e2f",
   "metadata": {},
   "outputs": [
    {
     "name": "stdout",
     "output_type": "stream",
     "text": [
      "(11292, 42)\n"
     ]
    },
    {
     "data": {
      "text/plain": [
       "<AxesSubplot:xlabel='RECALL_CLASS', ylabel='count'>"
      ]
     },
     "execution_count": 38,
     "metadata": {},
     "output_type": "execute_result"
    },
    {
     "data": {
      "image/png": "[encoded data removed]",
      "text/plain": [
       "<Figure size 432x288 with 1 Axes>"
      ]
     },
     "metadata": {
      "needs_background": "light"
     },
     "output_type": "display_data"
    }
   ],
   "source": [
    "udf = udf_recall0\n",
    "udf = udf.append(udf_recall1)\n",
    "udf = udf.append(udf_recall2)\n",
    "print(udf.shape)\n",
    "sns.countplot(x=\"RECALL_CLASS\", data=udf)"
   ]
  },
  {
   "cell_type": "code",
   "execution_count": 48,
   "id": "2db7dac8",
   "metadata": {},
   "outputs": [
    {
     "name": "stdout",
     "output_type": "stream",
     "text": [
      "(32724, 42)\n",
      "(11440, 42)\n",
      "(7528, 42)\n",
      "(17160, 42)\n",
      "(11292, 42)\n",
      "(22880, 42)\n",
      "(15056, 42)\n",
      "(28600, 42)\n",
      "(18820, 42)\n",
      "(32724, 42)\n",
      "(32724, 42)\n"
     ]
    }
   ],
   "source": [
    "# oversampling\n",
    "odf_recall0 = df_recall0\n",
    "print(odf_recall0.shape)\n",
    "\n",
    "odf2_recall1 = pd.concat([df_recall1]*2, ignore_index=True)\n",
    "print(odf2_recall1.shape)\n",
    "odf2_recall2 = pd.concat([df_recall2]*2, ignore_index=True)\n",
    "print(odf2_recall2.shape)\n",
    "\n",
    "odf3_recall1 = pd.concat([df_recall1]*3, ignore_index=True)\n",
    "print(odf3_recall1.shape)\n",
    "odf3_recall2 = pd.concat([df_recall2]*3, ignore_index=True)\n",
    "print(odf3_recall2.shape)\n",
    "\n",
    "odf4_recall1 = pd.concat([df_recall1]*4, ignore_index=True)\n",
    "print(odf4_recall1.shape)\n",
    "odf4_recall2 = pd.concat([df_recall2]*4, ignore_index=True)\n",
    "print(odf4_recall2.shape)\n",
    "\n",
    "odf5_recall1 = pd.concat([df_recall1]*5, ignore_index=True)\n",
    "print(odf5_recall1.shape)\n",
    "odf5_recall2 = pd.concat([df_recall2]*5, ignore_index=True)\n",
    "print(odf5_recall2.shape)\n",
    "\n",
    "odfsame_recall1 = pd.concat([df_recall1]*6, ignore_index=True)\n",
    "odfsame_recall1 = odfsame_recall1.sample(n=32724)\n",
    "print(odfsame_recall1.shape)\n",
    "odfsame_recall2 = pd.concat([df_recall2]*9, ignore_index=True)\n",
    "odfsame_recall2 = odfsame_recall2.sample(n=32724)\n",
    "print(odfsame_recall2.shape)"
   ]
  },
  {
   "cell_type": "code",
   "execution_count": 42,
   "id": "00eec4dd",
   "metadata": {},
   "outputs": [
    {
     "name": "stdout",
     "output_type": "stream",
     "text": [
      "(51692, 42)\n"
     ]
    },
    {
     "data": {
      "text/plain": [
       "<AxesSubplot:xlabel='RECALL_CLASS', ylabel='count'>"
      ]
     },
     "execution_count": 42,
     "metadata": {},
     "output_type": "execute_result"
    },
    {
     "data": {
      "image/png": "[encoded data removed]",
      "text/plain": [
       "<Figure size 432x288 with 1 Axes>"
      ]
     },
     "metadata": {
      "needs_background": "light"
     },
     "output_type": "display_data"
    }
   ],
   "source": [
    "odf2 = odf_recall0\n",
    "odf2 = odf2.append(odf2_recall1)\n",
    "odf2 = odf2.append(odf2_recall2)\n",
    "print(odf2.shape)\n",
    "sns.countplot(x=\"RECALL_CLASS\", data=odf2)"
   ]
  },
  {
   "cell_type": "code",
   "execution_count": 43,
   "id": "f300b508",
   "metadata": {},
   "outputs": [
    {
     "name": "stdout",
     "output_type": "stream",
     "text": [
      "(61176, 42)\n"
     ]
    },
    {
     "data": {
      "text/plain": [
       "<AxesSubplot:xlabel='RECALL_CLASS', ylabel='count'>"
      ]
     },
     "execution_count": 43,
     "metadata": {},
     "output_type": "execute_result"
    },
    {
     "data": {
      "image/png": "[encoded data removed]",
      "text/plain": [
       "<Figure size 432x288 with 1 Axes>"
      ]
     },
     "metadata": {
      "needs_background": "light"
     },
     "output_type": "display_data"
    }
   ],
   "source": [
    "odf3 = odf_recall0\n",
    "odf3 = odf3.append(odf3_recall1)\n",
    "odf3 = odf3.append(odf3_recall2)\n",
    "print(odf3.shape)\n",
    "sns.countplot(x=\"RECALL_CLASS\", data=odf3)"
   ]
  },
  {
   "cell_type": "code",
   "execution_count": 44,
   "id": "e7f9a98e",
   "metadata": {},
   "outputs": [
    {
     "name": "stdout",
     "output_type": "stream",
     "text": [
      "(70660, 42)\n"
     ]
    },
    {
     "data": {
      "text/plain": [
       "<AxesSubplot:xlabel='RECALL_CLASS', ylabel='count'>"
      ]
     },
     "execution_count": 44,
     "metadata": {},
     "output_type": "execute_result"
    },
    {
     "data": {
      "image/png": "[encoded data removed]",
      "text/plain": [
       "<Figure size 432x288 with 1 Axes>"
      ]
     },
     "metadata": {
      "needs_background": "light"
     },
     "output_type": "display_data"
    }
   ],
   "source": [
    "odf4 = odf_recall0\n",
    "odf4 = odf4.append(odf4_recall1)\n",
    "odf4 = odf4.append(odf4_recall2)\n",
    "print(odf4.shape)\n",
    "sns.countplot(x=\"RECALL_CLASS\", data=odf4)"
   ]
  },
  {
   "cell_type": "code",
   "execution_count": 45,
   "id": "eb770b64",
   "metadata": {},
   "outputs": [
    {
     "name": "stdout",
     "output_type": "stream",
     "text": [
      "(80144, 42)\n"
     ]
    },
    {
     "data": {
      "text/plain": [
       "<AxesSubplot:xlabel='RECALL_CLASS', ylabel='count'>"
      ]
     },
     "execution_count": 45,
     "metadata": {},
     "output_type": "execute_result"
    },
    {
     "data": {
      "image/png": "[encoded data removed]",
      "text/plain": [
       "<Figure size 432x288 with 1 Axes>"
      ]
     },
     "metadata": {
      "needs_background": "light"
     },
     "output_type": "display_data"
    }
   ],
   "source": [
    "odf5 = odf_recall0\n",
    "odf5 = odf5.append(odf5_recall1)\n",
    "odf5 = odf5.append(odf5_recall2)\n",
    "print(odf5.shape)\n",
    "sns.countplot(x=\"RECALL_CLASS\", data=odf5)"
   ]
  },
  {
   "cell_type": "code",
   "execution_count": 49,
   "id": "61213fdc",
   "metadata": {},
   "outputs": [
    {
     "name": "stdout",
     "output_type": "stream",
     "text": [
      "(98172, 42)\n"
     ]
    },
    {
     "data": {
      "text/plain": [
       "<AxesSubplot:xlabel='RECALL_CLASS', ylabel='count'>"
      ]
     },
     "execution_count": 49,
     "metadata": {},
     "output_type": "execute_result"
    },
    {
     "data": {
      "image/png": "[encoded data removed]",
      "text/plain": [
       "<Figure size 432x288 with 1 Axes>"
      ]
     },
     "metadata": {
      "needs_background": "light"
     },
     "output_type": "display_data"
    }
   ],
   "source": [
    "odfsame = odf_recall0\n",
    "odfsame = odfsame.append(odfsame_recall1)\n",
    "odfsame = odfsame.append(odfsame_recall2)\n",
    "print(odfsame.shape)\n",
    "sns.countplot(x=\"RECALL_CLASS\", data=odfsame)"
   ]
  },
  {
   "cell_type": "code",
   "execution_count": 50,
   "id": "8e3cf667",
   "metadata": {},
   "outputs": [],
   "source": [
    "udf.to_pickle(\"./3_COMB_FILE_UNDERSAMPLING\")\n",
    "odf2.to_pickle(\"./3_COMB_FILE_OVERSAMPLINGx2\")\n",
    "odf3.to_pickle(\"./3_COMB_FILE_OVERSAMPLINGx3\")\n",
    "odf4.to_pickle(\"./3_COMB_FILE_OVERSAMPLINGx4\")\n",
    "odf5.to_pickle(\"./3_COMB_FILE_OVERSAMPLINGx5\")\n",
    "odfsame.to_pickle(\"./3_COMB_FILE_OVERSAMPLINGsame\")"
   ]
  },
  {
   "cell_type": "code",
   "execution_count": null,
   "id": "a56f6c38",
   "metadata": {},
   "outputs": [],
   "source": []
  }
 ],
 "metadata": {
  "kernelspec": {
   "display_name": "Python 3",
   "language": "python",
   "name": "python3"
  },
  "language_info": {
   "codemirror_mode": {
    "name": "ipython",
    "version": 3
   },
   "file_extension": ".py",
   "mimetype": "text/x-python",
   "name": "python",
   "nbconvert_exporter": "python",
   "pygments_lexer": "ipython3",
   "version": "3.8.8"
  }
 },
 "nbformat": 4,
 "nbformat_minor": 5
}
