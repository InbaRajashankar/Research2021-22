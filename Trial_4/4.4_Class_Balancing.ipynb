{
 "cells": [
  {
   "cell_type": "code",
   "execution_count": 17,
   "id": "f504c2ec",
   "metadata": {},
   "outputs": [],
   "source": [
    "import numpy as np\n",
    "import pandas as pd\n",
    "import numpy as np\n",
    "import pandas as pd\n",
    "import sys\n",
    "import csv\n",
    "import functools\n",
    "from functools import reduce\n",
    "import seaborn as sns\n",
    "import matplotlib.pyplot as plt\n",
    "from datetime import datetime\n",
    "import re\n",
    "import string\n",
    "\n",
    "import nltk\n",
    "from nltk.corpus import stopwords\n",
    "from nltk.stem.porter import PorterStemmer\n",
    "from sklearn.feature_extraction.text import CountVectorizer\n",
    "from sklearn.model_selection import train_test_split\n",
    "from sklearn.naive_bayes import GaussianNB\n",
    "from sklearn.metrics import confusion_matrix, classification_report\n",
    "from sklearn.tree import DecisionTreeClassifier\n",
    "from sklearn.ensemble import RandomForestClassifier"
   ]
  },
  {
   "cell_type": "code",
   "execution_count": 18,
   "id": "05291f68",
   "metadata": {},
   "outputs": [],
   "source": [
    "# for set 1"
   ]
  },
  {
   "cell_type": "code",
   "execution_count": 19,
   "id": "006eda0b",
   "metadata": {},
   "outputs": [
    {
     "data": {
      "text/plain": [
       "(76513, 41)"
      ]
     },
     "execution_count": 19,
     "metadata": {},
     "output_type": "execute_result"
    }
   ],
   "source": [
    "df = pd.read_pickle(\"./4_MASDEV_Cleaned_S1.pkl\")\n",
    "df.shape"
   ]
  },
  {
   "cell_type": "code",
   "execution_count": 20,
   "id": "8cf72f65",
   "metadata": {},
   "outputs": [
    {
     "data": {
      "text/plain": [
       "0    48933\n",
       "1    27580\n",
       "Name: RECALL_CLASS, dtype: int64"
      ]
     },
     "execution_count": 20,
     "metadata": {},
     "output_type": "execute_result"
    }
   ],
   "source": [
    "df[\"RECALL_CLASS\"].value_counts()"
   ]
  },
  {
   "cell_type": "code",
   "execution_count": 21,
   "id": "cda2a4ff",
   "metadata": {},
   "outputs": [
    {
     "data": {
      "text/plain": [
       "<AxesSubplot:xlabel='RECALL_CLASS', ylabel='count'>"
      ]
     },
     "execution_count": 21,
     "metadata": {},
     "output_type": "execute_result"
    },
    {
     "data": {
      "image/png": "[encoded data removed]",
      "text/plain": [
       "<Figure size 432x288 with 1 Axes>"
      ]
     },
     "metadata": {
      "needs_background": "light"
     },
     "output_type": "display_data"
    }
   ],
   "source": [
    "sns.countplot(x=\"RECALL_CLASS\", data=df)"
   ]
  },
  {
   "cell_type": "code",
   "execution_count": 22,
   "id": "d2e58618",
   "metadata": {},
   "outputs": [
    {
     "name": "stdout",
     "output_type": "stream",
     "text": [
      "(48933, 41)\n"
     ]
    },
    {
     "data": {
      "text/html": [
       "<div>\n",
       "<style scoped>\n",
       "    .dataframe tbody tr th:only-of-type {\n",
       "        vertical-align: middle;\n",
       "    }\n",
       "\n",
       "    .dataframe tbody tr th {\n",
       "        vertical-align: top;\n",
       "    }\n",
       "\n",
       "    .dataframe thead th {\n",
       "        text-align: right;\n",
       "    }\n",
       "</style>\n",
       "<table border=\"1\" class=\"dataframe\">\n",
       "  <thead>\n",
       "    <tr style=\"text-align: right;\">\n",
       "      <th></th>\n",
       "      <th>MDR_REPORT_KEY</th>\n",
       "      <th>MDR_TEXT_KEY</th>\n",
       "      <th>TEXT_TYPE_CODE</th>\n",
       "      <th>PATIENT_SEQUENCE_NUMBER</th>\n",
       "      <th>DATE_REPORT</th>\n",
       "      <th>FOI_TEXT</th>\n",
       "      <th>textLen</th>\n",
       "      <th>REPORT_NUMBER</th>\n",
       "      <th>REPORT_SOURCE_CODE</th>\n",
       "      <th>MANUFACTURER_LINK_FLAG_</th>\n",
       "      <th>...</th>\n",
       "      <th>DEVICE_REPORT_PRODUCT_CODE</th>\n",
       "      <th>DEVICE_AGE_TEXT</th>\n",
       "      <th>DEVICE_EVALUATED_BY_MANUFACTUR</th>\n",
       "      <th>year</th>\n",
       "      <th>STD_MANUFACTURER</th>\n",
       "      <th>STD_DEVICE</th>\n",
       "      <th>RECALL_CLASS</th>\n",
       "      <th>CENSORED</th>\n",
       "      <th>_merge</th>\n",
       "      <th>CLEAN_FOI_TEXT</th>\n",
       "    </tr>\n",
       "  </thead>\n",
       "  <tbody>\n",
       "    <tr>\n",
       "      <th>5</th>\n",
       "      <td>263098</td>\n",
       "      <td>147618</td>\n",
       "      <td>D</td>\n",
       "      <td>1</td>\n",
       "      <td>NaN</td>\n",
       "      <td>OVERSENSING FROM LEAD FRACTURE CAUSED PT TO RE...</td>\n",
       "      <td>NaN</td>\n",
       "      <td>2182208-2000-00025</td>\n",
       "      <td>M</td>\n",
       "      <td>Y</td>\n",
       "      <td>...</td>\n",
       "      <td>LWS</td>\n",
       "      <td>12 MO</td>\n",
       "      <td>Y</td>\n",
       "      <td>2000</td>\n",
       "      <td>MEDTRONIC</td>\n",
       "      <td>MEDTRONIC_SPRINT</td>\n",
       "      <td>0</td>\n",
       "      <td>2000-01-10</td>\n",
       "      <td>both</td>\n",
       "      <td>oversens lead fractur caus pt receiv unnecessa...</td>\n",
       "    </tr>\n",
       "    <tr>\n",
       "      <th>21</th>\n",
       "      <td>291837</td>\n",
       "      <td>148901</td>\n",
       "      <td>D</td>\n",
       "      <td>1</td>\n",
       "      <td>NaN</td>\n",
       "      <td>SYSTEM RETURNED FOR LEAD FRACTURES, BURN MARK ...</td>\n",
       "      <td>NaN</td>\n",
       "      <td>2649622-2000-00207</td>\n",
       "      <td>M</td>\n",
       "      <td>Y</td>\n",
       "      <td>...</td>\n",
       "      <td>LWS</td>\n",
       "      <td>36 MO</td>\n",
       "      <td>Y</td>\n",
       "      <td>2000</td>\n",
       "      <td>MEDTRONIC</td>\n",
       "      <td>MEDTRONIC_SPRINT</td>\n",
       "      <td>0</td>\n",
       "      <td>2000-05-12</td>\n",
       "      <td>both</td>\n",
       "      <td>system return lead fractur burn mark long char...</td>\n",
       "    </tr>\n",
       "    <tr>\n",
       "      <th>25</th>\n",
       "      <td>292539</td>\n",
       "      <td>182872</td>\n",
       "      <td>D</td>\n",
       "      <td>1</td>\n",
       "      <td>NaN</td>\n",
       "      <td>PACING THRESHOLD INCREASE</td>\n",
       "      <td>NaN</td>\n",
       "      <td>2649622-2000-00385</td>\n",
       "      <td>M</td>\n",
       "      <td>Y</td>\n",
       "      <td>...</td>\n",
       "      <td>LWS</td>\n",
       "      <td>24 MO</td>\n",
       "      <td>Y</td>\n",
       "      <td>2000</td>\n",
       "      <td>MEDTRONIC</td>\n",
       "      <td>MEDTRONIC_SPRINT</td>\n",
       "      <td>0</td>\n",
       "      <td>2000-07-11</td>\n",
       "      <td>both</td>\n",
       "      <td>pace threshold increas</td>\n",
       "    </tr>\n",
       "    <tr>\n",
       "      <th>26</th>\n",
       "      <td>292547</td>\n",
       "      <td>182873</td>\n",
       "      <td>D</td>\n",
       "      <td>1</td>\n",
       "      <td>NaN</td>\n",
       "      <td>SENSING DIFFICULTY, INSULATION DAMAGE</td>\n",
       "      <td>NaN</td>\n",
       "      <td>2182208-2000-00251</td>\n",
       "      <td>M</td>\n",
       "      <td>Y</td>\n",
       "      <td>...</td>\n",
       "      <td>LWS</td>\n",
       "      <td>24 MO</td>\n",
       "      <td>Y</td>\n",
       "      <td>2000</td>\n",
       "      <td>MEDTRONIC</td>\n",
       "      <td>MEDTRONIC_SPRINT</td>\n",
       "      <td>0</td>\n",
       "      <td>2000-07-11</td>\n",
       "      <td>both</td>\n",
       "      <td>sens difficulti insul damag</td>\n",
       "    </tr>\n",
       "    <tr>\n",
       "      <th>28</th>\n",
       "      <td>292558</td>\n",
       "      <td>20930497</td>\n",
       "      <td>D</td>\n",
       "      <td>1</td>\n",
       "      <td>NaN</td>\n",
       "      <td>APPARENT LEAD FRACTURE, NOISE.</td>\n",
       "      <td>NaN</td>\n",
       "      <td>2649622-2000-00364</td>\n",
       "      <td>M</td>\n",
       "      <td>Y</td>\n",
       "      <td>...</td>\n",
       "      <td>LWS</td>\n",
       "      <td>12 MO</td>\n",
       "      <td>Y</td>\n",
       "      <td>2000</td>\n",
       "      <td>MEDTRONIC</td>\n",
       "      <td>MEDTRONIC_SPRINT</td>\n",
       "      <td>0</td>\n",
       "      <td>2000-07-11</td>\n",
       "      <td>both</td>\n",
       "      <td>appar lead fractur nois</td>\n",
       "    </tr>\n",
       "  </tbody>\n",
       "</table>\n",
       "<p>5 rows × 41 columns</p>\n",
       "</div>"
      ],
      "text/plain": [
       "   MDR_REPORT_KEY MDR_TEXT_KEY TEXT_TYPE_CODE PATIENT_SEQUENCE_NUMBER  \\\n",
       "5          263098       147618              D                       1   \n",
       "21         291837       148901              D                       1   \n",
       "25         292539       182872              D                       1   \n",
       "26         292547       182873              D                       1   \n",
       "28         292558     20930497              D                       1   \n",
       "\n",
       "   DATE_REPORT                                           FOI_TEXT  textLen  \\\n",
       "5          NaN  OVERSENSING FROM LEAD FRACTURE CAUSED PT TO RE...      NaN   \n",
       "21         NaN  SYSTEM RETURNED FOR LEAD FRACTURES, BURN MARK ...      NaN   \n",
       "25         NaN                          PACING THRESHOLD INCREASE      NaN   \n",
       "26         NaN              SENSING DIFFICULTY, INSULATION DAMAGE      NaN   \n",
       "28         NaN                     APPARENT LEAD FRACTURE, NOISE.      NaN   \n",
       "\n",
       "         REPORT_NUMBER REPORT_SOURCE_CODE MANUFACTURER_LINK_FLAG_  ...  \\\n",
       "5   2182208-2000-00025                  M                       Y  ...   \n",
       "21  2649622-2000-00207                  M                       Y  ...   \n",
       "25  2649622-2000-00385                  M                       Y  ...   \n",
       "26  2182208-2000-00251                  M                       Y  ...   \n",
       "28  2649622-2000-00364                  M                       Y  ...   \n",
       "\n",
       "   DEVICE_REPORT_PRODUCT_CODE DEVICE_AGE_TEXT DEVICE_EVALUATED_BY_MANUFACTUR  \\\n",
       "5                         LWS           12 MO                              Y   \n",
       "21                        LWS           36 MO                              Y   \n",
       "25                        LWS           24 MO                              Y   \n",
       "26                        LWS           24 MO                              Y   \n",
       "28                        LWS           12 MO                              Y   \n",
       "\n",
       "    year STD_MANUFACTURER        STD_DEVICE RECALL_CLASS   CENSORED _merge  \\\n",
       "5   2000        MEDTRONIC  MEDTRONIC_SPRINT            0 2000-01-10   both   \n",
       "21  2000        MEDTRONIC  MEDTRONIC_SPRINT            0 2000-05-12   both   \n",
       "25  2000        MEDTRONIC  MEDTRONIC_SPRINT            0 2000-07-11   both   \n",
       "26  2000        MEDTRONIC  MEDTRONIC_SPRINT            0 2000-07-11   both   \n",
       "28  2000        MEDTRONIC  MEDTRONIC_SPRINT            0 2000-07-11   both   \n",
       "\n",
       "                                       CLEAN_FOI_TEXT  \n",
       "5   oversens lead fractur caus pt receiv unnecessa...  \n",
       "21  system return lead fractur burn mark long char...  \n",
       "25                             pace threshold increas  \n",
       "26                        sens difficulti insul damag  \n",
       "28                            appar lead fractur nois  \n",
       "\n",
       "[5 rows x 41 columns]"
      ]
     },
     "execution_count": 22,
     "metadata": {},
     "output_type": "execute_result"
    }
   ],
   "source": [
    "# creating dfs based on recall class\n",
    "df_recall0 = df[df[\"RECALL_CLASS\"] == \"0\"]\n",
    "print(df_recall0.shape)\n",
    "df_recall0.head()"
   ]
  },
  {
   "cell_type": "code",
   "execution_count": 23,
   "id": "154a265c",
   "metadata": {},
   "outputs": [
    {
     "name": "stdout",
     "output_type": "stream",
     "text": [
      "(27580, 41)\n"
     ]
    },
    {
     "data": {
      "text/html": [
       "<div>\n",
       "<style scoped>\n",
       "    .dataframe tbody tr th:only-of-type {\n",
       "        vertical-align: middle;\n",
       "    }\n",
       "\n",
       "    .dataframe tbody tr th {\n",
       "        vertical-align: top;\n",
       "    }\n",
       "\n",
       "    .dataframe thead th {\n",
       "        text-align: right;\n",
       "    }\n",
       "</style>\n",
       "<table border=\"1\" class=\"dataframe\">\n",
       "  <thead>\n",
       "    <tr style=\"text-align: right;\">\n",
       "      <th></th>\n",
       "      <th>MDR_REPORT_KEY</th>\n",
       "      <th>MDR_TEXT_KEY</th>\n",
       "      <th>TEXT_TYPE_CODE</th>\n",
       "      <th>PATIENT_SEQUENCE_NUMBER</th>\n",
       "      <th>DATE_REPORT</th>\n",
       "      <th>FOI_TEXT</th>\n",
       "      <th>textLen</th>\n",
       "      <th>REPORT_NUMBER</th>\n",
       "      <th>REPORT_SOURCE_CODE</th>\n",
       "      <th>MANUFACTURER_LINK_FLAG_</th>\n",
       "      <th>...</th>\n",
       "      <th>DEVICE_REPORT_PRODUCT_CODE</th>\n",
       "      <th>DEVICE_AGE_TEXT</th>\n",
       "      <th>DEVICE_EVALUATED_BY_MANUFACTUR</th>\n",
       "      <th>year</th>\n",
       "      <th>STD_MANUFACTURER</th>\n",
       "      <th>STD_DEVICE</th>\n",
       "      <th>RECALL_CLASS</th>\n",
       "      <th>CENSORED</th>\n",
       "      <th>_merge</th>\n",
       "      <th>CLEAN_FOI_TEXT</th>\n",
       "    </tr>\n",
       "  </thead>\n",
       "  <tbody>\n",
       "    <tr>\n",
       "      <th>38507</th>\n",
       "      <td>5243499</td>\n",
       "      <td>31980136</td>\n",
       "      <td>D</td>\n",
       "      <td>1</td>\n",
       "      <td>NaN</td>\n",
       "      <td>INAPPROPRIATE SHOCK FROM SENSING NOISE IN BOST...</td>\n",
       "      <td>NaN</td>\n",
       "      <td>MW5058024</td>\n",
       "      <td>P</td>\n",
       "      <td>N</td>\n",
       "      <td>...</td>\n",
       "      <td>LWS</td>\n",
       "      <td>NaN</td>\n",
       "      <td>*</td>\n",
       "      <td>2015</td>\n",
       "      <td>BOSTON SCIENTIFIC</td>\n",
       "      <td>BOS_SCI_EMBLEM</td>\n",
       "      <td>1</td>\n",
       "      <td>2015-11-18</td>\n",
       "      <td>both</td>\n",
       "      <td>inappropri shock sens nois mfgid model subcuta...</td>\n",
       "    </tr>\n",
       "    <tr>\n",
       "      <th>39392</th>\n",
       "      <td>5311483</td>\n",
       "      <td>34152024</td>\n",
       "      <td>D</td>\n",
       "      <td>1</td>\n",
       "      <td>NaN</td>\n",
       "      <td>PATIENT RECEIVED MULTIPLE SHOCKS DUE TO \"NOISE...</td>\n",
       "      <td>NaN</td>\n",
       "      <td>MW5058599</td>\n",
       "      <td>P</td>\n",
       "      <td>N</td>\n",
       "      <td>...</td>\n",
       "      <td>LWS</td>\n",
       "      <td>NaN</td>\n",
       "      <td>*</td>\n",
       "      <td>2015</td>\n",
       "      <td>BOSTON SCIENTIFIC</td>\n",
       "      <td>BOS_SCI_EMBLEM</td>\n",
       "      <td>1</td>\n",
       "      <td>2015-12-16</td>\n",
       "      <td>both</td>\n",
       "      <td>patient receiv multipl shock due nois first sh...</td>\n",
       "    </tr>\n",
       "    <tr>\n",
       "      <th>39733</th>\n",
       "      <td>5366177</td>\n",
       "      <td>36215847</td>\n",
       "      <td>D</td>\n",
       "      <td>1</td>\n",
       "      <td>NaN</td>\n",
       "      <td>PT HAD AICD INSERTED ON (B)(6) 2015 AT (B)(6) ...</td>\n",
       "      <td>NaN</td>\n",
       "      <td>MW5059313</td>\n",
       "      <td>P</td>\n",
       "      <td>N</td>\n",
       "      <td>...</td>\n",
       "      <td>LWS</td>\n",
       "      <td>NaN</td>\n",
       "      <td>*</td>\n",
       "      <td>2016</td>\n",
       "      <td>BOSTON SCIENTIFIC</td>\n",
       "      <td>BOS_SCI_EMBLEM</td>\n",
       "      <td>1</td>\n",
       "      <td>2016-01-11</td>\n",
       "      <td>both</td>\n",
       "      <td>pt aicd insert hospit hospit remov lead fire s...</td>\n",
       "    </tr>\n",
       "    <tr>\n",
       "      <th>43667</th>\n",
       "      <td>5790937</td>\n",
       "      <td>49435460</td>\n",
       "      <td>D</td>\n",
       "      <td>1</td>\n",
       "      <td>NaN</td>\n",
       "      <td>BOSTON SCIENTIFIC RECEIVED INFORMATION THAT TH...</td>\n",
       "      <td>NaN</td>\n",
       "      <td>2124215-2016-09705</td>\n",
       "      <td>M</td>\n",
       "      <td>Y</td>\n",
       "      <td>...</td>\n",
       "      <td>LWS</td>\n",
       "      <td>DA</td>\n",
       "      <td>R</td>\n",
       "      <td>2016</td>\n",
       "      <td>BOSTON SCIENTIFIC</td>\n",
       "      <td>BOS_SCI_EMBLEM</td>\n",
       "      <td>1</td>\n",
       "      <td>2016-07-13</td>\n",
       "      <td>both</td>\n",
       "      <td>mfgid receiv inform thi subcutan implant cardi...</td>\n",
       "    </tr>\n",
       "    <tr>\n",
       "      <th>43681</th>\n",
       "      <td>5791726</td>\n",
       "      <td>49516690</td>\n",
       "      <td>D</td>\n",
       "      <td>1</td>\n",
       "      <td>NaN</td>\n",
       "      <td>PT HAD SUBCUTANEOUS ICD PROCEDURE. DURING THE ...</td>\n",
       "      <td>NaN</td>\n",
       "      <td>5791726</td>\n",
       "      <td>U</td>\n",
       "      <td>N</td>\n",
       "      <td>...</td>\n",
       "      <td>LWS</td>\n",
       "      <td>NaN</td>\n",
       "      <td>I</td>\n",
       "      <td>2016</td>\n",
       "      <td>BOSTON SCIENTIFIC</td>\n",
       "      <td>BOS_SCI_EMBLEM</td>\n",
       "      <td>1</td>\n",
       "      <td>2016-07-09</td>\n",
       "      <td>both</td>\n",
       "      <td>pt subcutan icd procedur the cours the introdu...</td>\n",
       "    </tr>\n",
       "  </tbody>\n",
       "</table>\n",
       "<p>5 rows × 41 columns</p>\n",
       "</div>"
      ],
      "text/plain": [
       "      MDR_REPORT_KEY MDR_TEXT_KEY TEXT_TYPE_CODE PATIENT_SEQUENCE_NUMBER  \\\n",
       "38507        5243499     31980136              D                       1   \n",
       "39392        5311483     34152024              D                       1   \n",
       "39733        5366177     36215847              D                       1   \n",
       "43667        5790937     49435460              D                       1   \n",
       "43681        5791726     49516690              D                       1   \n",
       "\n",
       "      DATE_REPORT                                           FOI_TEXT  textLen  \\\n",
       "38507         NaN  INAPPROPRIATE SHOCK FROM SENSING NOISE IN BOST...      NaN   \n",
       "39392         NaN  PATIENT RECEIVED MULTIPLE SHOCKS DUE TO \"NOISE...      NaN   \n",
       "39733         NaN  PT HAD AICD INSERTED ON (B)(6) 2015 AT (B)(6) ...      NaN   \n",
       "43667         NaN  BOSTON SCIENTIFIC RECEIVED INFORMATION THAT TH...      NaN   \n",
       "43681         NaN  PT HAD SUBCUTANEOUS ICD PROCEDURE. DURING THE ...      NaN   \n",
       "\n",
       "            REPORT_NUMBER REPORT_SOURCE_CODE MANUFACTURER_LINK_FLAG_  ...  \\\n",
       "38507           MW5058024                  P                       N  ...   \n",
       "39392           MW5058599                  P                       N  ...   \n",
       "39733           MW5059313                  P                       N  ...   \n",
       "43667  2124215-2016-09705                  M                       Y  ...   \n",
       "43681             5791726                  U                       N  ...   \n",
       "\n",
       "      DEVICE_REPORT_PRODUCT_CODE DEVICE_AGE_TEXT  \\\n",
       "38507                        LWS             NaN   \n",
       "39392                        LWS             NaN   \n",
       "39733                        LWS             NaN   \n",
       "43667                        LWS              DA   \n",
       "43681                        LWS             NaN   \n",
       "\n",
       "      DEVICE_EVALUATED_BY_MANUFACTUR  year   STD_MANUFACTURER      STD_DEVICE  \\\n",
       "38507                              *  2015  BOSTON SCIENTIFIC  BOS_SCI_EMBLEM   \n",
       "39392                              *  2015  BOSTON SCIENTIFIC  BOS_SCI_EMBLEM   \n",
       "39733                              *  2016  BOSTON SCIENTIFIC  BOS_SCI_EMBLEM   \n",
       "43667                              R  2016  BOSTON SCIENTIFIC  BOS_SCI_EMBLEM   \n",
       "43681                              I  2016  BOSTON SCIENTIFIC  BOS_SCI_EMBLEM   \n",
       "\n",
       "      RECALL_CLASS   CENSORED _merge  \\\n",
       "38507            1 2015-11-18   both   \n",
       "39392            1 2015-12-16   both   \n",
       "39733            1 2016-01-11   both   \n",
       "43667            1 2016-07-13   both   \n",
       "43681            1 2016-07-09   both   \n",
       "\n",
       "                                          CLEAN_FOI_TEXT  \n",
       "38507  inappropri shock sens nois mfgid model subcuta...  \n",
       "39392  patient receiv multipl shock due nois first sh...  \n",
       "39733  pt aicd insert hospit hospit remov lead fire s...  \n",
       "43667  mfgid receiv inform thi subcutan implant cardi...  \n",
       "43681  pt subcutan icd procedur the cours the introdu...  \n",
       "\n",
       "[5 rows x 41 columns]"
      ]
     },
     "execution_count": 23,
     "metadata": {},
     "output_type": "execute_result"
    }
   ],
   "source": [
    "df_recall1 = df[df[\"RECALL_CLASS\"] == \"1\"]\n",
    "print(df_recall1.shape)\n",
    "df_recall1.head()"
   ]
  },
  {
   "cell_type": "code",
   "execution_count": 24,
   "id": "db66ef2f",
   "metadata": {},
   "outputs": [
    {
     "name": "stdout",
     "output_type": "stream",
     "text": [
      "(27580, 41)\n",
      "(27580, 41)\n"
     ]
    }
   ],
   "source": [
    "# undersampling\n",
    "udf_recall0 = df_recall0.sample(n=27580)\n",
    "print(udf_recall0.shape)\n",
    "udf_recall1 = df_recall1.sample(n=27580)\n",
    "print(udf_recall1.shape)"
   ]
  },
  {
   "cell_type": "code",
   "execution_count": 25,
   "id": "cb93fa8f",
   "metadata": {},
   "outputs": [
    {
     "name": "stdout",
     "output_type": "stream",
     "text": [
      "(55160, 41)\n"
     ]
    },
    {
     "data": {
      "text/plain": [
       "<AxesSubplot:xlabel='RECALL_CLASS', ylabel='count'>"
      ]
     },
     "execution_count": 25,
     "metadata": {},
     "output_type": "execute_result"
    },
    {
     "data": {
      "image/png": "[encoded data removed]",
      "text/plain": [
       "<Figure size 432x288 with 1 Axes>"
      ]
     },
     "metadata": {
      "needs_background": "light"
     },
     "output_type": "display_data"
    }
   ],
   "source": [
    "udf = udf_recall0\n",
    "udf = udf.append(udf_recall1)\n",
    "print(udf.shape)\n",
    "sns.countplot(x=\"RECALL_CLASS\", data=udf)"
   ]
  },
  {
   "cell_type": "code",
   "execution_count": 26,
   "id": "db2200fa",
   "metadata": {},
   "outputs": [
    {
     "name": "stdout",
     "output_type": "stream",
     "text": [
      "(48933, 41)\n"
     ]
    }
   ],
   "source": [
    "# oversampling\n",
    "odfsame_recall1 = pd.concat([df_recall1]*2, ignore_index=True)\n",
    "odfsame_recall1 = odfsame_recall1.sample(n=48933)\n",
    "print(odfsame_recall1.shape)"
   ]
  },
  {
   "cell_type": "code",
   "execution_count": 27,
   "id": "ae4b98d8",
   "metadata": {},
   "outputs": [
    {
     "name": "stdout",
     "output_type": "stream",
     "text": [
      "(97866, 41)\n"
     ]
    },
    {
     "data": {
      "text/plain": [
       "<AxesSubplot:xlabel='RECALL_CLASS', ylabel='count'>"
      ]
     },
     "execution_count": 27,
     "metadata": {},
     "output_type": "execute_result"
    },
    {
     "data": {
      "image/png": "[encoded data removed]",
      "text/plain": [
       "<Figure size 432x288 with 1 Axes>"
      ]
     },
     "metadata": {
      "needs_background": "light"
     },
     "output_type": "display_data"
    }
   ],
   "source": [
    "odfsame = df_recall0\n",
    "odfsame = odfsame.append(odfsame_recall1)\n",
    "print(odfsame.shape)\n",
    "sns.countplot(x=\"RECALL_CLASS\", data=odfsame)"
   ]
  },
  {
   "cell_type": "code",
   "execution_count": 45,
   "id": "cf5a2987",
   "metadata": {},
   "outputs": [
    {
     "name": "stdout",
     "output_type": "stream",
     "text": [
      "(55160, 41)\n",
      "(97866, 41)\n",
      "(76513, 41)\n"
     ]
    }
   ],
   "source": [
    "udf.to_pickle(\"./4_COMB_FILE_UNDERSAMPLING_S1.pkl\")\n",
    "print(udf.shape)\n",
    "odfsame.to_pickle(\"./4_COMB_FILE_OVERSAMPLING_S1.pkl\")\n",
    "print(odfsame.shape)\n",
    "df.to_pickle(\"./4_COMB_FILE_UNBALANCED_S1.pkl\")\n",
    "print(df.shape)"
   ]
  },
  {
   "cell_type": "code",
   "execution_count": 29,
   "id": "0e0d39eb",
   "metadata": {},
   "outputs": [],
   "source": [
    "# for set 2"
   ]
  },
  {
   "cell_type": "code",
   "execution_count": 30,
   "id": "a2518da0",
   "metadata": {},
   "outputs": [
    {
     "data": {
      "text/plain": [
       "(4432, 41)"
      ]
     },
     "execution_count": 30,
     "metadata": {},
     "output_type": "execute_result"
    }
   ],
   "source": [
    "df2 = pd.read_pickle(\"./4_MASDEV_Cleaned_S2.pkl\")\n",
    "df2.shape"
   ]
  },
  {
   "cell_type": "code",
   "execution_count": 31,
   "id": "c39e1072",
   "metadata": {},
   "outputs": [
    {
     "data": {
      "text/plain": [
       "1    2333\n",
       "0    2099\n",
       "Name: RECALL_CLASS, dtype: int64"
      ]
     },
     "execution_count": 31,
     "metadata": {},
     "output_type": "execute_result"
    }
   ],
   "source": [
    "df2[\"RECALL_CLASS\"].value_counts()"
   ]
  },
  {
   "cell_type": "code",
   "execution_count": 32,
   "id": "3b205c48",
   "metadata": {},
   "outputs": [
    {
     "data": {
      "text/plain": [
       "<AxesSubplot:xlabel='RECALL_CLASS', ylabel='count'>"
      ]
     },
     "execution_count": 32,
     "metadata": {},
     "output_type": "execute_result"
    },
    {
     "data": {
      "image/png": "[encoded data removed]",
      "text/plain": [
       "<Figure size 432x288 with 1 Axes>"
      ]
     },
     "metadata": {
      "needs_background": "light"
     },
     "output_type": "display_data"
    }
   ],
   "source": [
    "sns.countplot(x=\"RECALL_CLASS\", data=df2)"
   ]
  },
  {
   "cell_type": "code",
   "execution_count": 33,
   "id": "ed106d71",
   "metadata": {},
   "outputs": [
    {
     "name": "stdout",
     "output_type": "stream",
     "text": [
      "(2099, 41)\n"
     ]
    },
    {
     "data": {
      "text/html": [
       "<div>\n",
       "<style scoped>\n",
       "    .dataframe tbody tr th:only-of-type {\n",
       "        vertical-align: middle;\n",
       "    }\n",
       "\n",
       "    .dataframe tbody tr th {\n",
       "        vertical-align: top;\n",
       "    }\n",
       "\n",
       "    .dataframe thead th {\n",
       "        text-align: right;\n",
       "    }\n",
       "</style>\n",
       "<table border=\"1\" class=\"dataframe\">\n",
       "  <thead>\n",
       "    <tr style=\"text-align: right;\">\n",
       "      <th></th>\n",
       "      <th>MDR_REPORT_KEY</th>\n",
       "      <th>MDR_TEXT_KEY</th>\n",
       "      <th>TEXT_TYPE_CODE</th>\n",
       "      <th>PATIENT_SEQUENCE_NUMBER</th>\n",
       "      <th>DATE_REPORT</th>\n",
       "      <th>FOI_TEXT</th>\n",
       "      <th>textLen</th>\n",
       "      <th>REPORT_NUMBER</th>\n",
       "      <th>REPORT_SOURCE_CODE</th>\n",
       "      <th>MANUFACTURER_LINK_FLAG_</th>\n",
       "      <th>...</th>\n",
       "      <th>DEVICE_REPORT_PRODUCT_CODE</th>\n",
       "      <th>DEVICE_AGE_TEXT</th>\n",
       "      <th>DEVICE_EVALUATED_BY_MANUFACTUR</th>\n",
       "      <th>year</th>\n",
       "      <th>STD_MANUFACTURER</th>\n",
       "      <th>STD_DEVICE</th>\n",
       "      <th>RECALL_CLASS</th>\n",
       "      <th>CENSORED</th>\n",
       "      <th>_merge</th>\n",
       "      <th>CLEAN_FOI_TEXT</th>\n",
       "    </tr>\n",
       "  </thead>\n",
       "  <tbody>\n",
       "    <tr>\n",
       "      <th>5365</th>\n",
       "      <td>1499570</td>\n",
       "      <td>1175091</td>\n",
       "      <td>D</td>\n",
       "      <td>1</td>\n",
       "      <td>NaN</td>\n",
       "      <td>IT WAS REPORTED THAT THE SVC LEAD IMPEDANCE HA...</td>\n",
       "      <td>NaN</td>\n",
       "      <td>2182208-2009-00315</td>\n",
       "      <td>M</td>\n",
       "      <td>Y</td>\n",
       "      <td>...</td>\n",
       "      <td>LWS</td>\n",
       "      <td>4 YR</td>\n",
       "      <td>Y</td>\n",
       "      <td>2009</td>\n",
       "      <td>MEDTRONIC</td>\n",
       "      <td>MEDTRONIC_SUBQ</td>\n",
       "      <td>0</td>\n",
       "      <td>2009-10-09</td>\n",
       "      <td>both</td>\n",
       "      <td>it report the svc lead imped been trend normal...</td>\n",
       "    </tr>\n",
       "    <tr>\n",
       "      <th>6323</th>\n",
       "      <td>1555575</td>\n",
       "      <td>21787851</td>\n",
       "      <td>D</td>\n",
       "      <td>1</td>\n",
       "      <td>NaN</td>\n",
       "      <td>IT WAS REPORTED THE LEAD CAPPED AND REPLACED D...</td>\n",
       "      <td>NaN</td>\n",
       "      <td>2182208-2009-00385</td>\n",
       "      <td>M</td>\n",
       "      <td>Y</td>\n",
       "      <td>...</td>\n",
       "      <td>LWS</td>\n",
       "      <td>2 YR</td>\n",
       "      <td>Y</td>\n",
       "      <td>2009</td>\n",
       "      <td>MEDTRONIC</td>\n",
       "      <td>MEDTRONIC_SUBQ</td>\n",
       "      <td>0</td>\n",
       "      <td>2009-12-10</td>\n",
       "      <td>both</td>\n",
       "      <td>it report lead cap replac due high imped a fra...</td>\n",
       "    </tr>\n",
       "    <tr>\n",
       "      <th>6504</th>\n",
       "      <td>1646154</td>\n",
       "      <td>1334607</td>\n",
       "      <td>D</td>\n",
       "      <td>1</td>\n",
       "      <td>NaN</td>\n",
       "      <td>THE LEAD WAS RETURNED TO THE MANUFACTURER, ANA...</td>\n",
       "      <td>NaN</td>\n",
       "      <td>2182208-2010-00146</td>\n",
       "      <td>M</td>\n",
       "      <td>Y</td>\n",
       "      <td>...</td>\n",
       "      <td>LWS</td>\n",
       "      <td>2 YR</td>\n",
       "      <td>Y</td>\n",
       "      <td>2010</td>\n",
       "      <td>MEDTRONIC</td>\n",
       "      <td>MEDTRONIC_SUBQ</td>\n",
       "      <td>0</td>\n",
       "      <td>2010-03-30</td>\n",
       "      <td>both</td>\n",
       "      <td>the lead return the manufactur analyz subsequ ...</td>\n",
       "    </tr>\n",
       "    <tr>\n",
       "      <th>6698</th>\n",
       "      <td>1842687</td>\n",
       "      <td>1373403</td>\n",
       "      <td>D</td>\n",
       "      <td>1</td>\n",
       "      <td>NaN</td>\n",
       "      <td>IT WAS REPORTED THAT THE PATIENT WAS ADMITTED ...</td>\n",
       "      <td>NaN</td>\n",
       "      <td>2182208-2010-00631</td>\n",
       "      <td>M</td>\n",
       "      <td>Y</td>\n",
       "      <td>...</td>\n",
       "      <td>LWS</td>\n",
       "      <td>5 YR</td>\n",
       "      <td>N</td>\n",
       "      <td>2010</td>\n",
       "      <td>MEDTRONIC</td>\n",
       "      <td>MEDTRONIC_SUBQ</td>\n",
       "      <td>0</td>\n",
       "      <td>2010-09-23</td>\n",
       "      <td>both</td>\n",
       "      <td>it report the patient admit the hospit episod ...</td>\n",
       "    </tr>\n",
       "    <tr>\n",
       "      <th>7019</th>\n",
       "      <td>1861905</td>\n",
       "      <td>1467006</td>\n",
       "      <td>D</td>\n",
       "      <td>1</td>\n",
       "      <td>NaN</td>\n",
       "      <td>IT WAS REPORTED THAT THE PATIENT'S LEAD IMPEDA...</td>\n",
       "      <td>NaN</td>\n",
       "      <td>2182208-2010-00714</td>\n",
       "      <td>M</td>\n",
       "      <td>Y</td>\n",
       "      <td>...</td>\n",
       "      <td>LWS</td>\n",
       "      <td>8 YR</td>\n",
       "      <td>N</td>\n",
       "      <td>2010</td>\n",
       "      <td>MEDTRONIC</td>\n",
       "      <td>MEDTRONIC_SUBQ</td>\n",
       "      <td>0</td>\n",
       "      <td>2010-10-08</td>\n",
       "      <td>both</td>\n",
       "      <td>it report the patient lead imped variabl the l...</td>\n",
       "    </tr>\n",
       "  </tbody>\n",
       "</table>\n",
       "<p>5 rows × 41 columns</p>\n",
       "</div>"
      ],
      "text/plain": [
       "     MDR_REPORT_KEY MDR_TEXT_KEY TEXT_TYPE_CODE PATIENT_SEQUENCE_NUMBER  \\\n",
       "5365        1499570      1175091              D                       1   \n",
       "6323        1555575     21787851              D                       1   \n",
       "6504        1646154      1334607              D                       1   \n",
       "6698        1842687      1373403              D                       1   \n",
       "7019        1861905      1467006              D                       1   \n",
       "\n",
       "     DATE_REPORT                                           FOI_TEXT  textLen  \\\n",
       "5365         NaN  IT WAS REPORTED THAT THE SVC LEAD IMPEDANCE HA...      NaN   \n",
       "6323         NaN  IT WAS REPORTED THE LEAD CAPPED AND REPLACED D...      NaN   \n",
       "6504         NaN  THE LEAD WAS RETURNED TO THE MANUFACTURER, ANA...      NaN   \n",
       "6698         NaN  IT WAS REPORTED THAT THE PATIENT WAS ADMITTED ...      NaN   \n",
       "7019         NaN  IT WAS REPORTED THAT THE PATIENT'S LEAD IMPEDA...      NaN   \n",
       "\n",
       "           REPORT_NUMBER REPORT_SOURCE_CODE MANUFACTURER_LINK_FLAG_  ...  \\\n",
       "5365  2182208-2009-00315                  M                       Y  ...   \n",
       "6323  2182208-2009-00385                  M                       Y  ...   \n",
       "6504  2182208-2010-00146                  M                       Y  ...   \n",
       "6698  2182208-2010-00631                  M                       Y  ...   \n",
       "7019  2182208-2010-00714                  M                       Y  ...   \n",
       "\n",
       "     DEVICE_REPORT_PRODUCT_CODE DEVICE_AGE_TEXT  \\\n",
       "5365                        LWS            4 YR   \n",
       "6323                        LWS            2 YR   \n",
       "6504                        LWS            2 YR   \n",
       "6698                        LWS            5 YR   \n",
       "7019                        LWS            8 YR   \n",
       "\n",
       "     DEVICE_EVALUATED_BY_MANUFACTUR  year STD_MANUFACTURER      STD_DEVICE  \\\n",
       "5365                              Y  2009        MEDTRONIC  MEDTRONIC_SUBQ   \n",
       "6323                              Y  2009        MEDTRONIC  MEDTRONIC_SUBQ   \n",
       "6504                              Y  2010        MEDTRONIC  MEDTRONIC_SUBQ   \n",
       "6698                              N  2010        MEDTRONIC  MEDTRONIC_SUBQ   \n",
       "7019                              N  2010        MEDTRONIC  MEDTRONIC_SUBQ   \n",
       "\n",
       "     RECALL_CLASS   CENSORED _merge  \\\n",
       "5365            0 2009-10-09   both   \n",
       "6323            0 2009-12-10   both   \n",
       "6504            0 2010-03-30   both   \n",
       "6698            0 2010-09-23   both   \n",
       "7019            0 2010-10-08   both   \n",
       "\n",
       "                                         CLEAN_FOI_TEXT  \n",
       "5365  it report the svc lead imped been trend normal...  \n",
       "6323  it report lead cap replac due high imped a fra...  \n",
       "6504  the lead return the manufactur analyz subsequ ...  \n",
       "6698  it report the patient admit the hospit episod ...  \n",
       "7019  it report the patient lead imped variabl the l...  \n",
       "\n",
       "[5 rows x 41 columns]"
      ]
     },
     "execution_count": 33,
     "metadata": {},
     "output_type": "execute_result"
    }
   ],
   "source": [
    "# creating dfs based on recall class\n",
    "df2_recall0 = df2[df2[\"RECALL_CLASS\"] == \"0\"]\n",
    "print(df2_recall0.shape)\n",
    "df2_recall0.head()"
   ]
  },
  {
   "cell_type": "code",
   "execution_count": 34,
   "id": "1cfdc87a",
   "metadata": {},
   "outputs": [
    {
     "name": "stdout",
     "output_type": "stream",
     "text": [
      "(2333, 41)\n"
     ]
    },
    {
     "data": {
      "text/html": [
       "<div>\n",
       "<style scoped>\n",
       "    .dataframe tbody tr th:only-of-type {\n",
       "        vertical-align: middle;\n",
       "    }\n",
       "\n",
       "    .dataframe tbody tr th {\n",
       "        vertical-align: top;\n",
       "    }\n",
       "\n",
       "    .dataframe thead th {\n",
       "        text-align: right;\n",
       "    }\n",
       "</style>\n",
       "<table border=\"1\" class=\"dataframe\">\n",
       "  <thead>\n",
       "    <tr style=\"text-align: right;\">\n",
       "      <th></th>\n",
       "      <th>MDR_REPORT_KEY</th>\n",
       "      <th>MDR_TEXT_KEY</th>\n",
       "      <th>TEXT_TYPE_CODE</th>\n",
       "      <th>PATIENT_SEQUENCE_NUMBER</th>\n",
       "      <th>DATE_REPORT</th>\n",
       "      <th>FOI_TEXT</th>\n",
       "      <th>textLen</th>\n",
       "      <th>REPORT_NUMBER</th>\n",
       "      <th>REPORT_SOURCE_CODE</th>\n",
       "      <th>MANUFACTURER_LINK_FLAG_</th>\n",
       "      <th>...</th>\n",
       "      <th>DEVICE_REPORT_PRODUCT_CODE</th>\n",
       "      <th>DEVICE_AGE_TEXT</th>\n",
       "      <th>DEVICE_EVALUATED_BY_MANUFACTUR</th>\n",
       "      <th>year</th>\n",
       "      <th>STD_MANUFACTURER</th>\n",
       "      <th>STD_DEVICE</th>\n",
       "      <th>RECALL_CLASS</th>\n",
       "      <th>CENSORED</th>\n",
       "      <th>_merge</th>\n",
       "      <th>CLEAN_FOI_TEXT</th>\n",
       "    </tr>\n",
       "  </thead>\n",
       "  <tbody>\n",
       "    <tr>\n",
       "      <th>44671</th>\n",
       "      <td>5863406</td>\n",
       "      <td>51873032</td>\n",
       "      <td>D</td>\n",
       "      <td>1</td>\n",
       "      <td>NaN</td>\n",
       "      <td>IT WAS REPORTED THAT RIGHT VENTRICULAR (RV) LE...</td>\n",
       "      <td>NaN</td>\n",
       "      <td>3004209178-2016-16452</td>\n",
       "      <td>M</td>\n",
       "      <td>Y</td>\n",
       "      <td>...</td>\n",
       "      <td>LWS</td>\n",
       "      <td>DA</td>\n",
       "      <td>*</td>\n",
       "      <td>2016</td>\n",
       "      <td>MEDTRONIC</td>\n",
       "      <td>MEDTRONIC_VISIA</td>\n",
       "      <td>1</td>\n",
       "      <td>2016-08-09</td>\n",
       "      <td>both</td>\n",
       "      <td>it report right ventricular rv lead undersens ...</td>\n",
       "    </tr>\n",
       "    <tr>\n",
       "      <th>45409</th>\n",
       "      <td>6005362</td>\n",
       "      <td>56757732</td>\n",
       "      <td>D</td>\n",
       "      <td>1</td>\n",
       "      <td>NaN</td>\n",
       "      <td>IT WAS REPORTED THAT APPROXIMATELY 1 MONTH AFT...</td>\n",
       "      <td>NaN</td>\n",
       "      <td>3004209178-2016-20658</td>\n",
       "      <td>M</td>\n",
       "      <td>Y</td>\n",
       "      <td>...</td>\n",
       "      <td>LWS</td>\n",
       "      <td>DA</td>\n",
       "      <td>*</td>\n",
       "      <td>2016</td>\n",
       "      <td>MEDTRONIC</td>\n",
       "      <td>MEDTRONIC_VISIA</td>\n",
       "      <td>1</td>\n",
       "      <td>2016-10-06</td>\n",
       "      <td>both</td>\n",
       "      <td>it report approxim month implant the implant c...</td>\n",
       "    </tr>\n",
       "    <tr>\n",
       "      <th>45746</th>\n",
       "      <td>6008518</td>\n",
       "      <td>56782074</td>\n",
       "      <td>D</td>\n",
       "      <td>1</td>\n",
       "      <td>NaN</td>\n",
       "      <td>IT WAS REPORTED THAT POST IMPLANT THE PATIENT ...</td>\n",
       "      <td>NaN</td>\n",
       "      <td>3004209178-2016-20876</td>\n",
       "      <td>M</td>\n",
       "      <td>Y</td>\n",
       "      <td>...</td>\n",
       "      <td>LWS</td>\n",
       "      <td>DA</td>\n",
       "      <td>*</td>\n",
       "      <td>2016</td>\n",
       "      <td>MEDTRONIC</td>\n",
       "      <td>MEDTRONIC_VISIA</td>\n",
       "      <td>1</td>\n",
       "      <td>2016-10-06</td>\n",
       "      <td>both</td>\n",
       "      <td>it report post implant patient develop centime...</td>\n",
       "    </tr>\n",
       "    <tr>\n",
       "      <th>46980</th>\n",
       "      <td>6162782</td>\n",
       "      <td>62086281</td>\n",
       "      <td>D</td>\n",
       "      <td>1</td>\n",
       "      <td>NaN</td>\n",
       "      <td>IT WAS REPORTED THAT THE PATIENT WAS EXPERIENC...</td>\n",
       "      <td>NaN</td>\n",
       "      <td>3004209178-2016-25929</td>\n",
       "      <td>M</td>\n",
       "      <td>Y</td>\n",
       "      <td>...</td>\n",
       "      <td>LWS</td>\n",
       "      <td>DA</td>\n",
       "      <td>Y</td>\n",
       "      <td>2016</td>\n",
       "      <td>MEDTRONIC</td>\n",
       "      <td>MEDTRONIC_VISIA</td>\n",
       "      <td>1</td>\n",
       "      <td>2016-12-09</td>\n",
       "      <td>both</td>\n",
       "      <td>it report the patient experienc pain the impla...</td>\n",
       "    </tr>\n",
       "    <tr>\n",
       "      <th>47133</th>\n",
       "      <td>6162236</td>\n",
       "      <td>62104496</td>\n",
       "      <td>D</td>\n",
       "      <td>1</td>\n",
       "      <td>NaN</td>\n",
       "      <td>IT WAS REPORTED THAT THE PATIENT HAD A LEAD AL...</td>\n",
       "      <td>NaN</td>\n",
       "      <td>3004209178-2016-25845</td>\n",
       "      <td>M</td>\n",
       "      <td>Y</td>\n",
       "      <td>...</td>\n",
       "      <td>LWS</td>\n",
       "      <td>DA</td>\n",
       "      <td>Y</td>\n",
       "      <td>2016</td>\n",
       "      <td>MEDTRONIC</td>\n",
       "      <td>MEDTRONIC_VISIA</td>\n",
       "      <td>1</td>\n",
       "      <td>2016-12-09</td>\n",
       "      <td>both</td>\n",
       "      <td>it report the patient a lead alert indic right...</td>\n",
       "    </tr>\n",
       "  </tbody>\n",
       "</table>\n",
       "<p>5 rows × 41 columns</p>\n",
       "</div>"
      ],
      "text/plain": [
       "      MDR_REPORT_KEY MDR_TEXT_KEY TEXT_TYPE_CODE PATIENT_SEQUENCE_NUMBER  \\\n",
       "44671        5863406     51873032              D                       1   \n",
       "45409        6005362     56757732              D                       1   \n",
       "45746        6008518     56782074              D                       1   \n",
       "46980        6162782     62086281              D                       1   \n",
       "47133        6162236     62104496              D                       1   \n",
       "\n",
       "      DATE_REPORT                                           FOI_TEXT  textLen  \\\n",
       "44671         NaN  IT WAS REPORTED THAT RIGHT VENTRICULAR (RV) LE...      NaN   \n",
       "45409         NaN  IT WAS REPORTED THAT APPROXIMATELY 1 MONTH AFT...      NaN   \n",
       "45746         NaN  IT WAS REPORTED THAT POST IMPLANT THE PATIENT ...      NaN   \n",
       "46980         NaN  IT WAS REPORTED THAT THE PATIENT WAS EXPERIENC...      NaN   \n",
       "47133         NaN  IT WAS REPORTED THAT THE PATIENT HAD A LEAD AL...      NaN   \n",
       "\n",
       "               REPORT_NUMBER REPORT_SOURCE_CODE MANUFACTURER_LINK_FLAG_  ...  \\\n",
       "44671  3004209178-2016-16452                  M                       Y  ...   \n",
       "45409  3004209178-2016-20658                  M                       Y  ...   \n",
       "45746  3004209178-2016-20876                  M                       Y  ...   \n",
       "46980  3004209178-2016-25929                  M                       Y  ...   \n",
       "47133  3004209178-2016-25845                  M                       Y  ...   \n",
       "\n",
       "      DEVICE_REPORT_PRODUCT_CODE DEVICE_AGE_TEXT  \\\n",
       "44671                        LWS              DA   \n",
       "45409                        LWS              DA   \n",
       "45746                        LWS              DA   \n",
       "46980                        LWS              DA   \n",
       "47133                        LWS              DA   \n",
       "\n",
       "      DEVICE_EVALUATED_BY_MANUFACTUR  year STD_MANUFACTURER       STD_DEVICE  \\\n",
       "44671                              *  2016        MEDTRONIC  MEDTRONIC_VISIA   \n",
       "45409                              *  2016        MEDTRONIC  MEDTRONIC_VISIA   \n",
       "45746                              *  2016        MEDTRONIC  MEDTRONIC_VISIA   \n",
       "46980                              Y  2016        MEDTRONIC  MEDTRONIC_VISIA   \n",
       "47133                              Y  2016        MEDTRONIC  MEDTRONIC_VISIA   \n",
       "\n",
       "      RECALL_CLASS   CENSORED _merge  \\\n",
       "44671            1 2016-08-09   both   \n",
       "45409            1 2016-10-06   both   \n",
       "45746            1 2016-10-06   both   \n",
       "46980            1 2016-12-09   both   \n",
       "47133            1 2016-12-09   both   \n",
       "\n",
       "                                          CLEAN_FOI_TEXT  \n",
       "44671  it report right ventricular rv lead undersens ...  \n",
       "45409  it report approxim month implant the implant c...  \n",
       "45746  it report post implant patient develop centime...  \n",
       "46980  it report the patient experienc pain the impla...  \n",
       "47133  it report the patient a lead alert indic right...  \n",
       "\n",
       "[5 rows x 41 columns]"
      ]
     },
     "execution_count": 34,
     "metadata": {},
     "output_type": "execute_result"
    }
   ],
   "source": [
    "df2_recall1 = df2[df2[\"RECALL_CLASS\"] == \"1\"]\n",
    "print(df2_recall1.shape)\n",
    "df2_recall1.head()"
   ]
  },
  {
   "cell_type": "code",
   "execution_count": 35,
   "id": "280ee705",
   "metadata": {},
   "outputs": [
    {
     "name": "stdout",
     "output_type": "stream",
     "text": [
      "(2099, 41)\n",
      "(2099, 41)\n"
     ]
    }
   ],
   "source": [
    "# undersampling\n",
    "udf2_recall0 = df2_recall0.sample(n=2099)\n",
    "print(udf2_recall0.shape)\n",
    "udf2_recall1 = df2_recall1.sample(n=2099)\n",
    "print(udf2_recall1.shape)"
   ]
  },
  {
   "cell_type": "code",
   "execution_count": 36,
   "id": "d4232467",
   "metadata": {},
   "outputs": [
    {
     "name": "stdout",
     "output_type": "stream",
     "text": [
      "(4198, 41)\n"
     ]
    },
    {
     "data": {
      "text/plain": [
       "<AxesSubplot:xlabel='RECALL_CLASS', ylabel='count'>"
      ]
     },
     "execution_count": 36,
     "metadata": {},
     "output_type": "execute_result"
    },
    {
     "data": {
      "image/png": "[encoded data removed]",
      "text/plain": [
       "<Figure size 432x288 with 1 Axes>"
      ]
     },
     "metadata": {
      "needs_background": "light"
     },
     "output_type": "display_data"
    }
   ],
   "source": [
    "udf2 = udf2_recall0\n",
    "udf2 = udf2.append(udf2_recall1)\n",
    "print(udf2.shape)\n",
    "sns.countplot(x=\"RECALL_CLASS\", data=udf2)"
   ]
  },
  {
   "cell_type": "code",
   "execution_count": 38,
   "id": "23873cb4",
   "metadata": {},
   "outputs": [
    {
     "name": "stdout",
     "output_type": "stream",
     "text": [
      "(2333, 41)\n"
     ]
    }
   ],
   "source": [
    "# oversampling\n",
    "odf2same_recall0 = pd.concat([df2_recall0]*2, ignore_index=True)\n",
    "odf2same_recall0 = odf2same_recall0.sample(n=2333)\n",
    "print(odf2same_recall0.shape)"
   ]
  },
  {
   "cell_type": "code",
   "execution_count": 39,
   "id": "662bd076",
   "metadata": {},
   "outputs": [
    {
     "name": "stdout",
     "output_type": "stream",
     "text": [
      "(4666, 41)\n"
     ]
    },
    {
     "data": {
      "text/plain": [
       "<AxesSubplot:xlabel='RECALL_CLASS', ylabel='count'>"
      ]
     },
     "execution_count": 39,
     "metadata": {},
     "output_type": "execute_result"
    },
    {
     "data": {
      "image/png": "[encoded data removed]",
      "text/plain": [
       "<Figure size 432x288 with 1 Axes>"
      ]
     },
     "metadata": {
      "needs_background": "light"
     },
     "output_type": "display_data"
    }
   ],
   "source": [
    "odf2same = df2_recall1\n",
    "odf2same = odf2same.append(odf2same_recall0)\n",
    "print(odf2same.shape)\n",
    "sns.countplot(x=\"RECALL_CLASS\", data=odf2same)"
   ]
  },
  {
   "cell_type": "code",
   "execution_count": 44,
   "id": "4fff6e33",
   "metadata": {},
   "outputs": [
    {
     "name": "stdout",
     "output_type": "stream",
     "text": [
      "(4198, 41)\n",
      "(4666, 41)\n",
      "(4432, 41)\n"
     ]
    }
   ],
   "source": [
    "udf2.to_pickle(\"./4_COMB_FILE_UNDERSAMPLING_S2.pkl\")\n",
    "print(udf2.shape)\n",
    "odf2same.to_pickle(\"./4_COMB_FILE_OVERSAMPLING_S2.pkl\")\n",
    "print(odf2same.shape)\n",
    "df2.to_pickle(\"./4_COMB_FILE_UNBALANCED_S2.pkl\")\n",
    "print(df2.shape)"
   ]
  },
  {
   "cell_type": "code",
   "execution_count": 43,
   "id": "dda7e0cb",
   "metadata": {},
   "outputs": [],
   "source": [
    "# different variations of oversampling were not used due to the relative similarity of the recall class sizes"
   ]
  },
  {
   "cell_type": "code",
   "execution_count": null,
   "id": "367bdc8c",
   "metadata": {},
   "outputs": [],
   "source": []
  }
 ],
 "metadata": {
  "kernelspec": {
   "display_name": "Python 3",
   "language": "python",
   "name": "python3"
  },
  "language_info": {
   "codemirror_mode": {
    "name": "ipython",
    "version": 3
   },
   "file_extension": ".py",
   "mimetype": "text/x-python",
   "name": "python",
   "nbconvert_exporter": "python",
   "pygments_lexer": "ipython3",
   "version": "3.8.8"
  }
 },
 "nbformat": 4,
 "nbformat_minor": 5
}
