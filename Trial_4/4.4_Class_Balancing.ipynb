{
 "cells": [
  {
   "cell_type": "code",
   "execution_count": 1,
   "id": "f504c2ec",
   "metadata": {},
   "outputs": [],
   "source": [
    "import numpy as np\n",
    "import pandas as pd\n",
    "import numpy as np\n",
    "import pandas as pd\n",
    "import sys\n",
    "import csv\n",
    "import functools\n",
    "from functools import reduce\n",
    "import seaborn as sns\n",
    "import matplotlib.pyplot as plt\n",
    "from datetime import datetime\n",
    "import re\n",
    "import string\n",
    "\n",
    "import nltk\n",
    "from nltk.corpus import stopwords\n",
    "from nltk.stem.porter import PorterStemmer\n",
    "from sklearn.feature_extraction.text import CountVectorizer\n",
    "from sklearn.model_selection import train_test_split\n",
    "from sklearn.naive_bayes import GaussianNB\n",
    "from sklearn.metrics import confusion_matrix, classification_report\n",
    "from sklearn.tree import DecisionTreeClassifier\n",
    "from sklearn.ensemble import RandomForestClassifier"
   ]
  },
  {
   "cell_type": "code",
   "execution_count": 2,
   "id": "006eda0b",
   "metadata": {},
   "outputs": [
    {
     "data": {
      "text/plain": [
       "(25677, 49)"
      ]
     },
     "execution_count": 2,
     "metadata": {},
     "output_type": "execute_result"
    }
   ],
   "source": [
    "df = pd.read_pickle(\"./4_MASDEV_Cleaned.pkl\")\n",
    "df.shape"
   ]
  },
  {
   "cell_type": "code",
   "execution_count": 3,
   "id": "8cf72f65",
   "metadata": {},
   "outputs": [
    {
     "data": {
      "text/plain": [
       "1    15811\n",
       "0     9866\n",
       "Name: RECALL_CLASS, dtype: int64"
      ]
     },
     "execution_count": 3,
     "metadata": {},
     "output_type": "execute_result"
    }
   ],
   "source": [
    "df[\"RECALL_CLASS\"].value_counts()"
   ]
  },
  {
   "cell_type": "code",
   "execution_count": 4,
   "id": "cda2a4ff",
   "metadata": {},
   "outputs": [
    {
     "data": {
      "text/plain": [
       "<AxesSubplot:xlabel='RECALL_CLASS', ylabel='count'>"
      ]
     },
     "execution_count": 4,
     "metadata": {},
     "output_type": "execute_result"
    },
    {
     "data": {
      "image/png": "[encoded data removed]",
      "text/plain": [
       "<Figure size 432x288 with 1 Axes>"
      ]
     },
     "metadata": {
      "needs_background": "light"
     },
     "output_type": "display_data"
    }
   ],
   "source": [
    "sns.countplot(x=\"RECALL_CLASS\", data=df)"
   ]
  },
  {
   "cell_type": "code",
   "execution_count": 5,
   "id": "d2e58618",
   "metadata": {},
   "outputs": [
    {
     "name": "stdout",
     "output_type": "stream",
     "text": [
      "(9866, 49)\n"
     ]
    },
    {
     "data": {
      "text/html": [
       "<div>\n",
       "<style scoped>\n",
       "    .dataframe tbody tr th:only-of-type {\n",
       "        vertical-align: middle;\n",
       "    }\n",
       "\n",
       "    .dataframe tbody tr th {\n",
       "        vertical-align: top;\n",
       "    }\n",
       "\n",
       "    .dataframe thead th {\n",
       "        text-align: right;\n",
       "    }\n",
       "</style>\n",
       "<table border=\"1\" class=\"dataframe\">\n",
       "  <thead>\n",
       "    <tr style=\"text-align: right;\">\n",
       "      <th></th>\n",
       "      <th>MDR_REPORT_KEY</th>\n",
       "      <th>MDR_TEXT_KEY</th>\n",
       "      <th>TEXT_TYPE_CODE</th>\n",
       "      <th>PATIENT_SEQUENCE_NUMBER</th>\n",
       "      <th>DATE_REPORT</th>\n",
       "      <th>FOI_TEXT</th>\n",
       "      <th>textLen</th>\n",
       "      <th>REPORT_NUMBER</th>\n",
       "      <th>REPORT_SOURCE_CODE</th>\n",
       "      <th>MANUFACTURER_LINK_FLAG_</th>\n",
       "      <th>...</th>\n",
       "      <th>MEDTRONIC_VISIA</th>\n",
       "      <th>BOS_SCI_EMBLEM</th>\n",
       "      <th>StJUDE_ELLIPSE</th>\n",
       "      <th>MEDTRONIC_SPRINT</th>\n",
       "      <th>MEDTRONIC_SPRINT_QUATTRO</th>\n",
       "      <th>MEDTRONIC_SUBQ</th>\n",
       "      <th>MEDTRONIC_CROME</th>\n",
       "      <th>CENSORED</th>\n",
       "      <th>_merge</th>\n",
       "      <th>CLEAN_FOI_TEXT</th>\n",
       "    </tr>\n",
       "  </thead>\n",
       "  <tbody>\n",
       "    <tr>\n",
       "      <th>0</th>\n",
       "      <td>263098</td>\n",
       "      <td>147618</td>\n",
       "      <td>D</td>\n",
       "      <td>1</td>\n",
       "      <td>NaN</td>\n",
       "      <td>OVERSENSING FROM LEAD FRACTURE CAUSED PT TO RE...</td>\n",
       "      <td>NaN</td>\n",
       "      <td>2182208-2000-00025</td>\n",
       "      <td>M</td>\n",
       "      <td>Y</td>\n",
       "      <td>...</td>\n",
       "      <td>False</td>\n",
       "      <td>False</td>\n",
       "      <td>False</td>\n",
       "      <td>True</td>\n",
       "      <td>False</td>\n",
       "      <td>False</td>\n",
       "      <td>False</td>\n",
       "      <td>2000-01-10</td>\n",
       "      <td>both</td>\n",
       "      <td>oversens lead fractur caus pt receiv unnecessa...</td>\n",
       "    </tr>\n",
       "    <tr>\n",
       "      <th>1</th>\n",
       "      <td>291837</td>\n",
       "      <td>148901</td>\n",
       "      <td>D</td>\n",
       "      <td>1</td>\n",
       "      <td>NaN</td>\n",
       "      <td>SYSTEM RETURNED FOR LEAD FRACTURES, BURN MARK ...</td>\n",
       "      <td>NaN</td>\n",
       "      <td>2649622-2000-00207</td>\n",
       "      <td>M</td>\n",
       "      <td>Y</td>\n",
       "      <td>...</td>\n",
       "      <td>False</td>\n",
       "      <td>False</td>\n",
       "      <td>False</td>\n",
       "      <td>True</td>\n",
       "      <td>False</td>\n",
       "      <td>False</td>\n",
       "      <td>False</td>\n",
       "      <td>2000-05-12</td>\n",
       "      <td>both</td>\n",
       "      <td>system return lead fractur burn mark long char...</td>\n",
       "    </tr>\n",
       "    <tr>\n",
       "      <th>2</th>\n",
       "      <td>292539</td>\n",
       "      <td>182872</td>\n",
       "      <td>D</td>\n",
       "      <td>1</td>\n",
       "      <td>NaN</td>\n",
       "      <td>PACING THRESHOLD INCREASE</td>\n",
       "      <td>NaN</td>\n",
       "      <td>2649622-2000-00385</td>\n",
       "      <td>M</td>\n",
       "      <td>Y</td>\n",
       "      <td>...</td>\n",
       "      <td>False</td>\n",
       "      <td>False</td>\n",
       "      <td>False</td>\n",
       "      <td>True</td>\n",
       "      <td>False</td>\n",
       "      <td>False</td>\n",
       "      <td>False</td>\n",
       "      <td>2000-07-11</td>\n",
       "      <td>both</td>\n",
       "      <td>pace threshold increas</td>\n",
       "    </tr>\n",
       "    <tr>\n",
       "      <th>3</th>\n",
       "      <td>292547</td>\n",
       "      <td>182873</td>\n",
       "      <td>D</td>\n",
       "      <td>1</td>\n",
       "      <td>NaN</td>\n",
       "      <td>SENSING DIFFICULTY, INSULATION DAMAGE</td>\n",
       "      <td>NaN</td>\n",
       "      <td>2182208-2000-00251</td>\n",
       "      <td>M</td>\n",
       "      <td>Y</td>\n",
       "      <td>...</td>\n",
       "      <td>False</td>\n",
       "      <td>False</td>\n",
       "      <td>False</td>\n",
       "      <td>True</td>\n",
       "      <td>False</td>\n",
       "      <td>False</td>\n",
       "      <td>False</td>\n",
       "      <td>2000-07-11</td>\n",
       "      <td>both</td>\n",
       "      <td>sens difficulti insul damag</td>\n",
       "    </tr>\n",
       "    <tr>\n",
       "      <th>4</th>\n",
       "      <td>292558</td>\n",
       "      <td>20930497</td>\n",
       "      <td>D</td>\n",
       "      <td>1</td>\n",
       "      <td>NaN</td>\n",
       "      <td>APPARENT LEAD FRACTURE, NOISE.</td>\n",
       "      <td>NaN</td>\n",
       "      <td>2649622-2000-00364</td>\n",
       "      <td>M</td>\n",
       "      <td>Y</td>\n",
       "      <td>...</td>\n",
       "      <td>False</td>\n",
       "      <td>False</td>\n",
       "      <td>False</td>\n",
       "      <td>True</td>\n",
       "      <td>False</td>\n",
       "      <td>False</td>\n",
       "      <td>False</td>\n",
       "      <td>2000-07-11</td>\n",
       "      <td>both</td>\n",
       "      <td>appar lead fractur nois</td>\n",
       "    </tr>\n",
       "  </tbody>\n",
       "</table>\n",
       "<p>5 rows × 49 columns</p>\n",
       "</div>"
      ],
      "text/plain": [
       "  MDR_REPORT_KEY MDR_TEXT_KEY TEXT_TYPE_CODE PATIENT_SEQUENCE_NUMBER  \\\n",
       "0         263098       147618              D                       1   \n",
       "1         291837       148901              D                       1   \n",
       "2         292539       182872              D                       1   \n",
       "3         292547       182873              D                       1   \n",
       "4         292558     20930497              D                       1   \n",
       "\n",
       "  DATE_REPORT                                           FOI_TEXT  textLen  \\\n",
       "0         NaN  OVERSENSING FROM LEAD FRACTURE CAUSED PT TO RE...      NaN   \n",
       "1         NaN  SYSTEM RETURNED FOR LEAD FRACTURES, BURN MARK ...      NaN   \n",
       "2         NaN                          PACING THRESHOLD INCREASE      NaN   \n",
       "3         NaN              SENSING DIFFICULTY, INSULATION DAMAGE      NaN   \n",
       "4         NaN                     APPARENT LEAD FRACTURE, NOISE.      NaN   \n",
       "\n",
       "        REPORT_NUMBER REPORT_SOURCE_CODE MANUFACTURER_LINK_FLAG_  ...  \\\n",
       "0  2182208-2000-00025                  M                       Y  ...   \n",
       "1  2649622-2000-00207                  M                       Y  ...   \n",
       "2  2649622-2000-00385                  M                       Y  ...   \n",
       "3  2182208-2000-00251                  M                       Y  ...   \n",
       "4  2649622-2000-00364                  M                       Y  ...   \n",
       "\n",
       "  MEDTRONIC_VISIA BOS_SCI_EMBLEM StJUDE_ELLIPSE MEDTRONIC_SPRINT  \\\n",
       "0           False          False          False             True   \n",
       "1           False          False          False             True   \n",
       "2           False          False          False             True   \n",
       "3           False          False          False             True   \n",
       "4           False          False          False             True   \n",
       "\n",
       "  MEDTRONIC_SPRINT_QUATTRO MEDTRONIC_SUBQ MEDTRONIC_CROME   CENSORED _merge  \\\n",
       "0                    False          False           False 2000-01-10   both   \n",
       "1                    False          False           False 2000-05-12   both   \n",
       "2                    False          False           False 2000-07-11   both   \n",
       "3                    False          False           False 2000-07-11   both   \n",
       "4                    False          False           False 2000-07-11   both   \n",
       "\n",
       "                                      CLEAN_FOI_TEXT  \n",
       "0  oversens lead fractur caus pt receiv unnecessa...  \n",
       "1  system return lead fractur burn mark long char...  \n",
       "2                             pace threshold increas  \n",
       "3                        sens difficulti insul damag  \n",
       "4                            appar lead fractur nois  \n",
       "\n",
       "[5 rows x 49 columns]"
      ]
     },
     "execution_count": 5,
     "metadata": {},
     "output_type": "execute_result"
    }
   ],
   "source": [
    "# creating dfs based on recall class\n",
    "df_recall0 = df[df[\"RECALL_CLASS\"] == \"0\"]\n",
    "print(df_recall0.shape)\n",
    "df_recall0.head()"
   ]
  },
  {
   "cell_type": "code",
   "execution_count": 6,
   "id": "154a265c",
   "metadata": {},
   "outputs": [
    {
     "name": "stdout",
     "output_type": "stream",
     "text": [
      "(15811, 49)\n"
     ]
    },
    {
     "data": {
      "text/html": [
       "<div>\n",
       "<style scoped>\n",
       "    .dataframe tbody tr th:only-of-type {\n",
       "        vertical-align: middle;\n",
       "    }\n",
       "\n",
       "    .dataframe tbody tr th {\n",
       "        vertical-align: top;\n",
       "    }\n",
       "\n",
       "    .dataframe thead th {\n",
       "        text-align: right;\n",
       "    }\n",
       "</style>\n",
       "<table border=\"1\" class=\"dataframe\">\n",
       "  <thead>\n",
       "    <tr style=\"text-align: right;\">\n",
       "      <th></th>\n",
       "      <th>MDR_REPORT_KEY</th>\n",
       "      <th>MDR_TEXT_KEY</th>\n",
       "      <th>TEXT_TYPE_CODE</th>\n",
       "      <th>PATIENT_SEQUENCE_NUMBER</th>\n",
       "      <th>DATE_REPORT</th>\n",
       "      <th>FOI_TEXT</th>\n",
       "      <th>textLen</th>\n",
       "      <th>REPORT_NUMBER</th>\n",
       "      <th>REPORT_SOURCE_CODE</th>\n",
       "      <th>MANUFACTURER_LINK_FLAG_</th>\n",
       "      <th>...</th>\n",
       "      <th>MEDTRONIC_VISIA</th>\n",
       "      <th>BOS_SCI_EMBLEM</th>\n",
       "      <th>StJUDE_ELLIPSE</th>\n",
       "      <th>MEDTRONIC_SPRINT</th>\n",
       "      <th>MEDTRONIC_SPRINT_QUATTRO</th>\n",
       "      <th>MEDTRONIC_SUBQ</th>\n",
       "      <th>MEDTRONIC_CROME</th>\n",
       "      <th>CENSORED</th>\n",
       "      <th>_merge</th>\n",
       "      <th>CLEAN_FOI_TEXT</th>\n",
       "    </tr>\n",
       "  </thead>\n",
       "  <tbody>\n",
       "    <tr>\n",
       "      <th>3456</th>\n",
       "      <td>2819669</td>\n",
       "      <td>2920967</td>\n",
       "      <td>D</td>\n",
       "      <td>1</td>\n",
       "      <td>NaN</td>\n",
       "      <td>IT WAS REPORTED THAT THE SYSTEM WAS EXPLANTED ...</td>\n",
       "      <td>NaN</td>\n",
       "      <td>2017865-2012-09571</td>\n",
       "      <td>M</td>\n",
       "      <td>Y</td>\n",
       "      <td>...</td>\n",
       "      <td>False</td>\n",
       "      <td>False</td>\n",
       "      <td>True</td>\n",
       "      <td>False</td>\n",
       "      <td>False</td>\n",
       "      <td>False</td>\n",
       "      <td>False</td>\n",
       "      <td>2012-11-05</td>\n",
       "      <td>both</td>\n",
       "      <td>it report the system explant due infect</td>\n",
       "    </tr>\n",
       "    <tr>\n",
       "      <th>3457</th>\n",
       "      <td>2819620</td>\n",
       "      <td>2927864</td>\n",
       "      <td>D</td>\n",
       "      <td>1</td>\n",
       "      <td>NaN</td>\n",
       "      <td>THIS REPORT IS TO ADVISE OF AN EVENT OBSERVED ...</td>\n",
       "      <td>NaN</td>\n",
       "      <td>2017865-2012-09564</td>\n",
       "      <td>M</td>\n",
       "      <td>Y</td>\n",
       "      <td>...</td>\n",
       "      <td>False</td>\n",
       "      <td>False</td>\n",
       "      <td>True</td>\n",
       "      <td>False</td>\n",
       "      <td>False</td>\n",
       "      <td>False</td>\n",
       "      <td>False</td>\n",
       "      <td>2012-11-05</td>\n",
       "      <td>both</td>\n",
       "      <td>thi report to advis an event observ analysi</td>\n",
       "    </tr>\n",
       "    <tr>\n",
       "      <th>3458</th>\n",
       "      <td>2828234</td>\n",
       "      <td>2936439</td>\n",
       "      <td>D</td>\n",
       "      <td>1</td>\n",
       "      <td>NaN</td>\n",
       "      <td>IT WAS REPORTED THAT DURING INTERROGATION PRIO...</td>\n",
       "      <td>NaN</td>\n",
       "      <td>2017865-2012-10402</td>\n",
       "      <td>M</td>\n",
       "      <td>Y</td>\n",
       "      <td>...</td>\n",
       "      <td>False</td>\n",
       "      <td>False</td>\n",
       "      <td>True</td>\n",
       "      <td>False</td>\n",
       "      <td>False</td>\n",
       "      <td>False</td>\n",
       "      <td>False</td>\n",
       "      <td>2012-11-12</td>\n",
       "      <td>both</td>\n",
       "      <td>it report dure interrog prior av node ablat su...</td>\n",
       "    </tr>\n",
       "    <tr>\n",
       "      <th>3459</th>\n",
       "      <td>2828706</td>\n",
       "      <td>2938772</td>\n",
       "      <td>D</td>\n",
       "      <td>1</td>\n",
       "      <td>NaN</td>\n",
       "      <td>IT WAS REPORTED THAT CROSSTALK WAS NOTED ON TH...</td>\n",
       "      <td>NaN</td>\n",
       "      <td>2017865-2012-10401</td>\n",
       "      <td>M</td>\n",
       "      <td>Y</td>\n",
       "      <td>...</td>\n",
       "      <td>False</td>\n",
       "      <td>False</td>\n",
       "      <td>True</td>\n",
       "      <td>False</td>\n",
       "      <td>False</td>\n",
       "      <td>False</td>\n",
       "      <td>False</td>\n",
       "      <td>2012-11-12</td>\n",
       "      <td>both</td>\n",
       "      <td>it report crosstalk note the ventricular lead ...</td>\n",
       "    </tr>\n",
       "    <tr>\n",
       "      <th>3460</th>\n",
       "      <td>2825875</td>\n",
       "      <td>2941544</td>\n",
       "      <td>D</td>\n",
       "      <td>1</td>\n",
       "      <td>NaN</td>\n",
       "      <td>IT WAS REPORTED THAT THE SYSTEM WAS EXPLANTED ...</td>\n",
       "      <td>NaN</td>\n",
       "      <td>2017865-2012-09989</td>\n",
       "      <td>M</td>\n",
       "      <td>Y</td>\n",
       "      <td>...</td>\n",
       "      <td>False</td>\n",
       "      <td>False</td>\n",
       "      <td>True</td>\n",
       "      <td>False</td>\n",
       "      <td>False</td>\n",
       "      <td>False</td>\n",
       "      <td>False</td>\n",
       "      <td>2012-11-08</td>\n",
       "      <td>both</td>\n",
       "      <td>it report the system explant due infect</td>\n",
       "    </tr>\n",
       "  </tbody>\n",
       "</table>\n",
       "<p>5 rows × 49 columns</p>\n",
       "</div>"
      ],
      "text/plain": [
       "     MDR_REPORT_KEY MDR_TEXT_KEY TEXT_TYPE_CODE PATIENT_SEQUENCE_NUMBER  \\\n",
       "3456        2819669      2920967              D                       1   \n",
       "3457        2819620      2927864              D                       1   \n",
       "3458        2828234      2936439              D                       1   \n",
       "3459        2828706      2938772              D                       1   \n",
       "3460        2825875      2941544              D                       1   \n",
       "\n",
       "     DATE_REPORT                                           FOI_TEXT  textLen  \\\n",
       "3456         NaN  IT WAS REPORTED THAT THE SYSTEM WAS EXPLANTED ...      NaN   \n",
       "3457         NaN  THIS REPORT IS TO ADVISE OF AN EVENT OBSERVED ...      NaN   \n",
       "3458         NaN  IT WAS REPORTED THAT DURING INTERROGATION PRIO...      NaN   \n",
       "3459         NaN  IT WAS REPORTED THAT CROSSTALK WAS NOTED ON TH...      NaN   \n",
       "3460         NaN  IT WAS REPORTED THAT THE SYSTEM WAS EXPLANTED ...      NaN   \n",
       "\n",
       "           REPORT_NUMBER REPORT_SOURCE_CODE MANUFACTURER_LINK_FLAG_  ...  \\\n",
       "3456  2017865-2012-09571                  M                       Y  ...   \n",
       "3457  2017865-2012-09564                  M                       Y  ...   \n",
       "3458  2017865-2012-10402                  M                       Y  ...   \n",
       "3459  2017865-2012-10401                  M                       Y  ...   \n",
       "3460  2017865-2012-09989                  M                       Y  ...   \n",
       "\n",
       "     MEDTRONIC_VISIA BOS_SCI_EMBLEM StJUDE_ELLIPSE MEDTRONIC_SPRINT  \\\n",
       "3456           False          False           True            False   \n",
       "3457           False          False           True            False   \n",
       "3458           False          False           True            False   \n",
       "3459           False          False           True            False   \n",
       "3460           False          False           True            False   \n",
       "\n",
       "     MEDTRONIC_SPRINT_QUATTRO MEDTRONIC_SUBQ MEDTRONIC_CROME   CENSORED  \\\n",
       "3456                    False          False           False 2012-11-05   \n",
       "3457                    False          False           False 2012-11-05   \n",
       "3458                    False          False           False 2012-11-12   \n",
       "3459                    False          False           False 2012-11-12   \n",
       "3460                    False          False           False 2012-11-08   \n",
       "\n",
       "     _merge                                     CLEAN_FOI_TEXT  \n",
       "3456   both            it report the system explant due infect  \n",
       "3457   both        thi report to advis an event observ analysi  \n",
       "3458   both  it report dure interrog prior av node ablat su...  \n",
       "3459   both  it report crosstalk note the ventricular lead ...  \n",
       "3460   both            it report the system explant due infect  \n",
       "\n",
       "[5 rows x 49 columns]"
      ]
     },
     "execution_count": 6,
     "metadata": {},
     "output_type": "execute_result"
    }
   ],
   "source": [
    "df_recall1 = df[df[\"RECALL_CLASS\"] == \"1\"]\n",
    "print(df_recall1.shape)\n",
    "df_recall1.head()"
   ]
  },
  {
   "cell_type": "code",
   "execution_count": 7,
   "id": "db66ef2f",
   "metadata": {},
   "outputs": [
    {
     "name": "stdout",
     "output_type": "stream",
     "text": [
      "(9866, 49)\n",
      "(9866, 49)\n"
     ]
    }
   ],
   "source": [
    "# undersampling\n",
    "udf_recall0 = df_recall0.sample(n=9866)\n",
    "print(udf_recall0.shape)\n",
    "udf_recall1 = df_recall1.sample(n=9866)\n",
    "print(udf_recall1.shape)"
   ]
  },
  {
   "cell_type": "code",
   "execution_count": 8,
   "id": "cb93fa8f",
   "metadata": {},
   "outputs": [
    {
     "name": "stdout",
     "output_type": "stream",
     "text": [
      "(19732, 49)\n"
     ]
    },
    {
     "data": {
      "text/plain": [
       "<AxesSubplot:xlabel='RECALL_CLASS', ylabel='count'>"
      ]
     },
     "execution_count": 8,
     "metadata": {},
     "output_type": "execute_result"
    },
    {
     "data": {
      "image/png": "[encoded data removed]",
      "text/plain": [
       "<Figure size 432x288 with 1 Axes>"
      ]
     },
     "metadata": {
      "needs_background": "light"
     },
     "output_type": "display_data"
    }
   ],
   "source": [
    "udf = udf_recall0\n",
    "udf = udf.append(udf_recall1)\n",
    "print(udf.shape)\n",
    "sns.countplot(x=\"RECALL_CLASS\", data=udf)"
   ]
  },
  {
   "cell_type": "code",
   "execution_count": 9,
   "id": "db2200fa",
   "metadata": {},
   "outputs": [
    {
     "name": "stdout",
     "output_type": "stream",
     "text": [
      "(15811, 49)\n"
     ]
    }
   ],
   "source": [
    "odfsame_recall0 = pd.concat([df_recall0]*2, ignore_index=True)\n",
    "odfsame_recall0 = odfsame_recall0.sample(n=15811)\n",
    "print(odfsame_recall0.shape)"
   ]
  },
  {
   "cell_type": "code",
   "execution_count": 10,
   "id": "ae4b98d8",
   "metadata": {},
   "outputs": [
    {
     "name": "stdout",
     "output_type": "stream",
     "text": [
      "(31622, 49)\n"
     ]
    },
    {
     "data": {
      "text/plain": [
       "<AxesSubplot:xlabel='RECALL_CLASS', ylabel='count'>"
      ]
     },
     "execution_count": 10,
     "metadata": {},
     "output_type": "execute_result"
    },
    {
     "data": {
      "image/png": "[encoded data removed]",
      "text/plain": [
       "<Figure size 432x288 with 1 Axes>"
      ]
     },
     "metadata": {
      "needs_background": "light"
     },
     "output_type": "display_data"
    }
   ],
   "source": [
    "odfsame = df_recall1\n",
    "odfsame = odfsame.append(odfsame_recall0)\n",
    "print(odfsame.shape)\n",
    "sns.countplot(x=\"RECALL_CLASS\", data=odfsame)"
   ]
  },
  {
   "cell_type": "code",
   "execution_count": 11,
   "id": "cf5a2987",
   "metadata": {},
   "outputs": [],
   "source": [
    "udf.to_pickle(\"./4_COMB_FILE_UNDERSAMPLING\")\n",
    "odfsame.to_pickle(\"./4_COMB_FILE_OVERSAMPLING\")\n",
    "df.to_pickle(\"./4_COMB_FILE_UNBALANCED.pkl\")"
   ]
  },
  {
   "cell_type": "code",
   "execution_count": 12,
   "id": "dda7e0cb",
   "metadata": {},
   "outputs": [],
   "source": [
    "# different variations of oversampling were not used due to the relative similarity of the recall class sizes"
   ]
  },
  {
   "cell_type": "code",
   "execution_count": null,
   "id": "0e0d39eb",
   "metadata": {},
   "outputs": [],
   "source": []
  }
 ],
 "metadata": {
  "kernelspec": {
   "display_name": "Python 3",
   "language": "python",
   "name": "python3"
  },
  "language_info": {
   "codemirror_mode": {
    "name": "ipython",
    "version": 3
   },
   "file_extension": ".py",
   "mimetype": "text/x-python",
   "name": "python",
   "nbconvert_exporter": "python",
   "pygments_lexer": "ipython3",
   "version": "3.8.8"
  }
 },
 "nbformat": 4,
 "nbformat_minor": 5
}
