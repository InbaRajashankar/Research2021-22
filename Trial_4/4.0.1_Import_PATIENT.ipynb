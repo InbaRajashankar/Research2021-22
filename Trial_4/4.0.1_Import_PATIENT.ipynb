{
 "cells": [
  {
   "cell_type": "code",
   "execution_count": 1,
   "id": "5dd4d405",
   "metadata": {},
   "outputs": [
    {
     "data": {
      "text/plain": [
       "131072"
      ]
     },
     "execution_count": 1,
     "metadata": {},
     "output_type": "execute_result"
    }
   ],
   "source": [
    "import numpy as np\n",
    "import pandas as pd\n",
    "import numpy as np\n",
    "import pandas as pd\n",
    "import sys\n",
    "import csv\n",
    "import functools\n",
    "from functools import reduce\n",
    "import seaborn as sns\n",
    "import matplotlib.pyplot as plt\n",
    "\n",
    "csv.field_size_limit(1000000000000000000)"
   ]
  },
  {
   "cell_type": "code",
   "execution_count": 2,
   "id": "e2227a0a",
   "metadata": {},
   "outputs": [],
   "source": [
    "#import the PATIENT file\n",
    "PATIENT = pd.read_csv('patientThru2020.txt', sep=\"|\", header = 0, dtype=str, engine='python', quoting=3)"
   ]
  },
  {
   "cell_type": "code",
   "execution_count": 3,
   "id": "8867239f",
   "metadata": {},
   "outputs": [
    {
     "data": {
      "text/plain": [
       "(10803960, 5)"
      ]
     },
     "execution_count": 3,
     "metadata": {},
     "output_type": "execute_result"
    }
   ],
   "source": [
    "PATIENT.shape"
   ]
  },
  {
   "cell_type": "code",
   "execution_count": 4,
   "id": "ed610d90",
   "metadata": {},
   "outputs": [
    {
     "name": "stdout",
     "output_type": "stream",
     "text": [
      "MDR_REPORT_KEY\n",
      "PATIENT_SEQUENCE_NUMBER\n",
      "DATE_RECEIVED\n",
      "SEQUENCE_NUMBER_TREATMENT\n",
      "SEQUENCE_NUMBER_OUTCOME\n"
     ]
    }
   ],
   "source": [
    "# checking columns in PATIENT, and deleting uneeded ones\n",
    "for col in PATIENT.columns:\n",
    "    print(col)"
   ]
  },
  {
   "cell_type": "code",
   "execution_count": 16,
   "id": "9ca2b4e2",
   "metadata": {},
   "outputs": [
    {
     "data": {
      "text/plain": [
       "1. R                                  2074410\n",
       "1. O                                  1162156\n",
       "1. H; 2. R                             432456\n",
       "1. H                                   201074\n",
       "1. D                                   129513\n",
       "                                       ...   \n",
       "1. D; 1. D; 2. H; 2. O; 3. O; 4. R          1\n",
       "1. L; 1. O; 2. O; 3. R                      1\n",
       "1. C; 2. D; 3. O; 4. R                      1\n",
       "1. A; 2. C; 3. H; 4. L; 5. R                1\n",
       "1. H; 1. R                                  1\n",
       "Name: SEQUENCE_NUMBER_OUTCOME, Length: 181, dtype: int64"
      ]
     },
     "execution_count": 16,
     "metadata": {},
     "output_type": "execute_result"
    }
   ],
   "source": [
    "PATIENT['SEQUENCE_NUMBER_OUTCOME'].value_counts()"
   ]
  },
  {
   "cell_type": "code",
   "execution_count": 17,
   "id": "335e18e6",
   "metadata": {},
   "outputs": [],
   "source": [
    "colsKept = [\n",
    "            'MDR_REPORT_KEY',\n",
    "            'PATIENT_SEQUENCE_NUMBER',\n",
    "            'DATE_RECEIVED',\n",
    "            'SEQUENCE_NUMBER_OUTCOME'\n",
    "            ]\n",
    "PATIENT = PATIENT[colsKept]"
   ]
  },
  {
   "cell_type": "code",
   "execution_count": 18,
   "id": "a53b2895",
   "metadata": {},
   "outputs": [
    {
     "data": {
      "text/plain": [
       "(10803960, 4)"
      ]
     },
     "execution_count": 18,
     "metadata": {},
     "output_type": "execute_result"
    }
   ],
   "source": [
    "PATIENT.shape"
   ]
  },
  {
   "cell_type": "code",
   "execution_count": 19,
   "id": "6e4eebc1",
   "metadata": {},
   "outputs": [],
   "source": [
    "# pickle\n",
    "PATIENT.to_pickle('./3_PATIENT_File.pkl')"
   ]
  },
  {
   "cell_type": "code",
   "execution_count": null,
   "id": "59fa8713",
   "metadata": {},
   "outputs": [],
   "source": []
  }
 ],
 "metadata": {
  "kernelspec": {
   "display_name": "Python 3",
   "language": "python",
   "name": "python3"
  },
  "language_info": {
   "codemirror_mode": {
    "name": "ipython",
    "version": 3
   },
   "file_extension": ".py",
   "mimetype": "text/x-python",
   "name": "python",
   "nbconvert_exporter": "python",
   "pygments_lexer": "ipython3",
   "version": "3.8.8"
  }
 },
 "nbformat": 4,
 "nbformat_minor": 5
}
