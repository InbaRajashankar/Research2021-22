{
 "cells": [
  {
   "cell_type": "code",
   "execution_count": 1,
   "id": "61095fe3",
   "metadata": {},
   "outputs": [
    {
     "data": {
      "text/plain": [
       "131072"
      ]
     },
     "execution_count": 1,
     "metadata": {},
     "output_type": "execute_result"
    }
   ],
   "source": [
    "import numpy as np\n",
    "import pandas as pd\n",
    "import numpy as np\n",
    "import pandas as pd\n",
    "import sys\n",
    "import csv\n",
    "import functools\n",
    "from functools import reduce\n",
    "import seaborn as sns\n",
    "import matplotlib.pyplot as plt\n",
    "\n",
    "csv.field_size_limit(1000000000000000000)"
   ]
  },
  {
   "cell_type": "code",
   "execution_count": 2,
   "id": "9a1a0e93",
   "metadata": {},
   "outputs": [],
   "source": [
    "# importing the yearly text files as dataframes\n",
    "foitext2000 = pd.read_csv('foitext2000.txt', sep=\"|\", header = 0, dtype=str, engine='python', quoting=3)\n",
    "foitext2001 = pd.read_csv('foitext2001.txt', sep=\"|\", header = 0, dtype=str, engine='python', quoting=3)\n",
    "foitext2002 = pd.read_csv('foitext2002.txt', sep=\"|\", header = 0, dtype=str, engine='python', quoting=3)\n",
    "foitext2003 = pd.read_csv('foitext2003.txt', sep=\"|\", header = 0, dtype=str, engine='python', quoting=3)\n",
    "foitext2004 = pd.read_csv('foitext2004.txt', sep=\"|\", header = 0, dtype=str, engine='python', quoting=3)\n",
    "foitext2005 = pd.read_csv('foitext2005.txt', sep=\"|\", header = 0, dtype=str, engine='python', quoting=3)\n",
    "foitext2006 = pd.read_csv('foitext2006.txt', sep=\"|\", header = 0, dtype=str, engine='python', quoting=3)\n",
    "foitext2007 = pd.read_csv('foitext2007.txt', sep=\"|\", header = 0, dtype=str, engine='python', quoting=3)\n",
    "foitext2008 = pd.read_csv('foitext2008.txt', sep=\"|\", header = 0, dtype=str, engine='python', quoting=3)\n",
    "foitext2009 = pd.read_csv('foitext2009.txt', sep=\"|\", header = 0, dtype=str, engine='python', quoting=3)\n",
    "foitext2010 = pd.read_csv('foitext2010.txt', sep=\"|\", header = 0, dtype=str, engine='python', quoting=3)\n",
    "foitext2011 = pd.read_csv('foitext2011.txt', sep=\"|\", header = 0, dtype=str, engine='python', quoting=3)\n",
    "foitext2012 = pd.read_csv('foitext2012.txt', sep=\"|\", header = 0, dtype=str, engine='python', quoting=3)\n",
    "foitext2013 = pd.read_csv('foitext2013.txt', sep=\"|\", header = 0, dtype=str, engine='python', quoting=3)\n",
    "foitext2014 = pd.read_csv('foitext2014.txt', sep=\"|\", header = 0, dtype=str, engine='python', quoting=3)\n",
    "foitext2015 = pd.read_csv('foitext2015.txt', sep=\"|\", header = 0, dtype=str, engine='python', quoting=3)\n",
    "foitext2016 = pd.read_csv('foitext2016.txt', sep=\"|\", header = 0, dtype=str, engine='python', quoting=3)\n",
    "foitext2017 = pd.read_csv('foitext2017.txt', sep=\"|\", header = 0, dtype=str, engine='python', quoting=3)\n",
    "foitext2018 = pd.read_csv('foitext2018.txt', sep=\"|\", header = 0, dtype=str, engine='python', quoting=3)\n",
    "foitext2019 = pd.read_csv('foitext2019.txt', sep=\"|\", header = 0, dtype=str, engine='python', quoting=3)\n",
    "foitext2020 = pd.read_csv('foitext2020.txt', sep=\"|\", header = 0, dtype=str, engine='python', quoting=3)"
   ]
  },
  {
   "cell_type": "code",
   "execution_count": 3,
   "id": "d51ebf71",
   "metadata": {},
   "outputs": [],
   "source": [
    "# joining the yearly text files\n",
    "FOITEXT = foitext2000\n",
    "foitextYearlyFiles = [foitext2001,foitext2002,foitext2003,foitext2004,foitext2005,foitext2006,foitext2007,foitext2008,foitext2009,\n",
    "          foitext2010,foitext2011,foitext2012,foitext2013,foitext2014,foitext2015,foitext2016,foitext2017,foitext2018,foitext2019,\n",
    "          foitext2020]\n",
    "for yearlyFile in foitextYearlyFiles:\n",
    "    FOITEXT = FOITEXT.append(yearlyFile)"
   ]
  },
  {
   "cell_type": "code",
   "execution_count": 21,
   "id": "97461a70",
   "metadata": {},
   "outputs": [
    {
     "data": {
      "text/plain": [
       "(22977701, 6)"
      ]
     },
     "execution_count": 21,
     "metadata": {},
     "output_type": "execute_result"
    }
   ],
   "source": [
    "FOITEXT.shape"
   ]
  },
  {
   "cell_type": "code",
   "execution_count": 4,
   "id": "97616970",
   "metadata": {},
   "outputs": [
    {
     "name": "stdout",
     "output_type": "stream",
     "text": [
      "MDR_REPORT_KEY\n",
      "MDR_TEXT_KEY\n",
      "TEXT_TYPE_CODE\n",
      "PATIENT_SEQUENCE_NUMBER\n",
      "DATE_REPORT\n",
      "FOI_TEXT\n"
     ]
    }
   ],
   "source": [
    "# checking columns, none need to be removed\n",
    "for col in FOITEXT.columns:\n",
    "    print(col)"
   ]
  },
  {
   "cell_type": "code",
   "execution_count": 11,
   "id": "c065f5c9",
   "metadata": {},
   "outputs": [
    {
     "data": {
      "text/plain": [
       "1     22971331\n",
       "2         2091\n",
       "3          971\n",
       "4          646\n",
       "0          555\n",
       "5          443\n",
       "6          338\n",
       "7          249\n",
       "8          165\n",
       "9          127\n",
       "10          95\n",
       "11          79\n",
       "12          66\n",
       "13          59\n",
       "14          47\n",
       "15          43\n",
       "16          41\n",
       "17          34\n",
       "19          29\n",
       "18          27\n",
       "20          24\n",
       "21          20\n",
       "22          19\n",
       "23          17\n",
       "24          13\n",
       "25          11\n",
       "29          10\n",
       "26          10\n",
       "28          10\n",
       "27          10\n",
       "34           8\n",
       "30           8\n",
       "33           8\n",
       "31           8\n",
       "32           8\n",
       "37           6\n",
       "35           6\n",
       "43           6\n",
       "42           6\n",
       "41           6\n",
       "39           6\n",
       "38           6\n",
       "36           6\n",
       "40           6\n",
       "45           5\n",
       "44           5\n",
       "46           3\n",
       "47           3\n",
       "48           3\n",
       "49           2\n",
       "50           2\n",
       "51           2\n",
       "52           2\n",
       "Name: PATIENT_SEQUENCE_NUMBER, dtype: int64"
      ]
     },
     "execution_count": 11,
     "metadata": {},
     "output_type": "execute_result"
    }
   ],
   "source": [
    "FOITEXT['PATIENT_SEQUENCE_NUMBER'].value_counts()"
   ]
  },
  {
   "cell_type": "code",
   "execution_count": 15,
   "id": "1c9399f8",
   "metadata": {},
   "outputs": [
    {
     "data": {
      "text/plain": [
       "154870    THE USER RECEIVED ERRONEOUS ISE RESULTS FOR MU...\n",
       "285955    THE FIELD SERVICE REP DETERMINED THE DRY PRESS...\n",
       "Name: FOI_TEXT, dtype: object"
      ]
     },
     "execution_count": 15,
     "metadata": {},
     "output_type": "execute_result"
    }
   ],
   "source": [
    "# looking at the larger sequence number MDRs out of curioisty\n",
    "FOITEXT[FOITEXT['PATIENT_SEQUENCE_NUMBER']=='52']['FOI_TEXT']"
   ]
  },
  {
   "cell_type": "code",
   "execution_count": 22,
   "id": "46ec55eb",
   "metadata": {},
   "outputs": [],
   "source": [
    "# remove all reports with a PATIENT_SEQUENCE NUMBER != 1\n",
    "FOITEXT = FOITEXT[FOITEXT['PATIENT_SEQUENCE_NUMBER']=='1']"
   ]
  },
  {
   "cell_type": "code",
   "execution_count": 23,
   "id": "0a6428f3",
   "metadata": {},
   "outputs": [
    {
     "data": {
      "text/plain": [
       "(22971331, 6)"
      ]
     },
     "execution_count": 23,
     "metadata": {},
     "output_type": "execute_result"
    }
   ],
   "source": [
    "FOITEXT.shape"
   ]
  },
  {
   "cell_type": "code",
   "execution_count": 24,
   "id": "8ea2dbce",
   "metadata": {},
   "outputs": [
    {
     "data": {
      "text/plain": [
       "1    22971331\n",
       "Name: PATIENT_SEQUENCE_NUMBER, dtype: int64"
      ]
     },
     "execution_count": 24,
     "metadata": {},
     "output_type": "execute_result"
    }
   ],
   "source": [
    "FOITEXT['PATIENT_SEQUENCE_NUMBER'].value_counts()"
   ]
  },
  {
   "cell_type": "code",
   "execution_count": 37,
   "id": "1080e2a9",
   "metadata": {},
   "outputs": [],
   "source": [
    "# delete all reports with a FOI_TEXT value with 10 or less characters\n",
    "larger_text = (FOITEXT.FOI_TEXT.str.len() > 10)\n",
    "FOITEXT = FOITEXT.loc[larger_text]"
   ]
  },
  {
   "cell_type": "code",
   "execution_count": 38,
   "id": "99d9f503",
   "metadata": {},
   "outputs": [
    {
     "data": {
      "text/plain": [
       "(21816241, 7)"
      ]
     },
     "execution_count": 38,
     "metadata": {},
     "output_type": "execute_result"
    }
   ],
   "source": [
    "FOITEXT.shape"
   ]
  },
  {
   "cell_type": "code",
   "execution_count": 39,
   "id": "92574323",
   "metadata": {},
   "outputs": [
    {
     "data": {
      "text/plain": [
       "D    11296465\n",
       "N    10519776\n",
       "Name: TEXT_TYPE_CODE, dtype: int64"
      ]
     },
     "execution_count": 39,
     "metadata": {},
     "output_type": "execute_result"
    }
   ],
   "source": [
    "# delete MDRs associated with Medwatch fields H3 and H10\n",
    "FOITEXT['TEXT_TYPE_CODE'].value_counts()"
   ]
  },
  {
   "cell_type": "code",
   "execution_count": 40,
   "id": "8225001b",
   "metadata": {},
   "outputs": [],
   "source": [
    "FOITEXT = FOITEXT[FOITEXT['TEXT_TYPE_CODE']=='D']"
   ]
  },
  {
   "cell_type": "code",
   "execution_count": 41,
   "id": "e653a2e3",
   "metadata": {},
   "outputs": [
    {
     "data": {
      "text/plain": [
       "(11296465, 7)"
      ]
     },
     "execution_count": 41,
     "metadata": {},
     "output_type": "execute_result"
    }
   ],
   "source": [
    "FOITEXT['TEXT_TYPE_CODE'].value_counts()\n",
    "FOITEXT.shape"
   ]
  },
  {
   "cell_type": "code",
   "execution_count": 43,
   "id": "b5dd1631",
   "metadata": {},
   "outputs": [
    {
     "data": {
      "text/plain": [
       "0          False\n",
       "1          False\n",
       "2          False\n",
       "3          False\n",
       "4          False\n",
       "           ...  \n",
       "3034431    False\n",
       "3034433     True\n",
       "3034434     True\n",
       "3034436     True\n",
       "3034438    False\n",
       "Name: MDR_REPORT_KEY, Length: 11296465, dtype: bool"
      ]
     },
     "execution_count": 43,
     "metadata": {},
     "output_type": "execute_result"
    }
   ],
   "source": [
    "# merge duplicate values\n",
    "FOITEXT['MDR_REPORT_KEY'].duplicated()"
   ]
  },
  {
   "cell_type": "code",
   "execution_count": 52,
   "id": "e032d2a5",
   "metadata": {},
   "outputs": [
    {
     "data": {
      "text/plain": [
       "(10419137, 7)"
      ]
     },
     "execution_count": 52,
     "metadata": {},
     "output_type": "execute_result"
    }
   ],
   "source": [
    "# create a file with all the entries with a shared MDR_REPORT_KEY\n",
    "FOITEXTwdupes = FOITEXT[FOITEXT.duplicated(['MDR_REPORT_KEY'])]\n",
    "FOITEXTwdupes.shape\n",
    "\n",
    "# remove duplicate files from the DEVICE df, as they might hamper with the the data\n",
    "FOITEXT = pd.concat([FOITEXT, FOITEXTwdupes]).drop_duplicates(keep=False)\n",
    "FOITEXT.shape"
   ]
  },
  {
   "cell_type": "code",
   "execution_count": 53,
   "id": "8ae5d2f1",
   "metadata": {},
   "outputs": [
    {
     "data": {
      "text/plain": [
       "(10419137, 7)"
      ]
     },
     "execution_count": 53,
     "metadata": {},
     "output_type": "execute_result"
    }
   ],
   "source": [
    "FOITEXT.shape"
   ]
  },
  {
   "cell_type": "code",
   "execution_count": 54,
   "id": "264f5839",
   "metadata": {},
   "outputs": [],
   "source": [
    "# remove any other duplicate values\n",
    "FOITEXT = FOITEXT.drop_duplicates(keep=False)"
   ]
  },
  {
   "cell_type": "code",
   "execution_count": 55,
   "id": "382427d6",
   "metadata": {},
   "outputs": [
    {
     "data": {
      "text/plain": [
       "(10419137, 7)"
      ]
     },
     "execution_count": 55,
     "metadata": {},
     "output_type": "execute_result"
    }
   ],
   "source": [
    "FOITEXT.shape"
   ]
  },
  {
   "cell_type": "code",
   "execution_count": 57,
   "id": "3c5bdb4a",
   "metadata": {},
   "outputs": [],
   "source": [
    "# pickle it\n",
    "FOITEXT.to_pickle('./3_FOITEXT_File.pkl')"
   ]
  },
  {
   "cell_type": "code",
   "execution_count": null,
   "id": "887477e5",
   "metadata": {},
   "outputs": [],
   "source": []
  }
 ],
 "metadata": {
  "kernelspec": {
   "display_name": "Python 3",
   "language": "python",
   "name": "python3"
  },
  "language_info": {
   "codemirror_mode": {
    "name": "ipython",
    "version": 3
   },
   "file_extension": ".py",
   "mimetype": "text/x-python",
   "name": "python",
   "nbconvert_exporter": "python",
   "pygments_lexer": "ipython3",
   "version": "3.8.8"
  }
 },
 "nbformat": 4,
 "nbformat_minor": 5
}
