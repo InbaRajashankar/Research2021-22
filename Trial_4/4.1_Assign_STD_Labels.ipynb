{
 "cells": [
  {
   "cell_type": "code",
   "execution_count": 1,
   "id": "b921c293",
   "metadata": {},
   "outputs": [
    {
     "data": {
      "text/plain": [
       "131072"
      ]
     },
     "execution_count": 1,
     "metadata": {},
     "output_type": "execute_result"
    }
   ],
   "source": [
    "import numpy as np\n",
    "import pandas as pd\n",
    "import numpy as np\n",
    "import pandas as pd\n",
    "import sys\n",
    "import csv\n",
    "import functools\n",
    "from functools import reduce\n",
    "import seaborn as sns\n",
    "import matplotlib.pyplot as plt\n",
    "\n",
    "csv.field_size_limit(1000000000000000000)"
   ]
  },
  {
   "cell_type": "code",
   "execution_count": 2,
   "id": "f0eff4d0",
   "metadata": {},
   "outputs": [],
   "source": [
    "MASDEV = pd.read_pickle(\"./3_MASTER_DEVICE_File.pkl\")"
   ]
  },
  {
   "cell_type": "code",
   "execution_count": 3,
   "id": "de2bea06",
   "metadata": {},
   "outputs": [
    {
     "data": {
      "text/plain": [
       "(433946, 30)"
      ]
     },
     "execution_count": 3,
     "metadata": {},
     "output_type": "execute_result"
    }
   ],
   "source": [
    "MASDEV.shape\n",
    "# same as in trial 3"
   ]
  },
  {
   "cell_type": "code",
   "execution_count": 4,
   "id": "14008e21",
   "metadata": {},
   "outputs": [],
   "source": [
    "# can be used for manufacturer identifier: MANUFACTURER_D_NAME\n",
    "# can be used for product identifier: BRAND_NAME, GENERIC_NAME, MODEL_NUMBER"
   ]
  },
  {
   "cell_type": "code",
   "execution_count": 5,
   "id": "db05f373",
   "metadata": {},
   "outputs": [
    {
     "data": {
      "text/plain": [
       "(743, 2)"
      ]
     },
     "execution_count": 5,
     "metadata": {},
     "output_type": "execute_result"
    }
   ],
   "source": [
    "manufacCounts = MASDEV['MANUFACTURER_D_NAME'].value_counts(normalize=True).to_frame()\n",
    "manufacCounts['count'] = MASDEV['MANUFACTURER_D_NAME'].value_counts()\n",
    "manufacCounts.shape"
   ]
  },
  {
   "cell_type": "code",
   "execution_count": 6,
   "id": "43a9e10b",
   "metadata": {},
   "outputs": [
    {
     "data": {
      "text/html": [
       "<div>\n",
       "<style scoped>\n",
       "    .dataframe tbody tr th:only-of-type {\n",
       "        vertical-align: middle;\n",
       "    }\n",
       "\n",
       "    .dataframe tbody tr th {\n",
       "        vertical-align: top;\n",
       "    }\n",
       "\n",
       "    .dataframe thead th {\n",
       "        text-align: right;\n",
       "    }\n",
       "</style>\n",
       "<table border=\"1\" class=\"dataframe\">\n",
       "  <thead>\n",
       "    <tr style=\"text-align: right;\">\n",
       "      <th></th>\n",
       "      <th>MANUFACTURER_D_NAME</th>\n",
       "      <th>count</th>\n",
       "    </tr>\n",
       "  </thead>\n",
       "  <tbody>\n",
       "    <tr>\n",
       "      <th>SORIN GROUP ITALIA S.R.L.</th>\n",
       "      <td>0.000378</td>\n",
       "      <td>164</td>\n",
       "    </tr>\n",
       "    <tr>\n",
       "      <th>OSCOR</th>\n",
       "      <td>0.000355</td>\n",
       "      <td>154</td>\n",
       "    </tr>\n",
       "    <tr>\n",
       "      <th>BIOTRONIK SE &amp; CO KG</th>\n",
       "      <td>0.000346</td>\n",
       "      <td>150</td>\n",
       "    </tr>\n",
       "    <tr>\n",
       "      <th>ANGEION CORP.</th>\n",
       "      <td>0.000339</td>\n",
       "      <td>147</td>\n",
       "    </tr>\n",
       "    <tr>\n",
       "      <th>MEDTRONIC INC</th>\n",
       "      <td>0.000328</td>\n",
       "      <td>142</td>\n",
       "    </tr>\n",
       "    <tr>\n",
       "      <th>SORIN BIOMEDICA C.R.M., S.R.L.</th>\n",
       "      <td>0.000318</td>\n",
       "      <td>138</td>\n",
       "    </tr>\n",
       "    <tr>\n",
       "      <th>CARDIAC PACEMAKERS, INC.</th>\n",
       "      <td>0.000314</td>\n",
       "      <td>136</td>\n",
       "    </tr>\n",
       "    <tr>\n",
       "      <th>ST. JUDE MEDICAL INC. CRMD</th>\n",
       "      <td>0.000311</td>\n",
       "      <td>135</td>\n",
       "    </tr>\n",
       "    <tr>\n",
       "      <th>CLONMEL</th>\n",
       "      <td>0.000305</td>\n",
       "      <td>132</td>\n",
       "    </tr>\n",
       "    <tr>\n",
       "      <th>ELA MEDICAL, S.A.S.</th>\n",
       "      <td>0.000279</td>\n",
       "      <td>121</td>\n",
       "    </tr>\n",
       "    <tr>\n",
       "      <th>GUIDANT CORPORATION</th>\n",
       "      <td>0.000272</td>\n",
       "      <td>118</td>\n",
       "    </tr>\n",
       "    <tr>\n",
       "      <th>BIOTRONIK GMBH AND CO</th>\n",
       "      <td>0.000261</td>\n",
       "      <td>113</td>\n",
       "    </tr>\n",
       "    <tr>\n",
       "      <th>ST JUDE MEDICAL</th>\n",
       "      <td>0.000258</td>\n",
       "      <td>112</td>\n",
       "    </tr>\n",
       "    <tr>\n",
       "      <th>MEDTRONIC S.A. (SMO)</th>\n",
       "      <td>0.000249</td>\n",
       "      <td>108</td>\n",
       "    </tr>\n",
       "    <tr>\n",
       "      <th>ST. JUDE MEDICAL, CARDIAC RHYTHM MANAGEMENT DIVISI</th>\n",
       "      <td>0.000235</td>\n",
       "      <td>102</td>\n",
       "    </tr>\n",
       "    <tr>\n",
       "      <th>SORIN C.R.M., S.R.L.</th>\n",
       "      <td>0.000233</td>\n",
       "      <td>101</td>\n",
       "    </tr>\n",
       "  </tbody>\n",
       "</table>\n",
       "</div>"
      ],
      "text/plain": [
       "                                                    MANUFACTURER_D_NAME  count\n",
       "SORIN GROUP ITALIA S.R.L.                                      0.000378    164\n",
       "OSCOR                                                          0.000355    154\n",
       "BIOTRONIK SE & CO KG                                           0.000346    150\n",
       "ANGEION CORP.                                                  0.000339    147\n",
       "MEDTRONIC INC                                                  0.000328    142\n",
       "SORIN BIOMEDICA C.R.M., S.R.L.                                 0.000318    138\n",
       "CARDIAC PACEMAKERS, INC.                                       0.000314    136\n",
       "ST. JUDE MEDICAL INC. CRMD                                     0.000311    135\n",
       "CLONMEL                                                        0.000305    132\n",
       "ELA MEDICAL, S.A.S.                                            0.000279    121\n",
       "GUIDANT CORPORATION                                            0.000272    118\n",
       "BIOTRONIK GMBH AND CO                                          0.000261    113\n",
       "ST JUDE MEDICAL                                                0.000258    112\n",
       "MEDTRONIC S.A. (SMO)                                           0.000249    108\n",
       "ST. JUDE MEDICAL, CARDIAC RHYTHM MANAGEMENT DIVISI             0.000235    102\n",
       "SORIN C.R.M., S.R.L.                                           0.000233    101"
      ]
     },
     "execution_count": 6,
     "metadata": {},
     "output_type": "execute_result"
    }
   ],
   "source": [
    "manufacCounts[manufacCounts['count'] >= 100].iloc[50:]"
   ]
  },
  {
   "cell_type": "code",
   "execution_count": 7,
   "id": "338695d6",
   "metadata": {},
   "outputs": [
    {
     "data": {
      "text/html": [
       "<div>\n",
       "<style scoped>\n",
       "    .dataframe tbody tr th:only-of-type {\n",
       "        vertical-align: middle;\n",
       "    }\n",
       "\n",
       "    .dataframe tbody tr th {\n",
       "        vertical-align: top;\n",
       "    }\n",
       "\n",
       "    .dataframe thead th {\n",
       "        text-align: right;\n",
       "    }\n",
       "</style>\n",
       "<table border=\"1\" class=\"dataframe\">\n",
       "  <thead>\n",
       "    <tr style=\"text-align: right;\">\n",
       "      <th></th>\n",
       "      <th>MDR_REPORT_KEY</th>\n",
       "      <th>REPORT_NUMBER</th>\n",
       "      <th>REPORT_SOURCE_CODE</th>\n",
       "      <th>MANUFACTURER_LINK_FLAG_</th>\n",
       "      <th>ADVERSE_EVENT_FLAG</th>\n",
       "      <th>PRODUCT_PROBLEM_FLAG</th>\n",
       "      <th>DATE_OF_EVENT</th>\n",
       "      <th>REPORTER_OCCUPATION_CODE</th>\n",
       "      <th>HEALTH_PROFESSIONAL</th>\n",
       "      <th>INITIAL_REPORT_TO_FDA</th>\n",
       "      <th>...</th>\n",
       "      <th>GENERIC_NAME</th>\n",
       "      <th>MANUFACTURER_D_NAME</th>\n",
       "      <th>DEVICE_OPERATOR</th>\n",
       "      <th>MODEL_NUMBER</th>\n",
       "      <th>DEVICE_REPORT_PRODUCT_CODE</th>\n",
       "      <th>DEVICE_AGE_TEXT</th>\n",
       "      <th>DEVICE_EVALUATED_BY_MANUFACTUR</th>\n",
       "      <th>DEVICE_SEQUENCE_NO</th>\n",
       "      <th>year</th>\n",
       "      <th>STD_MANUFACTURER</th>\n",
       "    </tr>\n",
       "  </thead>\n",
       "  <tbody>\n",
       "    <tr>\n",
       "      <th>0</th>\n",
       "      <td>257484</td>\n",
       "      <td>2938836-2000-00003</td>\n",
       "      <td>M</td>\n",
       "      <td>Y</td>\n",
       "      <td>Y</td>\n",
       "      <td>N</td>\n",
       "      <td>12/07/1999</td>\n",
       "      <td>001</td>\n",
       "      <td>Y</td>\n",
       "      <td>N</td>\n",
       "      <td>...</td>\n",
       "      <td>IMPLANTABLE CARDIAC DEFIBRILLATOR</td>\n",
       "      <td>ST. JUDE MEDICAL, INC., CRMD</td>\n",
       "      <td>0HP</td>\n",
       "      <td>V-105C</td>\n",
       "      <td>LWS</td>\n",
       "      <td>3 YR</td>\n",
       "      <td>Y</td>\n",
       "      <td>1</td>\n",
       "      <td>2000</td>\n",
       "      <td>ST. JUDE MEDICAL, INC., CRMD</td>\n",
       "    </tr>\n",
       "    <tr>\n",
       "      <th>1</th>\n",
       "      <td>257721</td>\n",
       "      <td>MW1017857</td>\n",
       "      <td>P</td>\n",
       "      <td>N</td>\n",
       "      <td>N</td>\n",
       "      <td>Y</td>\n",
       "      <td>12/10/1999</td>\n",
       "      <td>000</td>\n",
       "      <td>Y</td>\n",
       "      <td>NaN</td>\n",
       "      <td>...</td>\n",
       "      <td>IMPLANTABLE CARDIOVERTER DEFIBRILLATOR</td>\n",
       "      <td>ST. JUDE MEDICAL</td>\n",
       "      <td>0HP</td>\n",
       "      <td>V-175-C</td>\n",
       "      <td>LWS</td>\n",
       "      <td>NaN</td>\n",
       "      <td>NaN</td>\n",
       "      <td>1</td>\n",
       "      <td>2000</td>\n",
       "      <td>ST. JUDE MEDICAL</td>\n",
       "    </tr>\n",
       "    <tr>\n",
       "      <th>2</th>\n",
       "      <td>257784</td>\n",
       "      <td>257784</td>\n",
       "      <td>U</td>\n",
       "      <td>N</td>\n",
       "      <td>N</td>\n",
       "      <td>Y</td>\n",
       "      <td>12/07/1999</td>\n",
       "      <td>500</td>\n",
       "      <td>Y</td>\n",
       "      <td>Y</td>\n",
       "      <td>...</td>\n",
       "      <td>IMPLANTABLE CARDIAC DEFIBRILLATOR</td>\n",
       "      <td>MEDTRONIC, INC.</td>\n",
       "      <td>0HP</td>\n",
       "      <td>7271</td>\n",
       "      <td>LWS</td>\n",
       "      <td>*</td>\n",
       "      <td>NaN</td>\n",
       "      <td>1</td>\n",
       "      <td>2000</td>\n",
       "      <td>MEDTRONIC, INC.</td>\n",
       "    </tr>\n",
       "    <tr>\n",
       "      <th>3</th>\n",
       "      <td>257800</td>\n",
       "      <td>2938836-2000-00002</td>\n",
       "      <td>M</td>\n",
       "      <td>Y</td>\n",
       "      <td>Y</td>\n",
       "      <td>N</td>\n",
       "      <td>12/08/1999</td>\n",
       "      <td>001</td>\n",
       "      <td>Y</td>\n",
       "      <td>N</td>\n",
       "      <td>...</td>\n",
       "      <td>IMPLANTABLE CARDIAC DEFIBRILLATOR</td>\n",
       "      <td>ST. JUDE MEDICAL, INC., CRMD</td>\n",
       "      <td>0HP</td>\n",
       "      <td>V-175C</td>\n",
       "      <td>LWS</td>\n",
       "      <td>9 MO</td>\n",
       "      <td>Y</td>\n",
       "      <td>1</td>\n",
       "      <td>2000</td>\n",
       "      <td>ST. JUDE MEDICAL, INC., CRMD</td>\n",
       "    </tr>\n",
       "    <tr>\n",
       "      <th>4</th>\n",
       "      <td>257801</td>\n",
       "      <td>2938836-2000-00004</td>\n",
       "      <td>M</td>\n",
       "      <td>Y</td>\n",
       "      <td>Y</td>\n",
       "      <td>N</td>\n",
       "      <td>11/05/1999</td>\n",
       "      <td>001</td>\n",
       "      <td>Y</td>\n",
       "      <td>N</td>\n",
       "      <td>...</td>\n",
       "      <td>IMPLANTABLE CARDIAC DEFIBRILLATOR</td>\n",
       "      <td>ST. JUDE MEDICAL, INC., CRMD</td>\n",
       "      <td>0HP</td>\n",
       "      <td>V-190HV3</td>\n",
       "      <td>LWS</td>\n",
       "      <td>2 YR</td>\n",
       "      <td>Y</td>\n",
       "      <td>1</td>\n",
       "      <td>2000</td>\n",
       "      <td>ST. JUDE MEDICAL, INC., CRMD</td>\n",
       "    </tr>\n",
       "  </tbody>\n",
       "</table>\n",
       "<p>5 rows × 31 columns</p>\n",
       "</div>"
      ],
      "text/plain": [
       "  MDR_REPORT_KEY       REPORT_NUMBER REPORT_SOURCE_CODE  \\\n",
       "0         257484  2938836-2000-00003                  M   \n",
       "1         257721           MW1017857                  P   \n",
       "2         257784              257784                  U   \n",
       "3         257800  2938836-2000-00002                  M   \n",
       "4         257801  2938836-2000-00004                  M   \n",
       "\n",
       "  MANUFACTURER_LINK_FLAG_ ADVERSE_EVENT_FLAG PRODUCT_PROBLEM_FLAG  \\\n",
       "0                       Y                  Y                    N   \n",
       "1                       N                  N                    Y   \n",
       "2                       N                  N                    Y   \n",
       "3                       Y                  Y                    N   \n",
       "4                       Y                  Y                    N   \n",
       "\n",
       "  DATE_OF_EVENT REPORTER_OCCUPATION_CODE HEALTH_PROFESSIONAL  \\\n",
       "0    12/07/1999                      001                   Y   \n",
       "1    12/10/1999                      000                   Y   \n",
       "2    12/07/1999                      500                   Y   \n",
       "3    12/08/1999                      001                   Y   \n",
       "4    11/05/1999                      001                   Y   \n",
       "\n",
       "  INITIAL_REPORT_TO_FDA  ...                            GENERIC_NAME  \\\n",
       "0                     N  ...       IMPLANTABLE CARDIAC DEFIBRILLATOR   \n",
       "1                   NaN  ...  IMPLANTABLE CARDIOVERTER DEFIBRILLATOR   \n",
       "2                     Y  ...       IMPLANTABLE CARDIAC DEFIBRILLATOR   \n",
       "3                     N  ...       IMPLANTABLE CARDIAC DEFIBRILLATOR   \n",
       "4                     N  ...       IMPLANTABLE CARDIAC DEFIBRILLATOR   \n",
       "\n",
       "            MANUFACTURER_D_NAME DEVICE_OPERATOR MODEL_NUMBER  \\\n",
       "0  ST. JUDE MEDICAL, INC., CRMD             0HP       V-105C   \n",
       "1              ST. JUDE MEDICAL             0HP      V-175-C   \n",
       "2               MEDTRONIC, INC.             0HP         7271   \n",
       "3  ST. JUDE MEDICAL, INC., CRMD             0HP       V-175C   \n",
       "4  ST. JUDE MEDICAL, INC., CRMD             0HP     V-190HV3   \n",
       "\n",
       "  DEVICE_REPORT_PRODUCT_CODE DEVICE_AGE_TEXT DEVICE_EVALUATED_BY_MANUFACTUR  \\\n",
       "0                        LWS            3 YR                              Y   \n",
       "1                        LWS             NaN                            NaN   \n",
       "2                        LWS               *                            NaN   \n",
       "3                        LWS            9 MO                              Y   \n",
       "4                        LWS            2 YR                              Y   \n",
       "\n",
       "  DEVICE_SEQUENCE_NO  year              STD_MANUFACTURER  \n",
       "0                  1  2000  ST. JUDE MEDICAL, INC., CRMD  \n",
       "1                  1  2000              ST. JUDE MEDICAL  \n",
       "2                  1  2000               MEDTRONIC, INC.  \n",
       "3                  1  2000  ST. JUDE MEDICAL, INC., CRMD  \n",
       "4                  1  2000  ST. JUDE MEDICAL, INC., CRMD  \n",
       "\n",
       "[5 rows x 31 columns]"
      ]
     },
     "execution_count": 7,
     "metadata": {},
     "output_type": "execute_result"
    }
   ],
   "source": [
    "# create  STD_MANUFACTURER\n",
    "MASDEV[\"STD_MANUFACTURER\"] = MASDEV[\"MANUFACTURER_D_NAME\"]\n",
    "MASDEV.head()"
   ]
  },
  {
   "cell_type": "code",
   "execution_count": 8,
   "id": "c1fd24fd",
   "metadata": {},
   "outputs": [],
   "source": [
    "# create induvidual manufacturer dfs\n",
    "# run twice to make sure all have the same length (for merging)"
   ]
  },
  {
   "cell_type": "code",
   "execution_count": 13,
   "id": "26eb52f2",
   "metadata": {},
   "outputs": [
    {
     "data": {
      "text/plain": [
       "(46085, 35)"
      ]
     },
     "execution_count": 13,
     "metadata": {},
     "output_type": "execute_result"
    }
   ],
   "source": [
    "MASDEV[\"MPRI_MADE\"] = pd.DataFrame(MASDEV['MANUFACTURER_D_NAME'].str.contains('MPRI', regex=False))\n",
    "MASDEV_MPRI = MASDEV[MASDEV[\"MPRI_MADE\"] == True]\n",
    "MASDEV_MPRI = MASDEV_MPRI.assign(STD_MANUFACTURER='MEDTRONIC')\n",
    "MASDEV_MPRI.shape"
   ]
  },
  {
   "cell_type": "code",
   "execution_count": 14,
   "id": "5e6479f1",
   "metadata": {},
   "outputs": [
    {
     "data": {
      "text/plain": [
       "(90290, 35)"
      ]
     },
     "execution_count": 14,
     "metadata": {},
     "output_type": "execute_result"
    }
   ],
   "source": [
    "MASDEV[\"MEDTRONIC_MADE\"] = pd.DataFrame(MASDEV['MANUFACTURER_D_NAME'].str.contains('MEDTRONIC', regex=False))\n",
    "MASDEV_MEDTRONIC = MASDEV[MASDEV[\"MEDTRONIC_MADE\"] == True]\n",
    "MASDEV_MEDTRONIC = MASDEV_MEDTRONIC.assign(STD_MANUFACTURER='MEDTRONIC')\n",
    "MASDEV_MEDTRONIC.shape"
   ]
  },
  {
   "cell_type": "code",
   "execution_count": 15,
   "id": "dd8c371c",
   "metadata": {},
   "outputs": [
    {
     "data": {
      "text/plain": [
       "(15960, 35)"
      ]
     },
     "execution_count": 15,
     "metadata": {},
     "output_type": "execute_result"
    }
   ],
   "source": [
    "MASDEV[\"BOSTON SCIENTIFIC_MADE\"] = pd.DataFrame(MASDEV['MANUFACTURER_D_NAME'].str.contains('BOSTON SCIENTIFIC', regex=False))\n",
    "MASDEV_BOSTONSCIENTIFIC = MASDEV[MASDEV[\"BOSTON SCIENTIFIC_MADE\"] == True]\n",
    "MASDEV_BOSTONSCIENTIFIC = MASDEV_BOSTONSCIENTIFIC.assign(STD_MANUFACTURER='BOSTON SCIENTIFIC')\n",
    "MASDEV_BOSTONSCIENTIFIC.shape"
   ]
  },
  {
   "cell_type": "code",
   "execution_count": 16,
   "id": "d1e34dd3",
   "metadata": {},
   "outputs": [
    {
     "data": {
      "text/plain": [
       "(142433, 35)"
      ]
     },
     "execution_count": 16,
     "metadata": {},
     "output_type": "execute_result"
    }
   ],
   "source": [
    "MASDEV[\"ST. JUDE_MADE\"] = pd.DataFrame(MASDEV['MANUFACTURER_D_NAME'].str.contains('ST', regex=False) &\n",
    "                                      MASDEV['MANUFACTURER_D_NAME'].str.contains('JUDE', regex=False))\n",
    "MASDEV_StJUDE = MASDEV[MASDEV[\"ST. JUDE_MADE\"] == True]\n",
    "MASDEV_StJUDE = MASDEV_StJUDE.assign(STD_MANUFACTURER='ST. JUDE')\n",
    "MASDEV_StJUDE.shape"
   ]
  },
  {
   "cell_type": "code",
   "execution_count": 17,
   "id": "b81b303d",
   "metadata": {},
   "outputs": [
    {
     "data": {
      "text/plain": [
       "(294768, 35)"
      ]
     },
     "execution_count": 17,
     "metadata": {},
     "output_type": "execute_result"
    }
   ],
   "source": [
    "MASDEV2 = MASDEV_MPRI\n",
    "MASDEV2 = MASDEV2.append(MASDEV_MEDTRONIC)\n",
    "MASDEV2 = MASDEV2.append(MASDEV_StJUDE)\n",
    "MASDEV2 = MASDEV2.append(MASDEV_BOSTONSCIENTIFIC)\n",
    "MASDEV2.shape"
   ]
  },
  {
   "cell_type": "code",
   "execution_count": 18,
   "id": "b202d6f5",
   "metadata": {},
   "outputs": [
    {
     "data": {
      "text/plain": [
       "ST. JUDE             142433\n",
       "MEDTRONIC            136375\n",
       "BOSTON SCIENTIFIC     15960\n",
       "Name: STD_MANUFACTURER, dtype: int64"
      ]
     },
     "execution_count": 18,
     "metadata": {},
     "output_type": "execute_result"
    }
   ],
   "source": [
    "MASDEV2[\"STD_MANUFACTURER\"].value_counts()"
   ]
  },
  {
   "cell_type": "code",
   "execution_count": 19,
   "id": "378a6b19",
   "metadata": {},
   "outputs": [
    {
     "name": "stdout",
     "output_type": "stream",
     "text": [
      "there are 2 duplicate values in MASDEV2\n",
      "there are now 0 duplicate values in MASDEV2 after removal\n",
      "the shape of MASDEV2 is now: (294766, 35)\n"
     ]
    }
   ],
   "source": [
    "# drop duplicate report key values\n",
    "s=MASDEV2['MDR_REPORT_KEY'].duplicated(keep='first')\n",
    "indexDupeReportkey = s[s].index\n",
    "print(\"there are \" + str(len(indexDupeReportkey)) + \" duplicate values in MASDEV2\")\n",
    "\n",
    "MASDEV2 = MASDEV2.drop_duplicates(subset=['MDR_REPORT_KEY'], keep='first')\n",
    "\n",
    "s=MASDEV2['MDR_REPORT_KEY'].duplicated(keep='first')\n",
    "indexDupeReportkey = s[s].index\n",
    "print(\"there are now \" + str(len(indexDupeReportkey)) + \" duplicate values in MASDEV2 after removal\")\n",
    "print(\"the shape of MASDEV2 is now: \" + str(MASDEV2.shape))"
   ]
  },
  {
   "cell_type": "code",
   "execution_count": 20,
   "id": "c341bb46",
   "metadata": {},
   "outputs": [
    {
     "name": "stdout",
     "output_type": "stream",
     "text": [
      "the shape of MASDEV2 is: (294766, 35)\n",
      "the shape of MASDEV2 after column removal is: (294766, 30)\n",
      "Index(['MDR_REPORT_KEY', 'REPORT_NUMBER', 'REPORT_SOURCE_CODE',\n",
      "       'MANUFACTURER_LINK_FLAG_', 'ADVERSE_EVENT_FLAG', 'PRODUCT_PROBLEM_FLAG',\n",
      "       'DATE_OF_EVENT', 'REPORTER_OCCUPATION_CODE', 'HEALTH_PROFESSIONAL',\n",
      "       'INITIAL_REPORT_TO_FDA', 'REPORT_TO_FDA', 'EVENT_LOCATION',\n",
      "       'EVENT_TYPE', 'TYPE_OF_REPORT', 'DATE_ADDED', 'DATE_CHANGED',\n",
      "       'REPORTER_COUNTRY_CODE', 'SUMMARY_REPORT', 'DEVICE_SEQUENCE_NO',\n",
      "       'DEVICE_SEQUENCE_NO', 'DATE_RECEIVED', 'BRAND_NAME', 'GENERIC_NAME',\n",
      "       'DEVICE_OPERATOR', 'MODEL_NUMBER', 'DEVICE_REPORT_PRODUCT_CODE',\n",
      "       'DEVICE_AGE_TEXT', 'DEVICE_EVALUATED_BY_MANUFACTUR', 'year',\n",
      "       'STD_MANUFACTURER'],\n",
      "      dtype='object')\n"
     ]
    }
   ],
   "source": [
    "# remove unwanted columns\n",
    "print(\"the shape of MASDEV2 is: \" + str(MASDEV2.shape))\n",
    "\n",
    "keptCols = ['MDR_REPORT_KEY',\n",
    "            'REPORT_NUMBER',\n",
    "            'REPORT_SOURCE_CODE',\n",
    "            'MANUFACTURER_LINK_FLAG_',\n",
    "            'ADVERSE_EVENT_FLAG',\n",
    "            'PRODUCT_PROBLEM_FLAG',\n",
    "            'DATE_OF_EVENT',\n",
    "            'REPORTER_OCCUPATION_CODE',\n",
    "            'HEALTH_PROFESSIONAL',\n",
    "            'INITIAL_REPORT_TO_FDA',\n",
    "            'REPORT_TO_FDA',\n",
    "            'EVENT_LOCATION',\n",
    "            'EVENT_TYPE',\n",
    "            'TYPE_OF_REPORT',\n",
    "            'DATE_ADDED',\n",
    "            'DATE_CHANGED',\n",
    "            'REPORTER_COUNTRY_CODE',\n",
    "            'SUMMARY_REPORT',\n",
    "            'DEVICE_SEQUENCE_NO',\n",
    "            'DATE_RECEIVED',\n",
    "            'BRAND_NAME',\n",
    "            'GENERIC_NAME',\n",
    "            'DEVICE_OPERATOR',\n",
    "            'MODEL_NUMBER',\n",
    "            'DEVICE_REPORT_PRODUCT_CODE',\n",
    "            'DEVICE_AGE_TEXT',\n",
    "            'DEVICE_EVALUATED_BY_MANUFACTUR',\n",
    "            'year',\n",
    "            'STD_MANUFACTURER']\n",
    "\n",
    "MASDEV2 = MASDEV2[keptCols]\n",
    "print(\"the shape of MASDEV2 after column removal is: \" + str(MASDEV2.shape))\n",
    "print(MASDEV2.columns)"
   ]
  },
  {
   "cell_type": "code",
   "execution_count": 21,
   "id": "e414928b",
   "metadata": {},
   "outputs": [
    {
     "data": {
      "text/html": [
       "<div>\n",
       "<style scoped>\n",
       "    .dataframe tbody tr th:only-of-type {\n",
       "        vertical-align: middle;\n",
       "    }\n",
       "\n",
       "    .dataframe tbody tr th {\n",
       "        vertical-align: top;\n",
       "    }\n",
       "\n",
       "    .dataframe thead th {\n",
       "        text-align: right;\n",
       "    }\n",
       "</style>\n",
       "<table border=\"1\" class=\"dataframe\">\n",
       "  <thead>\n",
       "    <tr style=\"text-align: right;\">\n",
       "      <th></th>\n",
       "      <th>MDR_REPORT_KEY</th>\n",
       "      <th>REPORT_NUMBER</th>\n",
       "      <th>REPORT_SOURCE_CODE</th>\n",
       "      <th>MANUFACTURER_LINK_FLAG_</th>\n",
       "      <th>ADVERSE_EVENT_FLAG</th>\n",
       "      <th>PRODUCT_PROBLEM_FLAG</th>\n",
       "      <th>DATE_OF_EVENT</th>\n",
       "      <th>REPORTER_OCCUPATION_CODE</th>\n",
       "      <th>HEALTH_PROFESSIONAL</th>\n",
       "      <th>INITIAL_REPORT_TO_FDA</th>\n",
       "      <th>...</th>\n",
       "      <th>GENERIC_NAME</th>\n",
       "      <th>DEVICE_OPERATOR</th>\n",
       "      <th>MODEL_NUMBER</th>\n",
       "      <th>DEVICE_REPORT_PRODUCT_CODE</th>\n",
       "      <th>DEVICE_AGE_TEXT</th>\n",
       "      <th>DEVICE_EVALUATED_BY_MANUFACTUR</th>\n",
       "      <th>year</th>\n",
       "      <th>STD_MANUFACTURER</th>\n",
       "      <th>STD_DEVICE</th>\n",
       "      <th>RECALL_CLASS</th>\n",
       "    </tr>\n",
       "  </thead>\n",
       "  <tbody>\n",
       "    <tr>\n",
       "      <th>7089</th>\n",
       "      <td>489687</td>\n",
       "      <td>2649622-2003-00267</td>\n",
       "      <td>M</td>\n",
       "      <td>Y</td>\n",
       "      <td>N</td>\n",
       "      <td>*</td>\n",
       "      <td>03/06/2003</td>\n",
       "      <td>*</td>\n",
       "      <td>*</td>\n",
       "      <td>N</td>\n",
       "      <td>...</td>\n",
       "      <td>*</td>\n",
       "      <td>*</td>\n",
       "      <td>6944</td>\n",
       "      <td>LWS</td>\n",
       "      <td>NaN</td>\n",
       "      <td>Y</td>\n",
       "      <td>2003</td>\n",
       "      <td>MEDTRONIC</td>\n",
       "      <td>*</td>\n",
       "      <td>0</td>\n",
       "    </tr>\n",
       "    <tr>\n",
       "      <th>7514</th>\n",
       "      <td>507667</td>\n",
       "      <td>2649622-2003-00355</td>\n",
       "      <td>M</td>\n",
       "      <td>Y</td>\n",
       "      <td>N</td>\n",
       "      <td>*</td>\n",
       "      <td>03/13/2003</td>\n",
       "      <td>*</td>\n",
       "      <td>*</td>\n",
       "      <td>*</td>\n",
       "      <td>...</td>\n",
       "      <td>*</td>\n",
       "      <td>*</td>\n",
       "      <td>*</td>\n",
       "      <td>LWS</td>\n",
       "      <td>NaN</td>\n",
       "      <td>*</td>\n",
       "      <td>2003</td>\n",
       "      <td>MEDTRONIC</td>\n",
       "      <td>*</td>\n",
       "      <td>0</td>\n",
       "    </tr>\n",
       "    <tr>\n",
       "      <th>17701</th>\n",
       "      <td>687828</td>\n",
       "      <td>2649622-2006-00441</td>\n",
       "      <td>M</td>\n",
       "      <td>Y</td>\n",
       "      <td>Y</td>\n",
       "      <td>N</td>\n",
       "      <td>11/18/2005</td>\n",
       "      <td>001</td>\n",
       "      <td>Y</td>\n",
       "      <td>N</td>\n",
       "      <td>...</td>\n",
       "      <td>DEFIBRILLATOR, AUTOMATIC IMPLANTABLE CARDIOVERTER</td>\n",
       "      <td>0LP</td>\n",
       "      <td>6949</td>\n",
       "      <td>LWS</td>\n",
       "      <td>8 MO</td>\n",
       "      <td>Y</td>\n",
       "      <td>2006</td>\n",
       "      <td>MEDTRONIC</td>\n",
       "      <td>SPRINT FIDELIS</td>\n",
       "      <td>0</td>\n",
       "    </tr>\n",
       "    <tr>\n",
       "      <th>19469</th>\n",
       "      <td>734998</td>\n",
       "      <td>2649622-2006-00783</td>\n",
       "      <td>M</td>\n",
       "      <td>Y</td>\n",
       "      <td>Y</td>\n",
       "      <td>N</td>\n",
       "      <td>05/23/2006</td>\n",
       "      <td>600</td>\n",
       "      <td>N</td>\n",
       "      <td>N</td>\n",
       "      <td>...</td>\n",
       "      <td>DEFIBRILLATOR, AUTOMATIC IMPLANTABLE CARDIOVERTER</td>\n",
       "      <td>0LP</td>\n",
       "      <td>6931</td>\n",
       "      <td>LWS</td>\n",
       "      <td>12 MO</td>\n",
       "      <td>Y</td>\n",
       "      <td>2006</td>\n",
       "      <td>MEDTRONIC</td>\n",
       "      <td>SPRINT FIDELIS</td>\n",
       "      <td>0</td>\n",
       "    </tr>\n",
       "    <tr>\n",
       "      <th>27519</th>\n",
       "      <td>849636</td>\n",
       "      <td>2649622-2007-01218</td>\n",
       "      <td>M</td>\n",
       "      <td>Y</td>\n",
       "      <td>Y</td>\n",
       "      <td>Y</td>\n",
       "      <td>03/13/2007</td>\n",
       "      <td>305</td>\n",
       "      <td>Y</td>\n",
       "      <td>N</td>\n",
       "      <td>...</td>\n",
       "      <td>DEFIBRILLATOR, AUTOMATIC IMPLANTABLE CARDIOVERTER</td>\n",
       "      <td>0LP</td>\n",
       "      <td>6949</td>\n",
       "      <td>LWS</td>\n",
       "      <td>24 MO</td>\n",
       "      <td>*</td>\n",
       "      <td>2007</td>\n",
       "      <td>MEDTRONIC</td>\n",
       "      <td>SPRINT FIDELIS</td>\n",
       "      <td>0</td>\n",
       "    </tr>\n",
       "  </tbody>\n",
       "</table>\n",
       "<p>5 rows × 32 columns</p>\n",
       "</div>"
      ],
      "text/plain": [
       "      MDR_REPORT_KEY       REPORT_NUMBER REPORT_SOURCE_CODE  \\\n",
       "7089          489687  2649622-2003-00267                  M   \n",
       "7514          507667  2649622-2003-00355                  M   \n",
       "17701         687828  2649622-2006-00441                  M   \n",
       "19469         734998  2649622-2006-00783                  M   \n",
       "27519         849636  2649622-2007-01218                  M   \n",
       "\n",
       "      MANUFACTURER_LINK_FLAG_ ADVERSE_EVENT_FLAG PRODUCT_PROBLEM_FLAG  \\\n",
       "7089                        Y                  N                    *   \n",
       "7514                        Y                  N                    *   \n",
       "17701                       Y                  Y                    N   \n",
       "19469                       Y                  Y                    N   \n",
       "27519                       Y                  Y                    Y   \n",
       "\n",
       "      DATE_OF_EVENT REPORTER_OCCUPATION_CODE HEALTH_PROFESSIONAL  \\\n",
       "7089     03/06/2003                        *                   *   \n",
       "7514     03/13/2003                        *                   *   \n",
       "17701    11/18/2005                      001                   Y   \n",
       "19469    05/23/2006                      600                   N   \n",
       "27519    03/13/2007                      305                   Y   \n",
       "\n",
       "      INITIAL_REPORT_TO_FDA  ...  \\\n",
       "7089                      N  ...   \n",
       "7514                      *  ...   \n",
       "17701                     N  ...   \n",
       "19469                     N  ...   \n",
       "27519                     N  ...   \n",
       "\n",
       "                                            GENERIC_NAME DEVICE_OPERATOR  \\\n",
       "7089                                                   *               *   \n",
       "7514                                                   *               *   \n",
       "17701  DEFIBRILLATOR, AUTOMATIC IMPLANTABLE CARDIOVERTER             0LP   \n",
       "19469  DEFIBRILLATOR, AUTOMATIC IMPLANTABLE CARDIOVERTER             0LP   \n",
       "27519  DEFIBRILLATOR, AUTOMATIC IMPLANTABLE CARDIOVERTER             0LP   \n",
       "\n",
       "      MODEL_NUMBER DEVICE_REPORT_PRODUCT_CODE DEVICE_AGE_TEXT  \\\n",
       "7089          6944                        LWS             NaN   \n",
       "7514             *                        LWS             NaN   \n",
       "17701         6949                        LWS            8 MO   \n",
       "19469         6931                        LWS           12 MO   \n",
       "27519         6949                        LWS           24 MO   \n",
       "\n",
       "      DEVICE_EVALUATED_BY_MANUFACTUR  year STD_MANUFACTURER      STD_DEVICE  \\\n",
       "7089                               Y  2003        MEDTRONIC               *   \n",
       "7514                               *  2003        MEDTRONIC               *   \n",
       "17701                              Y  2006        MEDTRONIC  SPRINT FIDELIS   \n",
       "19469                              Y  2006        MEDTRONIC  SPRINT FIDELIS   \n",
       "27519                              *  2007        MEDTRONIC  SPRINT FIDELIS   \n",
       "\n",
       "      RECALL_CLASS  \n",
       "7089             0  \n",
       "7514             0  \n",
       "17701            0  \n",
       "19469            0  \n",
       "27519            0  \n",
       "\n",
       "[5 rows x 32 columns]"
      ]
     },
     "execution_count": 21,
     "metadata": {},
     "output_type": "execute_result"
    }
   ],
   "source": [
    "# create the standardized device identifier and recall class column\n",
    "MASDEV2[\"STD_DEVICE\"] = MASDEV2['BRAND_NAME']\n",
    "MASDEV2[\"RECALL_CLASS\"] = MASDEV2['BRAND_NAME']\n",
    "MASDEV2 = MASDEV2.assign(RECALL_CLASS=\"0\")\n",
    "MASDEV2.head()"
   ]
  },
  {
   "cell_type": "code",
   "execution_count": 22,
   "id": "c8a7dba8",
   "metadata": {},
   "outputs": [],
   "source": [
    "# creating product dfs\n",
    "# run twice to merge"
   ]
  },
  {
   "cell_type": "code",
   "execution_count": null,
   "id": "0267f89c",
   "metadata": {},
   "outputs": [],
   "source": []
  },
  {
   "cell_type": "code",
   "execution_count": 51,
   "id": "0c850ddc",
   "metadata": {},
   "outputs": [
    {
     "data": {
      "text/plain": [
       "(817, 59)"
      ]
     },
     "execution_count": 51,
     "metadata": {},
     "output_type": "execute_result"
    }
   ],
   "source": [
    "MASDEV2[\"MEDTRONIC_GEM_DR\"] = pd.DataFrame(MASDEV2['BRAND_NAME'].str.contains('GEM', regex=False) &\n",
    "                                        MASDEV2['BRAND_NAME'].str.contains('DR', regex=False) &\n",
    "                                        MASDEV2['STD_MANUFACTURER'].str.contains('MEDTRONIC', regex=False))\n",
    "MASDEV2_MEDTRONIC_GEM_DR = MASDEV2[MASDEV2[\"MEDTRONIC_GEM_DR\"] == True]\n",
    "MASDEV2_MEDTRONIC_GEM_DR = MASDEV2_MEDTRONIC_GEM_DR.assign(STD_DEVICE='MEDTRONIC_GEM_DR', RECALL_CLASS=\"1\")\n",
    "MASDEV2_MEDTRONIC_GEM_DR.shape"
   ]
  },
  {
   "cell_type": "code",
   "execution_count": 52,
   "id": "00504ba3",
   "metadata": {},
   "outputs": [
    {
     "data": {
      "text/plain": [
       "(262, 59)"
      ]
     },
     "execution_count": 52,
     "metadata": {},
     "output_type": "execute_result"
    }
   ],
   "source": [
    "MASDEV2[\"MEDTRONIC_COMPIA_MRI\"] = pd.DataFrame(MASDEV2['BRAND_NAME'].str.contains('COMPIA', regex=False) &\n",
    "                                        MASDEV2['BRAND_NAME'].str.contains('MRI', regex=False) &\n",
    "                                        MASDEV2['STD_MANUFACTURER'].str.contains('MEDTRONIC', regex=False))\n",
    "MASDEV2_MEDTRONIC_COMPIA_MRI = MASDEV2[MASDEV2[\"MEDTRONIC_COMPIA_MRI\"] == True]\n",
    "MASDEV2_MEDTRONIC_COMPIA_MRI = MASDEV2_MEDTRONIC_COMPIA_MRI.assign(STD_DEVICE='MEDTRONIC_COMPIA_MRI', RECALL_CLASS=\"1\")\n",
    "MASDEV2_MEDTRONIC_COMPIA_MRI.shape"
   ]
  },
  {
   "cell_type": "code",
   "execution_count": 53,
   "id": "a3b067ed",
   "metadata": {},
   "outputs": [
    {
     "data": {
      "text/plain": [
       "(1355, 59)"
      ]
     },
     "execution_count": 53,
     "metadata": {},
     "output_type": "execute_result"
    }
   ],
   "source": [
    "MASDEV2[\"MEDTRONIC_AMPLIA_MRI\"] = pd.DataFrame(MASDEV2['BRAND_NAME'].str.contains('AMPLIA', regex=False) &\n",
    "                                        MASDEV2['BRAND_NAME'].str.contains('MRI', regex=False) &\n",
    "                                        MASDEV2['STD_MANUFACTURER'].str.contains('MEDTRONIC', regex=False))\n",
    "MASDEV2_MEDTRONIC_AMPLIA_MRI = MASDEV2[MASDEV2[\"MEDTRONIC_AMPLIA_MRI\"] == True]\n",
    "MASDEV2_MEDTRONIC_AMPLIA_MRI = MASDEV2_MEDTRONIC_AMPLIA_MRI.assign(STD_DEVICE='MEDTRONIC_AMPLIA_MRI', RECALL_CLASS=\"1\")\n",
    "MASDEV2_MEDTRONIC_AMPLIA_MRI.shape"
   ]
  },
  {
   "cell_type": "code",
   "execution_count": 54,
   "id": "71d9f499",
   "metadata": {},
   "outputs": [
    {
     "data": {
      "text/plain": [
       "(4964, 59)"
      ]
     },
     "execution_count": 54,
     "metadata": {},
     "output_type": "execute_result"
    }
   ],
   "source": [
    "MASDEV2[\"MEDTRONIC_VIVA\"] = pd.DataFrame(MASDEV2['BRAND_NAME'].str.contains('VIVA', regex=False) &\n",
    "                                        MASDEV2['STD_MANUFACTURER'].str.contains('MEDTRONIC', regex=False))\n",
    "MASDEV2_MEDTRONIC_VIVA = MASDEV2[MASDEV2[\"MEDTRONIC_VIVA\"] == True]\n",
    "MASDEV2_MEDTRONIC_VIVA = MASDEV2_MEDTRONIC_VIVA.assign(STD_DEVICE='MEDTRONIC_VIVA', RECALL_CLASS=\"1\")\n",
    "MASDEV2_MEDTRONIC_VIVA.shape"
   ]
  },
  {
   "cell_type": "code",
   "execution_count": 55,
   "id": "936b571b",
   "metadata": {},
   "outputs": [
    {
     "data": {
      "text/plain": [
       "(208, 59)"
      ]
     },
     "execution_count": 55,
     "metadata": {},
     "output_type": "execute_result"
    }
   ],
   "source": [
    "MASDEV2[\"MEDTRONIC_BRAVA\"] = pd.DataFrame(MASDEV2['BRAND_NAME'].str.contains('BRAVA', regex=False) &\n",
    "                                        MASDEV2['STD_MANUFACTURER'].str.contains('MEDTRONIC', regex=False))\n",
    "MASDEV2_MEDTRONIC_BRAVA = MASDEV2[MASDEV2[\"MEDTRONIC_BRAVA\"] == True]\n",
    "MASDEV2_MEDTRONIC_BRAVA = MASDEV2_MEDTRONIC_BRAVA.assign(STD_DEVICE='MEDTRONIC_BRAVA', RECALL_CLASS=\"1\")\n",
    "MASDEV2_MEDTRONIC_BRAVA.shape"
   ]
  },
  {
   "cell_type": "code",
   "execution_count": 56,
   "id": "0e010dd5",
   "metadata": {},
   "outputs": [
    {
     "data": {
      "text/plain": [
       "(130, 59)"
      ]
     },
     "execution_count": 56,
     "metadata": {},
     "output_type": "execute_result"
    }
   ],
   "source": [
    "MASDEV2[\"MEDTRONIC_EGIDA\"] = pd.DataFrame(MASDEV2['BRAND_NAME'].str.contains('EGIDA', regex=False) &\n",
    "                                        MASDEV2['STD_MANUFACTURER'].str.contains('MEDTRONIC', regex=False))\n",
    "MASDEV2_MEDTRONIC_EGIDA = MASDEV2[MASDEV2[\"MEDTRONIC_EGIDA\"] == True]\n",
    "MASDEV2_MEDTRONIC_EGIDA = MASDEV2_MEDTRONIC_EGIDA.assign(STD_DEVICE='MEDTRONIC_EGIDA', RECALL_CLASS=\"0\")\n",
    "MASDEV2_MEDTRONIC_EGIDA.shape"
   ]
  },
  {
   "cell_type": "code",
   "execution_count": 58,
   "id": "e72e4606",
   "metadata": {},
   "outputs": [
    {
     "data": {
      "text/plain": [
       "(2029, 59)"
      ]
     },
     "execution_count": 58,
     "metadata": {},
     "output_type": "execute_result"
    }
   ],
   "source": [
    "MASDEV2[\"StJUDE_QUARTET\"] = pd.DataFrame(MASDEV2['BRAND_NAME'].str.contains('QUARTET', regex=False) &\n",
    "                                        MASDEV2['STD_MANUFACTURER'].str.contains('ST. JUDE', regex=False))\n",
    "\n",
    "MASDEV2_StJUDE_QUARTET = MASDEV2[MASDEV2[\"StJUDE_QUARTET\"] == True]\n",
    "MASDEV2_StJUDE_QUARTET = MASDEV2_StJUDE_QUARTET.assign(STD_DEVICE='StJUDE_QUARTET', RECALL_CLASS=\"0\")\n",
    "MASDEV2_StJUDE_QUARTET.shape"
   ]
  },
  {
   "cell_type": "code",
   "execution_count": 59,
   "id": "c4a127ca",
   "metadata": {},
   "outputs": [
    {
     "data": {
      "text/plain": [
       "(26, 59)"
      ]
     },
     "execution_count": 59,
     "metadata": {},
     "output_type": "execute_result"
    }
   ],
   "source": [
    "MASDEV2[\"StJUDE_GALLANT\"] = pd.DataFrame(MASDEV2['BRAND_NAME'].str.contains('GALLANT', regex=False) &\n",
    "                                        MASDEV2['STD_MANUFACTURER'].str.contains('ST. JUDE', regex=False))\n",
    "\n",
    "MASDEV2_StJUDE_GALLANT = MASDEV2[MASDEV2[\"StJUDE_GALLANT\"] == True]\n",
    "MASDEV2_StJUDE_GALLANT = MASDEV2_StJUDE_GALLANT.assign(STD_DEVICE='StJUDE_GALLANT', RECALL_CLASS=\"0\")\n",
    "MASDEV2_StJUDE_GALLANT.shape"
   ]
  },
  {
   "cell_type": "code",
   "execution_count": 60,
   "id": "5eeed8cb",
   "metadata": {},
   "outputs": [
    {
     "data": {
      "text/plain": [
       "(26277, 59)"
      ]
     },
     "execution_count": 60,
     "metadata": {},
     "output_type": "execute_result"
    }
   ],
   "source": [
    "MASDEV2[\"StJUDE_DURATA\"] = pd.DataFrame(MASDEV2['BRAND_NAME'].str.contains('DURATA', regex=False) &\n",
    "                                        MASDEV2['STD_MANUFACTURER'].str.contains('ST. JUDE', regex=False))\n",
    "\n",
    "MASDEV2_StJUDE_DURATA = MASDEV2[MASDEV2[\"StJUDE_DURATA\"] == True]\n",
    "MASDEV2_StJUDE_DURATA = MASDEV2_StJUDE_DURATA.assign(STD_DEVICE='StJUDE_DURATA', RECALL_CLASS=\"0\")\n",
    "MASDEV2_StJUDE_DURATA.shape"
   ]
  },
  {
   "cell_type": "code",
   "execution_count": null,
   "id": "030b9f51",
   "metadata": {},
   "outputs": [],
   "source": []
  },
  {
   "cell_type": "code",
   "execution_count": 61,
   "id": "34eb7fc4",
   "metadata": {},
   "outputs": [
    {
     "data": {
      "text/plain": [
       "(3522, 59)"
      ]
     },
     "execution_count": 61,
     "metadata": {},
     "output_type": "execute_result"
    }
   ],
   "source": [
    "MASDEV2[\"BOS_SCI_EMBLEM\"] = pd.DataFrame(MASDEV2['BRAND_NAME'].str.contains('EMBLEM', regex=False) &\n",
    "                                        MASDEV2['STD_MANUFACTURER'].str.contains('BOSTON', regex=False))\n",
    "\n",
    "MASDEV2_BOS_SCI_EMBLEM = MASDEV2[MASDEV2[\"BOS_SCI_EMBLEM\"] == True]\n",
    "MASDEV2_BOS_SCI_EMBLEM = MASDEV2_BOS_SCI_EMBLEM.assign(STD_DEVICE='BOS_SCI_EMBLEM', RECALL_CLASS=\"1\")\n",
    "MASDEV2_BOS_SCI_EMBLEM.shape"
   ]
  },
  {
   "cell_type": "code",
   "execution_count": 62,
   "id": "4f5341d2",
   "metadata": {},
   "outputs": [
    {
     "data": {
      "text/plain": [
       "(533, 59)"
      ]
     },
     "execution_count": 62,
     "metadata": {},
     "output_type": "execute_result"
    }
   ],
   "source": [
    "MASDEV2[\"BOS_SCI_INOGEN_EL\"] = pd.DataFrame(MASDEV2['BRAND_NAME'].str.contains('INOGEN', regex=False) &\n",
    "                                         MASDEV2[\"BRAND_NAME\"].str.contains(\"EL\", regex=False) &\n",
    "                                        MASDEV2['STD_MANUFACTURER'].str.contains('BOSTON', regex=False))\n",
    "\n",
    "MASDEV2_BOS_SCI_INOGEN_EL = MASDEV2[MASDEV2[\"BOS_SCI_INOGEN_EL\"] == True]\n",
    "MASDEV2_BOS_SCI_INOGEN_EL = MASDEV2_BOS_SCI_INOGEN_EL.assign(STD_DEVICE='BOS_SCI_INOGEN_EL', RECALL_CLASS=\"0\")\n",
    "MASDEV2_BOS_SCI_INOGEN_EL.shape"
   ]
  },
  {
   "cell_type": "code",
   "execution_count": 63,
   "id": "a4ca874a",
   "metadata": {},
   "outputs": [
    {
     "data": {
      "text/plain": [
       "(39, 59)"
      ]
     },
     "execution_count": 63,
     "metadata": {},
     "output_type": "execute_result"
    }
   ],
   "source": [
    "MASDEV2[\"BOS_SCI_PERCIVA\"] = pd.DataFrame(MASDEV2['BRAND_NAME'].str.contains('PERCIVA', regex=False) &\n",
    "                                        MASDEV2['STD_MANUFACTURER'].str.contains('BOSTON', regex=False))\n",
    "\n",
    "MASDEV2_BOS_SCI_PERCIVA = MASDEV2[MASDEV2[\"BOS_SCI_PERCIVA\"] == True]\n",
    "MASDEV2_BOS_SCI_PERCIVA = MASDEV2_BOS_SCI_PERCIVA.assign(STD_DEVICE='BOS_SCI_PERCIVA', RECALL_CLASS=\"0\")\n",
    "MASDEV2_BOS_SCI_PERCIVA.shape"
   ]
  },
  {
   "cell_type": "code",
   "execution_count": 64,
   "id": "e224e894",
   "metadata": {},
   "outputs": [
    {
     "data": {
      "text/plain": [
       "(6292, 59)"
      ]
     },
     "execution_count": 64,
     "metadata": {},
     "output_type": "execute_result"
    }
   ],
   "source": [
    "MASDEV2[\"MEDTRONIC_EVERA\"] = pd.DataFrame(MASDEV2['BRAND_NAME'].str.contains('EVERA', regex=False)&\n",
    "                                        MASDEV2['STD_MANUFACTURER'].str.contains('MEDTRONIC', regex=False))\n",
    "\n",
    "MASDEV2_MEDTRONIC_EVERA = MASDEV2[MASDEV2[\"MEDTRONIC_EVERA\"] == True]\n",
    "MASDEV2_MEDTRONIC_EVERA = MASDEV2_MEDTRONIC_EVERA.assign(STD_DEVICE='MEDTRONIC_EVERA', RECALL_CLASS=\"1\")\n",
    "MASDEV2_MEDTRONIC_EVERA.shape"
   ]
  },
  {
   "cell_type": "code",
   "execution_count": 65,
   "id": "3bab7474",
   "metadata": {},
   "outputs": [
    {
     "data": {
      "text/plain": [
       "(609, 59)"
      ]
     },
     "execution_count": 65,
     "metadata": {},
     "output_type": "execute_result"
    }
   ],
   "source": [
    "MASDEV2[\"MEDTRONIC_MICRO_JEWEL\"] = pd.DataFrame(MASDEV2['BRAND_NAME'].str.contains('MICRO', regex=False) &\n",
    "                                        MASDEV2[\"BRAND_NAME\"].str.contains(\"JEWEL\", regex=False) &\n",
    "                                        MASDEV2['STD_MANUFACTURER'].str.contains('MEDTRONIC', regex=False))\n",
    "MASDEV2_MEDTRONIC_MICRO_JEWEL = MASDEV2[MASDEV2[\"MEDTRONIC_MICRO_JEWEL\"] == True]\n",
    "MASDEV2_MEDTRONIC_MICRO_JEWEL = MASDEV2_MEDTRONIC_MICRO_JEWEL.assign(STD_DEVICE='MEDTRONIC_MICRO_JEWEL', RECALL_CLASS=\"1\")\n",
    "MASDEV2_MEDTRONIC_MICRO_JEWEL.shape"
   ]
  },
  {
   "cell_type": "code",
   "execution_count": 66,
   "id": "c439ac13",
   "metadata": {},
   "outputs": [
    {
     "data": {
      "text/plain": [
       "(4891, 59)"
      ]
     },
     "execution_count": 66,
     "metadata": {},
     "output_type": "execute_result"
    }
   ],
   "source": [
    "MASDEV2[\"MEDTRONIC_PROTECTA_XT\"] = pd.DataFrame(MASDEV2['BRAND_NAME'].str.contains('PROTECTA', regex=False) &\n",
    "                                        MASDEV2[\"BRAND_NAME\"].str.contains(\"XT\", regex=False) &\n",
    "                                        MASDEV2['STD_MANUFACTURER'].str.contains('MEDTRONIC', regex=False))\n",
    "MASDEV2_MEDTRONIC_PROTECTA_XT = MASDEV2[MASDEV2[\"MEDTRONIC_PROTECTA_XT\"] == True]\n",
    "MASDEV2_MEDTRONIC_PROTECTA_XT = MASDEV2_MEDTRONIC_PROTECTA_XT.assign(STD_DEVICE='MEDTRONIC_PROTECTA_XT', RECALL_CLASS=\"0\")\n",
    "MASDEV2_MEDTRONIC_PROTECTA_XT.shape"
   ]
  },
  {
   "cell_type": "code",
   "execution_count": 67,
   "id": "35700bde",
   "metadata": {
    "scrolled": true
   },
   "outputs": [
    {
     "data": {
      "text/plain": [
       "(4593, 59)"
      ]
     },
     "execution_count": 67,
     "metadata": {},
     "output_type": "execute_result"
    }
   ],
   "source": [
    "MASDEV2[\"MEDTRONIC_SPRINT\"] = pd.DataFrame(MASDEV2['BRAND_NAME'].str.contains('SPRINT', regex=False) &\n",
    "                                          (MASDEV2[\"BRAND_NAME\"].str.contains(\"FID\", regex=False) == False) &\n",
    "                                          (MASDEV2[\"BRAND_NAME\"].str.contains(\"FIELIS\", regex=False) == False) &\n",
    "                                          (MASDEV2[\"BRAND_NAME\"].str.contains(\"FEDELIS\", regex=False) == False) &\n",
    "                                          ((MASDEV2[\"BRAND_NAME\"].str.contains(\" QUAT\", regex=False) == False) &\n",
    "                                           (MASDEV2[\"BRAND_NAME\"].str.contains(\"QUADRO\", regex=False) == False)) &\n",
    "                                        MASDEV2['STD_MANUFACTURER'].str.contains('MEDTRONIC', regex=False))\n",
    "MASDEV2_MEDTRONIC_SPRINT = MASDEV2[MASDEV2[\"MEDTRONIC_SPRINT\"] == True]\n",
    "MASDEV2_MEDTRONIC_SPRINT = MASDEV2_MEDTRONIC_SPRINT.assign(STD_DEVICE='MEDTRONIC_SPRINT', RECALL_CLASS=\"0\")\n",
    "MASDEV2_MEDTRONIC_SPRINT.shape"
   ]
  },
  {
   "cell_type": "code",
   "execution_count": 68,
   "id": "8cedbbb0",
   "metadata": {},
   "outputs": [
    {
     "data": {
      "text/plain": [
       "(14329, 59)"
      ]
     },
     "execution_count": 68,
     "metadata": {},
     "output_type": "execute_result"
    }
   ],
   "source": [
    "MASDEV2[\"MEDTRONIC_SPRINT_FIDELIS\"] = pd.DataFrame(MASDEV2['BRAND_NAME'].str.contains('SPRINT', regex=False) &\n",
    "                                                    MASDEV2[\"BRAND_NAME\"].str.contains(\"FID\", regex=False) &\n",
    "                                                    MASDEV2['STD_MANUFACTURER'].str.contains('MEDTRONIC', regex=False))\n",
    "MASDEV2_MEDTRONIC_SPRINT_FIDELIS = MASDEV2[MASDEV2[\"MEDTRONIC_SPRINT_FIDELIS\"] == True]\n",
    "MASDEV2_MEDTRONIC_SPRINT_FIDELIS = MASDEV2_MEDTRONIC_SPRINT_FIDELIS.assign(STD_DEVICE='MEDTRONIC_SPRINT_FIDELIS')\n",
    "MASDEV2_MEDTRONIC_SPRINT_FIDELIS = MASDEV2_MEDTRONIC_SPRINT_FIDELIS.assign(RECALL_CLASS='1')\n",
    "MASDEV2_MEDTRONIC_SPRINT_FIDELIS.shape"
   ]
  },
  {
   "cell_type": "code",
   "execution_count": 69,
   "id": "343ff293",
   "metadata": {},
   "outputs": [
    {
     "data": {
      "text/plain": [
       "(6028, 59)"
      ]
     },
     "execution_count": 69,
     "metadata": {},
     "output_type": "execute_result"
    }
   ],
   "source": [
    "MASDEV2[\"MEDTRONIC_SPRINT_QUATTRO\"] = pd.DataFrame(MASDEV2['BRAND_NAME'].str.contains('SPRINT', regex=False) &\n",
    "                                                            MASDEV2[\"BRAND_NAME\"].str.contains(\"QU\", regex=False) &\n",
    "                                                            (MASDEV2[\"BRAND_NAME\"].str.contains(\"SECURE\", regex=False) == False) &\n",
    "                                                            MASDEV2['STD_MANUFACTURER'].str.contains('MEDTRONIC', regex=False))\n",
    "MASDEV2_MEDTRONIC_SPRINT_QUATTRO = MASDEV2[MASDEV2[\"MEDTRONIC_SPRINT_QUATTRO\"] == True]\n",
    "MASDEV2_MEDTRONIC_SPRINT_QUATTRO = MASDEV2_MEDTRONIC_SPRINT_QUATTRO.assign(STD_DEVICE='MEDTRONIC_SPRINT_QUATTRO', RECALL_CLASS=\"0\")\n",
    "MASDEV2_MEDTRONIC_SPRINT_QUATTRO.shape"
   ]
  },
  {
   "cell_type": "code",
   "execution_count": 70,
   "id": "f9129857",
   "metadata": {},
   "outputs": [
    {
     "data": {
      "text/plain": [
       "(10460, 59)"
      ]
     },
     "execution_count": 70,
     "metadata": {},
     "output_type": "execute_result"
    }
   ],
   "source": [
    "MASDEV2[\"MEDTRONIC_SPRINT_QUATTRO_SECURE_MRI\"] = pd.DataFrame(MASDEV2['BRAND_NAME'].str.contains('SPRINT', regex=False) &\n",
    "                                                            MASDEV2[\"BRAND_NAME\"].str.contains(\"QU\", regex=False) &\n",
    "                                                            MASDEV2[\"BRAND_NAME\"].str.contains(\"SECURE\", regex=False) &\n",
    "                                                            MASDEV2[\"BRAND_NAME\"].str.contains(\" MRI\", regex=False) &\n",
    "                                                            MASDEV2['STD_MANUFACTURER'].str.contains('MEDTRONIC', regex=False))\n",
    "MASDEV2_MEDTRONIC_SPRINT_QUATTRO_SECURE_MRI = MASDEV2[MASDEV2[\"MEDTRONIC_SPRINT_QUATTRO_SECURE_MRI\"] == True]\n",
    "MASDEV2_MEDTRONIC_SPRINT_QUATTRO_SECURE_MRI = MASDEV2_MEDTRONIC_SPRINT_QUATTRO_SECURE_MRI.assign(STD_DEVICE='MEDTRONIC_SPRINT_QUATTRO_SECURE_MRI', RECALL_CLASS=\"0\")\n",
    "MASDEV2_MEDTRONIC_SPRINT_QUATTRO_SECURE_MRI.shape"
   ]
  },
  {
   "cell_type": "code",
   "execution_count": 71,
   "id": "d2b7d60d",
   "metadata": {},
   "outputs": [
    {
     "data": {
      "text/plain": [
       "(2200, 59)"
      ]
     },
     "execution_count": 71,
     "metadata": {},
     "output_type": "execute_result"
    }
   ],
   "source": [
    "MASDEV2[\"MEDTRONIC_TRANSVENE\"] = pd.DataFrame(MASDEV2['BRAND_NAME'].str.contains('TRANSVENE', regex=False) &\n",
    "                                        MASDEV2['STD_MANUFACTURER'].str.contains('MEDTRONIC', regex=False))\n",
    "MASDEV2_MEDTRONIC_TRANSVENE = MASDEV2[MASDEV2[\"MEDTRONIC_TRANSVENE\"] == True]\n",
    "MASDEV2_MEDTRONIC_TRANSVENE = MASDEV2_MEDTRONIC_TRANSVENE.assign(STD_DEVICE='MEDTRONIC_TRANSVENE', RECALL_CLASS=\"0\")\n",
    "MASDEV2_MEDTRONIC_TRANSVENE.shape"
   ]
  },
  {
   "cell_type": "code",
   "execution_count": 72,
   "id": "fef283ab",
   "metadata": {},
   "outputs": [
    {
     "data": {
      "text/plain": [
       "(293, 59)"
      ]
     },
     "execution_count": 72,
     "metadata": {},
     "output_type": "execute_result"
    }
   ],
   "source": [
    "MASDEV2[\"MEDTRONIC_SUBQ\"] = pd.DataFrame(MASDEV2['BRAND_NAME'].str.contains('SUB', regex=False) &\n",
    "                                        MASDEV2[\"BRAND_NAME\"].str.contains(\"Q\", regex=False) &\n",
    "                                        MASDEV2['STD_MANUFACTURER'].str.contains('MEDTRONIC', regex=False))\n",
    "MASDEV2_MEDTRONIC_SUBQ = MASDEV2[MASDEV2[\"MEDTRONIC_SUBQ\"] == True]\n",
    "MASDEV2_MEDTRONIC_SUBQ = MASDEV2_MEDTRONIC_SUBQ.assign(STD_DEVICE='MEDTRONIC_SUBQ', RECALL_CLASS=\"0\")\n",
    "MASDEV2_MEDTRONIC_SUBQ.shape"
   ]
  },
  {
   "cell_type": "code",
   "execution_count": 73,
   "id": "0e604295",
   "metadata": {},
   "outputs": [
    {
     "data": {
      "text/plain": [
       "(1057, 59)"
      ]
     },
     "execution_count": 73,
     "metadata": {},
     "output_type": "execute_result"
    }
   ],
   "source": [
    "MASDEV2[\"MEDTRONIC_VISIA\"] = pd.DataFrame(MASDEV2['BRAND_NAME'].str.contains('VISIA', regex=False)&\n",
    "                                        MASDEV2['STD_MANUFACTURER'].str.contains('MEDTRONIC', regex=False))\n",
    "\n",
    "MASDEV2_MEDTRONIC_VISIA = MASDEV2[MASDEV2[\"MEDTRONIC_VISIA\"] == True]\n",
    "MASDEV2_MEDTRONIC_VISIA = MASDEV2_MEDTRONIC_VISIA.assign(STD_DEVICE='MEDTRONIC_VISIA', RECALL_CLASS=\"1\")\n",
    "MASDEV2_MEDTRONIC_VISIA.shape"
   ]
  },
  {
   "cell_type": "code",
   "execution_count": 74,
   "id": "fcd5bfdf",
   "metadata": {},
   "outputs": [
    {
     "data": {
      "text/plain": [
       "(5074, 59)"
      ]
     },
     "execution_count": 74,
     "metadata": {},
     "output_type": "execute_result"
    }
   ],
   "source": [
    "MASDEV2[\"StJUDE_ELLIPSE\"] = pd.DataFrame(MASDEV2['BRAND_NAME'].str.contains('ELLIPSE', regex=False) &\n",
    "                                        MASDEV2['STD_MANUFACTURER'].str.contains('ST. JUDE', regex=False))\n",
    "\n",
    "MASDEV2_StJUDE_ELLIPSE = MASDEV2[MASDEV2[\"StJUDE_ELLIPSE\"] == True]\n",
    "MASDEV2_StJUDE_ELLIPSE = MASDEV2_StJUDE_ELLIPSE.assign(STD_DEVICE='StJUDE_ELLIPSE', RECALL_CLASS=\"1\")\n",
    "MASDEV2_StJUDE_ELLIPSE.shape"
   ]
  },
  {
   "cell_type": "code",
   "execution_count": 75,
   "id": "158a29f6",
   "metadata": {},
   "outputs": [
    {
     "data": {
      "text/plain": [
       "(6597, 59)"
      ]
     },
     "execution_count": 75,
     "metadata": {},
     "output_type": "execute_result"
    }
   ],
   "source": [
    "MASDEV2[\"STJUDE_FORTIFY_VR\"] = pd.DataFrame(MASDEV2['BRAND_NAME'].str.contains('FORTIFY', regex=False) &\n",
    "                                          MASDEV2[\"BRAND_NAME\"].str.contains(\"VR\", regex=False) &\n",
    "                                        MASDEV2['STD_MANUFACTURER'].str.contains('ST. JUDE', regex=False))\n",
    "MASDEV2_STJUDE_FORTIFY_VR = MASDEV2[MASDEV2[\"STJUDE_FORTIFY_VR\"] == True]\n",
    "MASDEV2_STJUDE_FORTIFY_VR = MASDEV2_STJUDE_FORTIFY_VR.assign(STD_DEVICE='STJUDE_FORTIFY_VR')\n",
    "MASDEV2_STJUDE_FORTIFY_VR = MASDEV2_STJUDE_FORTIFY_VR.assign(RECALL_CLASS=\"1\")\n",
    "MASDEV2_STJUDE_FORTIFY_VR.shape"
   ]
  },
  {
   "cell_type": "code",
   "execution_count": 76,
   "id": "85b7c15f",
   "metadata": {},
   "outputs": [
    {
     "data": {
      "text/plain": [
       "(17992, 59)"
      ]
     },
     "execution_count": 76,
     "metadata": {},
     "output_type": "execute_result"
    }
   ],
   "source": [
    "MASDEV2[\"STJUDE_RIATA\"] = pd.DataFrame(MASDEV2['BRAND_NAME'].str.contains('RIATA', regex=False) &\n",
    "                                      (MASDEV2[\"BRAND_NAME\"].str.contains(\"ST\", regex=False) == False) &\n",
    "                                        MASDEV2['STD_MANUFACTURER'].str.contains('ST. JUDE', regex=False))\n",
    "MASDEV2_STJUDE_RIATA = MASDEV2[MASDEV2[\"STJUDE_RIATA\"] == True]\n",
    "MASDEV2_STJUDE_RIATA = MASDEV2_STJUDE_RIATA.assign(STD_DEVICE='STJUDE_RIATA')\n",
    "MASDEV2_STJUDE_RIATA = MASDEV2_STJUDE_RIATA.assign(RECALL_CLASS=\"1\")\n",
    "MASDEV2_STJUDE_RIATA.shape"
   ]
  },
  {
   "cell_type": "code",
   "execution_count": 77,
   "id": "9a768780",
   "metadata": {},
   "outputs": [
    {
     "data": {
      "text/plain": [
       "(6321, 59)"
      ]
     },
     "execution_count": 77,
     "metadata": {},
     "output_type": "execute_result"
    }
   ],
   "source": [
    "MASDEV2[\"STJUDE_RIATA_ST\"] = pd.DataFrame(MASDEV2['BRAND_NAME'].str.contains('RIATA', regex=False) &\n",
    "                                            MASDEV2[\"BRAND_NAME\"].str.contains(\"ST\", regex=False) &\n",
    "                                            (MASDEV2[\"BRAND_NAME\"].str.contains(\"OPTIM\", regex=False) == False) &\n",
    "                                            MASDEV2['STD_MANUFACTURER'].str.contains('ST. JUDE', regex=False))\n",
    "MASDEV2_STJUDE_RIATA_ST = MASDEV2[MASDEV2[\"STJUDE_RIATA_ST\"] == True]\n",
    "MASDEV2_STJUDE_RIATA_ST = MASDEV2_STJUDE_RIATA_ST.assign(STD_DEVICE='STJUDE_RIATA_ST')\n",
    "MASDEV2_STJUDE_RIATA_ST = MASDEV2_STJUDE_RIATA_ST.assign(RECALL_CLASS=\"1\")\n",
    "MASDEV2_STJUDE_RIATA_ST.shape"
   ]
  },
  {
   "cell_type": "code",
   "execution_count": 78,
   "id": "d9de2a4a",
   "metadata": {},
   "outputs": [
    {
     "data": {
      "text/plain": [
       "(7, 59)"
      ]
     },
     "execution_count": 78,
     "metadata": {},
     "output_type": "execute_result"
    }
   ],
   "source": [
    "MASDEV2[\"STJUDE_TENDRIL_STS\"] = pd.DataFrame(MASDEV2['BRAND_NAME'].str.contains('TENDRIL', regex=False) &\n",
    "                                      (MASDEV2[\"BRAND_NAME\"].str.contains(\"STS\", regex=False) == False) &\n",
    "                                        MASDEV2['STD_MANUFACTURER'].str.contains('ST. JUDE', regex=False))\n",
    "MASDEV2_STJUDE_TENDRIL_STS = MASDEV2[MASDEV2[\"STJUDE_TENDRIL_STS\"] == True]\n",
    "MASDEV2_STJUDE_TENDRIL_STS = MASDEV2_STJUDE_TENDRIL_STS.assign(STD_DEVICE='STJUDE_TENDRIL_STS')\n",
    "MASDEV2_STJUDE_TENDRIL_STS = MASDEV2_STJUDE_TENDRIL_STS.assign(RECALL_CLASS=\"0\")\n",
    "MASDEV2_STJUDE_TENDRIL_STS.shape"
   ]
  },
  {
   "cell_type": "code",
   "execution_count": 79,
   "id": "c913584b",
   "metadata": {},
   "outputs": [
    {
     "name": "stdout",
     "output_type": "stream",
     "text": [
      "(4055, 59)\n",
      "(4094, 59)\n",
      "(10386, 59)\n",
      "(10995, 59)\n",
      "(15886, 59)\n",
      "(20479, 59)\n",
      "(34808, 59)\n",
      "(40836, 59)\n",
      "(51296, 59)\n",
      "(53496, 59)\n",
      "(53789, 59)\n",
      "(54846, 59)\n",
      "(59920, 59)\n",
      "(66517, 59)\n",
      "(84509, 59)\n",
      "(90830, 59)\n",
      "(90837, 59)\n",
      "(117114, 59)\n",
      "(117140, 59)\n",
      "(119169, 59)\n",
      "(124060, 59)\n",
      "(124190, 59)\n",
      "(124398, 59)\n",
      "(129362, 59)\n",
      "(130717, 59)\n",
      "(130979, 59)\n",
      "(131796, 59)\n"
     ]
    }
   ],
   "source": [
    "# merge product dfs\n",
    "MASDEV3 = MASDEV2_BOS_SCI_EMBLEM\n",
    "\n",
    "for df in [MASDEV2_BOS_SCI_INOGEN_EL, MASDEV2_BOS_SCI_PERCIVA, MASDEV2_MEDTRONIC_EVERA, MASDEV2_MEDTRONIC_MICRO_JEWEL,\n",
    "            MASDEV2_MEDTRONIC_PROTECTA_XT, MASDEV2_MEDTRONIC_SPRINT, MASDEV2_MEDTRONIC_SPRINT_FIDELIS, MASDEV2_MEDTRONIC_SPRINT_QUATTRO,\n",
    "            MASDEV2_MEDTRONIC_SPRINT_QUATTRO_SECURE_MRI, MASDEV2_MEDTRONIC_TRANSVENE, MASDEV2_MEDTRONIC_SUBQ, \n",
    "            MASDEV2_MEDTRONIC_VISIA, MASDEV2_StJUDE_ELLIPSE, MASDEV2_STJUDE_FORTIFY_VR, MASDEV2_STJUDE_RIATA,\n",
    "            MASDEV2_STJUDE_RIATA_ST, MASDEV2_STJUDE_TENDRIL_STS, MASDEV2_StJUDE_DURATA, MASDEV2_StJUDE_GALLANT,\n",
    "            MASDEV2_StJUDE_QUARTET, MASDEV2_MEDTRONIC_PROTECTA_XT, MASDEV2_MEDTRONIC_EGIDA,\n",
    "            MASDEV2_MEDTRONIC_BRAVA, MASDEV2_MEDTRONIC_VIVA, MASDEV2_MEDTRONIC_AMPLIA_MRI, \n",
    "            MASDEV2_MEDTRONIC_COMPIA_MRI, MASDEV2_MEDTRONIC_GEM_DR]:\n",
    "    MASDEV3 = MASDEV3.append(df)\n",
    "    print(MASDEV3.shape)"
   ]
  },
  {
   "cell_type": "code",
   "execution_count": 83,
   "id": "cb74c0ad",
   "metadata": {},
   "outputs": [
    {
     "data": {
      "text/plain": [
       "StJUDE_DURATA                          26277\n",
       "STJUDE_RIATA                           17992\n",
       "MEDTRONIC_SPRINT_FIDELIS               14329\n",
       "MEDTRONIC_SPRINT_QUATTRO_SECURE_MRI    10460\n",
       "MEDTRONIC_PROTECTA_XT                   9782\n",
       "STJUDE_FORTIFY_VR                       6597\n",
       "STJUDE_RIATA_ST                         6321\n",
       "MEDTRONIC_EVERA                         6292\n",
       "MEDTRONIC_SPRINT_QUATTRO                6028\n",
       "StJUDE_ELLIPSE                          5074\n",
       "MEDTRONIC_VIVA                          4964\n",
       "MEDTRONIC_SPRINT                        4593\n",
       "BOS_SCI_EMBLEM                          3522\n",
       "MEDTRONIC_TRANSVENE                     2200\n",
       "StJUDE_QUARTET                          2029\n",
       "MEDTRONIC_AMPLIA_MRI                    1355\n",
       "MEDTRONIC_VISIA                         1057\n",
       "MEDTRONIC_GEM_DR                         817\n",
       "MEDTRONIC_MICRO_JEWEL                    609\n",
       "BOS_SCI_INOGEN_EL                        533\n",
       "MEDTRONIC_SUBQ                           293\n",
       "MEDTRONIC_COMPIA_MRI                     262\n",
       "MEDTRONIC_BRAVA                          208\n",
       "MEDTRONIC_EGIDA                          130\n",
       "BOS_SCI_PERCIVA                           39\n",
       "StJUDE_GALLANT                            26\n",
       "STJUDE_TENDRIL_STS                         7\n",
       "Name: STD_DEVICE, dtype: int64"
      ]
     },
     "execution_count": 83,
     "metadata": {},
     "output_type": "execute_result"
    }
   ],
   "source": [
    "# check value counts\n",
    "MASDEV3[\"STD_DEVICE\"].value_counts()"
   ]
  },
  {
   "cell_type": "code",
   "execution_count": 84,
   "id": "3da67de5",
   "metadata": {},
   "outputs": [
    {
     "data": {
      "text/plain": [
       "1    69399\n",
       "0    62397\n",
       "Name: RECALL_CLASS, dtype: int64"
      ]
     },
     "execution_count": 84,
     "metadata": {},
     "output_type": "execute_result"
    }
   ],
   "source": [
    "MASDEV3[\"RECALL_CLASS\"].value_counts()"
   ]
  },
  {
   "cell_type": "code",
   "execution_count": 85,
   "id": "31474830",
   "metadata": {},
   "outputs": [
    {
     "name": "stdout",
     "output_type": "stream",
     "text": [
      "the shape of MASDEV3 is: (131796, 59)\n",
      "the shape of MASDEV3 after column removal is: (131796, 32)\n",
      "Index(['MDR_REPORT_KEY', 'REPORT_NUMBER', 'REPORT_SOURCE_CODE',\n",
      "       'MANUFACTURER_LINK_FLAG_', 'ADVERSE_EVENT_FLAG', 'PRODUCT_PROBLEM_FLAG',\n",
      "       'DATE_OF_EVENT', 'REPORTER_OCCUPATION_CODE', 'HEALTH_PROFESSIONAL',\n",
      "       'INITIAL_REPORT_TO_FDA', 'REPORT_TO_FDA', 'EVENT_LOCATION',\n",
      "       'EVENT_TYPE', 'TYPE_OF_REPORT', 'DATE_ADDED', 'DATE_CHANGED',\n",
      "       'REPORTER_COUNTRY_CODE', 'SUMMARY_REPORT', 'DEVICE_SEQUENCE_NO',\n",
      "       'DEVICE_SEQUENCE_NO', 'DATE_RECEIVED', 'BRAND_NAME', 'GENERIC_NAME',\n",
      "       'DEVICE_OPERATOR', 'MODEL_NUMBER', 'DEVICE_REPORT_PRODUCT_CODE',\n",
      "       'DEVICE_AGE_TEXT', 'DEVICE_EVALUATED_BY_MANUFACTUR', 'year',\n",
      "       'STD_MANUFACTURER', 'STD_DEVICE', 'RECALL_CLASS'],\n",
      "      dtype='object')\n"
     ]
    }
   ],
   "source": [
    "# remove unwanted columns\n",
    "print(\"the shape of MASDEV3 is: \" + str(MASDEV3.shape))\n",
    "\n",
    "keptCols = ['MDR_REPORT_KEY',\n",
    "            'REPORT_NUMBER',\n",
    "            'REPORT_SOURCE_CODE',\n",
    "            'MANUFACTURER_LINK_FLAG_',\n",
    "            'ADVERSE_EVENT_FLAG',\n",
    "            'PRODUCT_PROBLEM_FLAG',\n",
    "            'DATE_OF_EVENT',\n",
    "            'REPORTER_OCCUPATION_CODE',\n",
    "            'HEALTH_PROFESSIONAL',\n",
    "            'INITIAL_REPORT_TO_FDA',\n",
    "            'REPORT_TO_FDA',\n",
    "            'EVENT_LOCATION',\n",
    "            'EVENT_TYPE',\n",
    "            'TYPE_OF_REPORT',\n",
    "            'DATE_ADDED',\n",
    "            'DATE_CHANGED',\n",
    "            'REPORTER_COUNTRY_CODE',\n",
    "            'SUMMARY_REPORT',\n",
    "            'DEVICE_SEQUENCE_NO',\n",
    "            'DATE_RECEIVED',\n",
    "            'BRAND_NAME',\n",
    "            'GENERIC_NAME',\n",
    "            'DEVICE_OPERATOR',\n",
    "            'MODEL_NUMBER',\n",
    "            'DEVICE_REPORT_PRODUCT_CODE',\n",
    "            'DEVICE_AGE_TEXT',\n",
    "            'DEVICE_EVALUATED_BY_MANUFACTUR',\n",
    "            'year',\n",
    "            'STD_MANUFACTURER',\n",
    "            'STD_DEVICE',\n",
    "            'RECALL_CLASS']\n",
    "\n",
    "MASDEV3 = MASDEV3[keptCols]\n",
    "print(\"the shape of MASDEV3 after column removal is: \" + str(MASDEV3.shape))\n",
    "print(MASDEV3.columns)"
   ]
  },
  {
   "cell_type": "code",
   "execution_count": 86,
   "id": "a2690ea3",
   "metadata": {},
   "outputs": [],
   "source": [
    "MASDEV3.to_pickle(\"./4_MASDEV_WithStdLabels.pkl\")"
   ]
  },
  {
   "cell_type": "code",
   "execution_count": null,
   "id": "7fcf16ad",
   "metadata": {},
   "outputs": [],
   "source": []
  }
 ],
 "metadata": {
  "kernelspec": {
   "display_name": "Python 3",
   "language": "python",
   "name": "python3"
  },
  "language_info": {
   "codemirror_mode": {
    "name": "ipython",
    "version": 3
   },
   "file_extension": ".py",
   "mimetype": "text/x-python",
   "name": "python",
   "nbconvert_exporter": "python",
   "pygments_lexer": "ipython3",
   "version": "3.8.8"
  }
 },
 "nbformat": 4,
 "nbformat_minor": 5
}
