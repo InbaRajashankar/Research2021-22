{
 "cells": [
  {
   "cell_type": "code",
   "execution_count": 1,
   "id": "df10f00d",
   "metadata": {},
   "outputs": [],
   "source": [
    "import numpy as np\n",
    "import pandas as pd\n",
    "import numpy as np\n",
    "import pandas as pd\n",
    "import sys\n",
    "import csv\n",
    "import functools\n",
    "from functools import reduce\n",
    "import seaborn as sns\n",
    "import matplotlib.pyplot as plt\n",
    "from datetime import datetime\n",
    "import re\n",
    "import string\n",
    "import statistics\n",
    "\n",
    "import nltk\n",
    "from nltk.corpus import stopwords\n",
    "from nltk.stem.porter import PorterStemmer\n",
    "from sklearn.feature_extraction.text import CountVectorizer\n",
    "from sklearn.model_selection import train_test_split\n",
    "from sklearn.naive_bayes import GaussianNB\n",
    "from sklearn.metrics import confusion_matrix, classification_report\n",
    "from sklearn.tree import DecisionTreeClassifier\n",
    "from sklearn.ensemble import RandomForestClassifier\n",
    "#from sklearn import svm\n",
    "#from sklearn.svm import SVC\n",
    "from sklearn.model_selection import KFold \n",
    "from sklearn.model_selection import cross_val_score\n",
    "from sklearn.metrics import accuracy_score\n",
    "from sklearn.neighbors import KNeighborsClassifier"
   ]
  },
  {
   "cell_type": "code",
   "execution_count": 2,
   "id": "7aec9329",
   "metadata": {},
   "outputs": [
    {
     "name": "stdout",
     "output_type": "stream",
     "text": [
      "(7528, 49)\n",
      "(31622, 49)\n",
      "(25671, 49)\n"
     ]
    }
   ],
   "source": [
    "udf = pd.read_pickle(\"./4_COMB_FILE_UNDERSAMPLING\")\n",
    "print(str(udf.shape))\n",
    "odf = pd.read_pickle(\"./4_COMB_FILE_OVERSAMPLING\")\n",
    "print(str(odf.shape))\n",
    "df = pd.read_pickle(\"./4_COMB_FILE_UNBALANCED.pkl\")\n",
    "print(str(df.shape))"
   ]
  },
  {
   "cell_type": "code",
   "execution_count": 3,
   "id": "5888684e",
   "metadata": {},
   "outputs": [
    {
     "name": "stdout",
     "output_type": "stream",
     "text": [
      "(25671, 6205)\n",
      "(17199, 6205)\n",
      "(8472, 6205)\n",
      "(17199,)\n",
      "(8472,)\n"
     ]
    }
   ],
   "source": [
    "# create bag of words for df\n",
    "cv = CountVectorizer(stop_words='english')\n",
    "data_cv = cv.fit_transform(df.CLEAN_FOI_TEXT)\n",
    "df_dtm = pd.DataFrame(data_cv.toarray(), columns=cv.get_feature_names())\n",
    "df_dtm.index = df.index\n",
    "print(df_dtm.shape)\n",
    "\n",
    "# train-test split for df\n",
    "X_df = df_dtm\n",
    "y_df = df[\"RECALL_CLASS\"]\n",
    "\n",
    "X_df_train, X_df_test, y_df_train, y_df_test = train_test_split(X_df, y_df, test_size = 0.33, random_state = 0)\n",
    "print(X_df_train.shape)\n",
    "print(X_df_test.shape)\n",
    "print(y_df_train.shape)\n",
    "print(y_df_test.shape)"
   ]
  },
  {
   "cell_type": "code",
   "execution_count": 4,
   "id": "0a3aabfb",
   "metadata": {},
   "outputs": [
    {
     "name": "stdout",
     "output_type": "stream",
     "text": [
      "(7528, 3745)\n",
      "(5043, 3745)\n",
      "(2485, 3745)\n",
      "(5043,)\n",
      "(2485,)\n"
     ]
    }
   ],
   "source": [
    "# create bag of words for udf\n",
    "cv_u = CountVectorizer(stop_words='english')\n",
    "data_cv_u = cv_u.fit_transform(udf.CLEAN_FOI_TEXT)\n",
    "udf_dtm = pd.DataFrame(data_cv_u.toarray(), columns=cv_u.get_feature_names())\n",
    "udf_dtm.index = udf.index\n",
    "print(udf_dtm.shape)\n",
    "\n",
    "# train-test split for udf\n",
    "X_u = udf_dtm\n",
    "y_u = udf[\"RECALL_CLASS\"]\n",
    "\n",
    "X_u_train, X_u_test, y_u_train, y_u_test = train_test_split(X_u, y_u, test_size = 0.33, random_state = 0)\n",
    "print(X_u_train.shape)\n",
    "print(X_u_test.shape)\n",
    "print(y_u_train.shape)\n",
    "print(y_u_test.shape)"
   ]
  },
  {
   "cell_type": "code",
   "execution_count": 5,
   "id": "e7b395fa",
   "metadata": {},
   "outputs": [
    {
     "name": "stdout",
     "output_type": "stream",
     "text": [
      "(31622, 6159)\n",
      "(21186, 6159)\n",
      "(10436, 6159)\n",
      "(21186,)\n",
      "(10436,)\n"
     ]
    }
   ],
   "source": [
    "# create bag of words for odf\n",
    "cv_o = CountVectorizer(stop_words='english')\n",
    "data_cv_o = cv_o.fit_transform(odf.CLEAN_FOI_TEXT)\n",
    "odf_dtm = pd.DataFrame(data_cv_o.toarray(), columns=cv_o.get_feature_names())\n",
    "odf_dtm.index = odf.index\n",
    "print(odf_dtm.shape)\n",
    "\n",
    "# train-test split for odf\n",
    "X_o = odf_dtm\n",
    "y_o = odf[\"RECALL_CLASS\"]\n",
    "\n",
    "X_o_train, X_o_test, y_o_train, y_o_test = train_test_split(X_o, y_o, test_size = 0.33, random_state = 0)\n",
    "print(X_o_train.shape)\n",
    "print(X_o_test.shape)\n",
    "print(y_o_train.shape)\n",
    "print(y_o_test.shape)"
   ]
  },
  {
   "cell_type": "code",
   "execution_count": 6,
   "id": "ccb2f3fb",
   "metadata": {},
   "outputs": [],
   "source": [
    "# running naive-bayes classifiers"
   ]
  },
  {
   "cell_type": "code",
   "execution_count": 7,
   "id": "f26c9a70",
   "metadata": {},
   "outputs": [
    {
     "name": "stdout",
     "output_type": "stream",
     "text": [
      "Unbalanced classes\n",
      "[[3080  193]\n",
      " [2880 2319]]\n",
      "\n",
      "\n",
      "              precision    recall  f1-score   support\n",
      "\n",
      "           0       0.52      0.94      0.67      3273\n",
      "           1       0.92      0.45      0.60      5199\n",
      "\n",
      "    accuracy                           0.64      8472\n",
      "   macro avg       0.72      0.69      0.63      8472\n",
      "weighted avg       0.77      0.64      0.63      8472\n",
      "\n"
     ]
    }
   ],
   "source": [
    "# for unbalanced class data\n",
    "classifierdf = GaussianNB()\n",
    "classifierdf.fit(X_df_train, y_df_train)\n",
    "ydfPredNB = classifierdf.predict(X_df_test)\n",
    "print(\"Unbalanced classes\")\n",
    "print(confusion_matrix(y_df_test,ydfPredNB))\n",
    "print('\\n')\n",
    "print(classification_report(y_df_test,ydfPredNB))"
   ]
  },
  {
   "cell_type": "code",
   "execution_count": 8,
   "id": "c4d3159d",
   "metadata": {},
   "outputs": [
    {
     "name": "stdout",
     "output_type": "stream",
     "text": [
      "Undersampled classes\n",
      "[[1158   99]\n",
      " [ 573  655]]\n",
      "\n",
      "\n",
      "              precision    recall  f1-score   support\n",
      "\n",
      "           0       0.67      0.92      0.78      1257\n",
      "           1       0.87      0.53      0.66      1228\n",
      "\n",
      "    accuracy                           0.73      2485\n",
      "   macro avg       0.77      0.73      0.72      2485\n",
      "weighted avg       0.77      0.73      0.72      2485\n",
      "\n"
     ]
    }
   ],
   "source": [
    "# for undersampled class data\n",
    "classifieru = GaussianNB()\n",
    "classifieru.fit(X_u_train, y_u_train)\n",
    "yuPredNB = classifieru.predict(X_u_test)\n",
    "print(\"Undersampled classes\")\n",
    "print(confusion_matrix(y_u_test,yuPredNB))\n",
    "print('\\n')\n",
    "print(classification_report(y_u_test,yuPredNB))"
   ]
  },
  {
   "cell_type": "code",
   "execution_count": 9,
   "id": "93cab033",
   "metadata": {},
   "outputs": [
    {
     "name": "stdout",
     "output_type": "stream",
     "text": [
      "Oversampled (x) classes\n",
      "[[5160  134]\n",
      " [3102 2040]]\n",
      "\n",
      "\n",
      "              precision    recall  f1-score   support\n",
      "\n",
      "           0       0.62      0.97      0.76      5294\n",
      "           1       0.94      0.40      0.56      5142\n",
      "\n",
      "    accuracy                           0.69     10436\n",
      "   macro avg       0.78      0.69      0.66     10436\n",
      "weighted avg       0.78      0.69      0.66     10436\n",
      "\n"
     ]
    }
   ],
   "source": [
    "# for oversampled class data\n",
    "classifier = GaussianNB()\n",
    "classifier.fit(X_o_train, y_o_train)\n",
    "yoPredNB = classifier.predict(X_o_test)\n",
    "print(\"Oversampled (x) classes\")\n",
    "print(confusion_matrix(y_o_test,yoPredNB))\n",
    "print('\\n')\n",
    "print(classification_report(y_o_test,yoPredNB))"
   ]
  },
  {
   "cell_type": "code",
   "execution_count": 10,
   "id": "9d06a844",
   "metadata": {},
   "outputs": [],
   "source": [
    "# running descision tree classifiers"
   ]
  },
  {
   "cell_type": "code",
   "execution_count": 11,
   "id": "1479b6e0",
   "metadata": {},
   "outputs": [
    {
     "name": "stdout",
     "output_type": "stream",
     "text": [
      "Unbalanced classes\n",
      "[[3080  193]\n",
      " [2880 2319]]\n",
      "\n",
      "\n",
      "              precision    recall  f1-score   support\n",
      "\n",
      "           0       0.52      0.94      0.67      3273\n",
      "           1       0.92      0.45      0.60      5199\n",
      "\n",
      "    accuracy                           0.64      8472\n",
      "   macro avg       0.72      0.69      0.63      8472\n",
      "weighted avg       0.77      0.64      0.63      8472\n",
      "\n"
     ]
    }
   ],
   "source": [
    "# for unbalanced class data\n",
    "classifierdf = DecisionTreeClassifier()\n",
    "classifierdf.fit(X_df_train, y_df_train)\n",
    "ydfPredDT = classifierdf.predict(X_df_test)\n",
    "print(\"Unbalanced classes\")\n",
    "print(confusion_matrix(y_df_test,ydfPredNB))\n",
    "print('\\n')\n",
    "print(classification_report(y_df_test,ydfPredNB))"
   ]
  },
  {
   "cell_type": "code",
   "execution_count": 12,
   "id": "029d6e30",
   "metadata": {},
   "outputs": [
    {
     "name": "stdout",
     "output_type": "stream",
     "text": [
      "Undersampled classes\n",
      "[[1158   99]\n",
      " [ 573  655]]\n",
      "\n",
      "\n",
      "              precision    recall  f1-score   support\n",
      "\n",
      "           0       0.67      0.92      0.78      1257\n",
      "           1       0.87      0.53      0.66      1228\n",
      "\n",
      "    accuracy                           0.73      2485\n",
      "   macro avg       0.77      0.73      0.72      2485\n",
      "weighted avg       0.77      0.73      0.72      2485\n",
      "\n"
     ]
    }
   ],
   "source": [
    "# for undersampled class data\n",
    "classifieru = GaussianNB()\n",
    "classifieru.fit(X_u_train, y_u_train)\n",
    "yuPredDT = classifieru.predict(X_u_test)\n",
    "print(\"Undersampled classes\")\n",
    "print(confusion_matrix(y_u_test,yuPredNB))\n",
    "print('\\n')\n",
    "print(classification_report(y_u_test,yuPredNB))"
   ]
  },
  {
   "cell_type": "code",
   "execution_count": 13,
   "id": "7c2de0d0",
   "metadata": {},
   "outputs": [
    {
     "name": "stdout",
     "output_type": "stream",
     "text": [
      "Oversampled (x) classes\n",
      "[[5160  134]\n",
      " [3102 2040]]\n",
      "\n",
      "\n",
      "              precision    recall  f1-score   support\n",
      "\n",
      "           0       0.62      0.97      0.76      5294\n",
      "           1       0.94      0.40      0.56      5142\n",
      "\n",
      "    accuracy                           0.69     10436\n",
      "   macro avg       0.78      0.69      0.66     10436\n",
      "weighted avg       0.78      0.69      0.66     10436\n",
      "\n"
     ]
    }
   ],
   "source": [
    "# for oversampled class data\n",
    "classifier = DecisionTreeClassifier()\n",
    "classifier.fit(X_o_train, y_o_train)\n",
    "yoPredDT = classifier.predict(X_o_test)\n",
    "print(\"Oversampled (x) classes\")\n",
    "print(confusion_matrix(y_o_test,yoPredNB))\n",
    "print('\\n')\n",
    "print(classification_report(y_o_test,yoPredNB))"
   ]
  },
  {
   "cell_type": "code",
   "execution_count": 14,
   "id": "f16d049c",
   "metadata": {},
   "outputs": [],
   "source": [
    "# running KNN classifiers"
   ]
  },
  {
   "cell_type": "code",
   "execution_count": 15,
   "id": "5a3ca31c",
   "metadata": {},
   "outputs": [
    {
     "name": "stdout",
     "output_type": "stream",
     "text": [
      "Unbalanced classes\n",
      "[[3080  193]\n",
      " [2880 2319]]\n",
      "\n",
      "\n",
      "              precision    recall  f1-score   support\n",
      "\n",
      "           0       0.52      0.94      0.67      3273\n",
      "           1       0.92      0.45      0.60      5199\n",
      "\n",
      "    accuracy                           0.64      8472\n",
      "   macro avg       0.72      0.69      0.63      8472\n",
      "weighted avg       0.77      0.64      0.63      8472\n",
      "\n"
     ]
    }
   ],
   "source": [
    "# for unbalanced class data\n",
    "classifierdf = KNeighborsClassifier(n_neighbors=1)\n",
    "classifierdf.fit(X_df_train, y_df_train)\n",
    "ydfPredKNN = classifierdf.predict(X_df_test)\n",
    "print(\"Unbalanced classes\")\n",
    "print(confusion_matrix(y_df_test,ydfPredNB))\n",
    "print('\\n')\n",
    "print(classification_report(y_df_test,ydfPredNB))"
   ]
  },
  {
   "cell_type": "code",
   "execution_count": 16,
   "id": "81a8b887",
   "metadata": {},
   "outputs": [
    {
     "name": "stdout",
     "output_type": "stream",
     "text": [
      "Undersampled classes\n",
      "[[1158   99]\n",
      " [ 573  655]]\n",
      "\n",
      "\n",
      "              precision    recall  f1-score   support\n",
      "\n",
      "           0       0.67      0.92      0.78      1257\n",
      "           1       0.87      0.53      0.66      1228\n",
      "\n",
      "    accuracy                           0.73      2485\n",
      "   macro avg       0.77      0.73      0.72      2485\n",
      "weighted avg       0.77      0.73      0.72      2485\n",
      "\n"
     ]
    }
   ],
   "source": [
    "# for undersampled class data\n",
    "classifieru = KNeighborsClassifier(n_neighbors=1)\n",
    "classifieru.fit(X_u_train, y_u_train)\n",
    "yuPredKNN = classifieru.predict(X_u_test)\n",
    "print(\"Undersampled classes\")\n",
    "print(confusion_matrix(y_u_test,yuPredNB))\n",
    "print('\\n')\n",
    "print(classification_report(y_u_test,yuPredNB))"
   ]
  },
  {
   "cell_type": "code",
   "execution_count": 17,
   "id": "1882c881",
   "metadata": {},
   "outputs": [
    {
     "name": "stdout",
     "output_type": "stream",
     "text": [
      "Oversampled (x) classes\n",
      "[[5160  134]\n",
      " [3102 2040]]\n",
      "\n",
      "\n",
      "              precision    recall  f1-score   support\n",
      "\n",
      "           0       0.62      0.97      0.76      5294\n",
      "           1       0.94      0.40      0.56      5142\n",
      "\n",
      "    accuracy                           0.69     10436\n",
      "   macro avg       0.78      0.69      0.66     10436\n",
      "weighted avg       0.78      0.69      0.66     10436\n",
      "\n"
     ]
    }
   ],
   "source": [
    "# for oversampled class data\n",
    "classifier = KNeighborsClassifier(n_neighbors=1)\n",
    "classifier.fit(X_o_train, y_o_train)\n",
    "yoPredKNN = classifier.predict(X_o_test)\n",
    "print(\"Oversampled (x) classes\")\n",
    "print(confusion_matrix(y_o_test,yoPredNB))\n",
    "print('\\n')\n",
    "print(classification_report(y_o_test,yoPredNB))"
   ]
  },
  {
   "cell_type": "code",
   "execution_count": 18,
   "id": "dfbf22c8",
   "metadata": {},
   "outputs": [],
   "source": [
    "# running random forest classifier"
   ]
  },
  {
   "cell_type": "code",
   "execution_count": 19,
   "id": "79e98ee0",
   "metadata": {},
   "outputs": [
    {
     "name": "stdout",
     "output_type": "stream",
     "text": [
      "Unbalanced classes\n",
      "[[3080  193]\n",
      " [2880 2319]]\n",
      "\n",
      "\n",
      "              precision    recall  f1-score   support\n",
      "\n",
      "           0       0.52      0.94      0.67      3273\n",
      "           1       0.92      0.45      0.60      5199\n",
      "\n",
      "    accuracy                           0.64      8472\n",
      "   macro avg       0.72      0.69      0.63      8472\n",
      "weighted avg       0.77      0.64      0.63      8472\n",
      "\n"
     ]
    }
   ],
   "source": [
    "# for unbalanced class data\n",
    "classifierdf = RandomForestClassifier(n_estimators=100)\n",
    "classifierdf.fit(X_df_train, y_df_train)\n",
    "ydfPredRF = classifierdf.predict(X_df_test)\n",
    "print(\"Unbalanced classes\")\n",
    "print(confusion_matrix(y_df_test,ydfPredNB))\n",
    "print('\\n')\n",
    "print(classification_report(y_df_test,ydfPredNB))"
   ]
  },
  {
   "cell_type": "code",
   "execution_count": 20,
   "id": "324ec22d",
   "metadata": {},
   "outputs": [
    {
     "name": "stdout",
     "output_type": "stream",
     "text": [
      "Undersampled classes\n",
      "[[1158   99]\n",
      " [ 573  655]]\n",
      "\n",
      "\n",
      "              precision    recall  f1-score   support\n",
      "\n",
      "           0       0.67      0.92      0.78      1257\n",
      "           1       0.87      0.53      0.66      1228\n",
      "\n",
      "    accuracy                           0.73      2485\n",
      "   macro avg       0.77      0.73      0.72      2485\n",
      "weighted avg       0.77      0.73      0.72      2485\n",
      "\n"
     ]
    }
   ],
   "source": [
    "# for undersampled class data\n",
    "classifieru = RandomForestClassifier(n_estimators=100)\n",
    "classifieru.fit(X_u_train, y_u_train)\n",
    "yuPredRF = classifieru.predict(X_u_test)\n",
    "print(\"Undersampled classes\")\n",
    "print(confusion_matrix(y_u_test,yuPredNB))\n",
    "print('\\n')\n",
    "print(classification_report(y_u_test,yuPredNB))"
   ]
  },
  {
   "cell_type": "code",
   "execution_count": 21,
   "id": "4cf053dd",
   "metadata": {
    "scrolled": true
   },
   "outputs": [
    {
     "name": "stdout",
     "output_type": "stream",
     "text": [
      "Oversampled (x) classes\n",
      "[[5160  134]\n",
      " [3102 2040]]\n",
      "\n",
      "\n",
      "              precision    recall  f1-score   support\n",
      "\n",
      "           0       0.62      0.97      0.76      5294\n",
      "           1       0.94      0.40      0.56      5142\n",
      "\n",
      "    accuracy                           0.69     10436\n",
      "   macro avg       0.78      0.69      0.66     10436\n",
      "weighted avg       0.78      0.69      0.66     10436\n",
      "\n"
     ]
    }
   ],
   "source": [
    "# for oversampled class data\n",
    "classifier = RandomForestClassifier(n_estimators=100)\n",
    "classifier.fit(X_o_train, y_o_train)\n",
    "yoPredRF = classifier.predict(X_o_test)\n",
    "print(\"Oversampled (x) classes\")\n",
    "print(confusion_matrix(y_o_test,yoPredNB))\n",
    "print('\\n')\n",
    "print(classification_report(y_o_test,yoPredNB))"
   ]
  },
  {
   "cell_type": "code",
   "execution_count": null,
   "id": "5b654d9e",
   "metadata": {},
   "outputs": [],
   "source": []
  }
 ],
 "metadata": {
  "kernelspec": {
   "display_name": "Python 3",
   "language": "python",
   "name": "python3"
  },
  "language_info": {
   "codemirror_mode": {
    "name": "ipython",
    "version": 3
   },
   "file_extension": ".py",
   "mimetype": "text/x-python",
   "name": "python",
   "nbconvert_exporter": "python",
   "pygments_lexer": "ipython3",
   "version": "3.8.8"
  }
 },
 "nbformat": 4,
 "nbformat_minor": 5
}
