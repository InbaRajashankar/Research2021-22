{
 "cells": [
  {
   "cell_type": "code",
   "execution_count": 1,
   "id": "df10f00d",
   "metadata": {},
   "outputs": [],
   "source": [
    "import numpy as np\n",
    "import pandas as pd\n",
    "import numpy as np\n",
    "import pandas as pd\n",
    "import sys\n",
    "import csv\n",
    "import functools\n",
    "from functools import reduce\n",
    "import seaborn as sns\n",
    "import matplotlib.pyplot as plt\n",
    "from datetime import datetime\n",
    "import re\n",
    "import string\n",
    "import statistics\n",
    "\n",
    "import nltk\n",
    "from nltk.corpus import stopwords\n",
    "from nltk.stem.porter import PorterStemmer\n",
    "from sklearn.feature_extraction.text import CountVectorizer\n",
    "from sklearn.model_selection import train_test_split\n",
    "from sklearn.metrics import confusion_matrix, classification_report\n",
    "#from sklearn import svm\n",
    "#from sklearn.svm import SVC\n",
    "from sklearn.model_selection import KFold \n",
    "from sklearn.model_selection import cross_val_score\n",
    "from sklearn.metrics import accuracy_score"
   ]
  },
  {
   "cell_type": "code",
   "execution_count": 2,
   "id": "7aec9329",
   "metadata": {},
   "outputs": [
    {
     "name": "stdout",
     "output_type": "stream",
     "text": [
      "(55160, 41)\n",
      "(97866, 41)\n",
      "(76513, 41)\n"
     ]
    }
   ],
   "source": [
    "udf = pd.read_pickle(\"./4_COMB_FILE_UNDERSAMPLING_S1.pkl\")\n",
    "print(str(udf.shape))\n",
    "odf = pd.read_pickle(\"./4_COMB_FILE_OVERSAMPLING_S1.pkl\")\n",
    "print(str(odf.shape))\n",
    "df = pd.read_pickle(\"./4_COMB_FILE_UNBALANCED_S1.pkl\")\n",
    "print(str(df.shape))"
   ]
  },
  {
   "cell_type": "code",
   "execution_count": 3,
   "id": "5888684e",
   "metadata": {},
   "outputs": [
    {
     "name": "stdout",
     "output_type": "stream",
     "text": [
      "(76513, 8789)\n",
      "(51263, 8789)\n",
      "(25250, 8789)\n",
      "(51263,)\n",
      "(25250,)\n"
     ]
    }
   ],
   "source": [
    "# create bag of words for df\n",
    "cv = CountVectorizer(stop_words='english')\n",
    "data_cv = cv.fit_transform(df.CLEAN_FOI_TEXT)\n",
    "df_dtm = pd.DataFrame(data_cv.toarray(), columns=cv.get_feature_names())\n",
    "df_dtm.index = df.index\n",
    "print(df_dtm.shape)\n",
    "\n",
    "# train-test split for df\n",
    "X_df = df_dtm\n",
    "y_df = df[\"RECALL_CLASS\"]\n",
    "\n",
    "X_df_train, X_df_test, y_df_train, y_df_test = train_test_split(X_df, y_df, test_size = 0.33, random_state = 0)\n",
    "print(X_df_train.shape)\n",
    "print(X_df_test.shape)\n",
    "print(y_df_train.shape)\n",
    "print(y_df_test.shape)"
   ]
  },
  {
   "cell_type": "code",
   "execution_count": 4,
   "id": "0a3aabfb",
   "metadata": {},
   "outputs": [
    {
     "name": "stdout",
     "output_type": "stream",
     "text": [
      "(55160, 7897)\n",
      "(36957, 7897)\n",
      "(18203, 7897)\n",
      "(36957,)\n",
      "(18203,)\n"
     ]
    }
   ],
   "source": [
    "# create bag of words for udf\n",
    "cv_u = CountVectorizer(stop_words='english')\n",
    "data_cv_u = cv_u.fit_transform(udf.CLEAN_FOI_TEXT)\n",
    "udf_dtm = pd.DataFrame(data_cv_u.toarray(), columns=cv_u.get_feature_names())\n",
    "udf_dtm.index = udf.index\n",
    "print(udf_dtm.shape)\n",
    "\n",
    "# train-test split for udf\n",
    "X_u = udf_dtm\n",
    "y_u = udf[\"RECALL_CLASS\"]\n",
    "\n",
    "X_u_train, X_u_test, y_u_train, y_u_test = train_test_split(X_u, y_u, test_size = 0.33, random_state = 0)\n",
    "print(X_u_train.shape)\n",
    "print(X_u_test.shape)\n",
    "print(y_u_train.shape)\n",
    "print(y_u_test.shape)"
   ]
  },
  {
   "cell_type": "code",
   "execution_count": 5,
   "id": "e7b395fa",
   "metadata": {
    "scrolled": true
   },
   "outputs": [
    {
     "name": "stdout",
     "output_type": "stream",
     "text": [
      "(97866, 8762)\n",
      "(65570, 8762)\n",
      "(32296, 8762)\n",
      "(65570,)\n",
      "(32296,)\n"
     ]
    }
   ],
   "source": [
    "# create bag of words for odf\n",
    "cv_o = CountVectorizer(stop_words='english')\n",
    "data_cv_o = cv_o.fit_transform(odf.CLEAN_FOI_TEXT)\n",
    "odf_dtm = pd.DataFrame(data_cv_o.toarray(), columns=cv_o.get_feature_names())\n",
    "odf_dtm.index = odf.index\n",
    "print(odf_dtm.shape)\n",
    "\n",
    "# train-test split for odf\n",
    "X_o = odf_dtm\n",
    "y_o = odf[\"RECALL_CLASS\"]\n",
    "\n",
    "X_o_train, X_o_test, y_o_train, y_o_test = train_test_split(X_o, y_o, test_size = 0.33, random_state = 0)\n",
    "print(X_o_train.shape)\n",
    "print(X_o_test.shape)\n",
    "print(y_o_train.shape)\n",
    "print(y_o_test.shape)"
   ]
  },
  {
   "cell_type": "code",
   "execution_count": 23,
   "id": "91f8140c",
   "metadata": {},
   "outputs": [
    {
     "name": "stdout",
     "output_type": "stream",
     "text": [
      "(4198, 41)\n",
      "(4666, 41)\n",
      "(4432, 41)\n"
     ]
    }
   ],
   "source": [
    "udf2 = pd.read_pickle(\"./4_COMB_FILE_UNDERSAMPLING_S2.pkl\")\n",
    "print(str(udf2.shape))\n",
    "odf2 = pd.read_pickle(\"./4_COMB_FILE_OVERSAMPLING_S2.pkl\")\n",
    "print(str(odf2.shape))\n",
    "df2 = pd.read_pickle(\"./4_COMB_FILE_UNBALANCED_S2.pkl\")\n",
    "print(str(df2.shape))"
   ]
  },
  {
   "cell_type": "code",
   "execution_count": 25,
   "id": "93bdc3c6",
   "metadata": {},
   "outputs": [
    {
     "name": "stdout",
     "output_type": "stream",
     "text": [
      "(4666, 8762)\n",
      "(3126, 8762)\n",
      "(1540, 8762)\n",
      "(3126,)\n",
      "(1540,)\n"
     ]
    }
   ],
   "source": [
    "# create bag of words for odf2\n",
    "cv_o2 = CountVectorizer(stop_words='english')\n",
    "data_cv_o2 = cv_o.transform(odf2.CLEAN_FOI_TEXT)\n",
    "odf_dtm2 = pd.DataFrame(data_cv_o2.toarray(), columns=cv_o.get_feature_names())\n",
    "odf_dtm2.index = odf2.index\n",
    "print(odf_dtm2.shape)\n",
    "\n",
    "# train-test split for odf2\n",
    "X_o2 = odf_dtm2\n",
    "y_o2 = odf2[\"RECALL_CLASS\"]\n",
    "\n",
    "X_o2_train, X_o2_test, y_o2_train, y_o2_test = train_test_split(X_o2, y_o2, test_size = 0.33, random_state = 0)\n",
    "print(X_o2_train.shape)\n",
    "print(X_o2_test.shape)\n",
    "print(y_o2_train.shape)\n",
    "print(y_o2_test.shape)"
   ]
  },
  {
   "cell_type": "code",
   "execution_count": 8,
   "id": "af99a77e",
   "metadata": {},
   "outputs": [],
   "source": [
    "# running classifier models"
   ]
  },
  {
   "cell_type": "code",
   "execution_count": 6,
   "id": "ccb2f3fb",
   "metadata": {},
   "outputs": [],
   "source": [
    "# running naive-bayes classifiers\n",
    "from sklearn.naive_bayes import GaussianNB"
   ]
  },
  {
   "cell_type": "code",
   "execution_count": 7,
   "id": "f26c9a70",
   "metadata": {},
   "outputs": [
    {
     "name": "stdout",
     "output_type": "stream",
     "text": [
      "Unbalanced classes\n",
      "[[3211  164]\n",
      " [3893 2094]]\n",
      "\n",
      "\n",
      "              precision    recall  f1-score   support\n",
      "\n",
      "           0       0.45      0.95      0.61      3375\n",
      "           1       0.93      0.35      0.51      5987\n",
      "\n",
      "    accuracy                           0.57      9362\n",
      "   macro avg       0.69      0.65      0.56      9362\n",
      "weighted avg       0.76      0.57      0.55      9362\n",
      "\n"
     ]
    }
   ],
   "source": [
    "# for unbalanced class data\n",
    "classifierdf = GaussianNB()\n",
    "classifierdf.fit(X_df_train, y_df_train)\n",
    "ydfPredNB = classifierdf.predict(X_df_test)\n",
    "print(\"Unbalanced classes\")\n",
    "print(confusion_matrix(y_df_test,ydfPredNB))\n",
    "print('\\n')\n",
    "print(classification_report(y_df_test,ydfPredNB))"
   ]
  },
  {
   "cell_type": "code",
   "execution_count": 8,
   "id": "c4d3159d",
   "metadata": {},
   "outputs": [
    {
     "name": "stdout",
     "output_type": "stream",
     "text": [
      "Undersampled classes\n",
      "[[1806 1557]\n",
      " [ 169 3165]]\n",
      "\n",
      "\n",
      "              precision    recall  f1-score   support\n",
      "\n",
      "           0       0.91      0.54      0.68      3363\n",
      "           1       0.67      0.95      0.79      3334\n",
      "\n",
      "    accuracy                           0.74      6697\n",
      "   macro avg       0.79      0.74      0.73      6697\n",
      "weighted avg       0.79      0.74      0.73      6697\n",
      "\n"
     ]
    }
   ],
   "source": [
    "# for undersampled class data\n",
    "classifieru = GaussianNB()\n",
    "classifieru.fit(X_u_train, y_u_train)\n",
    "yuPredNB = classifieru.predict(X_u_test)\n",
    "print(\"Undersampled classes\")\n",
    "print(confusion_matrix(y_u_test,yuPredNB))\n",
    "print('\\n')\n",
    "print(classification_report(y_u_test,yuPredNB))"
   ]
  },
  {
   "cell_type": "code",
   "execution_count": 9,
   "id": "93cab033",
   "metadata": {},
   "outputs": [
    {
     "name": "stdout",
     "output_type": "stream",
     "text": [
      "Oversampled (x) classes\n",
      "[[5867  181]\n",
      " [3668 2311]]\n",
      "\n",
      "\n",
      "              precision    recall  f1-score   support\n",
      "\n",
      "           0       0.62      0.97      0.75      6048\n",
      "           1       0.93      0.39      0.55      5979\n",
      "\n",
      "    accuracy                           0.68     12027\n",
      "   macro avg       0.77      0.68      0.65     12027\n",
      "weighted avg       0.77      0.68      0.65     12027\n",
      "\n"
     ]
    }
   ],
   "source": [
    "# for oversampled class data\n",
    "classifier = GaussianNB()\n",
    "classifier.fit(X_o_train, y_o_train)\n",
    "yoPredNB = classifier.predict(X_o_test)\n",
    "print(\"Oversampled (x) classes\")\n",
    "print(confusion_matrix(y_o_test,yoPredNB))\n",
    "print('\\n')\n",
    "print(classification_report(y_o_test,yoPredNB))"
   ]
  },
  {
   "cell_type": "code",
   "execution_count": 10,
   "id": "9d06a844",
   "metadata": {},
   "outputs": [],
   "source": [
    "# running descision tree classifiers\n",
    "from sklearn.tree import DecisionTreeClassifier"
   ]
  },
  {
   "cell_type": "code",
   "execution_count": 11,
   "id": "1479b6e0",
   "metadata": {},
   "outputs": [
    {
     "name": "stdout",
     "output_type": "stream",
     "text": [
      "Unbalanced classes\n",
      "[[3274  101]\n",
      " [ 115 5872]]\n",
      "\n",
      "\n",
      "              precision    recall  f1-score   support\n",
      "\n",
      "           0       0.97      0.97      0.97      3375\n",
      "           1       0.98      0.98      0.98      5987\n",
      "\n",
      "    accuracy                           0.98      9362\n",
      "   macro avg       0.97      0.98      0.98      9362\n",
      "weighted avg       0.98      0.98      0.98      9362\n",
      "\n"
     ]
    }
   ],
   "source": [
    "# for unbalanced class data\n",
    "classifierdf = DecisionTreeClassifier()\n",
    "classifierdf.fit(X_df_train, y_df_train)\n",
    "ydfPredDT = classifierdf.predict(X_df_test)\n",
    "print(\"Unbalanced classes\")\n",
    "print(confusion_matrix(y_df_test,ydfPredDT))\n",
    "print('\\n')\n",
    "print(classification_report(y_df_test,ydfPredDT))"
   ]
  },
  {
   "cell_type": "code",
   "execution_count": 16,
   "id": "029d6e30",
   "metadata": {},
   "outputs": [
    {
     "ename": "NameError",
     "evalue": "name 'DecisionTreeClassifier' is not defined",
     "output_type": "error",
     "traceback": [
      "\u001b[0;31m---------------------------------------------------------------------------\u001b[0m",
      "\u001b[0;31mNameError\u001b[0m                                 Traceback (most recent call last)",
      "\u001b[0;32m<ipython-input-16-d5f3533288fc>\u001b[0m in \u001b[0;36m<module>\u001b[0;34m\u001b[0m\n\u001b[1;32m      1\u001b[0m \u001b[0;31m# for undersampled class data\u001b[0m\u001b[0;34m\u001b[0m\u001b[0;34m\u001b[0m\u001b[0;34m\u001b[0m\u001b[0m\n\u001b[0;32m----> 2\u001b[0;31m \u001b[0mclassifieru\u001b[0m \u001b[0;34m=\u001b[0m \u001b[0mDecisionTreeClassifier\u001b[0m\u001b[0;34m(\u001b[0m\u001b[0;34m)\u001b[0m\u001b[0;34m\u001b[0m\u001b[0;34m\u001b[0m\u001b[0m\n\u001b[0m\u001b[1;32m      3\u001b[0m \u001b[0mclassifieru\u001b[0m\u001b[0;34m.\u001b[0m\u001b[0mfit\u001b[0m\u001b[0;34m(\u001b[0m\u001b[0mX_u_train\u001b[0m\u001b[0;34m,\u001b[0m \u001b[0my_u_train\u001b[0m\u001b[0;34m)\u001b[0m\u001b[0;34m\u001b[0m\u001b[0;34m\u001b[0m\u001b[0m\n\u001b[1;32m      4\u001b[0m \u001b[0myuPredDT\u001b[0m \u001b[0;34m=\u001b[0m \u001b[0mclassifieru\u001b[0m\u001b[0;34m.\u001b[0m\u001b[0mpredict\u001b[0m\u001b[0;34m(\u001b[0m\u001b[0mX_u_test\u001b[0m\u001b[0;34m)\u001b[0m\u001b[0;34m\u001b[0m\u001b[0;34m\u001b[0m\u001b[0m\n\u001b[1;32m      5\u001b[0m \u001b[0mprint\u001b[0m\u001b[0;34m(\u001b[0m\u001b[0;34m\"Undersampled classes\"\u001b[0m\u001b[0;34m)\u001b[0m\u001b[0;34m\u001b[0m\u001b[0;34m\u001b[0m\u001b[0m\n",
      "\u001b[0;31mNameError\u001b[0m: name 'DecisionTreeClassifier' is not defined"
     ]
    }
   ],
   "source": [
    "# for undersampled class data\n",
    "classifieru = DecisionTreeClassifier()\n",
    "classifieru.fit(X_u_train, y_u_train)\n",
    "yuPredDT = classifieru.predict(X_u_test)\n",
    "print(\"Undersampled classes\")\n",
    "print(confusion_matrix(y_u_test,yuPredDT))\n",
    "print('\\n')\n",
    "print(classification_report(y_u_test,yuPredDT))"
   ]
  },
  {
   "cell_type": "code",
   "execution_count": 13,
   "id": "7c2de0d0",
   "metadata": {},
   "outputs": [
    {
     "name": "stdout",
     "output_type": "stream",
     "text": [
      "Oversampled (x) classes\n",
      "[[5984   64]\n",
      " [ 116 5863]]\n",
      "\n",
      "\n",
      "              precision    recall  f1-score   support\n",
      "\n",
      "           0       0.98      0.99      0.99      6048\n",
      "           1       0.99      0.98      0.98      5979\n",
      "\n",
      "    accuracy                           0.99     12027\n",
      "   macro avg       0.99      0.99      0.99     12027\n",
      "weighted avg       0.99      0.99      0.99     12027\n",
      "\n"
     ]
    }
   ],
   "source": [
    "# for oversampled class data\n",
    "classifier = DecisionTreeClassifier()\n",
    "classifier.fit(X_o_train, y_o_train)\n",
    "yoPredDT = classifier.predict(X_o_test)\n",
    "print(\"Oversampled (x) classes\")\n",
    "print(confusion_matrix(y_o_test,yoPredDT))\n",
    "print('\\n')\n",
    "print(classification_report(y_o_test,yoPredDT))"
   ]
  },
  {
   "cell_type": "code",
   "execution_count": 14,
   "id": "f16d049c",
   "metadata": {},
   "outputs": [],
   "source": [
    "# running KNN classifiers\n",
    "from sklearn.neighbors import KNeighborsClassifier"
   ]
  },
  {
   "cell_type": "code",
   "execution_count": 15,
   "id": "5a3ca31c",
   "metadata": {},
   "outputs": [
    {
     "name": "stdout",
     "output_type": "stream",
     "text": [
      "Unbalanced classes\n",
      "[[3295   80]\n",
      " [ 103 5884]]\n",
      "\n",
      "\n",
      "              precision    recall  f1-score   support\n",
      "\n",
      "           0       0.97      0.98      0.97      3375\n",
      "           1       0.99      0.98      0.98      5987\n",
      "\n",
      "    accuracy                           0.98      9362\n",
      "   macro avg       0.98      0.98      0.98      9362\n",
      "weighted avg       0.98      0.98      0.98      9362\n",
      "\n"
     ]
    }
   ],
   "source": [
    "# for unbalanced class data\n",
    "classifierdf = KNeighborsClassifier(n_neighbors=1)\n",
    "classifierdf.fit(X_df_train, y_df_train)\n",
    "ydfPredKNN = classifierdf.predict(X_df_test)\n",
    "print(\"Unbalanced classes\")\n",
    "print(confusion_matrix(y_df_test,ydfPredKNN))\n",
    "print('\\n')\n",
    "print(classification_report(y_df_test,ydfPredKNN))"
   ]
  },
  {
   "cell_type": "code",
   "execution_count": 16,
   "id": "81a8b887",
   "metadata": {},
   "outputs": [
    {
     "name": "stdout",
     "output_type": "stream",
     "text": [
      "Undersampled classes\n",
      "[[3278   85]\n",
      " [  87 3247]]\n",
      "\n",
      "\n",
      "              precision    recall  f1-score   support\n",
      "\n",
      "           0       0.97      0.97      0.97      3363\n",
      "           1       0.97      0.97      0.97      3334\n",
      "\n",
      "    accuracy                           0.97      6697\n",
      "   macro avg       0.97      0.97      0.97      6697\n",
      "weighted avg       0.97      0.97      0.97      6697\n",
      "\n"
     ]
    }
   ],
   "source": [
    "# for undersampled class data\n",
    "classifieru = KNeighborsClassifier(n_neighbors=1)\n",
    "classifieru.fit(X_u_train, y_u_train)\n",
    "yuPredKNN = classifieru.predict(X_u_test)\n",
    "print(\"Undersampled classes\")\n",
    "print(confusion_matrix(y_u_test,yuPredKNN))\n",
    "print('\\n')\n",
    "print(classification_report(y_u_test,yuPredKNN))"
   ]
  },
  {
   "cell_type": "code",
   "execution_count": 17,
   "id": "1882c881",
   "metadata": {},
   "outputs": [
    {
     "name": "stdout",
     "output_type": "stream",
     "text": [
      "Oversampled (x) classes\n",
      "[[5989   59]\n",
      " [  85 5894]]\n",
      "\n",
      "\n",
      "              precision    recall  f1-score   support\n",
      "\n",
      "           0       0.99      0.99      0.99      6048\n",
      "           1       0.99      0.99      0.99      5979\n",
      "\n",
      "    accuracy                           0.99     12027\n",
      "   macro avg       0.99      0.99      0.99     12027\n",
      "weighted avg       0.99      0.99      0.99     12027\n",
      "\n"
     ]
    }
   ],
   "source": [
    "# for oversampled class data\n",
    "classifier = KNeighborsClassifier(n_neighbors=1)\n",
    "classifier.fit(X_o_train, y_o_train)\n",
    "yoPredKNN = classifier.predict(X_o_test)\n",
    "print(\"Oversampled (x) classes\")\n",
    "print(confusion_matrix(y_o_test,yoPredKNN))\n",
    "print('\\n')\n",
    "print(classification_report(y_o_test,yoPredKNN))"
   ]
  },
  {
   "cell_type": "code",
   "execution_count": 9,
   "id": "dfbf22c8",
   "metadata": {},
   "outputs": [],
   "source": [
    "# running random forest classifier\n",
    "from sklearn.ensemble import RandomForestClassifier"
   ]
  },
  {
   "cell_type": "code",
   "execution_count": 10,
   "id": "79e98ee0",
   "metadata": {},
   "outputs": [
    {
     "name": "stdout",
     "output_type": "stream",
     "text": [
      "Unbalanced classes\n",
      "[[15221   918]\n",
      " [ 1893  7218]]\n",
      "\n",
      "\n",
      "              precision    recall  f1-score   support\n",
      "\n",
      "           0       0.89      0.94      0.92     16139\n",
      "           1       0.89      0.79      0.84      9111\n",
      "\n",
      "    accuracy                           0.89     25250\n",
      "   macro avg       0.89      0.87      0.88     25250\n",
      "weighted avg       0.89      0.89      0.89     25250\n",
      "\n"
     ]
    }
   ],
   "source": [
    "# for unbalanced class data\n",
    "classifierdf = RandomForestClassifier(n_estimators=100)\n",
    "classifierdf.fit(X_df_train, y_df_train)\n",
    "ydfPredRF = classifierdf.predict(X_df_test)\n",
    "print(\"Unbalanced classes\")\n",
    "print(confusion_matrix(y_df_test,ydfPredRF))\n",
    "print('\\n')\n",
    "print(classification_report(y_df_test,ydfPredRF))"
   ]
  },
  {
   "cell_type": "code",
   "execution_count": 11,
   "id": "324ec22d",
   "metadata": {},
   "outputs": [
    {
     "name": "stdout",
     "output_type": "stream",
     "text": [
      "Undersampled classes\n",
      "[[8090 1019]\n",
      " [1091 8003]]\n",
      "\n",
      "\n",
      "              precision    recall  f1-score   support\n",
      "\n",
      "           0       0.88      0.89      0.88      9109\n",
      "           1       0.89      0.88      0.88      9094\n",
      "\n",
      "    accuracy                           0.88     18203\n",
      "   macro avg       0.88      0.88      0.88     18203\n",
      "weighted avg       0.88      0.88      0.88     18203\n",
      "\n"
     ]
    }
   ],
   "source": [
    "# for undersampled class data\n",
    "classifieru = RandomForestClassifier(n_estimators=100)\n",
    "classifieru.fit(X_u_train, y_u_train)\n",
    "yuPredRF = classifieru.predict(X_u_test)\n",
    "print(\"Undersampled classes\")\n",
    "print(confusion_matrix(y_u_test,yuPredRF))\n",
    "print('\\n')\n",
    "print(classification_report(y_u_test,yuPredRF))"
   ]
  },
  {
   "cell_type": "code",
   "execution_count": 12,
   "id": "4cf053dd",
   "metadata": {
    "scrolled": true
   },
   "outputs": [
    {
     "name": "stdout",
     "output_type": "stream",
     "text": [
      "Oversampled (x) classes\n",
      "[[14664  1470]\n",
      " [ 1152 15010]]\n",
      "\n",
      "\n",
      "              precision    recall  f1-score   support\n",
      "\n",
      "           0       0.93      0.91      0.92     16134\n",
      "           1       0.91      0.93      0.92     16162\n",
      "\n",
      "    accuracy                           0.92     32296\n",
      "   macro avg       0.92      0.92      0.92     32296\n",
      "weighted avg       0.92      0.92      0.92     32296\n",
      "\n"
     ]
    }
   ],
   "source": [
    "# for oversampled class data\n",
    "classifier = RandomForestClassifier(n_estimators=100)\n",
    "classifier.fit(X_o_train, y_o_train)\n",
    "yoPredRF = classifier.predict(X_o_test)\n",
    "print(\"Oversampled (x) classes\")\n",
    "print(confusion_matrix(y_o_test,yoPredRF))\n",
    "print('\\n')\n",
    "print(classification_report(y_o_test,yoPredRF))"
   ]
  },
  {
   "cell_type": "code",
   "execution_count": 22,
   "id": "5b654d9e",
   "metadata": {},
   "outputs": [],
   "source": [
    "# running stochastic gradient gescent classifier\n",
    "from sklearn.linear_model import SGDClassifier"
   ]
  },
  {
   "cell_type": "code",
   "execution_count": 23,
   "id": "adc8e81b",
   "metadata": {},
   "outputs": [
    {
     "name": "stdout",
     "output_type": "stream",
     "text": [
      "Unbalanced classes\n",
      "[[3269  106]\n",
      " [  79 5908]]\n",
      "\n",
      "\n",
      "              precision    recall  f1-score   support\n",
      "\n",
      "           0       0.98      0.97      0.97      3375\n",
      "           1       0.98      0.99      0.98      5987\n",
      "\n",
      "    accuracy                           0.98      9362\n",
      "   macro avg       0.98      0.98      0.98      9362\n",
      "weighted avg       0.98      0.98      0.98      9362\n",
      "\n"
     ]
    }
   ],
   "source": [
    "# for unbalanced class data\n",
    "classifierdf = SGDClassifier()\n",
    "classifierdf.fit(X_df_train, y_df_train)\n",
    "ydfPredSGDC = classifierdf.predict(X_df_test)\n",
    "print(\"Unbalanced classes\")\n",
    "print(confusion_matrix(y_df_test,ydfPredSGDC))\n",
    "print('\\n')\n",
    "print(classification_report(y_df_test,ydfPredSGDC))"
   ]
  },
  {
   "cell_type": "code",
   "execution_count": 24,
   "id": "70e60df1",
   "metadata": {},
   "outputs": [
    {
     "name": "stdout",
     "output_type": "stream",
     "text": [
      "Undersampled classes\n",
      "[[3257  106]\n",
      " [  56 3278]]\n",
      "\n",
      "\n",
      "              precision    recall  f1-score   support\n",
      "\n",
      "           0       0.98      0.97      0.98      3363\n",
      "           1       0.97      0.98      0.98      3334\n",
      "\n",
      "    accuracy                           0.98      6697\n",
      "   macro avg       0.98      0.98      0.98      6697\n",
      "weighted avg       0.98      0.98      0.98      6697\n",
      "\n"
     ]
    }
   ],
   "source": [
    "# for undersampled class data\n",
    "classifieru = SGDClassifier()\n",
    "classifieru.fit(X_u_train, y_u_train)\n",
    "yuPredSGDC = classifieru.predict(X_u_test)\n",
    "print(\"Undersampled classes\")\n",
    "print(confusion_matrix(y_u_test,yuPredSGDC))\n",
    "print('\\n')\n",
    "print(classification_report(y_u_test,yuPredSGDC))"
   ]
  },
  {
   "cell_type": "code",
   "execution_count": 25,
   "id": "10ee4427",
   "metadata": {},
   "outputs": [
    {
     "name": "stdout",
     "output_type": "stream",
     "text": [
      "Oversampled (x) classes\n",
      "[[5916  132]\n",
      " [  77 5902]]\n",
      "\n",
      "\n",
      "              precision    recall  f1-score   support\n",
      "\n",
      "           0       0.99      0.98      0.98      6048\n",
      "           1       0.98      0.99      0.98      5979\n",
      "\n",
      "    accuracy                           0.98     12027\n",
      "   macro avg       0.98      0.98      0.98     12027\n",
      "weighted avg       0.98      0.98      0.98     12027\n",
      "\n"
     ]
    }
   ],
   "source": [
    "# for oversampled class data\n",
    "classifier = SGDClassifier()\n",
    "classifier.fit(X_o_train, y_o_train)\n",
    "yoPredSGDC = classifier.predict(X_o_test)\n",
    "print(\"Oversampled (x) classes\")\n",
    "print(confusion_matrix(y_o_test,yoPredSGDC))\n",
    "print('\\n')\n",
    "print(classification_report(y_o_test,yoPredSGDC))"
   ]
  },
  {
   "cell_type": "code",
   "execution_count": 26,
   "id": "5035f1e1",
   "metadata": {},
   "outputs": [],
   "source": [
    "# running gradient boosting classifier\n",
    "from sklearn.ensemble import GradientBoostingClassifier"
   ]
  },
  {
   "cell_type": "code",
   "execution_count": 27,
   "id": "ac8cdf98",
   "metadata": {},
   "outputs": [
    {
     "name": "stdout",
     "output_type": "stream",
     "text": [
      "Unbalanced classes\n",
      "[[3182  193]\n",
      " [  19 5968]]\n",
      "\n",
      "\n",
      "              precision    recall  f1-score   support\n",
      "\n",
      "           0       0.99      0.94      0.97      3375\n",
      "           1       0.97      1.00      0.98      5987\n",
      "\n",
      "    accuracy                           0.98      9362\n",
      "   macro avg       0.98      0.97      0.98      9362\n",
      "weighted avg       0.98      0.98      0.98      9362\n",
      "\n"
     ]
    }
   ],
   "source": [
    "# for unbalanced class data\n",
    "classifierdf = GradientBoostingClassifier()\n",
    "classifierdf.fit(X_df_train, y_df_train)\n",
    "ydfPredGBC = classifierdf.predict(X_df_test)\n",
    "print(\"Unbalanced classes\")\n",
    "print(confusion_matrix(y_df_test,ydfPredGBC))\n",
    "print('\\n')\n",
    "print(classification_report(y_df_test,ydfPredGBC))"
   ]
  },
  {
   "cell_type": "code",
   "execution_count": 28,
   "id": "9ed22562",
   "metadata": {},
   "outputs": [
    {
     "name": "stdout",
     "output_type": "stream",
     "text": [
      "Undersampled classes\n",
      "[[3198  165]\n",
      " [  13 3321]]\n",
      "\n",
      "\n",
      "              precision    recall  f1-score   support\n",
      "\n",
      "           0       1.00      0.95      0.97      3363\n",
      "           1       0.95      1.00      0.97      3334\n",
      "\n",
      "    accuracy                           0.97      6697\n",
      "   macro avg       0.97      0.97      0.97      6697\n",
      "weighted avg       0.97      0.97      0.97      6697\n",
      "\n"
     ]
    }
   ],
   "source": [
    "# for undersampled class data\n",
    "classifieru = GradientBoostingClassifier()\n",
    "classifieru.fit(X_u_train, y_u_train)\n",
    "yuPredGBC = classifieru.predict(X_u_test)\n",
    "print(\"Undersampled classes\")\n",
    "print(confusion_matrix(y_u_test,yuPredGBC))\n",
    "print('\\n')\n",
    "print(classification_report(y_u_test,yuPredGBC))"
   ]
  },
  {
   "cell_type": "code",
   "execution_count": 29,
   "id": "6497a4d8",
   "metadata": {},
   "outputs": [
    {
     "name": "stdout",
     "output_type": "stream",
     "text": [
      "Oversampled (x) classes\n",
      "[[5770  278]\n",
      " [  26 5953]]\n",
      "\n",
      "\n",
      "              precision    recall  f1-score   support\n",
      "\n",
      "           0       1.00      0.95      0.97      6048\n",
      "           1       0.96      1.00      0.98      5979\n",
      "\n",
      "    accuracy                           0.97     12027\n",
      "   macro avg       0.98      0.97      0.97     12027\n",
      "weighted avg       0.98      0.97      0.97     12027\n",
      "\n"
     ]
    }
   ],
   "source": [
    "# for oversampled class data\n",
    "classifier = GradientBoostingClassifier()\n",
    "classifier.fit(X_o_train, y_o_train)\n",
    "yoPredGBC = classifier.predict(X_o_test)\n",
    "print(\"Oversampled (x) classes\")\n",
    "print(confusion_matrix(y_o_test,yoPredGBC))\n",
    "print('\\n')\n",
    "print(classification_report(y_o_test,yoPredGBC))"
   ]
  },
  {
   "cell_type": "code",
   "execution_count": 28,
   "id": "ddad36dc",
   "metadata": {},
   "outputs": [],
   "source": [
    "# exporting data"
   ]
  },
  {
   "cell_type": "code",
   "execution_count": 29,
   "id": "11d160e8",
   "metadata": {},
   "outputs": [
    {
     "data": {
      "text/plain": [
       "array(['0', '0', '0', ..., '0', '1', '1'], dtype=object)"
      ]
     },
     "execution_count": 29,
     "metadata": {},
     "output_type": "execute_result"
    }
   ],
   "source": [
    "yoPredRF"
   ]
  },
  {
   "cell_type": "code",
   "execution_count": 30,
   "id": "ce4a3985",
   "metadata": {},
   "outputs": [
    {
     "data": {
      "text/plain": [
       "74563    0\n",
       "75060    0\n",
       "84032    0\n",
       "54059    0\n",
       "42940    0\n",
       "        ..\n",
       "83404    0\n",
       "11661    0\n",
       "72326    0\n",
       "45077    1\n",
       "43015    1\n",
       "Name: RECALL_CLASS, Length: 32296, dtype: object"
      ]
     },
     "execution_count": 30,
     "metadata": {},
     "output_type": "execute_result"
    }
   ],
   "source": [
    "y_o_test"
   ]
  },
  {
   "cell_type": "code",
   "execution_count": 31,
   "id": "1506f02b",
   "metadata": {},
   "outputs": [
    {
     "data": {
      "text/html": [
       "<div>\n",
       "<style scoped>\n",
       "    .dataframe tbody tr th:only-of-type {\n",
       "        vertical-align: middle;\n",
       "    }\n",
       "\n",
       "    .dataframe tbody tr th {\n",
       "        vertical-align: top;\n",
       "    }\n",
       "\n",
       "    .dataframe thead th {\n",
       "        text-align: right;\n",
       "    }\n",
       "</style>\n",
       "<table border=\"1\" class=\"dataframe\">\n",
       "  <thead>\n",
       "    <tr style=\"text-align: right;\">\n",
       "      <th></th>\n",
       "      <th>ACTUAL</th>\n",
       "      <th>PREDICTED</th>\n",
       "      <th>INDEX</th>\n",
       "    </tr>\n",
       "  </thead>\n",
       "  <tbody>\n",
       "    <tr>\n",
       "      <th>74563</th>\n",
       "      <td>0</td>\n",
       "      <td>0</td>\n",
       "      <td>74563</td>\n",
       "    </tr>\n",
       "    <tr>\n",
       "      <th>75060</th>\n",
       "      <td>0</td>\n",
       "      <td>0</td>\n",
       "      <td>75060</td>\n",
       "    </tr>\n",
       "    <tr>\n",
       "      <th>84032</th>\n",
       "      <td>0</td>\n",
       "      <td>0</td>\n",
       "      <td>84032</td>\n",
       "    </tr>\n",
       "    <tr>\n",
       "      <th>54059</th>\n",
       "      <td>0</td>\n",
       "      <td>0</td>\n",
       "      <td>54059</td>\n",
       "    </tr>\n",
       "    <tr>\n",
       "      <th>42940</th>\n",
       "      <td>0</td>\n",
       "      <td>1</td>\n",
       "      <td>42940</td>\n",
       "    </tr>\n",
       "  </tbody>\n",
       "</table>\n",
       "</div>"
      ],
      "text/plain": [
       "      ACTUAL PREDICTED  INDEX\n",
       "74563      0         0  74563\n",
       "75060      0         0  75060\n",
       "84032      0         0  84032\n",
       "54059      0         0  54059\n",
       "42940      0         1  42940"
      ]
     },
     "execution_count": 31,
     "metadata": {},
     "output_type": "execute_result"
    }
   ],
   "source": [
    "dfResultsRFo =  pd.DataFrame(data={\"ACTUAL\":y_o_test, \"PREDICTED\":yoPredRF, \"INDEX\":y_o_test.index}, \n",
    "                             index=y_o_test.index)\n",
    "dfResultsRFo.head()"
   ]
  },
  {
   "cell_type": "code",
   "execution_count": 32,
   "id": "f99cf516",
   "metadata": {},
   "outputs": [],
   "source": [
    "odf[\"IND2\"] = odf.index\n",
    "dfResultsRFo = dfResultsRFo.merge(odf, left_on=\"INDEX\", right_on=\"IND2\")"
   ]
  },
  {
   "cell_type": "code",
   "execution_count": 33,
   "id": "0fa7ad88",
   "metadata": {},
   "outputs": [
    {
     "data": {
      "text/html": [
       "<div>\n",
       "<style scoped>\n",
       "    .dataframe tbody tr th:only-of-type {\n",
       "        vertical-align: middle;\n",
       "    }\n",
       "\n",
       "    .dataframe tbody tr th {\n",
       "        vertical-align: top;\n",
       "    }\n",
       "\n",
       "    .dataframe thead th {\n",
       "        text-align: right;\n",
       "    }\n",
       "</style>\n",
       "<table border=\"1\" class=\"dataframe\">\n",
       "  <thead>\n",
       "    <tr style=\"text-align: right;\">\n",
       "      <th></th>\n",
       "      <th>ACTUAL</th>\n",
       "      <th>PREDICTED</th>\n",
       "      <th>INDEX</th>\n",
       "      <th>MDR_REPORT_KEY</th>\n",
       "      <th>MDR_TEXT_KEY</th>\n",
       "      <th>TEXT_TYPE_CODE</th>\n",
       "      <th>PATIENT_SEQUENCE_NUMBER</th>\n",
       "      <th>DATE_REPORT</th>\n",
       "      <th>FOI_TEXT</th>\n",
       "      <th>textLen</th>\n",
       "      <th>...</th>\n",
       "      <th>DEVICE_AGE_TEXT</th>\n",
       "      <th>DEVICE_EVALUATED_BY_MANUFACTUR</th>\n",
       "      <th>year</th>\n",
       "      <th>STD_MANUFACTURER</th>\n",
       "      <th>STD_DEVICE</th>\n",
       "      <th>RECALL_CLASS</th>\n",
       "      <th>CENSORED</th>\n",
       "      <th>_merge</th>\n",
       "      <th>CLEAN_FOI_TEXT</th>\n",
       "      <th>IND2</th>\n",
       "    </tr>\n",
       "  </thead>\n",
       "  <tbody>\n",
       "    <tr>\n",
       "      <th>0</th>\n",
       "      <td>0</td>\n",
       "      <td>0</td>\n",
       "      <td>74563</td>\n",
       "      <td>9316974</td>\n",
       "      <td>166222339</td>\n",
       "      <td>D</td>\n",
       "      <td>1</td>\n",
       "      <td>NaN</td>\n",
       "      <td>IT WAS REPORTED THAT THE PATIENT PRESENTED REM...</td>\n",
       "      <td>NaN</td>\n",
       "      <td>...</td>\n",
       "      <td>NaN</td>\n",
       "      <td>R</td>\n",
       "      <td>2019</td>\n",
       "      <td>ST. JUDE</td>\n",
       "      <td>StJUDE_DURATA</td>\n",
       "      <td>0</td>\n",
       "      <td>2019-11-13</td>\n",
       "      <td>both</td>\n",
       "      <td>it report the patient present remot via merlin...</td>\n",
       "      <td>74563</td>\n",
       "    </tr>\n",
       "    <tr>\n",
       "      <th>1</th>\n",
       "      <td>0</td>\n",
       "      <td>0</td>\n",
       "      <td>75060</td>\n",
       "      <td>9387537</td>\n",
       "      <td>168532817</td>\n",
       "      <td>D</td>\n",
       "      <td>1</td>\n",
       "      <td>NaN</td>\n",
       "      <td>IT WAS REPORTED THAT THE PATIENT PRESENTED FOR...</td>\n",
       "      <td>NaN</td>\n",
       "      <td>...</td>\n",
       "      <td>NaN</td>\n",
       "      <td>R</td>\n",
       "      <td>2019</td>\n",
       "      <td>ST. JUDE</td>\n",
       "      <td>StJUDE_QUARTET</td>\n",
       "      <td>0</td>\n",
       "      <td>2019-11-27</td>\n",
       "      <td>both</td>\n",
       "      <td>it report the patient present implant procedur...</td>\n",
       "      <td>75060</td>\n",
       "    </tr>\n",
       "    <tr>\n",
       "      <th>2</th>\n",
       "      <td>0</td>\n",
       "      <td>0</td>\n",
       "      <td>84032</td>\n",
       "      <td>10242160</td>\n",
       "      <td>197906174</td>\n",
       "      <td>D</td>\n",
       "      <td>1</td>\n",
       "      <td>NaN</td>\n",
       "      <td>IT WAS REPORTED THAT DURING THE IMPLANT PROCED...</td>\n",
       "      <td>NaN</td>\n",
       "      <td>...</td>\n",
       "      <td>DA</td>\n",
       "      <td>Y</td>\n",
       "      <td>2020</td>\n",
       "      <td>MEDTRONIC</td>\n",
       "      <td>MEDTRONIC_SPRINT_QUATTRO_SECURE_MRI</td>\n",
       "      <td>0</td>\n",
       "      <td>2020-07-07</td>\n",
       "      <td>both</td>\n",
       "      <td>it report dure implant procedur coil the right...</td>\n",
       "      <td>84032</td>\n",
       "    </tr>\n",
       "    <tr>\n",
       "      <th>3</th>\n",
       "      <td>0</td>\n",
       "      <td>0</td>\n",
       "      <td>54059</td>\n",
       "      <td>6675364</td>\n",
       "      <td>78670967</td>\n",
       "      <td>D</td>\n",
       "      <td>1</td>\n",
       "      <td>NaN</td>\n",
       "      <td>IT WAS REPORTED THAT THE PATIENT PRESENTED VIA...</td>\n",
       "      <td>NaN</td>\n",
       "      <td>...</td>\n",
       "      <td>NaN</td>\n",
       "      <td>R</td>\n",
       "      <td>2017</td>\n",
       "      <td>ST. JUDE</td>\n",
       "      <td>StJUDE_DURATA</td>\n",
       "      <td>0</td>\n",
       "      <td>2017-06-28</td>\n",
       "      <td>both</td>\n",
       "      <td>it report the patient present via merlinnet tr...</td>\n",
       "      <td>54059</td>\n",
       "    </tr>\n",
       "    <tr>\n",
       "      <th>4</th>\n",
       "      <td>0</td>\n",
       "      <td>0</td>\n",
       "      <td>54059</td>\n",
       "      <td>5862097</td>\n",
       "      <td>51691721</td>\n",
       "      <td>D</td>\n",
       "      <td>1</td>\n",
       "      <td>NaN</td>\n",
       "      <td>IT WAS REPORTED THAT THE PATIENT EXPERIENCED S...</td>\n",
       "      <td>NaN</td>\n",
       "      <td>...</td>\n",
       "      <td>DA</td>\n",
       "      <td>*</td>\n",
       "      <td>2016</td>\n",
       "      <td>MEDTRONIC</td>\n",
       "      <td>MEDTRONIC_VIVA</td>\n",
       "      <td>1</td>\n",
       "      <td>2016-08-09</td>\n",
       "      <td>both</td>\n",
       "      <td>it report the patient experienc syncop ventric...</td>\n",
       "      <td>54059</td>\n",
       "    </tr>\n",
       "  </tbody>\n",
       "</table>\n",
       "<p>5 rows × 45 columns</p>\n",
       "</div>"
      ],
      "text/plain": [
       "  ACTUAL PREDICTED  INDEX MDR_REPORT_KEY MDR_TEXT_KEY TEXT_TYPE_CODE  \\\n",
       "0      0         0  74563        9316974    166222339              D   \n",
       "1      0         0  75060        9387537    168532817              D   \n",
       "2      0         0  84032       10242160    197906174              D   \n",
       "3      0         0  54059        6675364     78670967              D   \n",
       "4      0         0  54059        5862097     51691721              D   \n",
       "\n",
       "  PATIENT_SEQUENCE_NUMBER DATE_REPORT  \\\n",
       "0                       1         NaN   \n",
       "1                       1         NaN   \n",
       "2                       1         NaN   \n",
       "3                       1         NaN   \n",
       "4                       1         NaN   \n",
       "\n",
       "                                            FOI_TEXT  textLen  ...  \\\n",
       "0  IT WAS REPORTED THAT THE PATIENT PRESENTED REM...      NaN  ...   \n",
       "1  IT WAS REPORTED THAT THE PATIENT PRESENTED FOR...      NaN  ...   \n",
       "2  IT WAS REPORTED THAT DURING THE IMPLANT PROCED...      NaN  ...   \n",
       "3  IT WAS REPORTED THAT THE PATIENT PRESENTED VIA...      NaN  ...   \n",
       "4  IT WAS REPORTED THAT THE PATIENT EXPERIENCED S...      NaN  ...   \n",
       "\n",
       "  DEVICE_AGE_TEXT DEVICE_EVALUATED_BY_MANUFACTUR  year STD_MANUFACTURER  \\\n",
       "0             NaN                              R  2019         ST. JUDE   \n",
       "1             NaN                              R  2019         ST. JUDE   \n",
       "2              DA                              Y  2020        MEDTRONIC   \n",
       "3             NaN                              R  2017         ST. JUDE   \n",
       "4              DA                              *  2016        MEDTRONIC   \n",
       "\n",
       "                            STD_DEVICE RECALL_CLASS   CENSORED _merge  \\\n",
       "0                        StJUDE_DURATA            0 2019-11-13   both   \n",
       "1                       StJUDE_QUARTET            0 2019-11-27   both   \n",
       "2  MEDTRONIC_SPRINT_QUATTRO_SECURE_MRI            0 2020-07-07   both   \n",
       "3                        StJUDE_DURATA            0 2017-06-28   both   \n",
       "4                       MEDTRONIC_VIVA            1 2016-08-09   both   \n",
       "\n",
       "                                      CLEAN_FOI_TEXT   IND2  \n",
       "0  it report the patient present remot via merlin...  74563  \n",
       "1  it report the patient present implant procedur...  75060  \n",
       "2  it report dure implant procedur coil the right...  84032  \n",
       "3  it report the patient present via merlinnet tr...  54059  \n",
       "4  it report the patient experienc syncop ventric...  54059  \n",
       "\n",
       "[5 rows x 45 columns]"
      ]
     },
     "execution_count": 33,
     "metadata": {},
     "output_type": "execute_result"
    }
   ],
   "source": [
    "dfResultsRFo.head()"
   ]
  },
  {
   "cell_type": "code",
   "execution_count": 35,
   "id": "67e6914b",
   "metadata": {},
   "outputs": [],
   "source": [
    "dfResultsRFo.to_pickle(\"./dfResultsRFo\")"
   ]
  },
  {
   "cell_type": "code",
   "execution_count": 13,
   "id": "c836e2dd",
   "metadata": {},
   "outputs": [],
   "source": [
    "# set 2"
   ]
  },
  {
   "cell_type": "code",
   "execution_count": 26,
   "id": "fd8832c7",
   "metadata": {},
   "outputs": [
    {
     "data": {
      "text/plain": [
       "RandomForestClassifier()"
      ]
     },
     "execution_count": 26,
     "metadata": {},
     "output_type": "execute_result"
    }
   ],
   "source": [
    "# for oversampled class data\n",
    "classifier = RandomForestClassifier(n_estimators=100)\n",
    "classifier.fit(X_o_train, y_o_train)"
   ]
  },
  {
   "cell_type": "code",
   "execution_count": 27,
   "id": "be0b8018",
   "metadata": {},
   "outputs": [
    {
     "name": "stdout",
     "output_type": "stream",
     "text": [
      "Oversampled (x) classes\n",
      "[[600 158]\n",
      " [391 391]]\n",
      "\n",
      "\n",
      "              precision    recall  f1-score   support\n",
      "\n",
      "           0       0.61      0.79      0.69       758\n",
      "           1       0.71      0.50      0.59       782\n",
      "\n",
      "    accuracy                           0.64      1540\n",
      "   macro avg       0.66      0.65      0.64      1540\n",
      "weighted avg       0.66      0.64      0.64      1540\n",
      "\n"
     ]
    }
   ],
   "source": [
    "yo2PredRF = classifier.predict(X_o2_test)\n",
    "print(\"Oversampled (x) classes\")\n",
    "print(confusion_matrix(y_o2_test,yo2PredRF))\n",
    "print('\\n')\n",
    "print(classification_report(y_o2_test,yo2PredRF))"
   ]
  },
  {
   "cell_type": "code",
   "execution_count": 36,
   "id": "45aacda0",
   "metadata": {},
   "outputs": [
    {
     "data": {
      "text/html": [
       "<div>\n",
       "<style scoped>\n",
       "    .dataframe tbody tr th:only-of-type {\n",
       "        vertical-align: middle;\n",
       "    }\n",
       "\n",
       "    .dataframe tbody tr th {\n",
       "        vertical-align: top;\n",
       "    }\n",
       "\n",
       "    .dataframe thead th {\n",
       "        text-align: right;\n",
       "    }\n",
       "</style>\n",
       "<table border=\"1\" class=\"dataframe\">\n",
       "  <thead>\n",
       "    <tr style=\"text-align: right;\">\n",
       "      <th></th>\n",
       "      <th>ACTUAL</th>\n",
       "      <th>PREDICTED</th>\n",
       "      <th>INDEX</th>\n",
       "    </tr>\n",
       "  </thead>\n",
       "  <tbody>\n",
       "    <tr>\n",
       "      <th>86641</th>\n",
       "      <td>1</td>\n",
       "      <td>1</td>\n",
       "      <td>86641</td>\n",
       "    </tr>\n",
       "    <tr>\n",
       "      <th>72227</th>\n",
       "      <td>1</td>\n",
       "      <td>1</td>\n",
       "      <td>72227</td>\n",
       "    </tr>\n",
       "    <tr>\n",
       "      <th>1618</th>\n",
       "      <td>1</td>\n",
       "      <td>1</td>\n",
       "      <td>1618</td>\n",
       "    </tr>\n",
       "    <tr>\n",
       "      <th>1591</th>\n",
       "      <td>0</td>\n",
       "      <td>0</td>\n",
       "      <td>1591</td>\n",
       "    </tr>\n",
       "    <tr>\n",
       "      <th>3378</th>\n",
       "      <td>0</td>\n",
       "      <td>0</td>\n",
       "      <td>3378</td>\n",
       "    </tr>\n",
       "  </tbody>\n",
       "</table>\n",
       "</div>"
      ],
      "text/plain": [
       "      ACTUAL PREDICTED  INDEX\n",
       "86641      1         1  86641\n",
       "72227      1         1  72227\n",
       "1618       1         1   1618\n",
       "1591       0         0   1591\n",
       "3378       0         0   3378"
      ]
     },
     "execution_count": 36,
     "metadata": {},
     "output_type": "execute_result"
    }
   ],
   "source": [
    "dfResultsRFo2 =  pd.DataFrame(data={\"ACTUAL\":y_o2_test, \"PREDICTED\":yo2PredRF, \"INDEX\":y_o2_test.index}, \n",
    "                             index=y_o2_test.index)\n",
    "dfResultsRFo2.head()"
   ]
  },
  {
   "cell_type": "code",
   "execution_count": 37,
   "id": "5c88b39e",
   "metadata": {},
   "outputs": [],
   "source": [
    "odf2[\"IND2\"] = odf2.index\n",
    "dfResultsRFo2 = dfResultsRFo2.merge(odf2, left_on=\"INDEX\", right_on=\"IND2\")"
   ]
  },
  {
   "cell_type": "code",
   "execution_count": 38,
   "id": "3fbeb863",
   "metadata": {},
   "outputs": [
    {
     "data": {
      "text/html": [
       "<div>\n",
       "<style scoped>\n",
       "    .dataframe tbody tr th:only-of-type {\n",
       "        vertical-align: middle;\n",
       "    }\n",
       "\n",
       "    .dataframe tbody tr th {\n",
       "        vertical-align: top;\n",
       "    }\n",
       "\n",
       "    .dataframe thead th {\n",
       "        text-align: right;\n",
       "    }\n",
       "</style>\n",
       "<table border=\"1\" class=\"dataframe\">\n",
       "  <thead>\n",
       "    <tr style=\"text-align: right;\">\n",
       "      <th></th>\n",
       "      <th>ACTUAL</th>\n",
       "      <th>PREDICTED</th>\n",
       "      <th>INDEX</th>\n",
       "      <th>MDR_REPORT_KEY</th>\n",
       "      <th>MDR_TEXT_KEY</th>\n",
       "      <th>TEXT_TYPE_CODE</th>\n",
       "      <th>PATIENT_SEQUENCE_NUMBER</th>\n",
       "      <th>DATE_REPORT</th>\n",
       "      <th>FOI_TEXT</th>\n",
       "      <th>textLen</th>\n",
       "      <th>...</th>\n",
       "      <th>DEVICE_AGE_TEXT</th>\n",
       "      <th>DEVICE_EVALUATED_BY_MANUFACTUR</th>\n",
       "      <th>year</th>\n",
       "      <th>STD_MANUFACTURER</th>\n",
       "      <th>STD_DEVICE</th>\n",
       "      <th>RECALL_CLASS</th>\n",
       "      <th>CENSORED</th>\n",
       "      <th>_merge</th>\n",
       "      <th>CLEAN_FOI_TEXT</th>\n",
       "      <th>IND2</th>\n",
       "    </tr>\n",
       "  </thead>\n",
       "  <tbody>\n",
       "    <tr>\n",
       "      <th>0</th>\n",
       "      <td>1</td>\n",
       "      <td>1</td>\n",
       "      <td>86641</td>\n",
       "      <td>10521026</td>\n",
       "      <td>206505776</td>\n",
       "      <td>D</td>\n",
       "      <td>1</td>\n",
       "      <td>NaN</td>\n",
       "      <td>IT WAS REPORTED THAT THE PATIENT DEVELOPED A P...</td>\n",
       "      <td>NaN</td>\n",
       "      <td>...</td>\n",
       "      <td>NaN</td>\n",
       "      <td>*</td>\n",
       "      <td>2020</td>\n",
       "      <td>MEDTRONIC</td>\n",
       "      <td>MEDTRONIC_VISIA</td>\n",
       "      <td>1</td>\n",
       "      <td>2020-09-11</td>\n",
       "      <td>both</td>\n",
       "      <td>it report the patient develop pocket infect ap...</td>\n",
       "      <td>86641</td>\n",
       "    </tr>\n",
       "    <tr>\n",
       "      <th>1</th>\n",
       "      <td>1</td>\n",
       "      <td>1</td>\n",
       "      <td>72227</td>\n",
       "      <td>8926164</td>\n",
       "      <td>156895660</td>\n",
       "      <td>D</td>\n",
       "      <td>1</td>\n",
       "      <td>NaN</td>\n",
       "      <td>THE PATIENT REPORTED THAT THE IMPLANTABLE CARD...</td>\n",
       "      <td>NaN</td>\n",
       "      <td>...</td>\n",
       "      <td>NaN</td>\n",
       "      <td>*</td>\n",
       "      <td>2019</td>\n",
       "      <td>MEDTRONIC</td>\n",
       "      <td>MEDTRONIC_VISIA</td>\n",
       "      <td>1</td>\n",
       "      <td>2019-08-23</td>\n",
       "      <td>both</td>\n",
       "      <td>the patient report the implant cardiovert defi...</td>\n",
       "      <td>72227</td>\n",
       "    </tr>\n",
       "    <tr>\n",
       "      <th>2</th>\n",
       "      <td>1</td>\n",
       "      <td>1</td>\n",
       "      <td>1618</td>\n",
       "      <td>630955</td>\n",
       "      <td>412089</td>\n",
       "      <td>D</td>\n",
       "      <td>1</td>\n",
       "      <td>NaN</td>\n",
       "      <td>RETURNED FOR BATTERY DEPLETION AND SUBSEQUENTL...</td>\n",
       "      <td>NaN</td>\n",
       "      <td>...</td>\n",
       "      <td>4 YR</td>\n",
       "      <td>Y</td>\n",
       "      <td>2004</td>\n",
       "      <td>MEDTRONIC</td>\n",
       "      <td>MEDTRONIC_MICRO_JEWEL</td>\n",
       "      <td>1</td>\n",
       "      <td>2004-01-09</td>\n",
       "      <td>both</td>\n",
       "      <td>return batteri deplet subsequ test of specif a...</td>\n",
       "      <td>1618</td>\n",
       "    </tr>\n",
       "    <tr>\n",
       "      <th>3</th>\n",
       "      <td>0</td>\n",
       "      <td>0</td>\n",
       "      <td>1591</td>\n",
       "      <td>2951858</td>\n",
       "      <td>18619649</td>\n",
       "      <td>D</td>\n",
       "      <td>1</td>\n",
       "      <td>NaN</td>\n",
       "      <td>IT WAS REPORTED THAT DURING THE IMPLANT PROCED...</td>\n",
       "      <td>NaN</td>\n",
       "      <td>...</td>\n",
       "      <td>DA</td>\n",
       "      <td>Y</td>\n",
       "      <td>2013</td>\n",
       "      <td>MEDTRONIC</td>\n",
       "      <td>MEDTRONIC_TRANSVENE</td>\n",
       "      <td>0</td>\n",
       "      <td>2013-02-09</td>\n",
       "      <td>both</td>\n",
       "      <td>it report dure implant procedur physician unab...</td>\n",
       "      <td>1591</td>\n",
       "    </tr>\n",
       "    <tr>\n",
       "      <th>4</th>\n",
       "      <td>0</td>\n",
       "      <td>0</td>\n",
       "      <td>3378</td>\n",
       "      <td>825999</td>\n",
       "      <td>587300</td>\n",
       "      <td>D</td>\n",
       "      <td>1</td>\n",
       "      <td>NaN</td>\n",
       "      <td>THE LEAD WAS RETURNED TO THE MANUFACTURER FOR ...</td>\n",
       "      <td>NaN</td>\n",
       "      <td>...</td>\n",
       "      <td>24 MO</td>\n",
       "      <td>Y</td>\n",
       "      <td>2007</td>\n",
       "      <td>MEDTRONIC</td>\n",
       "      <td>MEDTRONIC_SPRINT_FIDELIS</td>\n",
       "      <td>1</td>\n",
       "      <td>2007-03-09</td>\n",
       "      <td>both</td>\n",
       "      <td>the lead return the manufactur evalu analyz su...</td>\n",
       "      <td>3378</td>\n",
       "    </tr>\n",
       "    <tr>\n",
       "      <th>...</th>\n",
       "      <td>...</td>\n",
       "      <td>...</td>\n",
       "      <td>...</td>\n",
       "      <td>...</td>\n",
       "      <td>...</td>\n",
       "      <td>...</td>\n",
       "      <td>...</td>\n",
       "      <td>...</td>\n",
       "      <td>...</td>\n",
       "      <td>...</td>\n",
       "      <td>...</td>\n",
       "      <td>...</td>\n",
       "      <td>...</td>\n",
       "      <td>...</td>\n",
       "      <td>...</td>\n",
       "      <td>...</td>\n",
       "      <td>...</td>\n",
       "      <td>...</td>\n",
       "      <td>...</td>\n",
       "      <td>...</td>\n",
       "      <td>...</td>\n",
       "    </tr>\n",
       "    <tr>\n",
       "      <th>1970</th>\n",
       "      <td>0</td>\n",
       "      <td>1</td>\n",
       "      <td>3918</td>\n",
       "      <td>7092972</td>\n",
       "      <td>94068456</td>\n",
       "      <td>D</td>\n",
       "      <td>1</td>\n",
       "      <td>NaN</td>\n",
       "      <td>IT WAS REPORTED THAT THE PATIENT DEVELOPED FEV...</td>\n",
       "      <td>NaN</td>\n",
       "      <td>...</td>\n",
       "      <td>DA</td>\n",
       "      <td>*</td>\n",
       "      <td>2017</td>\n",
       "      <td>MEDTRONIC</td>\n",
       "      <td>MEDTRONIC_TRANSVENE</td>\n",
       "      <td>0</td>\n",
       "      <td>2017-12-07</td>\n",
       "      <td>both</td>\n",
       "      <td>it report the patient develop fever wa treat a...</td>\n",
       "      <td>3918</td>\n",
       "    </tr>\n",
       "    <tr>\n",
       "      <th>1971</th>\n",
       "      <td>0</td>\n",
       "      <td>0</td>\n",
       "      <td>2693</td>\n",
       "      <td>760307</td>\n",
       "      <td>540626</td>\n",
       "      <td>D</td>\n",
       "      <td>1</td>\n",
       "      <td>NaN</td>\n",
       "      <td>HIGH IMPEDANCE AND 'INADEQUATE THERAPIES' WERE...</td>\n",
       "      <td>NaN</td>\n",
       "      <td>...</td>\n",
       "      <td>12 MO</td>\n",
       "      <td>Y</td>\n",
       "      <td>2006</td>\n",
       "      <td>MEDTRONIC</td>\n",
       "      <td>MEDTRONIC_SPRINT_FIDELIS</td>\n",
       "      <td>1</td>\n",
       "      <td>2006-09-07</td>\n",
       "      <td>both</td>\n",
       "      <td>high imped inadequ therapi report the short in...</td>\n",
       "      <td>2693</td>\n",
       "    </tr>\n",
       "    <tr>\n",
       "      <th>1972</th>\n",
       "      <td>0</td>\n",
       "      <td>0</td>\n",
       "      <td>2693</td>\n",
       "      <td>331998</td>\n",
       "      <td>189470</td>\n",
       "      <td>D</td>\n",
       "      <td>1</td>\n",
       "      <td>NaN</td>\n",
       "      <td>INAPPROPRIATE VF THERAPY, SENSING AND CAPTURE ...</td>\n",
       "      <td>NaN</td>\n",
       "      <td>...</td>\n",
       "      <td>4 YR</td>\n",
       "      <td>Y</td>\n",
       "      <td>2000</td>\n",
       "      <td>MEDTRONIC</td>\n",
       "      <td>MEDTRONIC_TRANSVENE</td>\n",
       "      <td>0</td>\n",
       "      <td>2000-11-13</td>\n",
       "      <td>both</td>\n",
       "      <td>inappropri vf therapi sens captur difficulti</td>\n",
       "      <td>2693</td>\n",
       "    </tr>\n",
       "    <tr>\n",
       "      <th>1973</th>\n",
       "      <td>0</td>\n",
       "      <td>0</td>\n",
       "      <td>3188</td>\n",
       "      <td>785137</td>\n",
       "      <td>556255</td>\n",
       "      <td>D</td>\n",
       "      <td>1</td>\n",
       "      <td>NaN</td>\n",
       "      <td>IT WAS REPORTED THAT THE RIGHT VENTRICULAR LEA...</td>\n",
       "      <td>NaN</td>\n",
       "      <td>...</td>\n",
       "      <td>10 YR</td>\n",
       "      <td>R</td>\n",
       "      <td>2006</td>\n",
       "      <td>MEDTRONIC</td>\n",
       "      <td>MEDTRONIC_TRANSVENE</td>\n",
       "      <td>0</td>\n",
       "      <td>2006-11-10</td>\n",
       "      <td>both</td>\n",
       "      <td>it report the right ventricular lead model exp...</td>\n",
       "      <td>3188</td>\n",
       "    </tr>\n",
       "    <tr>\n",
       "      <th>1974</th>\n",
       "      <td>0</td>\n",
       "      <td>1</td>\n",
       "      <td>138</td>\n",
       "      <td>3602546</td>\n",
       "      <td>4094728</td>\n",
       "      <td>D</td>\n",
       "      <td>1</td>\n",
       "      <td>NaN</td>\n",
       "      <td>IT WAS REPORTED THAT DUE TO HIGH DEFIBRILLATIO...</td>\n",
       "      <td>NaN</td>\n",
       "      <td>...</td>\n",
       "      <td>NaN</td>\n",
       "      <td>*</td>\n",
       "      <td>2014</td>\n",
       "      <td>MEDTRONIC</td>\n",
       "      <td>MEDTRONIC_SUBQ</td>\n",
       "      <td>0</td>\n",
       "      <td>2014-01-31</td>\n",
       "      <td>both</td>\n",
       "      <td>it report due high defibril threshold dft coil...</td>\n",
       "      <td>138</td>\n",
       "    </tr>\n",
       "  </tbody>\n",
       "</table>\n",
       "<p>1975 rows × 45 columns</p>\n",
       "</div>"
      ],
      "text/plain": [
       "     ACTUAL PREDICTED  INDEX MDR_REPORT_KEY MDR_TEXT_KEY TEXT_TYPE_CODE  \\\n",
       "0         1         1  86641       10521026    206505776              D   \n",
       "1         1         1  72227        8926164    156895660              D   \n",
       "2         1         1   1618         630955       412089              D   \n",
       "3         0         0   1591        2951858     18619649              D   \n",
       "4         0         0   3378         825999       587300              D   \n",
       "...     ...       ...    ...            ...          ...            ...   \n",
       "1970      0         1   3918        7092972     94068456              D   \n",
       "1971      0         0   2693         760307       540626              D   \n",
       "1972      0         0   2693         331998       189470              D   \n",
       "1973      0         0   3188         785137       556255              D   \n",
       "1974      0         1    138        3602546      4094728              D   \n",
       "\n",
       "     PATIENT_SEQUENCE_NUMBER DATE_REPORT  \\\n",
       "0                          1         NaN   \n",
       "1                          1         NaN   \n",
       "2                          1         NaN   \n",
       "3                          1         NaN   \n",
       "4                          1         NaN   \n",
       "...                      ...         ...   \n",
       "1970                       1         NaN   \n",
       "1971                       1         NaN   \n",
       "1972                       1         NaN   \n",
       "1973                       1         NaN   \n",
       "1974                       1         NaN   \n",
       "\n",
       "                                               FOI_TEXT  textLen  ...  \\\n",
       "0     IT WAS REPORTED THAT THE PATIENT DEVELOPED A P...      NaN  ...   \n",
       "1     THE PATIENT REPORTED THAT THE IMPLANTABLE CARD...      NaN  ...   \n",
       "2     RETURNED FOR BATTERY DEPLETION AND SUBSEQUENTL...      NaN  ...   \n",
       "3     IT WAS REPORTED THAT DURING THE IMPLANT PROCED...      NaN  ...   \n",
       "4     THE LEAD WAS RETURNED TO THE MANUFACTURER FOR ...      NaN  ...   \n",
       "...                                                 ...      ...  ...   \n",
       "1970  IT WAS REPORTED THAT THE PATIENT DEVELOPED FEV...      NaN  ...   \n",
       "1971  HIGH IMPEDANCE AND 'INADEQUATE THERAPIES' WERE...      NaN  ...   \n",
       "1972  INAPPROPRIATE VF THERAPY, SENSING AND CAPTURE ...      NaN  ...   \n",
       "1973  IT WAS REPORTED THAT THE RIGHT VENTRICULAR LEA...      NaN  ...   \n",
       "1974  IT WAS REPORTED THAT DUE TO HIGH DEFIBRILLATIO...      NaN  ...   \n",
       "\n",
       "     DEVICE_AGE_TEXT DEVICE_EVALUATED_BY_MANUFACTUR  year STD_MANUFACTURER  \\\n",
       "0                NaN                              *  2020        MEDTRONIC   \n",
       "1                NaN                              *  2019        MEDTRONIC   \n",
       "2               4 YR                              Y  2004        MEDTRONIC   \n",
       "3                 DA                              Y  2013        MEDTRONIC   \n",
       "4              24 MO                              Y  2007        MEDTRONIC   \n",
       "...              ...                            ...   ...              ...   \n",
       "1970              DA                              *  2017        MEDTRONIC   \n",
       "1971           12 MO                              Y  2006        MEDTRONIC   \n",
       "1972            4 YR                              Y  2000        MEDTRONIC   \n",
       "1973           10 YR                              R  2006        MEDTRONIC   \n",
       "1974             NaN                              *  2014        MEDTRONIC   \n",
       "\n",
       "                    STD_DEVICE RECALL_CLASS   CENSORED _merge  \\\n",
       "0              MEDTRONIC_VISIA            1 2020-09-11   both   \n",
       "1              MEDTRONIC_VISIA            1 2019-08-23   both   \n",
       "2        MEDTRONIC_MICRO_JEWEL            1 2004-01-09   both   \n",
       "3          MEDTRONIC_TRANSVENE            0 2013-02-09   both   \n",
       "4     MEDTRONIC_SPRINT_FIDELIS            1 2007-03-09   both   \n",
       "...                        ...          ...        ...    ...   \n",
       "1970       MEDTRONIC_TRANSVENE            0 2017-12-07   both   \n",
       "1971  MEDTRONIC_SPRINT_FIDELIS            1 2006-09-07   both   \n",
       "1972       MEDTRONIC_TRANSVENE            0 2000-11-13   both   \n",
       "1973       MEDTRONIC_TRANSVENE            0 2006-11-10   both   \n",
       "1974            MEDTRONIC_SUBQ            0 2014-01-31   both   \n",
       "\n",
       "                                         CLEAN_FOI_TEXT   IND2  \n",
       "0     it report the patient develop pocket infect ap...  86641  \n",
       "1     the patient report the implant cardiovert defi...  72227  \n",
       "2     return batteri deplet subsequ test of specif a...   1618  \n",
       "3     it report dure implant procedur physician unab...   1591  \n",
       "4     the lead return the manufactur evalu analyz su...   3378  \n",
       "...                                                 ...    ...  \n",
       "1970  it report the patient develop fever wa treat a...   3918  \n",
       "1971  high imped inadequ therapi report the short in...   2693  \n",
       "1972       inappropri vf therapi sens captur difficulti   2693  \n",
       "1973  it report the right ventricular lead model exp...   3188  \n",
       "1974  it report due high defibril threshold dft coil...    138  \n",
       "\n",
       "[1975 rows x 45 columns]"
      ]
     },
     "execution_count": 38,
     "metadata": {},
     "output_type": "execute_result"
    }
   ],
   "source": [
    "dfResultsRFo2"
   ]
  },
  {
   "cell_type": "code",
   "execution_count": 39,
   "id": "30b1fed6",
   "metadata": {},
   "outputs": [],
   "source": [
    "dfResultsRFo2.to_pickle(\"./dfResultsRFo2\")"
   ]
  },
  {
   "cell_type": "code",
   "execution_count": null,
   "id": "6fdc8f0c",
   "metadata": {},
   "outputs": [],
   "source": []
  }
 ],
 "metadata": {
  "kernelspec": {
   "display_name": "Python 3",
   "language": "python",
   "name": "python3"
  },
  "language_info": {
   "codemirror_mode": {
    "name": "ipython",
    "version": 3
   },
   "file_extension": ".py",
   "mimetype": "text/x-python",
   "name": "python",
   "nbconvert_exporter": "python",
   "pygments_lexer": "ipython3",
   "version": "3.8.8"
  }
 },
 "nbformat": 4,
 "nbformat_minor": 5
}
