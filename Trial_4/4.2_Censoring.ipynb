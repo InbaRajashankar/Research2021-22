{
 "cells": [
  {
   "cell_type": "code",
   "execution_count": 16,
   "id": "d259bfe3",
   "metadata": {},
   "outputs": [
    {
     "data": {
      "text/plain": [
       "1000000000000000000"
      ]
     },
     "execution_count": 16,
     "metadata": {},
     "output_type": "execute_result"
    }
   ],
   "source": [
    "import numpy as np\n",
    "import pandas as pd\n",
    "import numpy as np\n",
    "import pandas as pd\n",
    "import sys\n",
    "import csv\n",
    "import functools\n",
    "from functools import reduce\n",
    "import seaborn as sns\n",
    "import matplotlib.pyplot as plt\n",
    "from datetime import datetime\n",
    "\n",
    "csv.field_size_limit(1000000000000000000)"
   ]
  },
  {
   "cell_type": "code",
   "execution_count": 17,
   "id": "4e6b2e36",
   "metadata": {},
   "outputs": [
    {
     "name": "stdout",
     "output_type": "stream",
     "text": [
      "(26859, 40)\n"
     ]
    }
   ],
   "source": [
    "df = pd.read_pickle(\"./4_MASDEV_WithStdLabels.pkl\")\n",
    "print(str(df.shape))"
   ]
  },
  {
   "cell_type": "code",
   "execution_count": 18,
   "id": "c1fdabcd",
   "metadata": {},
   "outputs": [
    {
     "data": {
      "text/plain": [
       "dtype('<M8[ns]')"
      ]
     },
     "execution_count": 18,
     "metadata": {},
     "output_type": "execute_result"
    }
   ],
   "source": [
    "# convert to datetime format\n",
    "df[\"DATE_RECEIVED\"].str.replace(pat=\"/\", repl=\"-\")\n",
    "df[\"DATE_RECEIVED\"] = pd.to_datetime(df[\"DATE_RECEIVED\"])\n",
    "df[\"DATE_RECEIVED\"].dtype"
   ]
  },
  {
   "cell_type": "code",
   "execution_count": 19,
   "id": "4ae12b4e",
   "metadata": {},
   "outputs": [
    {
     "name": "stdout",
     "output_type": "stream",
     "text": [
      "not recalled shape: (10914, 41)\n"
     ]
    }
   ],
   "source": [
    "# creating the censored column\n",
    "df[\"CENSORED\"] = df[\"DATE_RECEIVED\"]\n",
    "\n",
    "# assigning censor tags\n",
    "dfList = []\n",
    "dfListNoCen = []\n",
    "\n",
    "df_NOT_RECALLED = df[df[\"RECALL_CLASS\"] == \"0\"]\n",
    "df_NOT_RECALLED.assign(CENSOR=\"NO\")\n",
    "\n",
    "print(\"not recalled shape: \" + str(df_NOT_RECALLED.shape))"
   ]
  },
  {
   "cell_type": "code",
   "execution_count": 20,
   "id": "ba7410c8",
   "metadata": {},
   "outputs": [
    {
     "name": "stdout",
     "output_type": "stream",
     "text": [
      "censored shape: (0, 41)\n",
      "non-censored shape: (6292, 41)\n"
     ]
    }
   ],
   "source": [
    "df_MEDTRONIC_EVERA_censor = df[(df[\"DATE_RECEIVED\"] >= datetime(2021, 2, 3)) & (df[\"STD_DEVICE\"] == \"MEDTRONIC_EVERA\")]\n",
    "df_MEDTRONIC_EVERA_censor.assign(CENSOR=\"YES\")\n",
    "dfList.append(df_MEDTRONIC_EVERA_censor)\n",
    "\n",
    "df_MEDTRONIC_EVERA_nocensor = df[(df[\"DATE_RECEIVED\"] < datetime(2021, 2, 3)) & (df[\"STD_DEVICE\"] == \"MEDTRONIC_EVERA\")]\n",
    "df_MEDTRONIC_EVERA_nocensor.assign(CENSOR=\"NO\")\n",
    "dfList.append(df_MEDTRONIC_EVERA_nocensor)\n",
    "dfListNoCen.append(df_MEDTRONIC_EVERA_nocensor)\n",
    "\n",
    "print(\"censored shape: \" + str(df_MEDTRONIC_EVERA_censor.shape))\n",
    "print(\"non-censored shape: \" + str(df_MEDTRONIC_EVERA_nocensor.shape))\n"
   ]
  },
  {
   "cell_type": "code",
   "execution_count": 21,
   "id": "2d6f3245",
   "metadata": {},
   "outputs": [
    {
     "name": "stdout",
     "output_type": "stream",
     "text": [
      "censored shape: (0, 41)\n",
      "non-censored shape: (1057, 41)\n"
     ]
    }
   ],
   "source": [
    "df_MEDTRONIC_VISIA_censor = df[(df[\"DATE_RECEIVED\"] >= datetime(2021, 2, 3)) & (df[\"STD_DEVICE\"] == \"MEDTRONIC_VISIA\")]\n",
    "df_MEDTRONIC_VISIA_censor.assign(CENSOR=\"YES\")\n",
    "dfList.append(df_MEDTRONIC_VISIA_censor)\n",
    "\n",
    "df_MEDTRONIC_VISIA_nocensor = df[(df[\"DATE_RECEIVED\"] < datetime(2021, 2, 3)) & (df[\"STD_DEVICE\"] == \"MEDTRONIC_VISIA\")]\n",
    "df_MEDTRONIC_VISIA_nocensor.assign(CENSOR=\"NO\")\n",
    "dfList.append(df_MEDTRONIC_VISIA_nocensor)\n",
    "dfListNoCen.append(df_MEDTRONIC_VISIA_nocensor)\n",
    "\n",
    "print(\"censored shape: \" + str(df_MEDTRONIC_VISIA_censor.shape))\n",
    "print(\"non-censored shape: \" + str(df_MEDTRONIC_VISIA_nocensor.shape))"
   ]
  },
  {
   "cell_type": "code",
   "execution_count": 22,
   "id": "f2e6f1e0",
   "metadata": {},
   "outputs": [
    {
     "name": "stdout",
     "output_type": "stream",
     "text": [
      "censored shape: (0, 41)\n",
      "non-censored shape: (3522, 41)\n"
     ]
    }
   ],
   "source": [
    "df_BOS_SCI_EMBLEM_censor = df[(df[\"DATE_RECEIVED\"] >= datetime(2021, 2, 5)) & (df[\"STD_DEVICE\"] == \"BOS_SCI_EMBLEM\")]\n",
    "df_BOS_SCI_EMBLEM_censor.assign(CENSOR=\"YES\")\n",
    "dfList.append(df_BOS_SCI_EMBLEM_censor)\n",
    "\n",
    "df_BOS_SCI_EMBLEM_nocensor = df[(df[\"DATE_RECEIVED\"] < datetime(2021, 2, 5)) & (df[\"STD_DEVICE\"] == \"BOS_SCI_EMBLEM\")]\n",
    "df_BOS_SCI_EMBLEM_nocensor.assign(CENSOR=\"NO\")\n",
    "dfList.append(df_BOS_SCI_EMBLEM_nocensor)\n",
    "dfListNoCen.append(df_BOS_SCI_EMBLEM_nocensor)\n",
    "\n",
    "print(\"censored shape: \" + str(df_BOS_SCI_EMBLEM_censor.shape))\n",
    "print(\"non-censored shape: \" + str(df_BOS_SCI_EMBLEM_nocensor.shape))"
   ]
  },
  {
   "cell_type": "code",
   "execution_count": 23,
   "id": "c8592623",
   "metadata": {},
   "outputs": [
    {
     "name": "stdout",
     "output_type": "stream",
     "text": [
      "censored shape: (133, 41)\n",
      "non-censored shape: (4941, 41)\n"
     ]
    }
   ],
   "source": [
    "df_StJUDE_ELLIPSE_censor = df[(df[\"DATE_RECEIVED\"] >= datetime(2019, 8, 2)) & (df[\"STD_DEVICE\"] == \"StJUDE_ELLIPSE\")]\n",
    "df_StJUDE_ELLIPSE_censor.assign(CENSOR=\"YES\")\n",
    "dfList.append(df_StJUDE_ELLIPSE_censor)\n",
    "\n",
    "df_StJUDE_ELLIPSE_nocensor = df[(df[\"DATE_RECEIVED\"] < datetime(2019, 8, 2)) & (df[\"STD_DEVICE\"] == \"StJUDE_ELLIPSE\")]\n",
    "df_StJUDE_ELLIPSE_nocensor.assign(CENSOR=\"NO\")\n",
    "dfList.append(df_StJUDE_ELLIPSE_nocensor)\n",
    "dfListNoCen.append(df_StJUDE_ELLIPSE_nocensor)\n",
    "\n",
    "print(\"censored shape: \" + str(df_StJUDE_ELLIPSE_censor.shape))\n",
    "print(\"non-censored shape: \" + str(df_StJUDE_ELLIPSE_nocensor.shape))"
   ]
  },
  {
   "cell_type": "code",
   "execution_count": 24,
   "id": "f5480e83",
   "metadata": {},
   "outputs": [
    {
     "name": "stdout",
     "output_type": "stream",
     "text": [
      "Series([], Name: STD_DEVICE, dtype: object)\n",
      "400125    MEDTRONIC_EVERA\n",
      "Name: STD_DEVICE, dtype: object\n",
      "Series([], Name: STD_DEVICE, dtype: object)\n",
      "388256    MEDTRONIC_VISIA\n",
      "Name: STD_DEVICE, dtype: object\n",
      "Series([], Name: STD_DEVICE, dtype: object)\n",
      "246942    BOS_SCI_EMBLEM\n",
      "Name: STD_DEVICE, dtype: object\n",
      "385954    StJUDE_ELLIPSE\n",
      "Name: STD_DEVICE, dtype: object\n",
      "138033    StJUDE_ELLIPSE\n",
      "Name: STD_DEVICE, dtype: object\n"
     ]
    }
   ],
   "source": [
    "# merging all the dfs together\n",
    "for df in dfList:\n",
    "    print(df[\"STD_DEVICE\"].head(1))"
   ]
  },
  {
   "cell_type": "code",
   "execution_count": 25,
   "id": "32b43a10",
   "metadata": {},
   "outputs": [
    {
     "name": "stdout",
     "output_type": "stream",
     "text": [
      "(10914, 41)\n",
      "(10914, 41)\n",
      "(17206, 41)\n",
      "(17206, 41)\n",
      "(18263, 41)\n",
      "(18263, 41)\n",
      "(21785, 41)\n",
      "(21918, 41)\n",
      "(26859, 41)\n",
      "the shape of df_all is: (26859, 41)\n"
     ]
    }
   ],
   "source": [
    "df_all = df_NOT_RECALLED\n",
    "print(df_all.shape)\n",
    "\n",
    "for df in dfList:\n",
    "    df_all = df_all.append(df)\n",
    "    print(df_all.shape)\n",
    "    \n",
    "print(\"the shape of df_all is: \" + str(df_all.shape))\n",
    "df_all.to_pickle(\"./3_MASTER_DEVICE_File_wCENSOR_all\")"
   ]
  },
  {
   "cell_type": "code",
   "execution_count": 26,
   "id": "a8d7b598",
   "metadata": {},
   "outputs": [
    {
     "name": "stdout",
     "output_type": "stream",
     "text": [
      "MEDTRONIC_EVERA\n",
      "MEDTRONIC_VISIA\n",
      "BOS_SCI_EMBLEM\n",
      "StJUDE_ELLIPSE\n"
     ]
    }
   ],
   "source": [
    "# merging all the non-censored dfs together\n",
    "for df in dfListNoCen:\n",
    "    print(df.STD_DEVICE.iloc[0])"
   ]
  },
  {
   "cell_type": "code",
   "execution_count": 27,
   "id": "17eaf996",
   "metadata": {},
   "outputs": [
    {
     "name": "stdout",
     "output_type": "stream",
     "text": [
      "(10914, 41)\n",
      "(17206, 41)\n",
      "(18263, 41)\n",
      "(21785, 41)\n",
      "(26726, 41)\n",
      "the shape of df_NoCen is: (26726, 41)\n"
     ]
    }
   ],
   "source": [
    "df_NoCen = df_NOT_RECALLED\n",
    "print(df_NoCen.shape)\n",
    "\n",
    "for df in dfListNoCen:\n",
    "    df_NoCen = df_NoCen.append(df)\n",
    "    print(df_NoCen.shape)\n",
    "    \n",
    "print(\"the shape of df_NoCen is: \" + str(df_NoCen.shape))"
   ]
  },
  {
   "cell_type": "code",
   "execution_count": 28,
   "id": "bb2c4ab4",
   "metadata": {},
   "outputs": [],
   "source": [
    "df_NoCen.to_pickle(\"./4_MASDEV_Censored.pkl\")"
   ]
  },
  {
   "cell_type": "code",
   "execution_count": 29,
   "id": "590aab81",
   "metadata": {},
   "outputs": [],
   "source": [
    "# essentially none of these MDR's needed to be censored, but it was still is necessary"
   ]
  },
  {
   "cell_type": "code",
   "execution_count": null,
   "id": "95b39ed0",
   "metadata": {},
   "outputs": [],
   "source": []
  },
  {
   "cell_type": "code",
   "execution_count": null,
   "id": "b320d4ef",
   "metadata": {},
   "outputs": [],
   "source": []
  }
 ],
 "metadata": {
  "kernelspec": {
   "display_name": "Python 3",
   "language": "python",
   "name": "python3"
  },
  "language_info": {
   "codemirror_mode": {
    "name": "ipython",
    "version": 3
   },
   "file_extension": ".py",
   "mimetype": "text/x-python",
   "name": "python",
   "nbconvert_exporter": "python",
   "pygments_lexer": "ipython3",
   "version": "3.8.8"
  }
 },
 "nbformat": 4,
 "nbformat_minor": 5
}
