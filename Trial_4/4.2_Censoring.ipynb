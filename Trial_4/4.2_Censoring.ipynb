{
 "cells": [
  {
   "cell_type": "code",
   "execution_count": 1,
   "id": "d259bfe3",
   "metadata": {},
   "outputs": [
    {
     "data": {
      "text/plain": [
       "131072"
      ]
     },
     "execution_count": 1,
     "metadata": {},
     "output_type": "execute_result"
    }
   ],
   "source": [
    "import numpy as np\n",
    "import pandas as pd\n",
    "import numpy as np\n",
    "import pandas as pd\n",
    "import sys\n",
    "import csv\n",
    "import functools\n",
    "from functools import reduce\n",
    "import seaborn as sns\n",
    "import matplotlib.pyplot as plt\n",
    "from datetime import datetime\n",
    "\n",
    "csv.field_size_limit(1000000000000000000)"
   ]
  },
  {
   "cell_type": "code",
   "execution_count": 2,
   "id": "4e6b2e36",
   "metadata": {},
   "outputs": [
    {
     "name": "stdout",
     "output_type": "stream",
     "text": [
      "(131796, 32)\n"
     ]
    }
   ],
   "source": [
    "df = pd.read_pickle(\"./4_MASDEV_WithStdLabels.pkl\")\n",
    "print(str(df.shape))"
   ]
  },
  {
   "cell_type": "code",
   "execution_count": 3,
   "id": "c1fdabcd",
   "metadata": {},
   "outputs": [
    {
     "data": {
      "text/plain": [
       "dtype('<M8[ns]')"
      ]
     },
     "execution_count": 3,
     "metadata": {},
     "output_type": "execute_result"
    }
   ],
   "source": [
    "# convert to datetime format\n",
    "df[\"DATE_RECEIVED\"].str.replace(pat=\"/\", repl=\"-\")\n",
    "df[\"DATE_RECEIVED\"] = pd.to_datetime(df[\"DATE_RECEIVED\"])\n",
    "df[\"DATE_RECEIVED\"].dtype"
   ]
  },
  {
   "cell_type": "code",
   "execution_count": 4,
   "id": "4ae12b4e",
   "metadata": {},
   "outputs": [
    {
     "name": "stdout",
     "output_type": "stream",
     "text": [
      "not recalled shape: (62397, 33)\n"
     ]
    }
   ],
   "source": [
    "# creating the censored column\n",
    "df[\"CENSORED\"] = df[\"DATE_RECEIVED\"]\n",
    "\n",
    "# assigning censor tags\n",
    "dfList = []\n",
    "dfListNoCen = []\n",
    "\n",
    "df_NOT_RECALLED = df[df[\"RECALL_CLASS\"] == \"0\"]\n",
    "df_NOT_RECALLED.assign(CENSOR=\"NO\")\n",
    "\n",
    "print(\"not recalled shape: \" + str(df_NOT_RECALLED.shape))"
   ]
  },
  {
   "cell_type": "code",
   "execution_count": 5,
   "id": "f2e6f1e0",
   "metadata": {},
   "outputs": [
    {
     "name": "stdout",
     "output_type": "stream",
     "text": [
      "censored shape: (0, 33)\n",
      "non-censored shape: (3522, 33)\n"
     ]
    }
   ],
   "source": [
    "df_BOS_SCI_EMBLEM_censor = df[(df[\"DATE_RECEIVED\"] >= datetime(2021, 2, 5)) & (df[\"STD_DEVICE\"] == \"BOS_SCI_EMBLEM\")]\n",
    "df_BOS_SCI_EMBLEM_censor.assign(CENSOR=\"YES\")\n",
    "dfList.append(df_BOS_SCI_EMBLEM_censor)\n",
    "\n",
    "df_BOS_SCI_EMBLEM_nocensor = df[(df[\"DATE_RECEIVED\"] < datetime(2021, 2, 5)) & (df[\"STD_DEVICE\"] == \"BOS_SCI_EMBLEM\")]\n",
    "df_BOS_SCI_EMBLEM_nocensor.assign(CENSOR=\"NO\")\n",
    "dfList.append(df_BOS_SCI_EMBLEM_nocensor)\n",
    "dfListNoCen.append(df_BOS_SCI_EMBLEM_nocensor)\n",
    "\n",
    "print(\"censored shape: \" + str(df_BOS_SCI_EMBLEM_censor.shape))\n",
    "print(\"non-censored shape: \" + str(df_BOS_SCI_EMBLEM_nocensor.shape))"
   ]
  },
  {
   "cell_type": "code",
   "execution_count": 6,
   "id": "ba624ad0",
   "metadata": {},
   "outputs": [
    {
     "name": "stdout",
     "output_type": "stream",
     "text": [
      "censored shape: (133, 33)\n",
      "non-censored shape: (4941, 33)\n"
     ]
    }
   ],
   "source": [
    "df_StJUDE_ELLIPSE_censor = df[(df[\"DATE_RECEIVED\"] >= datetime(2019, 8, 2)) & (df[\"STD_DEVICE\"] == \"StJUDE_ELLIPSE\")]\n",
    "df_StJUDE_ELLIPSE_censor.assign(CENSOR=\"YES\")\n",
    "dfList.append(df_StJUDE_ELLIPSE_censor)\n",
    "\n",
    "df_StJUDE_ELLIPSE_nocensor = df[(df[\"DATE_RECEIVED\"] < datetime(2019, 8, 2)) & (df[\"STD_DEVICE\"] == \"StJUDE_ELLIPSE\")]\n",
    "df_StJUDE_ELLIPSE_nocensor.assign(CENSOR=\"NO\")\n",
    "dfList.append(df_StJUDE_ELLIPSE_nocensor)\n",
    "dfListNoCen.append(df_StJUDE_ELLIPSE_nocensor)\n",
    "\n",
    "print(\"censored shape: \" + str(df_StJUDE_ELLIPSE_censor.shape))\n",
    "print(\"non-censored shape: \" + str(df_StJUDE_ELLIPSE_nocensor.shape))"
   ]
  },
  {
   "cell_type": "code",
   "execution_count": 7,
   "id": "64b768b9",
   "metadata": {},
   "outputs": [
    {
     "name": "stdout",
     "output_type": "stream",
     "text": [
      "censored shape: (13997, 33)\n",
      "non-censored shape: (3995, 33)\n"
     ]
    }
   ],
   "source": [
    "df_STJUDE_RIATA_censor = df[(df[\"DATE_RECEIVED\"] >= datetime(2012, 1, 11)) & (df[\"STD_DEVICE\"] == \"STJUDE_RIATA\")]\n",
    "df_STJUDE_RIATA_censor.assign(CENSOR=\"YES\")\n",
    "dfList.append(df_STJUDE_RIATA_censor)\n",
    "\n",
    "df_STJUDE_RIATA_nocensor = df[(df[\"DATE_RECEIVED\"] < datetime(2012, 1, 11)) & (df[\"STD_DEVICE\"] == \"STJUDE_RIATA\")]\n",
    "df_STJUDE_RIATA_nocensor.assign(CENSOR=\"NO\")\n",
    "dfList.append(df_STJUDE_RIATA_nocensor)\n",
    "dfListNoCen.append(df_STJUDE_RIATA_nocensor)\n",
    "\n",
    "print(\"censored shape: \" + str(df_STJUDE_RIATA_censor.shape))\n",
    "print(\"non-censored shape: \" + str(df_STJUDE_RIATA_nocensor.shape))"
   ]
  },
  {
   "cell_type": "code",
   "execution_count": 8,
   "id": "709f120e",
   "metadata": {},
   "outputs": [
    {
     "name": "stdout",
     "output_type": "stream",
     "text": [
      "censored shape: (4829, 33)\n",
      "non-censored shape: (1492, 33)\n"
     ]
    }
   ],
   "source": [
    "df_STJUDE_RIATA_ST_censor = df[(df[\"DATE_RECEIVED\"] >= datetime(2012, 1, 11)) & (df[\"STD_DEVICE\"] == \"STJUDE_RIATA_ST\")]\n",
    "df_STJUDE_RIATA_ST_censor.assign(CENSOR=\"YES\")\n",
    "dfList.append(df_STJUDE_RIATA_ST_censor)\n",
    "\n",
    "df_STJUDE_RIATA_ST_nocensor = df[(df[\"DATE_RECEIVED\"] < datetime(2012, 1, 11)) & (df[\"STD_DEVICE\"] == \"STJUDE_RIATA_ST\")]\n",
    "df_STJUDE_RIATA_ST_nocensor.assign(CENSOR=\"NO\")\n",
    "dfList.append(df_STJUDE_RIATA_ST_nocensor)\n",
    "dfListNoCen.append(df_STJUDE_RIATA_ST_nocensor)\n",
    "\n",
    "print(\"censored shape: \" + str(df_STJUDE_RIATA_ST_censor.shape))\n",
    "print(\"non-censored shape: \" + str(df_STJUDE_RIATA_ST_nocensor.shape))"
   ]
  },
  {
   "cell_type": "code",
   "execution_count": 9,
   "id": "eb37a9ed",
   "metadata": {},
   "outputs": [
    {
     "name": "stdout",
     "output_type": "stream",
     "text": [
      "censored shape: (1556, 33)\n",
      "non-censored shape: (5041, 33)\n"
     ]
    }
   ],
   "source": [
    "df_STJUDE_FORTIFY_VR_censor = df[(df[\"DATE_RECEIVED\"] >= datetime(2017, 10, 10)) & (df[\"STD_DEVICE\"] == \"STJUDE_FORTIFY_VR\")]\n",
    "df_STJUDE_FORTIFY_VR_censor.assign(CENSOR=\"YES\")\n",
    "dfList.append(df_STJUDE_FORTIFY_VR_censor)\n",
    "\n",
    "df_STJUDE_FORTIFY_VR_nocensor = df[(df[\"DATE_RECEIVED\"] < datetime(2017, 10, 10)) & (df[\"STD_DEVICE\"] == \"STJUDE_FORTIFY_VR\")]\n",
    "df_STJUDE_FORTIFY_VR_nocensor.assign(CENSOR=\"NO\")\n",
    "dfList.append(df_STJUDE_FORTIFY_VR_nocensor)\n",
    "dfListNoCen.append(df_STJUDE_FORTIFY_VR_nocensor)\n",
    "\n",
    "print(\"censored shape: \" + str(df_STJUDE_FORTIFY_VR_censor.shape))\n",
    "print(\"non-censored shape: \" + str(df_STJUDE_FORTIFY_VR_nocensor.shape))"
   ]
  },
  {
   "cell_type": "code",
   "execution_count": 10,
   "id": "ba7410c8",
   "metadata": {},
   "outputs": [
    {
     "name": "stdout",
     "output_type": "stream",
     "text": [
      "censored shape: (0, 33)\n",
      "non-censored shape: (6292, 33)\n"
     ]
    }
   ],
   "source": [
    "df_MEDTRONIC_EVERA_censor = df[(df[\"DATE_RECEIVED\"] >= datetime(2021, 2, 3)) & (df[\"STD_DEVICE\"] == \"MEDTRONIC_EVERA\")]\n",
    "df_MEDTRONIC_EVERA_censor.assign(CENSOR=\"YES\")\n",
    "dfList.append(df_MEDTRONIC_EVERA_censor)\n",
    "\n",
    "df_MEDTRONIC_EVERA_nocensor = df[(df[\"DATE_RECEIVED\"] < datetime(2021, 2, 3)) & (df[\"STD_DEVICE\"] == \"MEDTRONIC_EVERA\")]\n",
    "df_MEDTRONIC_EVERA_nocensor.assign(CENSOR=\"NO\")\n",
    "dfList.append(df_MEDTRONIC_EVERA_nocensor)\n",
    "dfListNoCen.append(df_MEDTRONIC_EVERA_nocensor)\n",
    "\n",
    "print(\"censored shape: \" + str(df_MEDTRONIC_EVERA_censor.shape))\n",
    "print(\"non-censored shape: \" + str(df_MEDTRONIC_EVERA_nocensor.shape))\n"
   ]
  },
  {
   "cell_type": "code",
   "execution_count": 11,
   "id": "2d6f3245",
   "metadata": {},
   "outputs": [
    {
     "name": "stdout",
     "output_type": "stream",
     "text": [
      "censored shape: (0, 33)\n",
      "non-censored shape: (1057, 33)\n"
     ]
    }
   ],
   "source": [
    "df_MEDTRONIC_VISIA_censor = df[(df[\"DATE_RECEIVED\"] >= datetime(2021, 2, 3)) & (df[\"STD_DEVICE\"] == \"MEDTRONIC_VISIA\")]\n",
    "df_MEDTRONIC_VISIA_censor.assign(CENSOR=\"YES\")\n",
    "dfList.append(df_MEDTRONIC_VISIA_censor)\n",
    "\n",
    "df_MEDTRONIC_VISIA_nocensor = df[(df[\"DATE_RECEIVED\"] < datetime(2021, 2, 3)) & (df[\"STD_DEVICE\"] == \"MEDTRONIC_VISIA\")]\n",
    "df_MEDTRONIC_VISIA_nocensor.assign(CENSOR=\"NO\")\n",
    "dfList.append(df_MEDTRONIC_VISIA_nocensor)\n",
    "dfListNoCen.append(df_MEDTRONIC_VISIA_nocensor)\n",
    "\n",
    "print(\"censored shape: \" + str(df_MEDTRONIC_VISIA_censor.shape))\n",
    "print(\"non-censored shape: \" + str(df_MEDTRONIC_VISIA_nocensor.shape))"
   ]
  },
  {
   "cell_type": "code",
   "execution_count": 12,
   "id": "192508e1",
   "metadata": {},
   "outputs": [
    {
     "name": "stdout",
     "output_type": "stream",
     "text": [
      "censored shape: (12600, 33)\n",
      "non-censored shape: (1729, 33)\n"
     ]
    }
   ],
   "source": [
    "df_MEDTRONIC_SPRINT_FIDELIS_censor = df[(df[\"DATE_RECEIVED\"] >= datetime(2007, 10, 25)) & (df[\"STD_DEVICE\"] == \"MEDTRONIC_SPRINT_FIDELIS\")]\n",
    "df_MEDTRONIC_SPRINT_FIDELIS_censor.assign(CENSOR=\"YES\")\n",
    "dfList.append(df_MEDTRONIC_SPRINT_FIDELIS_censor)\n",
    "\n",
    "df_MEDTRONIC_SPRINT_FIDELIS_nocensor = df[(df[\"DATE_RECEIVED\"] < datetime(2007, 10, 25)) & (df[\"STD_DEVICE\"] == \"MEDTRONIC_SPRINT_FIDELIS\")]\n",
    "df_MEDTRONIC_SPRINT_FIDELIS_nocensor.assign(CENSOR=\"NO\")\n",
    "dfList.append(df_MEDTRONIC_SPRINT_FIDELIS_nocensor)\n",
    "dfListNoCen.append(df_MEDTRONIC_SPRINT_FIDELIS_nocensor)\n",
    "\n",
    "print(\"censored shape: \" + str(df_MEDTRONIC_SPRINT_FIDELIS_censor.shape))\n",
    "print(\"non-censored shape: \" + str(df_MEDTRONIC_SPRINT_FIDELIS_nocensor.shape))"
   ]
  },
  {
   "cell_type": "code",
   "execution_count": 13,
   "id": "468e5a0f",
   "metadata": {},
   "outputs": [
    {
     "name": "stdout",
     "output_type": "stream",
     "text": [
      "censored shape: (63, 33)\n",
      "non-censored shape: (546, 33)\n"
     ]
    }
   ],
   "source": [
    "df_MEDTRONIC_MICRO_JEWEL_censor = df[(df[\"DATE_RECEIVED\"] >= datetime(2004, 7, 20)) & (df[\"STD_DEVICE\"] == \"MEDTRONIC_MICRO_JEWEL\")]\n",
    "df_MEDTRONIC_MICRO_JEWEL_censor.assign(CENSOR=\"YES\")\n",
    "dfList.append(df_MEDTRONIC_MICRO_JEWEL_censor)\n",
    "\n",
    "df_MEDTRONIC_MICRO_JEWEL_nocensor = df[(df[\"DATE_RECEIVED\"] < datetime(2004, 7, 20)) & (df[\"STD_DEVICE\"] == \"MEDTRONIC_MICRO_JEWEL\")]\n",
    "df_MEDTRONIC_MICRO_JEWEL_nocensor.assign(CENSOR=\"NO\")\n",
    "dfList.append(df_MEDTRONIC_MICRO_JEWEL_nocensor)\n",
    "dfListNoCen.append(df_MEDTRONIC_MICRO_JEWEL_nocensor)\n",
    "\n",
    "print(\"censored shape: \" + str(df_MEDTRONIC_MICRO_JEWEL_censor.shape))\n",
    "print(\"non-censored shape: \" + str(df_MEDTRONIC_MICRO_JEWEL_nocensor.shape))"
   ]
  },
  {
   "cell_type": "code",
   "execution_count": 15,
   "id": "e9c896de",
   "metadata": {},
   "outputs": [
    {
     "name": "stdout",
     "output_type": "stream",
     "text": [
      "censored shape: (240, 33)\n",
      "non-censored shape: (577, 33)\n"
     ]
    }
   ],
   "source": [
    "df_MEDTRONIC_GEM_DR_censor = df[(df[\"DATE_RECEIVED\"] >= datetime(2004, 7, 20)) & (df[\"STD_DEVICE\"] == \"MEDTRONIC_GEM_DR\")]\n",
    "df_MEDTRONIC_GEM_DR_censor.assign(CENSOR=\"YES\")\n",
    "dfList.append(df_MEDTRONIC_GEM_DR_censor)\n",
    "\n",
    "df_MEDTRONIC_GEM_DR_nocensor = df[(df[\"DATE_RECEIVED\"] < datetime(2004, 7, 20)) & (df[\"STD_DEVICE\"] == \"MEDTRONIC_GEM_DR\")]\n",
    "df_MEDTRONIC_GEM_DR_nocensor.assign(CENSOR=\"NO\")\n",
    "dfList.append(df_MEDTRONIC_GEM_DR_nocensor)\n",
    "dfListNoCen.append(df_MEDTRONIC_GEM_DR_nocensor)\n",
    "\n",
    "print(\"censored shape: \" + str(df_MEDTRONIC_GEM_DR_censor.shape))\n",
    "print(\"non-censored shape: \" + str(df_MEDTRONIC_GEM_DR_nocensor.shape))"
   ]
  },
  {
   "cell_type": "code",
   "execution_count": 16,
   "id": "23300e4c",
   "metadata": {},
   "outputs": [
    {
     "name": "stdout",
     "output_type": "stream",
     "text": [
      "censored shape: (2507, 33)\n",
      "non-censored shape: (2457, 33)\n"
     ]
    }
   ],
   "source": [
    "df_MEDTRONIC_VIVA_censor = df[(df[\"DATE_RECEIVED\"] >= datetime(2018, 2, 1)) & (df[\"STD_DEVICE\"] == \"MEDTRONIC_VIVA\")]\n",
    "df_MEDTRONIC_VIVA_censor.assign(CENSOR=\"YES\")\n",
    "dfList.append(df_MEDTRONIC_VIVA_censor)\n",
    "\n",
    "df_MEDTRONIC_VIVA_nocensor = df[(df[\"DATE_RECEIVED\"] < datetime(2018, 2, 1)) & (df[\"STD_DEVICE\"] == \"MEDTRONIC_VIVA\")]\n",
    "df_MEDTRONIC_VIVA_nocensor.assign(CENSOR=\"NO\")\n",
    "dfList.append(df_MEDTRONIC_VIVA_nocensor)\n",
    "dfListNoCen.append(df_MEDTRONIC_VIVA_nocensor)\n",
    "\n",
    "print(\"censored shape: \" + str(df_MEDTRONIC_VIVA_censor.shape))\n",
    "print(\"non-censored shape: \" + str(df_MEDTRONIC_VIVA_nocensor.shape))"
   ]
  },
  {
   "cell_type": "code",
   "execution_count": 17,
   "id": "d2e79415",
   "metadata": {},
   "outputs": [
    {
     "name": "stdout",
     "output_type": "stream",
     "text": [
      "censored shape: (0, 33)\n",
      "non-censored shape: (208, 33)\n"
     ]
    }
   ],
   "source": [
    "df_MEDTRONIC_BRAVA_censor = df[(df[\"DATE_RECEIVED\"] >= datetime(2021, 3, 27)) & (df[\"STD_DEVICE\"] == \"MEDTRONIC_BRAVA\")]\n",
    "df_MEDTRONIC_BRAVA_censor.assign(CENSOR=\"YES\")\n",
    "dfList.append(df_MEDTRONIC_BRAVA_censor)\n",
    "\n",
    "df_MEDTRONIC_BRAVA_nocensor = df[(df[\"DATE_RECEIVED\"] < datetime(2021, 3, 27)) & (df[\"STD_DEVICE\"] == \"MEDTRONIC_BRAVA\")]\n",
    "df_MEDTRONIC_BRAVA_nocensor.assign(CENSOR=\"NO\")\n",
    "dfList.append(df_MEDTRONIC_BRAVA_nocensor)\n",
    "dfListNoCen.append(df_MEDTRONIC_BRAVA_nocensor)\n",
    "\n",
    "print(\"censored shape: \" + str(df_MEDTRONIC_BRAVA_censor.shape))\n",
    "print(\"non-censored shape: \" + str(df_MEDTRONIC_BRAVA_nocensor.shape))"
   ]
  },
  {
   "cell_type": "code",
   "execution_count": 19,
   "id": "de67bc9f",
   "metadata": {},
   "outputs": [
    {
     "name": "stdout",
     "output_type": "stream",
     "text": [
      "censored shape: (226, 33)\n",
      "non-censored shape: (36, 33)\n"
     ]
    }
   ],
   "source": [
    "df_MEDTRONIC_COMPIA_MRI_censor = df[(df[\"DATE_RECEIVED\"] >= datetime(2018, 2, 1)) & (df[\"STD_DEVICE\"] == \"MEDTRONIC_COMPIA_MRI\")]\n",
    "df_MEDTRONIC_COMPIA_MRI_censor.assign(CENSOR=\"YES\")\n",
    "dfList.append(df_MEDTRONIC_COMPIA_MRI_censor)\n",
    "\n",
    "df_MEDTRONIC_COMPIA_MRI_nocensor = df[(df[\"DATE_RECEIVED\"] < datetime(2018, 2, 1)) & (df[\"STD_DEVICE\"] == \"MEDTRONIC_COMPIA_MRI\")]\n",
    "df_MEDTRONIC_COMPIA_MRI_nocensor.assign(CENSOR=\"NO\")\n",
    "dfList.append(df_MEDTRONIC_COMPIA_MRI_nocensor)\n",
    "dfListNoCen.append(df_MEDTRONIC_COMPIA_MRI_nocensor)\n",
    "\n",
    "print(\"censored shape: \" + str(df_MEDTRONIC_COMPIA_MRI_censor.shape))\n",
    "print(\"non-censored shape: \" + str(df_MEDTRONIC_COMPIA_MRI_nocensor.shape))"
   ]
  },
  {
   "cell_type": "code",
   "execution_count": 21,
   "id": "6a25221b",
   "metadata": {},
   "outputs": [
    {
     "name": "stdout",
     "output_type": "stream",
     "text": [
      "censored shape: (1121, 33)\n",
      "non-censored shape: (234, 33)\n"
     ]
    }
   ],
   "source": [
    "df_MEDTRONIC_AMPLIA_MRI_censor = df[(df[\"DATE_RECEIVED\"] >= datetime(2018, 2, 1)) & (df[\"STD_DEVICE\"] == \"MEDTRONIC_AMPLIA_MRI\")]\n",
    "df_MEDTRONIC_AMPLIA_MRI_censor.assign(CENSOR=\"YES\")\n",
    "dfList.append(df_MEDTRONIC_AMPLIA_MRI_censor)\n",
    "\n",
    "df_MEDTRONIC_AMPLIA_MRI_nocensor = df[(df[\"DATE_RECEIVED\"] < datetime(2018, 2, 1)) & (df[\"STD_DEVICE\"] == \"MEDTRONIC_AMPLIA_MRI\")]\n",
    "df_MEDTRONIC_AMPLIA_MRI_nocensor.assign(CENSOR=\"NO\")\n",
    "dfList.append(df_MEDTRONIC_AMPLIA_MRI_nocensor)\n",
    "dfListNoCen.append(df_MEDTRONIC_AMPLIA_MRI_nocensor)\n",
    "\n",
    "print(\"censored shape: \" + str(df_MEDTRONIC_AMPLIA_MRI_censor.shape))\n",
    "print(\"non-censored shape: \" + str(df_MEDTRONIC_AMPLIA_MRI_nocensor.shape))"
   ]
  },
  {
   "cell_type": "code",
   "execution_count": null,
   "id": "6285e45f",
   "metadata": {},
   "outputs": [],
   "source": []
  },
  {
   "cell_type": "code",
   "execution_count": 22,
   "id": "f5480e83",
   "metadata": {},
   "outputs": [
    {
     "name": "stdout",
     "output_type": "stream",
     "text": [
      "Series([], Name: STD_DEVICE, dtype: object)\n",
      "246942    BOS_SCI_EMBLEM\n",
      "Name: STD_DEVICE, dtype: object\n",
      "385954    StJUDE_ELLIPSE\n",
      "Name: STD_DEVICE, dtype: object\n",
      "138033    StJUDE_ELLIPSE\n",
      "Name: STD_DEVICE, dtype: object\n",
      "122824    STJUDE_RIATA\n",
      "Name: STD_DEVICE, dtype: object\n",
      "5189    STJUDE_RIATA\n",
      "Name: STD_DEVICE, dtype: object\n",
      "125020    STJUDE_RIATA_ST\n",
      "Name: STD_DEVICE, dtype: object\n",
      "7255    STJUDE_RIATA_ST\n",
      "Name: STD_DEVICE, dtype: object\n",
      "326797    STJUDE_FORTIFY_VR\n",
      "Name: STD_DEVICE, dtype: object\n",
      "89979    STJUDE_FORTIFY_VR\n",
      "Name: STD_DEVICE, dtype: object\n",
      "Series([], Name: STD_DEVICE, dtype: object)\n",
      "400125    MEDTRONIC_EVERA\n",
      "Name: STD_DEVICE, dtype: object\n",
      "Series([], Name: STD_DEVICE, dtype: object)\n",
      "388256    MEDTRONIC_VISIA\n",
      "Name: STD_DEVICE, dtype: object\n",
      "31644    MEDTRONIC_SPRINT_FIDELIS\n",
      "Name: STD_DEVICE, dtype: object\n",
      "17701    MEDTRONIC_SPRINT_FIDELIS\n",
      "Name: STD_DEVICE, dtype: object\n",
      "13051    MEDTRONIC_MICRO_JEWEL\n",
      "Name: STD_DEVICE, dtype: object\n",
      "296    MEDTRONIC_MICRO_JEWEL\n",
      "Name: STD_DEVICE, dtype: object\n",
      "Series([], Name: STD_DEVICE, dtype: object)\n",
      "Series([], Name: STD_DEVICE, dtype: object)\n",
      "8130    MEDTRONIC_GEM_DR\n",
      "Name: STD_DEVICE, dtype: object\n",
      "285    MEDTRONIC_GEM_DR\n",
      "Name: STD_DEVICE, dtype: object\n",
      "335971    MEDTRONIC_VIVA\n",
      "Name: STD_DEVICE, dtype: object\n",
      "325325    MEDTRONIC_VIVA\n",
      "Name: STD_DEVICE, dtype: object\n",
      "Series([], Name: STD_DEVICE, dtype: object)\n",
      "184037    MEDTRONIC_BRAVA\n",
      "Name: STD_DEVICE, dtype: object\n",
      "Series([], Name: STD_DEVICE, dtype: object)\n",
      "269640    MEDTRONIC_COMPIA_MRI\n",
      "Name: STD_DEVICE, dtype: object\n",
      "336509    MEDTRONIC_COMPIA_MRI\n",
      "Name: STD_DEVICE, dtype: object\n",
      "269640    MEDTRONIC_COMPIA_MRI\n",
      "Name: STD_DEVICE, dtype: object\n",
      "Series([], Name: STD_DEVICE, dtype: object)\n",
      "Series([], Name: STD_DEVICE, dtype: object)\n",
      "336291    MEDTRONIC_AMPLIA_MRI\n",
      "Name: STD_DEVICE, dtype: object\n",
      "263355    MEDTRONIC_AMPLIA_MRI\n",
      "Name: STD_DEVICE, dtype: object\n"
     ]
    }
   ],
   "source": [
    "# merging all the dfs together\n",
    "for df in dfList:\n",
    "    print(df[\"STD_DEVICE\"].head(1))"
   ]
  },
  {
   "cell_type": "code",
   "execution_count": 23,
   "id": "32b43a10",
   "metadata": {},
   "outputs": [
    {
     "name": "stdout",
     "output_type": "stream",
     "text": [
      "(62397, 33)\n",
      "(62397, 33)\n",
      "(65919, 33)\n",
      "(66052, 33)\n",
      "(70993, 33)\n",
      "(84990, 33)\n",
      "(88985, 33)\n",
      "(93814, 33)\n",
      "(95306, 33)\n",
      "(96862, 33)\n",
      "(101903, 33)\n",
      "(101903, 33)\n",
      "(108195, 33)\n",
      "(108195, 33)\n",
      "(109252, 33)\n",
      "(121852, 33)\n",
      "(123581, 33)\n",
      "(123644, 33)\n",
      "(124190, 33)\n",
      "(124190, 33)\n",
      "(124190, 33)\n",
      "(124430, 33)\n",
      "(125007, 33)\n",
      "(127514, 33)\n",
      "(129971, 33)\n",
      "(129971, 33)\n",
      "(130179, 33)\n",
      "(130179, 33)\n",
      "(130441, 33)\n",
      "(130667, 33)\n",
      "(130703, 33)\n",
      "(130703, 33)\n",
      "(130703, 33)\n",
      "(131824, 33)\n",
      "(132058, 33)\n",
      "the shape of df_all is: (132058, 33)\n"
     ]
    }
   ],
   "source": [
    "df_all = df_NOT_RECALLED\n",
    "print(df_all.shape)\n",
    "\n",
    "for df in dfList:\n",
    "    df_all = df_all.append(df)\n",
    "    print(df_all.shape)\n",
    "    \n",
    "print(\"the shape of df_all is: \" + str(df_all.shape))\n",
    "df_all.to_pickle(\"./3_MASTER_DEVICE_File_wCENSOR_all\")"
   ]
  },
  {
   "cell_type": "code",
   "execution_count": 28,
   "id": "17eaf996",
   "metadata": {},
   "outputs": [
    {
     "name": "stdout",
     "output_type": "stream",
     "text": [
      "(62397, 33)\n",
      "(65919, 33)\n",
      "(70860, 33)\n",
      "(74855, 33)\n",
      "(76347, 33)\n",
      "(81388, 33)\n",
      "(87680, 33)\n",
      "(88737, 33)\n",
      "(90466, 33)\n",
      "(91012, 33)\n",
      "(91012, 33)\n",
      "(91589, 33)\n",
      "(94046, 33)\n",
      "(94254, 33)\n",
      "(94516, 33)\n",
      "(94552, 33)\n",
      "(94552, 33)\n",
      "(94786, 33)\n",
      "the shape of df_NoCen is: (94786, 33)\n"
     ]
    }
   ],
   "source": [
    "df_NoCen = df_NOT_RECALLED\n",
    "print(df_NoCen.shape)\n",
    "\n",
    "for df in dfListNoCen:\n",
    "    df_NoCen = df_NoCen.append(df)\n",
    "    print(df_NoCen.shape)\n",
    "    \n",
    "print(\"the shape of df_NoCen is: \" + str(df_NoCen.shape))"
   ]
  },
  {
   "cell_type": "code",
   "execution_count": 32,
   "id": "8af3d368",
   "metadata": {},
   "outputs": [
    {
     "data": {
      "text/plain": [
       "StJUDE_DURATA                          26277\n",
       "MEDTRONIC_SPRINT_QUATTRO_SECURE_MRI    10460\n",
       "MEDTRONIC_PROTECTA_XT                   9782\n",
       "MEDTRONIC_EVERA                         6292\n",
       "MEDTRONIC_SPRINT_QUATTRO                6028\n",
       "STJUDE_FORTIFY_VR                       5041\n",
       "StJUDE_ELLIPSE                          4941\n",
       "MEDTRONIC_SPRINT                        4593\n",
       "STJUDE_RIATA                            3995\n",
       "BOS_SCI_EMBLEM                          3522\n",
       "MEDTRONIC_VIVA                          2457\n",
       "MEDTRONIC_TRANSVENE                     2200\n",
       "StJUDE_QUARTET                          2029\n",
       "MEDTRONIC_SPRINT_FIDELIS                1729\n",
       "STJUDE_RIATA_ST                         1492\n",
       "MEDTRONIC_VISIA                         1057\n",
       "MEDTRONIC_GEM_DR                         577\n",
       "MEDTRONIC_MICRO_JEWEL                    546\n",
       "BOS_SCI_INOGEN_EL                        533\n",
       "MEDTRONIC_COMPIA_MRI                     298\n",
       "MEDTRONIC_SUBQ                           293\n",
       "MEDTRONIC_AMPLIA_MRI                     234\n",
       "MEDTRONIC_BRAVA                          208\n",
       "MEDTRONIC_EGIDA                          130\n",
       "BOS_SCI_PERCIVA                           39\n",
       "StJUDE_GALLANT                            26\n",
       "STJUDE_TENDRIL_STS                         7\n",
       "Name: STD_DEVICE, dtype: int64"
      ]
     },
     "execution_count": 32,
     "metadata": {},
     "output_type": "execute_result"
    }
   ],
   "source": [
    "df_NoCen[\"STD_DEVICE\"].value_counts()"
   ]
  },
  {
   "cell_type": "code",
   "execution_count": 33,
   "id": "81996d95",
   "metadata": {},
   "outputs": [
    {
     "data": {
      "text/plain": [
       "27"
      ]
     },
     "execution_count": 33,
     "metadata": {},
     "output_type": "execute_result"
    }
   ],
   "source": [
    "len(df_NoCen[\"STD_DEVICE\"].value_counts())"
   ]
  },
  {
   "cell_type": "code",
   "execution_count": 34,
   "id": "bb2c4ab4",
   "metadata": {},
   "outputs": [],
   "source": [
    "df_NoCen.to_pickle(\"./4_MASDEV_Censored.pkl\")"
   ]
  },
  {
   "cell_type": "code",
   "execution_count": null,
   "id": "b320d4ef",
   "metadata": {},
   "outputs": [],
   "source": []
  }
 ],
 "metadata": {
  "kernelspec": {
   "display_name": "Python 3",
   "language": "python",
   "name": "python3"
  },
  "language_info": {
   "codemirror_mode": {
    "name": "ipython",
    "version": 3
   },
   "file_extension": ".py",
   "mimetype": "text/x-python",
   "name": "python",
   "nbconvert_exporter": "python",
   "pygments_lexer": "ipython3",
   "version": "3.8.8"
  }
 },
 "nbformat": 4,
 "nbformat_minor": 5
}
