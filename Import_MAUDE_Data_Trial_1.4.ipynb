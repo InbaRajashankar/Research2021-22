{
 "cells": [
  {
   "cell_type": "code",
   "execution_count": null,
   "id": "14653ff2",
   "metadata": {},
   "outputs": [],
   "source": [
    "import numpy as np\n",
    "import pandas as pd\n",
    "import numpy as np\n",
    "import pandas as pd\n",
    "import sys\n",
    "import csv\n",
    "\n",
    "csv.field_size_limit(1000000000000000000)"
   ]
  },
  {
   "cell_type": "code",
   "execution_count": null,
   "id": "3ecef8fd",
   "metadata": {},
   "outputs": [],
   "source": [
    "df = pd.read_pickle(\"./allData.pkl\")"
   ]
  },
  {
   "cell_type": "code",
   "execution_count": null,
   "id": "908fb2db",
   "metadata": {},
   "outputs": [],
   "source": [
    "df.shape"
   ]
  },
  {
   "cell_type": "code",
   "execution_count": 5,
   "id": "4a39837e",
   "metadata": {},
   "outputs": [],
   "source": [
    "df2 = df.head(100000)"
   ]
  },
  {
   "cell_type": "code",
   "execution_count": 6,
   "id": "a4273590",
   "metadata": {},
   "outputs": [
    {
     "data": {
      "text/plain": [
       "73       LWS\n",
       "221      LWS\n",
       "273      LWS\n",
       "289      LWS\n",
       "290      LWS\n",
       "        ... \n",
       "99766    LWS\n",
       "99771    LWS\n",
       "99775    LWS\n",
       "99795    LWS\n",
       "99841    LWS\n",
       "Name: DEVICE_REPORT_PRODUCT_CODE, Length: 3098, dtype: object"
      ]
     },
     "execution_count": 6,
     "metadata": {},
     "output_type": "execute_result"
    }
   ],
   "source": [
    "df2[df2[\"DEVICE_REPORT_PRODUCT_CODE\"]== \"LWS\"][\"DEVICE_REPORT_PRODUCT_CODE\"]"
   ]
  },
  {
   "cell_type": "code",
   "execution_count": 7,
   "id": "182ee22f",
   "metadata": {},
   "outputs": [],
   "source": [
    "def deleteNull(df):\n",
    "    for ind in df.index:\n",
    "        if df.isnull()['FOI_TEXT'][ind] == True:\n",
    "            df.drop(labels=[ind],axis=0,inplace=True)"
   ]
  },
  {
   "cell_type": "code",
   "execution_count": 8,
   "id": "ce56cd3f",
   "metadata": {},
   "outputs": [],
   "source": [
    "def containsWord(s, w):\n",
    "    return (' ' + str(w) + ' ') in (' ' + str(s) + ' ')"
   ]
  },
  {
   "cell_type": "code",
   "execution_count": 9,
   "id": "60673752",
   "metadata": {},
   "outputs": [],
   "source": [
    "def selectCohortOne(df):\n",
    "    for ind in df.index:\n",
    "        if df['DEVICE_REPORT_PRODUCT_CODE'][ind] != \"LWS\" or \"MRM\" or \"NIK\" or \"NVY\" :\n",
    "            if containsWord(df['FOI_TEXT'][ind],\"LEAD\") == False or containsWord(df['FOI_TEXT'][ind],\"electrode\") == False:\n",
    "                df.drop(labels=[ind],axis=0,inplace=True)"
   ]
  },
  {
   "cell_type": "code",
   "execution_count": 10,
   "id": "50b834e2",
   "metadata": {},
   "outputs": [],
   "source": [
    "def selectCohortTwo(df):\n",
    "    for ind in df.index:\n",
    "        if df.isnull()['DEVICE_REPORT_PRODUCT_CODE'][ind] != \"MKJ\":\n",
    "            df.drop(labels=[ind],axis=0,inplace=True)"
   ]
  },
  {
   "cell_type": "code",
   "execution_count": 13,
   "id": "706175df",
   "metadata": {},
   "outputs": [],
   "source": [
    "def selectCohortThree(df):\n",
    "    for ind in df.index:\n",
    "        if df.isnull()['DEVICE_REPORT_PRODUCT_CODE'][ind] != \"DSP\":\n",
    "            df.drop(labels=[ind],axis=0,inplace=True)"
   ]
  },
  {
   "cell_type": "code",
   "execution_count": 14,
   "id": "bc020b76",
   "metadata": {},
   "outputs": [],
   "source": [
    "def selectCohortFour(df):\n",
    "    for ind in df.index:\n",
    "        if df.isnull()['DEVICE_REPORT_PRODUCT_CODE'][ind] != \"KWA\":\n",
    "            df.drop(labels=[ind],axis=0,inplace=True)"
   ]
  },
  {
   "cell_type": "code",
   "execution_count": null,
   "id": "e53e279a",
   "metadata": {},
   "outputs": [],
   "source": []
  }
 ],
 "metadata": {
  "kernelspec": {
   "display_name": "Python 3",
   "language": "python",
   "name": "python3"
  },
  "language_info": {
   "codemirror_mode": {
    "name": "ipython",
    "version": 3
   },
   "file_extension": ".py",
   "mimetype": "text/x-python",
   "name": "python",
   "nbconvert_exporter": "python",
   "pygments_lexer": "ipython3",
   "version": "3.8.8"
  }
 },
 "nbformat": 4,
 "nbformat_minor": 5
}
