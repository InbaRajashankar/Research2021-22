{
 "cells": [
  {
   "cell_type": "code",
   "execution_count": 3,
   "id": "58b49c84",
   "metadata": {},
   "outputs": [
    {
     "data": {
      "text/plain": [
       "1000000000000000000"
      ]
     },
     "execution_count": 3,
     "metadata": {},
     "output_type": "execute_result"
    }
   ],
   "source": [
    "import numpy as np\n",
    "import pandas as pd\n",
    "import numpy as np\n",
    "import pandas as pd\n",
    "import sys\n",
    "import csv\n",
    "import functools\n",
    "from functools import reduce\n",
    "\n",
    "csv.field_size_limit(1000000000000000000)"
   ]
  },
  {
   "cell_type": "code",
   "execution_count": 4,
   "id": "f3eda6f7",
   "metadata": {},
   "outputs": [],
   "source": [
    "# import yearly device files\n",
    "device2013 = pd.read_csv('DEVICE2013.txt', sep=\"|\", header = 0, dtype=str, engine='python', quoting=3)\n",
    "#device2014 = pd.read_csv('DEVICE2014.txt', sep=\"|\", header = 0, dtype=str, engine='python', quoting=3)\n",
    "#device2015 = pd.read_csv('DEVICE2015.txt', sep=\"|\", header = 0, dtype=str, engine='python', quoting=3)\n",
    "#device2016 = pd.read_csv('DEVICE2016.txt', sep=\"|\", header = 0, dtype=str, engine='python', quoting=3)\n",
    "#device2017 = pd.read_csv('DEVICE2017.txt', sep=\"|\", header = 0, dtype=str, engine='python', quoting=3)\n",
    "#device2018 = pd.read_csv('DEVICE2018.txt', sep=\"|\", header = 0, dtype=str, engine='python', quoting=3)\n",
    "#device2019 = pd.read_csv('DEVICE2019.txt', sep=\"|\", header = 0, dtype=str, engine='python', quoting=3)\n",
    "#device2020 = pd.read_csv('DEVICE2020.txt', sep=\"|\", header = 0, dtype=str, engine='python', quoting=3)"
   ]
  },
  {
   "cell_type": "code",
   "execution_count": 6,
   "id": "b0223c15",
   "metadata": {},
   "outputs": [],
   "source": [
    "# merge yearly device files\n",
    "DEVICE = device2013\n",
    "deviceYearlyFiles = [device2014,device2015,device2016,device2017,device2018,device2019,\n",
    "          device2020]\n",
    "for yearlyFile in deviceYearlyFiles:\n",
    "    DEVICE = DEVICE.append(yearlyFile)"
   ]
  },
  {
   "cell_type": "code",
   "execution_count": 7,
   "id": "25f5ffba",
   "metadata": {},
   "outputs": [
    {
     "data": {
      "text/plain": [
       "(8166886, 29)"
      ]
     },
     "execution_count": 7,
     "metadata": {},
     "output_type": "execute_result"
    }
   ],
   "source": [
    "DEVICE.shape"
   ]
  },
  {
   "cell_type": "code",
   "execution_count": 5,
   "id": "3c6b95c0",
   "metadata": {},
   "outputs": [],
   "source": [
    "# import yearly text files\n",
    "foitext2013 = pd.read_csv('foitext2013.txt', sep=\"|\", header = 0, dtype=str, engine='python', quoting=3)\n",
    "#foitext2014 = pd.read_csv('foitext2014.txt', sep=\"|\", header = 0, dtype=str, engine='python', quoting=3)\n",
    "#foitext2015 = pd.read_csv('foitext2015.txt', sep=\"|\", header = 0, dtype=str, engine='python', quoting=3)\n",
    "#foitext2016 = pd.read_csv('foitext2016.txt', sep=\"|\", header = 0, dtype=str, engine='python', quoting=3)\n",
    "#foitext2017 = pd.read_csv('foitext2017.txt', sep=\"|\", header = 0, dtype=str, engine='python', quoting=3)\n",
    "#foitext2018 = pd.read_csv('foitext2018.txt', sep=\"|\", header = 0, dtype=str, engine='python', quoting=3)\n",
    "#foitext2019 = pd.read_csv('foitext2019.txt', sep=\"|\", header = 0, dtype=str, engine='python', quoting=3)\n",
    "#foitext2020 = pd.read_csv('foitext2020.txt', sep=\"|\", header = 0, dtype=str, engine='python', quoting=3)"
   ]
  },
  {
   "cell_type": "code",
   "execution_count": 9,
   "id": "f90910f6",
   "metadata": {},
   "outputs": [],
   "source": [
    "# merge yearly text files\n",
    "FOITEXT = foitext2013\n",
    "foitextYearlyFiles = [foitext2014,foitext2015,foitext2016,foitext2017,foitext2018,foitext2019,\n",
    "          foitext2020]\n",
    "for yearlyFile in foitextYearlyFiles:\n",
    "    FOITEXT = FOITEXT.append(yearlyFile)"
   ]
  },
  {
   "cell_type": "code",
   "execution_count": 11,
   "id": "87f6bda5",
   "metadata": {},
   "outputs": [
    {
     "data": {
      "text/plain": [
       "(18510532, 6)"
      ]
     },
     "execution_count": 11,
     "metadata": {},
     "output_type": "execute_result"
    }
   ],
   "source": [
    "FOITEXT.shape"
   ]
  },
  {
   "cell_type": "code",
   "execution_count": 6,
   "id": "5fce4771",
   "metadata": {},
   "outputs": [],
   "source": [
    "# import patient file\n",
    "PATIENT = pd.read_csv('patientThru2020.txt', sep=\"|\", header = 0, dtype=str, engine='python', quoting=3)"
   ]
  },
  {
   "cell_type": "code",
   "execution_count": 7,
   "id": "d1ea25e8",
   "metadata": {},
   "outputs": [
    {
     "data": {
      "text/plain": [
       "(10803960, 5)"
      ]
     },
     "execution_count": 7,
     "metadata": {},
     "output_type": "execute_result"
    }
   ],
   "source": [
    "PATIENT.shape"
   ]
  },
  {
   "cell_type": "code",
   "execution_count": 8,
   "id": "1cb6891e",
   "metadata": {},
   "outputs": [],
   "source": [
    "# import the master file from a pervious pickle\n",
    "MASTER = pd.read_pickle(\"./master.pkl\")"
   ]
  },
  {
   "cell_type": "code",
   "execution_count": 9,
   "id": "fc4044a1",
   "metadata": {},
   "outputs": [
    {
     "data": {
      "text/plain": [
       "(10800979, 81)"
      ]
     },
     "execution_count": 9,
     "metadata": {},
     "output_type": "execute_result"
    }
   ],
   "source": [
    "MASTER.shape"
   ]
  },
  {
   "cell_type": "code",
   "execution_count": 10,
   "id": "4f859c19",
   "metadata": {},
   "outputs": [
    {
     "data": {
      "text/plain": [
       "(1612792, 118)"
      ]
     },
     "execution_count": 10,
     "metadata": {},
     "output_type": "execute_result"
    }
   ],
   "source": [
    "allData = pd.merge(MASTER, device2013, on=\"MDR_REPORT_KEY\")\n",
    "allData = pd.merge(allData, foitext2013, on=\"MDR_REPORT_KEY\")\n",
    "allData = pd.merge(allData, PATIENT, on=\"MDR_REPORT_KEY\")\n",
    "allData.shape"
   ]
  },
  {
   "cell_type": "code",
   "execution_count": 41,
   "id": "724ff0b5",
   "metadata": {},
   "outputs": [
    {
     "data": {
      "text/html": [
       "<div>\n",
       "<style scoped>\n",
       "    .dataframe tbody tr th:only-of-type {\n",
       "        vertical-align: middle;\n",
       "    }\n",
       "\n",
       "    .dataframe tbody tr th {\n",
       "        vertical-align: top;\n",
       "    }\n",
       "\n",
       "    .dataframe thead th {\n",
       "        text-align: right;\n",
       "    }\n",
       "</style>\n",
       "<table border=\"1\" class=\"dataframe\">\n",
       "  <thead>\n",
       "    <tr style=\"text-align: right;\">\n",
       "      <th></th>\n",
       "      <th>MDR_REPORT_KEY</th>\n",
       "      <th>EVENT_KEY</th>\n",
       "      <th>REPORT_NUMBER</th>\n",
       "      <th>REPORT_SOURCE_CODE</th>\n",
       "      <th>MANUFACTURER_LINK_FLAG_</th>\n",
       "      <th>NUMBER_DEVICES_IN_EVENT</th>\n",
       "      <th>NUMBER_PATIENTS_IN_EVENT</th>\n",
       "      <th>DATE_RECEIVED_x</th>\n",
       "      <th>ADVERSE_EVENT_FLAG</th>\n",
       "      <th>PRODUCT_PROBLEM_FLAG</th>\n",
       "      <th>...</th>\n",
       "      <th>COMBINATION_PRODUCT_FLAG</th>\n",
       "      <th>MDR_TEXT_KEY</th>\n",
       "      <th>TEXT_TYPE_CODE</th>\n",
       "      <th>PATIENT_SEQUENCE_NUMBER_x</th>\n",
       "      <th>DATE_REPORT_y</th>\n",
       "      <th>FOI_TEXT</th>\n",
       "      <th>PATIENT_SEQUENCE_NUMBER_y</th>\n",
       "      <th>DATE_RECEIVED</th>\n",
       "      <th>SEQUENCE_NUMBER_TREATMENT</th>\n",
       "      <th>SEQUENCE_NUMBER_OUTCOME</th>\n",
       "    </tr>\n",
       "  </thead>\n",
       "  <tbody>\n",
       "    <tr>\n",
       "      <th>0</th>\n",
       "      <td>2891923</td>\n",
       "      <td>NaN</td>\n",
       "      <td>3008382007-2012-09245</td>\n",
       "      <td>M</td>\n",
       "      <td>Y</td>\n",
       "      <td>NaN</td>\n",
       "      <td>NaN</td>\n",
       "      <td>01/01/2013</td>\n",
       "      <td>N</td>\n",
       "      <td>Y</td>\n",
       "      <td>...</td>\n",
       "      <td>N</td>\n",
       "      <td>16750885</td>\n",
       "      <td>D</td>\n",
       "      <td>1</td>\n",
       "      <td>NaN</td>\n",
       "      <td>ON (B)(6) 2012, THE LAY USER/ PATIENT CONTACTE...</td>\n",
       "      <td>1</td>\n",
       "      <td>01/01/2013</td>\n",
       "      <td>NaN</td>\n",
       "      <td>NaN</td>\n",
       "    </tr>\n",
       "    <tr>\n",
       "      <th>1</th>\n",
       "      <td>2891924</td>\n",
       "      <td>NaN</td>\n",
       "      <td>3008382007-2012-09244</td>\n",
       "      <td>M</td>\n",
       "      <td>Y</td>\n",
       "      <td>NaN</td>\n",
       "      <td>NaN</td>\n",
       "      <td>01/01/2013</td>\n",
       "      <td>N</td>\n",
       "      <td>Y</td>\n",
       "      <td>...</td>\n",
       "      <td>N</td>\n",
       "      <td>3103612</td>\n",
       "      <td>D</td>\n",
       "      <td>1</td>\n",
       "      <td>NaN</td>\n",
       "      <td>ON (B)(6) 2012, THE REPORTER CONTACTED LIFESCA...</td>\n",
       "      <td>1</td>\n",
       "      <td>01/01/2013</td>\n",
       "      <td>NaN</td>\n",
       "      <td>NaN</td>\n",
       "    </tr>\n",
       "    <tr>\n",
       "      <th>2</th>\n",
       "      <td>2891925</td>\n",
       "      <td>NaN</td>\n",
       "      <td>3008382007-2012-09241</td>\n",
       "      <td>M</td>\n",
       "      <td>Y</td>\n",
       "      <td>NaN</td>\n",
       "      <td>NaN</td>\n",
       "      <td>01/01/2013</td>\n",
       "      <td>N</td>\n",
       "      <td>Y</td>\n",
       "      <td>...</td>\n",
       "      <td>N</td>\n",
       "      <td>10846233</td>\n",
       "      <td>N</td>\n",
       "      <td>1</td>\n",
       "      <td>NaN</td>\n",
       "      <td>(B)(4): THE METER WAS FOUND TO HAVE A DATA COR...</td>\n",
       "      <td>1</td>\n",
       "      <td>01/01/2013</td>\n",
       "      <td>NaN</td>\n",
       "      <td>NaN</td>\n",
       "    </tr>\n",
       "    <tr>\n",
       "      <th>3</th>\n",
       "      <td>2891925</td>\n",
       "      <td>NaN</td>\n",
       "      <td>3008382007-2012-09241</td>\n",
       "      <td>M</td>\n",
       "      <td>Y</td>\n",
       "      <td>NaN</td>\n",
       "      <td>NaN</td>\n",
       "      <td>01/01/2013</td>\n",
       "      <td>N</td>\n",
       "      <td>Y</td>\n",
       "      <td>...</td>\n",
       "      <td>N</td>\n",
       "      <td>19198445</td>\n",
       "      <td>D</td>\n",
       "      <td>1</td>\n",
       "      <td>NaN</td>\n",
       "      <td>ON (B)(6) 2012, THE REPORTER CONTACTED LIFESCA...</td>\n",
       "      <td>1</td>\n",
       "      <td>01/01/2013</td>\n",
       "      <td>NaN</td>\n",
       "      <td>NaN</td>\n",
       "    </tr>\n",
       "    <tr>\n",
       "      <th>4</th>\n",
       "      <td>2891926</td>\n",
       "      <td>NaN</td>\n",
       "      <td>3008382007-2012-09240</td>\n",
       "      <td>M</td>\n",
       "      <td>Y</td>\n",
       "      <td>NaN</td>\n",
       "      <td>NaN</td>\n",
       "      <td>01/01/2013</td>\n",
       "      <td>N</td>\n",
       "      <td>Y</td>\n",
       "      <td>...</td>\n",
       "      <td>N</td>\n",
       "      <td>10793991</td>\n",
       "      <td>N</td>\n",
       "      <td>1</td>\n",
       "      <td>NaN</td>\n",
       "      <td>(B)(4): THE METER WAS FOUND TO HAVE A DATA COR...</td>\n",
       "      <td>1</td>\n",
       "      <td>01/01/2013</td>\n",
       "      <td>NaN</td>\n",
       "      <td>NaN</td>\n",
       "    </tr>\n",
       "  </tbody>\n",
       "</table>\n",
       "<p>5 rows × 118 columns</p>\n",
       "</div>"
      ],
      "text/plain": [
       "  MDR_REPORT_KEY EVENT_KEY          REPORT_NUMBER REPORT_SOURCE_CODE  \\\n",
       "0        2891923       NaN  3008382007-2012-09245                  M   \n",
       "1        2891924       NaN  3008382007-2012-09244                  M   \n",
       "2        2891925       NaN  3008382007-2012-09241                  M   \n",
       "3        2891925       NaN  3008382007-2012-09241                  M   \n",
       "4        2891926       NaN  3008382007-2012-09240                  M   \n",
       "\n",
       "  MANUFACTURER_LINK_FLAG_ NUMBER_DEVICES_IN_EVENT NUMBER_PATIENTS_IN_EVENT  \\\n",
       "0                       Y                     NaN                      NaN   \n",
       "1                       Y                     NaN                      NaN   \n",
       "2                       Y                     NaN                      NaN   \n",
       "3                       Y                     NaN                      NaN   \n",
       "4                       Y                     NaN                      NaN   \n",
       "\n",
       "  DATE_RECEIVED_x ADVERSE_EVENT_FLAG PRODUCT_PROBLEM_FLAG  ...  \\\n",
       "0      01/01/2013                  N                    Y  ...   \n",
       "1      01/01/2013                  N                    Y  ...   \n",
       "2      01/01/2013                  N                    Y  ...   \n",
       "3      01/01/2013                  N                    Y  ...   \n",
       "4      01/01/2013                  N                    Y  ...   \n",
       "\n",
       "  COMBINATION_PRODUCT_FLAG MDR_TEXT_KEY TEXT_TYPE_CODE  \\\n",
       "0                        N     16750885              D   \n",
       "1                        N      3103612              D   \n",
       "2                        N     10846233              N   \n",
       "3                        N     19198445              D   \n",
       "4                        N     10793991              N   \n",
       "\n",
       "  PATIENT_SEQUENCE_NUMBER_x DATE_REPORT_y  \\\n",
       "0                         1           NaN   \n",
       "1                         1           NaN   \n",
       "2                         1           NaN   \n",
       "3                         1           NaN   \n",
       "4                         1           NaN   \n",
       "\n",
       "                                            FOI_TEXT  \\\n",
       "0  ON (B)(6) 2012, THE LAY USER/ PATIENT CONTACTE...   \n",
       "1  ON (B)(6) 2012, THE REPORTER CONTACTED LIFESCA...   \n",
       "2  (B)(4): THE METER WAS FOUND TO HAVE A DATA COR...   \n",
       "3  ON (B)(6) 2012, THE REPORTER CONTACTED LIFESCA...   \n",
       "4  (B)(4): THE METER WAS FOUND TO HAVE A DATA COR...   \n",
       "\n",
       "  PATIENT_SEQUENCE_NUMBER_y DATE_RECEIVED SEQUENCE_NUMBER_TREATMENT  \\\n",
       "0                         1    01/01/2013                       NaN   \n",
       "1                         1    01/01/2013                       NaN   \n",
       "2                         1    01/01/2013                       NaN   \n",
       "3                         1    01/01/2013                       NaN   \n",
       "4                         1    01/01/2013                       NaN   \n",
       "\n",
       "  SEQUENCE_NUMBER_OUTCOME  \n",
       "0                     NaN  \n",
       "1                     NaN  \n",
       "2                     NaN  \n",
       "3                     NaN  \n",
       "4                     NaN  \n",
       "\n",
       "[5 rows x 118 columns]"
      ]
     },
     "execution_count": 41,
     "metadata": {},
     "output_type": "execute_result"
    }
   ],
   "source": [
    "allData.head(5)"
   ]
  },
  {
   "cell_type": "code",
   "execution_count": 25,
   "id": "98d5daee",
   "metadata": {},
   "outputs": [
    {
     "data": {
      "text/plain": [
       "'MEDTRONIC CARDIOVASCULAR'"
      ]
     },
     "execution_count": 25,
     "metadata": {},
     "output_type": "execute_result"
    }
   ],
   "source": [
    "# messing around with random reports, found one made by Medtronic\n",
    "allData['MANUFACTURER_D_NAME'][323413]"
   ]
  },
  {
   "cell_type": "code",
   "execution_count": 34,
   "id": "041cac5a",
   "metadata": {},
   "outputs": [
    {
     "data": {
      "text/plain": [
       "\"(B)(4). EVALUATION METHOD: (FILM). EVALUATION RESULTS: INHERENT RISK OF PROCEDURE (STENT GRAFT MIGRATION, ENDOLEAK). PATIENT'S CONDITION AFFECTED EFFECTIVENESS OF DEVICE (AORTIC NECK DILATATION, ANGULATION AND DISEASE PROGRESSION). EVALUATION CONCLUSION: DEVICE FAILURE/LACK OF EFFECTIVENESS RELATED TO PATIENT CONDITION (AORTIC NECK DILATATION, ANGULATION AND DISEASE PROGRESSION).\""
      ]
     },
     "execution_count": 34,
     "metadata": {},
     "output_type": "execute_result"
    }
   ],
   "source": [
    "allData.iloc[323413]['FOI_TEXT']"
   ]
  },
  {
   "cell_type": "code",
   "execution_count": 107,
   "id": "5ef951de",
   "metadata": {},
   "outputs": [
    {
     "name": "stderr",
     "output_type": "stream",
     "text": [
      "<ipython-input-107-51cc1e985282>:1: SettingWithCopyWarning: \n",
      "A value is trying to be set on a copy of a slice from a DataFrame.\n",
      "Try using .loc[row_indexer,col_indexer] = value instead\n",
      "\n",
      "See the caveats in the documentation: https://pandas.pydata.org/pandas-docs/stable/user_guide/indexing.html#returning-a-view-versus-a-copy\n",
      "  allData[\"MEDTRONIC_MADE\"] = pd.DataFrame(allData['MANUFACTURER_D_NAME'].str.contains('MEDTRONIC', regex=False))\n"
     ]
    },
    {
     "data": {
      "text/plain": [
       "(155275, 119)"
      ]
     },
     "execution_count": 107,
     "metadata": {},
     "output_type": "execute_result"
    }
   ],
   "source": [
    "# keep only MDRs of devices made by medtronic, around 9.63% of previous reports\n",
    "allData[\"MEDTRONIC_MADE\"] = pd.DataFrame(allData['MANUFACTURER_D_NAME'].str.contains('MEDTRONIC', regex=False))\n",
    "allData[allData[\"MEDTRONIC_MADE\"] == True].shape"
   ]
  },
  {
   "cell_type": "code",
   "execution_count": 109,
   "id": "206ae512",
   "metadata": {},
   "outputs": [
    {
     "data": {
      "text/plain": [
       "(155275, 119)"
      ]
     },
     "execution_count": 109,
     "metadata": {},
     "output_type": "execute_result"
    }
   ],
   "source": [
    "allData = allData[allData[\"MEDTRONIC_MADE\"] == True]\n",
    "allData.shape"
   ]
  },
  {
   "cell_type": "code",
   "execution_count": 115,
   "id": "3ec253c1",
   "metadata": {},
   "outputs": [
    {
     "data": {
      "text/plain": [
       "(15569, 119)"
      ]
     },
     "execution_count": 115,
     "metadata": {},
     "output_type": "execute_result"
    }
   ],
   "source": [
    "# select entries with the product code found within \"cohort one\"\n",
    "dfLWS = allData[allData['DEVICE_REPORT_PRODUCT_CODE']=='LWS']\n",
    "dfMRM = allData[allData['DEVICE_REPORT_PRODUCT_CODE']=='MRM']\n",
    "dfNIK = allData[allData['DEVICE_REPORT_PRODUCT_CODE']=='NIK']\n",
    "dfNVY = allData[allData['DEVICE_REPORT_PRODUCT_CODE']=='NVY']    \n",
    "\n",
    "allData = pd.concat([dfLWS, dfMRM, dfNIK, dfNVY])\n",
    "allData.shape"
   ]
  },
  {
   "cell_type": "code",
   "execution_count": 116,
   "id": "6e30aef8",
   "metadata": {},
   "outputs": [
    {
     "data": {
      "text/plain": [
       "(5565, 119)"
      ]
     },
     "execution_count": 116,
     "metadata": {},
     "output_type": "execute_result"
    }
   ],
   "source": [
    "# create a file with all the entries with a shared MDR_REPORT_KEY\n",
    "allDatawdupes = allData[allData.duplicated(['MDR_REPORT_KEY'])]\n",
    "\n",
    "# remove duplicate files from the DEVICE df, as they might hamper with the the data\n",
    "allData = pd.concat([allData, allDatawdupes]).drop_duplicates(keep=False)\n",
    "allData.shape"
   ]
  },
  {
   "cell_type": "code",
   "execution_count": 129,
   "id": "e2531324",
   "metadata": {},
   "outputs": [
    {
     "data": {
      "text/plain": [
       "(5565, 119)"
      ]
     },
     "execution_count": 129,
     "metadata": {},
     "output_type": "execute_result"
    }
   ],
   "source": [
    "# remove all reports with a PATIENT_SEQUENCE NUMBER =/ 1\n",
    "allData = allData[allData['PATIENT_SEQUENCE_NUMBER_y']=='1']\n",
    "allData.shape"
   ]
  },
  {
   "cell_type": "code",
   "execution_count": 130,
   "id": "a843fc65",
   "metadata": {},
   "outputs": [
    {
     "data": {
      "text/plain": [
       "(5546, 119)"
      ]
     },
     "execution_count": 130,
     "metadata": {},
     "output_type": "execute_result"
    }
   ],
   "source": [
    "# delete all reports with a FOI_TEXT value with 10 or less characters\n",
    "def deleteNull(df):\n",
    "    for ind in df.index:\n",
    "        if len(df['FOI_TEXT'][ind]) <11:\n",
    "            df.drop(labels=[ind],axis=0,inplace=True)\n",
    "            \n",
    "deleteNull(allData)\n",
    "allData.shape"
   ]
  },
  {
   "cell_type": "code",
   "execution_count": 123,
   "id": "fc2fc1a0",
   "metadata": {},
   "outputs": [
    {
     "data": {
      "text/plain": [
       "['IT WAS REPORTED THAT THE PATIENT WENT INTO A SUPRA VENTRICULAR TACHYCARDIA (SVT) DURING INTERCOURSE AND THE DEVICE AND RIGHT VENTRICLE ULAR (RV) LEAD STARTED T-WAVE OVERSENSING (TWOS). THIS RESULTED IN AN INAPPROPRIATE SHOCK FOR THE PATIENT. THE DEVICE WAS REPROGRAMMED AND BOTH THE IMPLANTABLE CARDIOVERTER DEFIBRILLATOR (ICD)� AND RIGHT VENTRICULAR (RV) LEAD REMAIN IN USE. NO FURTHER PATIENT COMPLICATIONS HAVE BEEN REPORTED AS A RESULT OF THIS EVENT.',\n",
       " '(B)(4).',\n",
       " 'PRODUCT EVENT SUMMARY #THE DEVICE WAS NOT RETURNED FOR ANALYSIS. HOWEVER, PERFORMANCE DATA COLLECTED FROM THE DEVICE WAS RECEIVED AND ANALYZED. ANALYSIS OF THE DATA SHOWED OVERSENSING ON THE VENTRICULAR CHANNEL.',\n",
       " 'IF INFORMATION IS PROVIDED IN THE FUTURE, A SUPPLEMENTAL REPORT WILL BE ISSUED.',\n",
       " 'IT WAS FURTHER REPORTED THAT THE RIGHT VENTRICULAR (RV) LEAD EXHIBITED HIGH RIGHT VENTRICULAR AND SUPERIOR VENA CAVA (SVC) DEFIBRILLATION IMPEDANCE AS WELL AS NOISE. THE IMPLANTABLE CARDIOVERTER DEFIBRILLATOR (ICD)�AND RV LEAD WERE EXPLANTED AND REPLACED.',\n",
       " 'IF INFORMATION IS PROVIDED IN THE FUTURE, A SUPPLEMENTAL REPORT WILL BE ISSUED.',\n",
       " 'PRODUCT EVENT SUMMARY: THE DEVICE WAS RETURNED AND ANALYZED. RETURNED PRODUCT ANALYSIS WAS PERFORMED AND NO ANOMALIES WERE FOUND. IF INFORMATION IS PROVIDED IN THE FUTURE, A SUPPLEMENTAL REPORT WILL BE ISSUED.']"
      ]
     },
     "execution_count": 123,
     "metadata": {},
     "output_type": "execute_result"
    }
   ],
   "source": [
    "list(allDatawdupes[allDatawdupes['MDR_REPORT_KEY']=='2893293']['FOI_TEXT'])"
   ]
  },
  {
   "cell_type": "code",
   "execution_count": 124,
   "id": "6166ce9c",
   "metadata": {},
   "outputs": [
    {
     "data": {
      "text/html": [
       "<div>\n",
       "<style scoped>\n",
       "    .dataframe tbody tr th:only-of-type {\n",
       "        vertical-align: middle;\n",
       "    }\n",
       "\n",
       "    .dataframe tbody tr th {\n",
       "        vertical-align: top;\n",
       "    }\n",
       "\n",
       "    .dataframe thead th {\n",
       "        text-align: right;\n",
       "    }\n",
       "</style>\n",
       "<table border=\"1\" class=\"dataframe\">\n",
       "  <thead>\n",
       "    <tr style=\"text-align: right;\">\n",
       "      <th></th>\n",
       "      <th>MDR_REPORT_KEY</th>\n",
       "      <th>EVENT_KEY</th>\n",
       "      <th>REPORT_NUMBER</th>\n",
       "      <th>REPORT_SOURCE_CODE</th>\n",
       "      <th>MANUFACTURER_LINK_FLAG_</th>\n",
       "      <th>NUMBER_DEVICES_IN_EVENT</th>\n",
       "      <th>NUMBER_PATIENTS_IN_EVENT</th>\n",
       "      <th>DATE_RECEIVED_x</th>\n",
       "      <th>ADVERSE_EVENT_FLAG</th>\n",
       "      <th>PRODUCT_PROBLEM_FLAG</th>\n",
       "      <th>...</th>\n",
       "      <th>MDR_TEXT_KEY</th>\n",
       "      <th>TEXT_TYPE_CODE</th>\n",
       "      <th>PATIENT_SEQUENCE_NUMBER_x</th>\n",
       "      <th>DATE_REPORT_y</th>\n",
       "      <th>FOI_TEXT</th>\n",
       "      <th>PATIENT_SEQUENCE_NUMBER_y</th>\n",
       "      <th>DATE_RECEIVED</th>\n",
       "      <th>SEQUENCE_NUMBER_TREATMENT</th>\n",
       "      <th>SEQUENCE_NUMBER_OUTCOME</th>\n",
       "      <th>MEDTRONIC_MADE</th>\n",
       "    </tr>\n",
       "  </thead>\n",
       "  <tbody>\n",
       "    <tr>\n",
       "      <th>1845</th>\n",
       "      <td>2893293</td>\n",
       "      <td>NaN</td>\n",
       "      <td>3004209178-2013-00046</td>\n",
       "      <td>M</td>\n",
       "      <td>Y</td>\n",
       "      <td>NaN</td>\n",
       "      <td>NaN</td>\n",
       "      <td>01/02/2013</td>\n",
       "      <td>Y</td>\n",
       "      <td>Y</td>\n",
       "      <td>...</td>\n",
       "      <td>3174982</td>\n",
       "      <td>D</td>\n",
       "      <td>1</td>\n",
       "      <td>NaN</td>\n",
       "      <td>IT WAS REPORTED THAT THE PATIENT WENT INTO A S...</td>\n",
       "      <td>1</td>\n",
       "      <td>01/02/2013</td>\n",
       "      <td>NaN</td>\n",
       "      <td>1. H; 2. L; 3. R</td>\n",
       "      <td>True</td>\n",
       "    </tr>\n",
       "    <tr>\n",
       "      <th>1846</th>\n",
       "      <td>2893293</td>\n",
       "      <td>NaN</td>\n",
       "      <td>3004209178-2013-00046</td>\n",
       "      <td>M</td>\n",
       "      <td>Y</td>\n",
       "      <td>NaN</td>\n",
       "      <td>NaN</td>\n",
       "      <td>01/02/2013</td>\n",
       "      <td>Y</td>\n",
       "      <td>Y</td>\n",
       "      <td>...</td>\n",
       "      <td>10367716</td>\n",
       "      <td>N</td>\n",
       "      <td>1</td>\n",
       "      <td>NaN</td>\n",
       "      <td>(B)(4).</td>\n",
       "      <td>1</td>\n",
       "      <td>01/02/2013</td>\n",
       "      <td>NaN</td>\n",
       "      <td>1. H; 2. L; 3. R</td>\n",
       "      <td>True</td>\n",
       "    </tr>\n",
       "    <tr>\n",
       "      <th>1847</th>\n",
       "      <td>2893293</td>\n",
       "      <td>NaN</td>\n",
       "      <td>3004209178-2013-00046</td>\n",
       "      <td>M</td>\n",
       "      <td>Y</td>\n",
       "      <td>NaN</td>\n",
       "      <td>NaN</td>\n",
       "      <td>01/02/2013</td>\n",
       "      <td>Y</td>\n",
       "      <td>Y</td>\n",
       "      <td>...</td>\n",
       "      <td>10548440</td>\n",
       "      <td>N</td>\n",
       "      <td>1</td>\n",
       "      <td>NaN</td>\n",
       "      <td>PRODUCT EVENT SUMMARY #THE DEVICE WAS NOT RETU...</td>\n",
       "      <td>1</td>\n",
       "      <td>01/02/2013</td>\n",
       "      <td>NaN</td>\n",
       "      <td>1. H; 2. L; 3. R</td>\n",
       "      <td>True</td>\n",
       "    </tr>\n",
       "    <tr>\n",
       "      <th>1848</th>\n",
       "      <td>2893293</td>\n",
       "      <td>NaN</td>\n",
       "      <td>3004209178-2013-00046</td>\n",
       "      <td>M</td>\n",
       "      <td>Y</td>\n",
       "      <td>NaN</td>\n",
       "      <td>NaN</td>\n",
       "      <td>01/02/2013</td>\n",
       "      <td>Y</td>\n",
       "      <td>Y</td>\n",
       "      <td>...</td>\n",
       "      <td>167509290</td>\n",
       "      <td>N</td>\n",
       "      <td>1</td>\n",
       "      <td>NaN</td>\n",
       "      <td>IF INFORMATION IS PROVIDED IN THE FUTURE, A SU...</td>\n",
       "      <td>1</td>\n",
       "      <td>01/02/2013</td>\n",
       "      <td>NaN</td>\n",
       "      <td>1. H; 2. L; 3. R</td>\n",
       "      <td>True</td>\n",
       "    </tr>\n",
       "    <tr>\n",
       "      <th>1849</th>\n",
       "      <td>2893293</td>\n",
       "      <td>NaN</td>\n",
       "      <td>3004209178-2013-00046</td>\n",
       "      <td>M</td>\n",
       "      <td>Y</td>\n",
       "      <td>NaN</td>\n",
       "      <td>NaN</td>\n",
       "      <td>01/02/2013</td>\n",
       "      <td>Y</td>\n",
       "      <td>Y</td>\n",
       "      <td>...</td>\n",
       "      <td>167509291</td>\n",
       "      <td>D</td>\n",
       "      <td>1</td>\n",
       "      <td>NaN</td>\n",
       "      <td>IT WAS FURTHER REPORTED THAT THE RIGHT VENTRIC...</td>\n",
       "      <td>1</td>\n",
       "      <td>01/02/2013</td>\n",
       "      <td>NaN</td>\n",
       "      <td>1. H; 2. L; 3. R</td>\n",
       "      <td>True</td>\n",
       "    </tr>\n",
       "    <tr>\n",
       "      <th>1850</th>\n",
       "      <td>2893293</td>\n",
       "      <td>NaN</td>\n",
       "      <td>3004209178-2013-00046</td>\n",
       "      <td>M</td>\n",
       "      <td>Y</td>\n",
       "      <td>NaN</td>\n",
       "      <td>NaN</td>\n",
       "      <td>01/02/2013</td>\n",
       "      <td>Y</td>\n",
       "      <td>Y</td>\n",
       "      <td>...</td>\n",
       "      <td>167509312</td>\n",
       "      <td>N</td>\n",
       "      <td>1</td>\n",
       "      <td>NaN</td>\n",
       "      <td>IF INFORMATION IS PROVIDED IN THE FUTURE, A SU...</td>\n",
       "      <td>1</td>\n",
       "      <td>01/02/2013</td>\n",
       "      <td>NaN</td>\n",
       "      <td>1. H; 2. L; 3. R</td>\n",
       "      <td>True</td>\n",
       "    </tr>\n",
       "    <tr>\n",
       "      <th>1851</th>\n",
       "      <td>2893293</td>\n",
       "      <td>NaN</td>\n",
       "      <td>3004209178-2013-00046</td>\n",
       "      <td>M</td>\n",
       "      <td>Y</td>\n",
       "      <td>NaN</td>\n",
       "      <td>NaN</td>\n",
       "      <td>01/02/2013</td>\n",
       "      <td>Y</td>\n",
       "      <td>Y</td>\n",
       "      <td>...</td>\n",
       "      <td>170795613</td>\n",
       "      <td>N</td>\n",
       "      <td>1</td>\n",
       "      <td>NaN</td>\n",
       "      <td>PRODUCT EVENT SUMMARY: THE DEVICE WAS RETURNED...</td>\n",
       "      <td>1</td>\n",
       "      <td>01/02/2013</td>\n",
       "      <td>NaN</td>\n",
       "      <td>1. H; 2. L; 3. R</td>\n",
       "      <td>True</td>\n",
       "    </tr>\n",
       "  </tbody>\n",
       "</table>\n",
       "<p>7 rows × 119 columns</p>\n",
       "</div>"
      ],
      "text/plain": [
       "     MDR_REPORT_KEY EVENT_KEY          REPORT_NUMBER REPORT_SOURCE_CODE  \\\n",
       "1845        2893293       NaN  3004209178-2013-00046                  M   \n",
       "1846        2893293       NaN  3004209178-2013-00046                  M   \n",
       "1847        2893293       NaN  3004209178-2013-00046                  M   \n",
       "1848        2893293       NaN  3004209178-2013-00046                  M   \n",
       "1849        2893293       NaN  3004209178-2013-00046                  M   \n",
       "1850        2893293       NaN  3004209178-2013-00046                  M   \n",
       "1851        2893293       NaN  3004209178-2013-00046                  M   \n",
       "\n",
       "     MANUFACTURER_LINK_FLAG_ NUMBER_DEVICES_IN_EVENT NUMBER_PATIENTS_IN_EVENT  \\\n",
       "1845                       Y                     NaN                      NaN   \n",
       "1846                       Y                     NaN                      NaN   \n",
       "1847                       Y                     NaN                      NaN   \n",
       "1848                       Y                     NaN                      NaN   \n",
       "1849                       Y                     NaN                      NaN   \n",
       "1850                       Y                     NaN                      NaN   \n",
       "1851                       Y                     NaN                      NaN   \n",
       "\n",
       "     DATE_RECEIVED_x ADVERSE_EVENT_FLAG PRODUCT_PROBLEM_FLAG  ...  \\\n",
       "1845      01/02/2013                  Y                    Y  ...   \n",
       "1846      01/02/2013                  Y                    Y  ...   \n",
       "1847      01/02/2013                  Y                    Y  ...   \n",
       "1848      01/02/2013                  Y                    Y  ...   \n",
       "1849      01/02/2013                  Y                    Y  ...   \n",
       "1850      01/02/2013                  Y                    Y  ...   \n",
       "1851      01/02/2013                  Y                    Y  ...   \n",
       "\n",
       "     MDR_TEXT_KEY TEXT_TYPE_CODE PATIENT_SEQUENCE_NUMBER_x DATE_REPORT_y  \\\n",
       "1845      3174982              D                         1           NaN   \n",
       "1846     10367716              N                         1           NaN   \n",
       "1847     10548440              N                         1           NaN   \n",
       "1848    167509290              N                         1           NaN   \n",
       "1849    167509291              D                         1           NaN   \n",
       "1850    167509312              N                         1           NaN   \n",
       "1851    170795613              N                         1           NaN   \n",
       "\n",
       "                                               FOI_TEXT  \\\n",
       "1845  IT WAS REPORTED THAT THE PATIENT WENT INTO A S...   \n",
       "1846                                            (B)(4).   \n",
       "1847  PRODUCT EVENT SUMMARY #THE DEVICE WAS NOT RETU...   \n",
       "1848  IF INFORMATION IS PROVIDED IN THE FUTURE, A SU...   \n",
       "1849  IT WAS FURTHER REPORTED THAT THE RIGHT VENTRIC...   \n",
       "1850  IF INFORMATION IS PROVIDED IN THE FUTURE, A SU...   \n",
       "1851  PRODUCT EVENT SUMMARY: THE DEVICE WAS RETURNED...   \n",
       "\n",
       "     PATIENT_SEQUENCE_NUMBER_y DATE_RECEIVED SEQUENCE_NUMBER_TREATMENT  \\\n",
       "1845                         1    01/02/2013                       NaN   \n",
       "1846                         1    01/02/2013                       NaN   \n",
       "1847                         1    01/02/2013                       NaN   \n",
       "1848                         1    01/02/2013                       NaN   \n",
       "1849                         1    01/02/2013                       NaN   \n",
       "1850                         1    01/02/2013                       NaN   \n",
       "1851                         1    01/02/2013                       NaN   \n",
       "\n",
       "     SEQUENCE_NUMBER_OUTCOME MEDTRONIC_MADE  \n",
       "1845        1. H; 2. L; 3. R           True  \n",
       "1846        1. H; 2. L; 3. R           True  \n",
       "1847        1. H; 2. L; 3. R           True  \n",
       "1848        1. H; 2. L; 3. R           True  \n",
       "1849        1. H; 2. L; 3. R           True  \n",
       "1850        1. H; 2. L; 3. R           True  \n",
       "1851        1. H; 2. L; 3. R           True  \n",
       "\n",
       "[7 rows x 119 columns]"
      ]
     },
     "execution_count": 124,
     "metadata": {},
     "output_type": "execute_result"
    }
   ],
   "source": [
    "allDatawdupes[allDatawdupes['MDR_REPORT_KEY']=='2893293']"
   ]
  },
  {
   "cell_type": "code",
   "execution_count": null,
   "id": "f9343732",
   "metadata": {},
   "outputs": [],
   "source": []
  }
 ],
 "metadata": {
  "kernelspec": {
   "display_name": "Python 3",
   "language": "python",
   "name": "python3"
  },
  "language_info": {
   "codemirror_mode": {
    "name": "ipython",
    "version": 3
   },
   "file_extension": ".py",
   "mimetype": "text/x-python",
   "name": "python",
   "nbconvert_exporter": "python",
   "pygments_lexer": "ipython3",
   "version": "3.8.8"
  }
 },
 "nbformat": 4,
 "nbformat_minor": 5
}
