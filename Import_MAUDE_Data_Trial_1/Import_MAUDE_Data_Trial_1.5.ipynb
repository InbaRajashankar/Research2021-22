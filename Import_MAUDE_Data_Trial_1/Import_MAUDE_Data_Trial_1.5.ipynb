{
 "cells": [
  {
   "cell_type": "code",
   "execution_count": 16,
   "id": "4cca5558",
   "metadata": {},
   "outputs": [
    {
     "data": {
      "text/plain": [
       "1000000000000000000"
      ]
     },
     "execution_count": 16,
     "metadata": {},
     "output_type": "execute_result"
    }
   ],
   "source": [
    "import numpy as np\n",
    "import pandas as pd\n",
    "import numpy as np\n",
    "import pandas as pd\n",
    "import sys\n",
    "import csv\n",
    "import json\n",
    "\n",
    "csv.field_size_limit(1000000000000000000)"
   ]
  },
  {
   "cell_type": "code",
   "execution_count": 2,
   "id": "0a12c31b",
   "metadata": {},
   "outputs": [],
   "source": [
    "df = pd.read_pickle(\"./allData.pkl\")"
   ]
  },
  {
   "cell_type": "code",
   "execution_count": 7,
   "id": "99159142",
   "metadata": {},
   "outputs": [],
   "source": [
    "mini_df = df.iloc[0:100000]"
   ]
  },
  {
   "cell_type": "code",
   "execution_count": 10,
   "id": "ebd7cde6",
   "metadata": {},
   "outputs": [
    {
     "data": {
      "text/plain": [
       "0           LZG\n",
       "1           FQP\n",
       "2           LYY\n",
       "3           LYY\n",
       "4           LYY\n",
       "           ... \n",
       "23011738    GEX\n",
       "23011739    GEX\n",
       "23011740    GEX\n",
       "23011741    MGB\n",
       "23011742    KNT\n",
       "Name: DEVICE_REPORT_PRODUCT_CODE, Length: 23011743, dtype: object"
      ]
     },
     "execution_count": 10,
     "metadata": {},
     "output_type": "execute_result"
    }
   ],
   "source": [
    "df['DEVICE_REPORT_PRODUCT_CODE']"
   ]
  },
  {
   "cell_type": "code",
   "execution_count": 24,
   "id": "43b9df45",
   "metadata": {},
   "outputs": [
    {
     "data": {
      "text/plain": [
       "73         V-105C\n",
       "221       V-175-C\n",
       "273          7271\n",
       "289        V-175C\n",
       "290      V-190HV3\n",
       "           ...   \n",
       "99766    V-186HV3\n",
       "99771    V-186HV3\n",
       "99775    V-186HV3\n",
       "99795    V-186HV3\n",
       "99841     V-230HV\n",
       "Name: MODEL_NUMBER, Length: 3098, dtype: object"
      ]
     },
     "execution_count": 24,
     "metadata": {},
     "output_type": "execute_result"
    }
   ],
   "source": [
    "mini_df[mini_df[\"DEVICE_REPORT_PRODUCT_CODE\"] == \"LWS\"][\"MODEL_NUMBER\"]"
   ]
  },
  {
   "cell_type": "code",
   "execution_count": 21,
   "id": "dfad75aa",
   "metadata": {},
   "outputs": [
    {
     "ename": "AttributeError",
     "evalue": "'str' object has no attribute 'read'",
     "output_type": "error",
     "traceback": [
      "\u001b[0;31m---------------------------------------------------------------------------\u001b[0m",
      "\u001b[0;31mAttributeError\u001b[0m                            Traceback (most recent call last)",
      "\u001b[0;32m<ipython-input-21-ef0af587f0cd>\u001b[0m in \u001b[0;36m<module>\u001b[0;34m\u001b[0m\n\u001b[0;32m----> 1\u001b[0;31m \u001b[0mrecallJson\u001b[0m \u001b[0;34m=\u001b[0m \u001b[0mjson\u001b[0m\u001b[0;34m.\u001b[0m\u001b[0mload\u001b[0m\u001b[0;34m(\u001b[0m\u001b[0;34m\"recall_file.json\"\u001b[0m\u001b[0;34m)\u001b[0m\u001b[0;34m\u001b[0m\u001b[0;34m\u001b[0m\u001b[0m\n\u001b[0m",
      "\u001b[0;32m~/opt/anaconda3/lib/python3.8/json/__init__.py\u001b[0m in \u001b[0;36mload\u001b[0;34m(fp, cls, object_hook, parse_float, parse_int, parse_constant, object_pairs_hook, **kw)\u001b[0m\n\u001b[1;32m    291\u001b[0m     \u001b[0mkwarg\u001b[0m\u001b[0;34m;\u001b[0m \u001b[0motherwise\u001b[0m\u001b[0;31m \u001b[0m\u001b[0;31m`\u001b[0m\u001b[0;31m`\u001b[0m\u001b[0mJSONDecoder\u001b[0m\u001b[0;31m`\u001b[0m\u001b[0;31m`\u001b[0m \u001b[0;32mis\u001b[0m \u001b[0mused\u001b[0m\u001b[0;34m.\u001b[0m\u001b[0;34m\u001b[0m\u001b[0;34m\u001b[0m\u001b[0m\n\u001b[1;32m    292\u001b[0m     \"\"\"\n\u001b[0;32m--> 293\u001b[0;31m     return loads(fp.read(),\n\u001b[0m\u001b[1;32m    294\u001b[0m         \u001b[0mcls\u001b[0m\u001b[0;34m=\u001b[0m\u001b[0mcls\u001b[0m\u001b[0;34m,\u001b[0m \u001b[0mobject_hook\u001b[0m\u001b[0;34m=\u001b[0m\u001b[0mobject_hook\u001b[0m\u001b[0;34m,\u001b[0m\u001b[0;34m\u001b[0m\u001b[0;34m\u001b[0m\u001b[0m\n\u001b[1;32m    295\u001b[0m         \u001b[0mparse_float\u001b[0m\u001b[0;34m=\u001b[0m\u001b[0mparse_float\u001b[0m\u001b[0;34m,\u001b[0m \u001b[0mparse_int\u001b[0m\u001b[0;34m=\u001b[0m\u001b[0mparse_int\u001b[0m\u001b[0;34m,\u001b[0m\u001b[0;34m\u001b[0m\u001b[0;34m\u001b[0m\u001b[0m\n",
      "\u001b[0;31mAttributeError\u001b[0m: 'str' object has no attribute 'read'"
     ]
    }
   ],
   "source": [
    "recallJson = json.load(\"recall_file.json\")"
   ]
  },
  {
   "cell_type": "code",
   "execution_count": null,
   "id": "e811d410",
   "metadata": {},
   "outputs": [],
   "source": []
  }
 ],
 "metadata": {
  "kernelspec": {
   "display_name": "Python 3",
   "language": "python",
   "name": "python3"
  },
  "language_info": {
   "codemirror_mode": {
    "name": "ipython",
    "version": 3
   },
   "file_extension": ".py",
   "mimetype": "text/x-python",
   "name": "python",
   "nbconvert_exporter": "python",
   "pygments_lexer": "ipython3",
   "version": "3.8.8"
  }
 },
 "nbformat": 4,
 "nbformat_minor": 5
}
